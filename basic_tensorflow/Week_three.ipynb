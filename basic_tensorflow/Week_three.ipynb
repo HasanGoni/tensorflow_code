{
 "cells": [
  {
   "cell_type": "code",
   "execution_count": 12,
   "metadata": {},
   "outputs": [],
   "source": [
    "import numpy as np\n",
    "import tensorflow as tf\n",
    "from tensorflow.keras import backend as K"
   ]
  },
  {
   "cell_type": "code",
   "execution_count": 2,
   "metadata": {},
   "outputs": [
    {
     "name": "stdout",
     "output_type": "stream",
     "text": [
      "Downloading data from https://storage.googleapis.com/tensorflow/tf-keras-datasets/mnist.npz\n",
      "11493376/11490434 [==============================] - 2s 0us/step\n"
     ]
    }
   ],
   "source": [
    "mnist = tf.keras.datasets.mnist\n",
    "\n",
    "(x_train, y_train),(x_test, y_test) = mnist.load_data()\n",
    "x_train, x_test = x_train / 255.0, x_test / 255.0"
   ]
  },
  {
   "cell_type": "code",
   "execution_count": 3,
   "metadata": {},
   "outputs": [],
   "source": [
    "model = tf.keras.models.Sequential([\n",
    "  tf.keras.layers.Flatten(input_shape=(28, 28)),\n",
    "  tf.keras.layers.Dense(128),\n",
    "  tf.keras.layers.Lambda(lambda x: tf.abs(x)), \n",
    "  tf.keras.layers.Dense(10, activation='softmax')\n",
    "])"
   ]
  },
  {
   "cell_type": "code",
   "execution_count": 4,
   "metadata": {},
   "outputs": [
    {
     "name": "stdout",
     "output_type": "stream",
     "text": [
      "Epoch 1/5\n",
      "1875/1875 [==============================] - 1s 769us/step - loss: 0.2210 - accuracy: 0.9368\n",
      "Epoch 2/5\n",
      "1875/1875 [==============================] - 1s 766us/step - loss: 0.0886 - accuracy: 0.9733\n",
      "Epoch 3/5\n",
      "1875/1875 [==============================] - 1s 766us/step - loss: 0.0621 - accuracy: 0.9811\n",
      "Epoch 4/5\n",
      "1875/1875 [==============================] - 1s 762us/step - loss: 0.0459 - accuracy: 0.9855\n",
      "Epoch 5/5\n",
      "1875/1875 [==============================] - 1s 765us/step - loss: 0.0375 - accuracy: 0.9879\n",
      "313/313 [==============================] - 0s 459us/step - loss: 0.0841 - accuracy: 0.9765\n"
     ]
    },
    {
     "data": {
      "text/plain": [
       "[0.08405223488807678, 0.9764999747276306]"
      ]
     },
     "execution_count": 4,
     "metadata": {},
     "output_type": "execute_result"
    }
   ],
   "source": [
    "model.compile(optimizer='adam',\n",
    "              loss='sparse_categorical_crossentropy',\n",
    "              metrics=['accuracy'])\n",
    "\n",
    "model.fit(x_train, y_train, epochs=5)\n",
    "model.evaluate(x_test, y_test)"
   ]
  },
  {
   "cell_type": "code",
   "execution_count": 5,
   "metadata": {},
   "outputs": [
    {
     "name": "stdout",
     "output_type": "stream",
     "text": [
      "Epoch 1/5\n",
      "1875/1875 [==============================] - 1s 777us/step - loss: 0.2574 - accuracy: 0.9268\n",
      "Epoch 2/5\n",
      "1875/1875 [==============================] - 1s 785us/step - loss: 0.1137 - accuracy: 0.9665\n",
      "Epoch 3/5\n",
      "1875/1875 [==============================] - 1s 789us/step - loss: 0.0771 - accuracy: 0.9771\n",
      "Epoch 4/5\n",
      "1875/1875 [==============================] - 1s 784us/step - loss: 0.0590 - accuracy: 0.9817\n",
      "Epoch 5/5\n",
      "1875/1875 [==============================] - 1s 772us/step - loss: 0.0464 - accuracy: 0.9861\n",
      "313/313 [==============================] - 0s 453us/step - loss: 0.0883 - accuracy: 0.9732\n"
     ]
    },
    {
     "data": {
      "text/plain": [
       "[0.08829785883426666, 0.9732000231742859]"
      ]
     },
     "execution_count": 5,
     "metadata": {},
     "output_type": "execute_result"
    }
   ],
   "source": [
    "def my_relu(x):\n",
    "    return K.maximum(-0.1, x)\n",
    "\n",
    "model = tf.keras.models.Sequential([\n",
    "    tf.keras.layers.Flatten(input_shape=(28, 28)),\n",
    "    tf.keras.layers.Dense(128),\n",
    "    tf.keras.layers.Lambda(my_relu), \n",
    "    tf.keras.layers.Dense(10, activation='softmax')\n",
    "])\n",
    "\n",
    "model.compile(optimizer='adam',\n",
    "              loss='sparse_categorical_crossentropy',\n",
    "              metrics=['accuracy'])\n",
    "\n",
    "model.fit(x_train, y_train, epochs=5)\n",
    "model.evaluate(x_test, y_test)"
   ]
  },
  {
   "cell_type": "code",
   "execution_count": 6,
   "metadata": {},
   "outputs": [],
   "source": [
    "from tensorflow.keras.layers import Layer"
   ]
  },
  {
   "cell_type": "code",
   "execution_count": 7,
   "metadata": {},
   "outputs": [],
   "source": [
    "class SimpleLayer(Layer):\n",
    "    \n",
    "    def __init__(self, units = 32):\n",
    "        super(SimpleLayer, self).__init__()\n",
    "        self.units = units\n",
    "        \n",
    "    def build(self, input_shape):\n",
    "        w_init = tf.random_normal_initializer()\n",
    "        self.w = tf.Variable(name= 'kernel',initial_value= w_init(shape = (input_shape[-1],self.units),\n",
    "                             dtype = 'float32'),\n",
    "                             trainable = True)\n",
    "        b_init = tf.zeros_initializer()\n",
    "        self.b = tf.Variable(name= 'bias', initial_value= b_init(shape = (self.units,), dtype= 'float32'),\n",
    "                             trainable = True)\n",
    "        \n",
    "    def call(self, inputs):\n",
    "        \n",
    "        return tf.matmul(inputs, self.w)+ self.b\n",
    "                "
   ]
  },
  {
   "cell_type": "code",
   "execution_count": 8,
   "metadata": {},
   "outputs": [],
   "source": [
    "my_layer = SimpleLayer(units =1)"
   ]
  },
  {
   "cell_type": "code",
   "execution_count": 9,
   "metadata": {},
   "outputs": [],
   "source": [
    "x = tf.ones((1,1))\n",
    "y = my_layer(x)"
   ]
  },
  {
   "cell_type": "code",
   "execution_count": 10,
   "metadata": {},
   "outputs": [
    {
     "name": "stdout",
     "output_type": "stream",
     "text": [
      "tf.Tensor([[0.07562499]], shape=(1, 1), dtype=float32)\n"
     ]
    }
   ],
   "source": [
    "print(y)"
   ]
  },
  {
   "cell_type": "code",
   "execution_count": 13,
   "metadata": {},
   "outputs": [],
   "source": [
    "# define the dataset\n",
    "xs = np.array([-1.0,  0.0, 1.0, 2.0, 3.0, 4.0], dtype=float)\n",
    "ys = np.array([-3.0, -1.0, 1.0, 3.0, 5.0, 7.0], dtype=float)"
   ]
  },
  {
   "cell_type": "code",
   "execution_count": 15,
   "metadata": {},
   "outputs": [
    {
     "name": "stdout",
     "output_type": "stream",
     "text": [
      "[[6.5955725]]\n"
     ]
    }
   ],
   "source": [
    "model= tf.keras.Sequential([my_layer])\n",
    "model.compile(optimizer='sgd', loss= 'mean_squared_error')\n",
    "model.fit(xs, ys, epochs = 4, verbose =0)\n",
    "print(model.predict([10.0]))"
   ]
  },
  {
   "cell_type": "code",
   "execution_count": 16,
   "metadata": {},
   "outputs": [
    {
     "name": "stdout",
     "output_type": "stream",
     "text": [
      "[<tf.Variable 'simple_layer/kernel:0' shape=(1, 1) dtype=float32, numpy=array([[0.64769495]], dtype=float32)>, <tf.Variable 'simple_layer/bias:0' shape=(1,) dtype=float32, numpy=array([0.11862279], dtype=float32)>]\n"
     ]
    }
   ],
   "source": [
    "print(my_layer.variables)"
   ]
  },
  {
   "cell_type": "markdown",
   "metadata": {},
   "source": [
    "### Activation custom layer"
   ]
  },
  {
   "cell_type": "code",
   "execution_count": 27,
   "metadata": {},
   "outputs": [],
   "source": [
    "class MyLayerWithActivation(Layer):\n",
    "    def __init__(self,units = 32, activation = None):\n",
    "        super(MyLayerWithActivation, self).__init__()\n",
    "        self.units = units\n",
    "        self.activation = tf.keras.activations.get(activation)\n",
    "        \n",
    "        \n",
    "    def build(self, input_shape):\n",
    "        w_init = tf.random_normal_initializer()\n",
    "        self.w = tf.Variable(name = 'kernel', initial_value= w_init(shape =(input_shape[-1], self.units),\n",
    "                                                                    dtype = 'float32'),trainable = True)\n",
    "       \n",
    "        \n",
    "        \n",
    "        b_init = tf.zeros_initializer()\n",
    "        self.b = tf.Variable(name=\"bias\",\n",
    "            initial_value=b_init(shape=(self.units,), dtype='float32'),\n",
    "            trainable=True)\n",
    "        #b_init = tf.zeros_initializer()\n",
    "        #self.b = tf.Variable(name = 'bias', initial_value= b_init(shape= (self.units,), dtype = 'float32',trainable = True))\n",
    "        super().build(input_shape)\n",
    "        \n",
    "    def call(self, inputs):\n",
    "        return self.activation(tf.matmul(inputs, self.w)\n",
    "                              +self.b)\n",
    "                             "
   ]
  },
  {
   "cell_type": "code",
   "execution_count": 28,
   "metadata": {},
   "outputs": [
    {
     "name": "stdout",
     "output_type": "stream",
     "text": [
      "Epoch 1/5\n",
      "1875/1875 [==============================] - 1s 791us/step - loss: 0.2969 - accuracy: 0.9134\n",
      "Epoch 2/5\n",
      "1875/1875 [==============================] - 1s 793us/step - loss: 0.1475 - accuracy: 0.9562\n",
      "Epoch 3/5\n",
      "1875/1875 [==============================] - 1s 791us/step - loss: 0.1088 - accuracy: 0.9675\n",
      "Epoch 4/5\n",
      "1875/1875 [==============================] - 1s 794us/step - loss: 0.0897 - accuracy: 0.9725\n",
      "Epoch 5/5\n",
      "1875/1875 [==============================] - 1s 790us/step - loss: 0.0752 - accuracy: 0.9764\n",
      "313/313 [==============================] - 0s 456us/step - loss: 0.0765 - accuracy: 0.9755\n"
     ]
    },
    {
     "data": {
      "text/plain": [
       "[0.07646127790212631, 0.9754999876022339]"
      ]
     },
     "execution_count": 28,
     "metadata": {},
     "output_type": "execute_result"
    }
   ],
   "source": [
    "mnist = tf.keras.datasets.mnist\n",
    "\n",
    "(x_train, y_train),(x_test, y_test) = mnist.load_data()\n",
    "x_train, x_test = x_train / 255.0, x_test / 255.0\n",
    "\n",
    "model = tf.keras.models.Sequential([\n",
    "    tf.keras.layers.Flatten(input_shape=(28, 28)),\n",
    "    MyLayerWithActivation(128, activation='relu'),\n",
    "    tf.keras.layers.Dropout(0.2),\n",
    "    tf.keras.layers.Dense(10, activation='softmax')\n",
    "])\n",
    "\n",
    "model.compile(optimizer='adam',\n",
    "              loss='sparse_categorical_crossentropy',\n",
    "              metrics=['accuracy'])\n",
    "\n",
    "model.fit(x_train, y_train, epochs=5)\n",
    "model.evaluate(x_test, y_test)"
   ]
  },
  {
   "cell_type": "code",
   "execution_count": 29,
   "metadata": {},
   "outputs": [],
   "source": [
    "class SimpleQuadratic(Layer):\n",
    "\n",
    "    def __init__(self, units=32, activation=None):\n",
    "            '''Initializes the class and sets up the internal variables'''\n",
    "            super(SimpleQuadratic,self).__init__()\n",
    "            self.units =units\n",
    "            self.activation = tf.keras.activations.get(activation)\n",
    "    \n",
    "    def build(self, input_shape):\n",
    "        '''Create the state of the layer (weights)'''\n",
    "        # a and b should be initialized with random normal, c (or the bias) with zeros.\n",
    "        # remember to set these as trainable.\n",
    "        a_int = tf.random_normal_initializer()\n",
    "        self.a = tf.Variable(name = 'a', initial_value= a_int(shape = (input_shape[-1], self.units), dtype = 'float32'), trainable = True)\n",
    "        b_int = tf.random_normal_initializer()\n",
    "        self.b = tf.Variable(name = 'b', initial_value= b_int(shape = (input_shape[-1],self.units), dtype = 'float32'), trainable = True)\n",
    "        c_int = tf.zeros_initializer()\n",
    "        self.c = tf.Variable(name = 'c', initial_value= c_int(shape = (self.units,), dtype = 'float32'), trainable = True)\n",
    "        super().build(input_shape)\n",
    "   \n",
    "    def call(self, inputs):\n",
    "#         '''Defines the computation from inputs to outputs'''\n",
    "         return self.activation(tf.matmul(tf.math.square(inputs), self.a)\n",
    "                              +tf.matmul(inputs,self.b)+self.c)"
   ]
  },
  {
   "cell_type": "code",
   "execution_count": 30,
   "metadata": {},
   "outputs": [
    {
     "name": "stdout",
     "output_type": "stream",
     "text": [
      "Epoch 1/5\n",
      "1875/1875 [==============================] - 2s 883us/step - loss: 0.2717 - accuracy: 0.9191\n",
      "Epoch 2/5\n",
      "1875/1875 [==============================] - 2s 892us/step - loss: 0.1291 - accuracy: 0.9606\n",
      "Epoch 3/5\n",
      "1875/1875 [==============================] - 2s 875us/step - loss: 0.0984 - accuracy: 0.9696\n",
      "Epoch 4/5\n",
      "1875/1875 [==============================] - 2s 874us/step - loss: 0.0793 - accuracy: 0.9750\n",
      "Epoch 5/5\n",
      "1875/1875 [==============================] - 2s 882us/step - loss: 0.0703 - accuracy: 0.9771\n",
      "313/313 [==============================] - 0s 523us/step - loss: 0.0738 - accuracy: 0.9783\n"
     ]
    },
    {
     "data": {
      "text/plain": [
       "[0.07375789433717728, 0.9782999753952026]"
      ]
     },
     "execution_count": 30,
     "metadata": {},
     "output_type": "execute_result"
    }
   ],
   "source": [
    "mnist = tf.keras.datasets.mnist\n",
    "\n",
    "(x_train, y_train),(x_test, y_test) = mnist.load_data()\n",
    "x_train, x_test = x_train / 255.0, x_test / 255.0\n",
    "\n",
    "model = tf.keras.models.Sequential([\n",
    "  tf.keras.layers.Flatten(input_shape=(28, 28)),\n",
    "  SimpleQuadratic(128, activation='relu'),\n",
    "  tf.keras.layers.Dropout(0.2),\n",
    "  tf.keras.layers.Dense(10, activation='softmax')\n",
    "])\n",
    "\n",
    "model.compile(optimizer='adam',\n",
    "              loss='sparse_categorical_crossentropy',\n",
    "              metrics=['accuracy'])\n",
    "\n",
    "model.fit(x_train, y_train, epochs=5)\n",
    "model.evaluate(x_test, y_test)"
   ]
  },
  {
   "cell_type": "code",
   "execution_count": null,
   "metadata": {},
   "outputs": [],
   "source": []
  }
 ],
 "metadata": {
  "kernelspec": {
   "display_name": "Python 3",
   "language": "python",
   "name": "python3"
  },
  "language_info": {
   "codemirror_mode": {
    "name": "ipython",
    "version": 3
   },
   "file_extension": ".py",
   "mimetype": "text/x-python",
   "name": "python",
   "nbconvert_exporter": "python",
   "pygments_lexer": "ipython3",
   "version": "3.8.6"
  }
 },
 "nbformat": 4,
 "nbformat_minor": 4
}
