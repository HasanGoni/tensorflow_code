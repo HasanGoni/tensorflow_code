{
 "cells": [
  {
   "cell_type": "code",
   "execution_count": 4,
   "metadata": {},
   "outputs": [],
   "source": [
    "import tensorflow as tf\n",
    "import tensorflow_datasets as tfds\n",
    "import matplotlib.pyplot as plt\n",
    "import io\n",
    "from PIL import Image\n",
    "from tensorflow.keras.callbacks import TensorBoard, EarlyStopping, LearningRateScheduler, ModelCheckpoint, CSVLogger,ReduceLROnPlateau"
   ]
  },
  {
   "cell_type": "code",
   "execution_count": 5,
   "metadata": {},
   "outputs": [],
   "source": [
    "%load_ext tensorboard"
   ]
  },
  {
   "cell_type": "code",
   "execution_count": 6,
   "metadata": {},
   "outputs": [],
   "source": [
    "import os\n",
    "from pathlib import Path\n",
    "import matplotlib.pylab as plb\n",
    "import numpy as np\n",
    "import datetime, math\n",
    "import pandas as pd\n"
   ]
  },
  {
   "cell_type": "code",
   "execution_count": 7,
   "metadata": {},
   "outputs": [],
   "source": [
    "tf.get_logger().setLevel('INFO')"
   ]
  },
  {
   "cell_type": "code",
   "execution_count": 8,
   "metadata": {},
   "outputs": [
    {
     "name": "stdout",
     "output_type": "stream",
     "text": [
      "\u001b[1mDownloading and preparing dataset horses_or_humans/3.0.0 (download: 153.59 MiB, generated: Unknown size, total: 153.59 MiB) to /home/hasan/tensorflow_datasets/horses_or_humans/3.0.0...\u001b[0m\n"
     ]
    },
    {
     "data": {
      "application/vnd.jupyter.widget-view+json": {
       "model_id": "fdc764ca567e4067b280cd56cf5321b4",
       "version_major": 2,
       "version_minor": 0
      },
      "text/plain": [
       "HBox(children=(HTML(value='Dl Completed...'), FloatProgress(value=1.0, bar_style='info', layout=Layout(width='…"
      ]
     },
     "metadata": {},
     "output_type": "display_data"
    },
    {
     "data": {
      "application/vnd.jupyter.widget-view+json": {
       "model_id": "5693ed9d21a24b8696867b07934e5ce8",
       "version_major": 2,
       "version_minor": 0
      },
      "text/plain": [
       "HBox(children=(HTML(value='Dl Size...'), FloatProgress(value=1.0, bar_style='info', layout=Layout(width='20px'…"
      ]
     },
     "metadata": {},
     "output_type": "display_data"
    },
    {
     "name": "stdout",
     "output_type": "stream",
     "text": [
      "\n",
      "\n",
      "\n",
      "\n"
     ]
    },
    {
     "data": {
      "application/vnd.jupyter.widget-view+json": {
       "model_id": "",
       "version_major": 2,
       "version_minor": 0
      },
      "text/plain": [
       "HBox(children=(HTML(value=''), FloatProgress(value=0.0, max=2.0), HTML(value='')))"
      ]
     },
     "metadata": {},
     "output_type": "display_data"
    },
    {
     "data": {
      "application/vnd.jupyter.widget-view+json": {
       "model_id": "",
       "version_major": 2,
       "version_minor": 0
      },
      "text/plain": [
       "HBox(children=(HTML(value=''), FloatProgress(value=0.0, max=1027.0), HTML(value='')))"
      ]
     },
     "metadata": {},
     "output_type": "display_data"
    },
    {
     "name": "stdout",
     "output_type": "stream",
     "text": [
      "Shuffling and writing examples to /home/hasan/tensorflow_datasets/horses_or_humans/3.0.0.incomplete2FJ2K9/horses_or_humans-train.tfrecord\n"
     ]
    },
    {
     "data": {
      "application/vnd.jupyter.widget-view+json": {
       "model_id": "5b188a2ab19243a695ee67ebc3df211c",
       "version_major": 2,
       "version_minor": 0
      },
      "text/plain": [
       "HBox(children=(HTML(value=''), FloatProgress(value=0.0, max=1027.0), HTML(value='')))"
      ]
     },
     "metadata": {},
     "output_type": "display_data"
    },
    {
     "data": {
      "application/vnd.jupyter.widget-view+json": {
       "model_id": "",
       "version_major": 2,
       "version_minor": 0
      },
      "text/plain": [
       "HBox(children=(HTML(value=''), FloatProgress(value=0.0, max=256.0), HTML(value='')))"
      ]
     },
     "metadata": {},
     "output_type": "display_data"
    },
    {
     "name": "stdout",
     "output_type": "stream",
     "text": [
      "Shuffling and writing examples to /home/hasan/tensorflow_datasets/horses_or_humans/3.0.0.incomplete2FJ2K9/horses_or_humans-test.tfrecord\n"
     ]
    },
    {
     "data": {
      "application/vnd.jupyter.widget-view+json": {
       "model_id": "7bf3ccdb09464f2d868aa74cb83eccc0",
       "version_major": 2,
       "version_minor": 0
      },
      "text/plain": [
       "HBox(children=(HTML(value=''), FloatProgress(value=0.0, max=256.0), HTML(value='')))"
      ]
     },
     "metadata": {},
     "output_type": "display_data"
    },
    {
     "name": "stdout",
     "output_type": "stream",
     "text": [
      "\u001b[1mDataset horses_or_humans downloaded and prepared to /home/hasan/tensorflow_datasets/horses_or_humans/3.0.0. Subsequent calls will reuse this data.\u001b[0m\n"
     ]
    }
   ],
   "source": [
    "splits, info = tfds.load('horses_or_humans', as_supervised=True, with_info=True, split=['train[:80%]', 'train[80%:]', 'test'])\n"
   ]
  },
  {
   "cell_type": "code",
   "execution_count": 9,
   "metadata": {},
   "outputs": [],
   "source": [
    "(train_examples, validation_examples, test_examples) = splits"
   ]
  },
  {
   "cell_type": "code",
   "execution_count": 10,
   "metadata": {},
   "outputs": [],
   "source": [
    "num_examples = info.splits['train'].num_examples\n",
    "num_classes = info.features['label'].num_classes"
   ]
  },
  {
   "cell_type": "code",
   "execution_count": 11,
   "metadata": {},
   "outputs": [],
   "source": [
    "SIZE = 150 \n",
    "IMAGE_SIZE = (SIZE, SIZE)"
   ]
  },
  {
   "cell_type": "code",
   "execution_count": 12,
   "metadata": {},
   "outputs": [],
   "source": [
    "def format_image(image, label):\n",
    "  image = tf.image.resize(image, IMAGE_SIZE) / 255.0\n",
    "  return  image, label"
   ]
  },
  {
   "cell_type": "code",
   "execution_count": 13,
   "metadata": {},
   "outputs": [],
   "source": [
    "BATCH_SIZE = 32"
   ]
  },
  {
   "cell_type": "code",
   "execution_count": 14,
   "metadata": {},
   "outputs": [],
   "source": [
    "train_batches = train_examples.shuffle(num_examples // 4).map(format_image).batch(BATCH_SIZE).prefetch(1)\n",
    "validation_batches = validation_examples.map(format_image).batch(BATCH_SIZE).prefetch(1)\n",
    "test_batches = test_examples.map(format_image).batch(1)"
   ]
  },
  {
   "cell_type": "code",
   "execution_count": 15,
   "metadata": {},
   "outputs": [
    {
     "data": {
      "text/plain": [
       "TensorShape([32, 150, 150, 3])"
      ]
     },
     "execution_count": 15,
     "metadata": {},
     "output_type": "execute_result"
    }
   ],
   "source": [
    "for image_batch, label_batch in train_batches.take(1):\n",
    "  pass\n",
    "\n",
    "image_batch.shape"
   ]
  },
  {
   "cell_type": "code",
   "execution_count": 16,
   "metadata": {},
   "outputs": [],
   "source": [
    "def build_model(dense_units, input_shape=IMAGE_SIZE + (3,)):\n",
    "  model = tf.keras.models.Sequential([\n",
    "      tf.keras.layers.Conv2D(16, (3, 3), activation='relu', input_shape=input_shape),\n",
    "      tf.keras.layers.MaxPooling2D(2, 2),\n",
    "      tf.keras.layers.Conv2D(32, (3, 3), activation='relu'),\n",
    "      tf.keras.layers.MaxPooling2D(2, 2),\n",
    "      tf.keras.layers.Conv2D(64, (3, 3), activation='relu'),\n",
    "      tf.keras.layers.MaxPooling2D(2, 2),\n",
    "      tf.keras.layers.Flatten(),\n",
    "      tf.keras.layers.Dense(dense_units, activation='relu'),\n",
    "      tf.keras.layers.Dense(2, activation='softmax')\n",
    "  ])\n",
    "  return model"
   ]
  },
  {
   "cell_type": "code",
   "execution_count": 17,
   "metadata": {},
   "outputs": [],
   "source": [
    "!rm -rf logs#don't know why"
   ]
  },
  {
   "cell_type": "code",
   "execution_count": 18,
   "metadata": {},
   "outputs": [],
   "source": [
    "model = build_model(dense_units=256)\n",
    "model.compile(\n",
    "    optimizer='sgd',\n",
    "    loss='sparse_categorical_crossentropy', \n",
    "    metrics=['accuracy'])"
   ]
  },
  {
   "cell_type": "code",
   "execution_count": 23,
   "metadata": {},
   "outputs": [],
   "source": [
    "\n",
    "logdir = os.path.join(\"logs\", datetime.datetime.now().strftime(\"%Y_%m_%d-%H_%M_%S\"))"
   ]
  },
  {
   "cell_type": "code",
   "execution_count": 24,
   "metadata": {},
   "outputs": [
    {
     "data": {
      "text/plain": [
       "'logs/2020_12_06-19_51_39'"
      ]
     },
     "execution_count": 24,
     "metadata": {},
     "output_type": "execute_result"
    }
   ],
   "source": [
    "logdir"
   ]
  },
  {
   "cell_type": "code",
   "execution_count": 25,
   "metadata": {},
   "outputs": [],
   "source": [
    "tensorboard= TensorBoard(logdir)"
   ]
  },
  {
   "cell_type": "code",
   "execution_count": 26,
   "metadata": {},
   "outputs": [
    {
     "data": {
      "text/plain": [
       "<tensorflow.python.keras.callbacks.TensorBoard at 0x7f84a02b0fd0>"
      ]
     },
     "execution_count": 26,
     "metadata": {},
     "output_type": "execute_result"
    }
   ],
   "source": [
    "tensorboard"
   ]
  },
  {
   "cell_type": "code",
   "execution_count": 30,
   "metadata": {},
   "outputs": [],
   "source": [
    "#os.environ['TENSORBOARD_BINARY'] = '/home/hasan/anaconda3/envs/tf'"
   ]
  },
  {
   "cell_type": "code",
   "execution_count": 31,
   "metadata": {},
   "outputs": [
    {
     "name": "stdout",
     "output_type": "stream",
     "text": [
      "Epoch 1/10\n",
      "26/26 [==============================] - 3s 113ms/step - loss: 0.1032 - accuracy: 0.9805 - val_loss: 0.0764 - val_accuracy: 0.9902\n",
      "Epoch 2/10\n",
      "26/26 [==============================] - 3s 112ms/step - loss: 0.0824 - accuracy: 0.9818 - val_loss: 0.0927 - val_accuracy: 0.9659\n",
      "Epoch 3/10\n",
      "26/26 [==============================] - 3s 114ms/step - loss: 0.0720 - accuracy: 0.9854 - val_loss: 0.0682 - val_accuracy: 0.9805\n",
      "Epoch 4/10\n",
      "26/26 [==============================] - 3s 111ms/step - loss: 0.0689 - accuracy: 0.9805 - val_loss: 0.0542 - val_accuracy: 0.9854\n",
      "Epoch 5/10\n",
      "26/26 [==============================] - 3s 111ms/step - loss: 0.0573 - accuracy: 0.9878 - val_loss: 0.0514 - val_accuracy: 0.9805\n",
      "Epoch 6/10\n",
      "26/26 [==============================] - 3s 111ms/step - loss: 0.0506 - accuracy: 0.9903 - val_loss: 0.0457 - val_accuracy: 0.9805\n",
      "Epoch 7/10\n",
      "26/26 [==============================] - 3s 111ms/step - loss: 0.0485 - accuracy: 0.9891 - val_loss: 0.0714 - val_accuracy: 0.9659\n",
      "Epoch 8/10\n",
      "26/26 [==============================] - 3s 112ms/step - loss: 0.0439 - accuracy: 0.9878 - val_loss: 0.0418 - val_accuracy: 0.9805\n",
      "Epoch 9/10\n",
      "26/26 [==============================] - 3s 112ms/step - loss: 0.0371 - accuracy: 0.9915 - val_loss: 0.0435 - val_accuracy: 0.9854\n",
      "Epoch 10/10\n",
      "26/26 [==============================] - 3s 111ms/step - loss: 0.0778 - accuracy: 0.9708 - val_loss: 0.0525 - val_accuracy: 0.9854\n"
     ]
    },
    {
     "data": {
      "text/plain": [
       "<tensorflow.python.keras.callbacks.History at 0x7f84a02900d0>"
      ]
     },
     "execution_count": 31,
     "metadata": {},
     "output_type": "execute_result"
    }
   ],
   "source": [
    "model.fit(train_batches, \n",
    "          epochs=10, \n",
    "          validation_data=validation_batches, \n",
    "          callbacks=[tensorboard])"
   ]
  },
  {
   "cell_type": "code",
   "execution_count": 32,
   "metadata": {},
   "outputs": [
    {
     "data": {
      "text/plain": [
       "ERROR: Failed to start '/home/hasan/anaconda3/envs/tf' (set by the\n",
       "`TENSORBOARD_BINARY` environment variable): [Errno 13] Permission\n",
       "denied: '/home/hasan/anaconda3/envs/tf'"
      ]
     },
     "metadata": {},
     "output_type": "display_data"
    }
   ],
   "source": [
    "%tensorboard --logdir logs"
   ]
  },
  {
   "cell_type": "code",
   "execution_count": 33,
   "metadata": {},
   "outputs": [
    {
     "data": {
      "text/plain": [
       "PosixPath('/home/hasan/Schreibtisch/projects/coursera/tensorflow')"
      ]
     },
     "execution_count": 33,
     "metadata": {},
     "output_type": "execute_result"
    }
   ],
   "source": [
    "Path.cwd()"
   ]
  },
  {
   "cell_type": "markdown",
   "metadata": {},
   "source": [
    " [Model Checkpoint](https://keras.io/api/callbacks/model_checkpoint/)"
   ]
  },
  {
   "cell_type": "code",
   "execution_count": 66,
   "metadata": {},
   "outputs": [],
   "source": [
    "checkpoint_path = Path('tmp/checkpoint')"
   ]
  },
  {
   "cell_type": "code",
   "execution_count": 59,
   "metadata": {},
   "outputs": [],
   "source": []
  },
  {
   "cell_type": "code",
   "execution_count": 67,
   "metadata": {},
   "outputs": [
    {
     "data": {
      "text/plain": [
       "PosixPath('tmp/checkpoint')"
      ]
     },
     "execution_count": 67,
     "metadata": {},
     "output_type": "execute_result"
    }
   ],
   "source": [
    "checkpoint_path"
   ]
  },
  {
   "cell_type": "code",
   "execution_count": 68,
   "metadata": {},
   "outputs": [],
   "source": [
    "model.compile(\n",
    "    optimizer='sgd',\n",
    "    loss='sparse_categorical_crossentropy', \n",
    "    metrics=['accuracy'])\n",
    "\n",
    "EPOCHS = 10\n",
    "checkpoint_filepath = checkpoint_path\n",
    "model_checkpoint_callback = tf.keras.callbacks.ModelCheckpoint(\n",
    "    filepath=checkpoint_filepath,\n",
    "    save_weights_only=True,\n",
    "    monitor='val_accuracy',\n",
    "    mode='max',\n",
    "    save_best_only=True)"
   ]
  },
  {
   "cell_type": "code",
   "execution_count": 69,
   "metadata": {},
   "outputs": [
    {
     "data": {
      "text/plain": [
       "PosixPath('tmp/checkpoint')"
      ]
     },
     "execution_count": 69,
     "metadata": {},
     "output_type": "execute_result"
    }
   ],
   "source": [
    "checkpoint_path"
   ]
  },
  {
   "cell_type": "code",
   "execution_count": 70,
   "metadata": {},
   "outputs": [
    {
     "name": "stdout",
     "output_type": "stream",
     "text": [
      "Epoch 1/5\n",
      "26/26 - 3s - loss: 0.0144 - accuracy: 0.9964 - val_loss: 0.0237 - val_accuracy: 0.9902\n",
      "Epoch 2/5\n",
      "26/26 - 3s - loss: 0.0133 - accuracy: 0.9988 - val_loss: 0.0198 - val_accuracy: 0.9902\n",
      "Epoch 3/5\n",
      "26/26 - 3s - loss: 0.0142 - accuracy: 0.9988 - val_loss: 0.0234 - val_accuracy: 0.9902\n",
      "Epoch 4/5\n",
      "26/26 - 3s - loss: 0.0113 - accuracy: 0.9988 - val_loss: 0.0187 - val_accuracy: 0.9951\n",
      "Epoch 5/5\n",
      "26/26 - 3s - loss: 0.0111 - accuracy: 0.9988 - val_loss: 0.0175 - val_accuracy: 0.9902\n"
     ]
    },
    {
     "data": {
      "text/plain": [
       "<tensorflow.python.keras.callbacks.History at 0x7f853cd413d0>"
      ]
     },
     "execution_count": 70,
     "metadata": {},
     "output_type": "execute_result"
    }
   ],
   "source": [
    "model.fit(train_batches, \n",
    "          epochs=5, \n",
    "          validation_data=validation_batches, \n",
    "          verbose=2,\n",
    "          callbacks=[model_checkpoint_callback])"
   ]
  },
  {
   "cell_type": "code",
   "execution_count": 71,
   "metadata": {},
   "outputs": [],
   "source": [
    "#model.load_weights(checkpoint_filepath)"
   ]
  },
  {
   "cell_type": "code",
   "execution_count": 74,
   "metadata": {},
   "outputs": [],
   "source": [
    "chckpoint = ModelCheckpoint('tmp/weights.{epoch:02d}-{val_loss:.2f}.h5', verbose=1, save_best_only=True,monitor='val_accuracy',\n",
    "    mode='max')"
   ]
  },
  {
   "cell_type": "code",
   "execution_count": 75,
   "metadata": {},
   "outputs": [
    {
     "name": "stdout",
     "output_type": "stream",
     "text": [
      "Epoch 1/5\n",
      "\n",
      "Epoch 00001: val_accuracy improved from -inf to 0.99512, saving model to tmp/weights.01-0.02.h5\n",
      "26/26 - 3s - loss: 0.0070 - accuracy: 1.0000 - val_loss: 0.0168 - val_accuracy: 0.9951\n",
      "Epoch 2/5\n",
      "\n",
      "Epoch 00002: val_accuracy did not improve from 0.99512\n",
      "26/26 - 3s - loss: 0.0065 - accuracy: 1.0000 - val_loss: 0.0155 - val_accuracy: 0.9951\n",
      "Epoch 3/5\n",
      "\n",
      "Epoch 00003: val_accuracy did not improve from 0.99512\n",
      "26/26 - 3s - loss: 0.0058 - accuracy: 1.0000 - val_loss: 0.0160 - val_accuracy: 0.9951\n",
      "Epoch 4/5\n",
      "\n",
      "Epoch 00004: val_accuracy did not improve from 0.99512\n",
      "26/26 - 3s - loss: 0.0060 - accuracy: 1.0000 - val_loss: 0.0153 - val_accuracy: 0.9951\n",
      "Epoch 5/5\n",
      "\n",
      "Epoch 00005: val_accuracy did not improve from 0.99512\n",
      "26/26 - 3s - loss: 0.0052 - accuracy: 1.0000 - val_loss: 0.0143 - val_accuracy: 0.9951\n"
     ]
    },
    {
     "data": {
      "text/plain": [
       "<tensorflow.python.keras.callbacks.History at 0x7f84bc9df340>"
      ]
     },
     "execution_count": 75,
     "metadata": {},
     "output_type": "execute_result"
    }
   ],
   "source": [
    "model.fit(train_batches, \n",
    "          epochs=5, \n",
    "          validation_data=validation_batches, \n",
    "          verbose=2,\n",
    "          callbacks=[chckpoint])"
   ]
  },
  {
   "cell_type": "code",
   "execution_count": 76,
   "metadata": {},
   "outputs": [],
   "source": [
    "checkPoint= ModelCheckpoint('saved_model', verbose=1)"
   ]
  },
  {
   "cell_type": "code",
   "execution_count": 77,
   "metadata": {},
   "outputs": [
    {
     "name": "stdout",
     "output_type": "stream",
     "text": [
      "Epoch 1/5\n",
      "\n",
      "Epoch 00001: saving model to saved_model\n",
      "WARNING:tensorflow:From /home/hasan/.local/lib/python3.8/site-packages/tensorflow/python/training/tracking/tracking.py:111: Model.state_updates (from tensorflow.python.keras.engine.training) is deprecated and will be removed in a future version.\n",
      "Instructions for updating:\n",
      "This property should not be used in TensorFlow 2.0, as updates are applied automatically.\n"
     ]
    },
    {
     "name": "stderr",
     "output_type": "stream",
     "text": [
      "WARNING:tensorflow:From /home/hasan/.local/lib/python3.8/site-packages/tensorflow/python/training/tracking/tracking.py:111: Model.state_updates (from tensorflow.python.keras.engine.training) is deprecated and will be removed in a future version.\n",
      "Instructions for updating:\n",
      "This property should not be used in TensorFlow 2.0, as updates are applied automatically.\n"
     ]
    },
    {
     "name": "stdout",
     "output_type": "stream",
     "text": [
      "WARNING:tensorflow:From /home/hasan/.local/lib/python3.8/site-packages/tensorflow/python/training/tracking/tracking.py:111: Layer.updates (from tensorflow.python.keras.engine.base_layer) is deprecated and will be removed in a future version.\n",
      "Instructions for updating:\n",
      "This property should not be used in TensorFlow 2.0, as updates are applied automatically.\n"
     ]
    },
    {
     "name": "stderr",
     "output_type": "stream",
     "text": [
      "WARNING:tensorflow:From /home/hasan/.local/lib/python3.8/site-packages/tensorflow/python/training/tracking/tracking.py:111: Layer.updates (from tensorflow.python.keras.engine.base_layer) is deprecated and will be removed in a future version.\n",
      "Instructions for updating:\n",
      "This property should not be used in TensorFlow 2.0, as updates are applied automatically.\n"
     ]
    },
    {
     "name": "stdout",
     "output_type": "stream",
     "text": [
      "INFO:tensorflow:Assets written to: saved_model/assets\n"
     ]
    },
    {
     "name": "stderr",
     "output_type": "stream",
     "text": [
      "INFO:tensorflow:Assets written to: saved_model/assets\n"
     ]
    },
    {
     "name": "stdout",
     "output_type": "stream",
     "text": [
      "26/26 - 3s - loss: 0.0047 - accuracy: 1.0000 - val_loss: 0.0141 - val_accuracy: 0.9951\n",
      "Epoch 2/5\n",
      "\n",
      "Epoch 00002: saving model to saved_model\n",
      "INFO:tensorflow:Assets written to: saved_model/assets\n"
     ]
    },
    {
     "name": "stderr",
     "output_type": "stream",
     "text": [
      "INFO:tensorflow:Assets written to: saved_model/assets\n"
     ]
    },
    {
     "name": "stdout",
     "output_type": "stream",
     "text": [
      "26/26 - 3s - loss: 0.0048 - accuracy: 1.0000 - val_loss: 0.0171 - val_accuracy: 0.9951\n",
      "Epoch 3/5\n",
      "\n",
      "Epoch 00003: saving model to saved_model\n",
      "INFO:tensorflow:Assets written to: saved_model/assets\n"
     ]
    },
    {
     "name": "stderr",
     "output_type": "stream",
     "text": [
      "INFO:tensorflow:Assets written to: saved_model/assets\n"
     ]
    },
    {
     "name": "stdout",
     "output_type": "stream",
     "text": [
      "26/26 - 3s - loss: 0.0046 - accuracy: 1.0000 - val_loss: 0.0147 - val_accuracy: 0.9951\n",
      "Epoch 4/5\n",
      "\n",
      "Epoch 00004: saving model to saved_model\n",
      "INFO:tensorflow:Assets written to: saved_model/assets\n"
     ]
    },
    {
     "name": "stderr",
     "output_type": "stream",
     "text": [
      "INFO:tensorflow:Assets written to: saved_model/assets\n"
     ]
    },
    {
     "name": "stdout",
     "output_type": "stream",
     "text": [
      "26/26 - 3s - loss: 0.0043 - accuracy: 1.0000 - val_loss: 0.0162 - val_accuracy: 0.9951\n",
      "Epoch 5/5\n",
      "\n",
      "Epoch 00005: saving model to saved_model\n",
      "INFO:tensorflow:Assets written to: saved_model/assets\n"
     ]
    },
    {
     "name": "stderr",
     "output_type": "stream",
     "text": [
      "INFO:tensorflow:Assets written to: saved_model/assets\n"
     ]
    },
    {
     "name": "stdout",
     "output_type": "stream",
     "text": [
      "26/26 - 3s - loss: 0.0040 - accuracy: 1.0000 - val_loss: 0.0142 - val_accuracy: 0.9951\n"
     ]
    },
    {
     "data": {
      "text/plain": [
       "<tensorflow.python.keras.callbacks.History at 0x7f853cca7e20>"
      ]
     },
     "execution_count": 77,
     "metadata": {},
     "output_type": "execute_result"
    }
   ],
   "source": [
    "model.fit(train_batches, \n",
    "          epochs=5, \n",
    "          validation_data=validation_batches, \n",
    "          verbose=2,\n",
    "          callbacks=[checkPoint])"
   ]
  },
  {
   "cell_type": "code",
   "execution_count": 78,
   "metadata": {},
   "outputs": [],
   "source": [
    "chkpoint= ModelCheckpoint('model.h5', verbose=1)"
   ]
  },
  {
   "cell_type": "code",
   "execution_count": 79,
   "metadata": {},
   "outputs": [
    {
     "name": "stdout",
     "output_type": "stream",
     "text": [
      "Epoch 1/5\n",
      "\n",
      "Epoch 00001: saving model to model.h5\n",
      "26/26 - 3s - loss: 0.0039 - accuracy: 1.0000 - val_loss: 0.0132 - val_accuracy: 0.9951\n",
      "Epoch 2/5\n",
      "\n",
      "Epoch 00002: saving model to model.h5\n",
      "26/26 - 3s - loss: 0.0036 - accuracy: 1.0000 - val_loss: 0.0141 - val_accuracy: 0.9951\n",
      "Epoch 3/5\n",
      "\n",
      "Epoch 00003: saving model to model.h5\n",
      "26/26 - 3s - loss: 0.0035 - accuracy: 1.0000 - val_loss: 0.0144 - val_accuracy: 0.9951\n",
      "Epoch 4/5\n",
      "\n",
      "Epoch 00004: saving model to model.h5\n",
      "26/26 - 3s - loss: 0.0034 - accuracy: 1.0000 - val_loss: 0.0151 - val_accuracy: 0.9951\n",
      "Epoch 5/5\n",
      "\n",
      "Epoch 00005: saving model to model.h5\n",
      "26/26 - 3s - loss: 0.0032 - accuracy: 1.0000 - val_loss: 0.0129 - val_accuracy: 0.9951\n"
     ]
    },
    {
     "data": {
      "text/plain": [
       "<tensorflow.python.keras.callbacks.History at 0x7f853cced190>"
      ]
     },
     "execution_count": 79,
     "metadata": {},
     "output_type": "execute_result"
    }
   ],
   "source": [
    "model.fit(train_batches, \n",
    "          epochs=5, \n",
    "          validation_data=validation_batches, \n",
    "          verbose=2,\n",
    "          callbacks=[chkpoint])"
   ]
  },
  {
   "cell_type": "markdown",
   "metadata": {},
   "source": [
    " [Early stopping](https://keras.io/api/callbacks/early_stopping/)"
   ]
  },
  {
   "cell_type": "code",
   "execution_count": 80,
   "metadata": {},
   "outputs": [],
   "source": [
    "early_stop = EarlyStopping(\n",
    "              patience=3,\n",
    "              min_delta=0.05,\n",
    "              baseline=0.8,\n",
    "              mode='min',\n",
    "              monitor='val_loss',\n",
    "              restore_best_weights=True,\n",
    "              verbose=1)"
   ]
  },
  {
   "cell_type": "code",
   "execution_count": 81,
   "metadata": {},
   "outputs": [
    {
     "name": "stdout",
     "output_type": "stream",
     "text": [
      "Epoch 1/5\n",
      "26/26 - 3s - loss: 0.0030 - accuracy: 1.0000 - val_loss: 0.0226 - val_accuracy: 0.9951\n",
      "Epoch 2/5\n",
      "26/26 - 3s - loss: 0.0033 - accuracy: 1.0000 - val_loss: 0.0153 - val_accuracy: 0.9951\n",
      "Epoch 3/5\n",
      "26/26 - 3s - loss: 0.0028 - accuracy: 1.0000 - val_loss: 0.0130 - val_accuracy: 0.9951\n",
      "Epoch 4/5\n",
      "Restoring model weights from the end of the best epoch.\n",
      "26/26 - 3s - loss: 0.0028 - accuracy: 1.0000 - val_loss: 0.0147 - val_accuracy: 0.9951\n",
      "Epoch 00004: early stopping\n"
     ]
    },
    {
     "data": {
      "text/plain": [
       "<tensorflow.python.keras.callbacks.History at 0x7f853cd8d730>"
      ]
     },
     "execution_count": 81,
     "metadata": {},
     "output_type": "execute_result"
    }
   ],
   "source": [
    "model.fit(train_batches, \n",
    "          epochs=5, \n",
    "          validation_data=validation_batches, \n",
    "          verbose=2,\n",
    "          callbacks=[early_stop])"
   ]
  },
  {
   "cell_type": "markdown",
   "metadata": {},
   "source": [
    " [CSV Logger](https://keras.io/api/callbacks/csv_logger/)"
   ]
  },
  {
   "cell_type": "code",
   "execution_count": 82,
   "metadata": {},
   "outputs": [
    {
     "name": "stdout",
     "output_type": "stream",
     "text": [
      "Epoch 1/5\n",
      "26/26 - 3s - loss: 0.0034 - accuracy: 1.0000 - val_loss: 0.0133 - val_accuracy: 0.9951\n",
      "Epoch 2/5\n",
      "26/26 - 3s - loss: 0.0029 - accuracy: 1.0000 - val_loss: 0.0148 - val_accuracy: 0.9951\n",
      "Epoch 3/5\n",
      "26/26 - 3s - loss: 0.0028 - accuracy: 1.0000 - val_loss: 0.0136 - val_accuracy: 0.9951\n",
      "Epoch 4/5\n",
      "26/26 - 3s - loss: 0.0027 - accuracy: 1.0000 - val_loss: 0.0152 - val_accuracy: 0.9951\n",
      "Epoch 5/5\n",
      "26/26 - 3s - loss: 0.0025 - accuracy: 1.0000 - val_loss: 0.0139 - val_accuracy: 0.9951\n"
     ]
    },
    {
     "data": {
      "text/plain": [
       "<tensorflow.python.keras.callbacks.History at 0x7f853cce27c0>"
      ]
     },
     "execution_count": 82,
     "metadata": {},
     "output_type": "execute_result"
    }
   ],
   "source": [
    "csv_file = CSVLogger('training.csv')\n",
    "model.fit(train_batches, \n",
    "          epochs=5, \n",
    "          validation_data=validation_batches, \n",
    "          verbose=2,\n",
    "          callbacks=[csv_file])"
   ]
  },
  {
   "cell_type": "markdown",
   "metadata": {},
   "source": [
    "[Learning Rate Scheduler](https://keras.io/api/callbacks/learning_rate_scheduler/)"
   ]
  },
  {
   "cell_type": "code",
   "execution_count": 83,
   "metadata": {},
   "outputs": [
    {
     "name": "stdout",
     "output_type": "stream",
     "text": [
      "\n",
      "Epoch 00001: LearningRateScheduler reducing learning rate to 0.005.\n",
      "Epoch 1/5\n",
      "26/26 [==============================] - 3s 115ms/step - loss: 0.0024 - accuracy: 1.0000 - val_loss: 0.0143 - val_accuracy: 0.9951\n",
      "\n",
      "Epoch 00002: LearningRateScheduler reducing learning rate to 0.0025.\n",
      "Epoch 2/5\n",
      "26/26 [==============================] - 3s 111ms/step - loss: 0.0023 - accuracy: 1.0000 - val_loss: 0.0141 - val_accuracy: 0.9951\n",
      "\n",
      "Epoch 00003: LearningRateScheduler reducing learning rate to 0.00125.\n",
      "Epoch 3/5\n",
      "26/26 [==============================] - 3s 113ms/step - loss: 0.0023 - accuracy: 1.0000 - val_loss: 0.0141 - val_accuracy: 0.9951\n",
      "\n",
      "Epoch 00004: LearningRateScheduler reducing learning rate to 0.000625.\n",
      "Epoch 4/5\n",
      "26/26 [==============================] - 3s 114ms/step - loss: 0.0023 - accuracy: 1.0000 - val_loss: 0.0140 - val_accuracy: 0.9951\n",
      "\n",
      "Epoch 00005: LearningRateScheduler reducing learning rate to 0.0003125.\n",
      "Epoch 5/5\n",
      "26/26 [==============================] - 3s 113ms/step - loss: 0.0023 - accuracy: 1.0000 - val_loss: 0.0140 - val_accuracy: 0.9951\n"
     ]
    },
    {
     "data": {
      "text/plain": [
       "<tensorflow.python.keras.callbacks.History at 0x7f853cc363d0>"
      ]
     },
     "execution_count": 83,
     "metadata": {},
     "output_type": "execute_result"
    }
   ],
   "source": [
    "def step_decay(epoch):\n",
    "\tinitial_lr = 0.01\n",
    "\tdrop = 0.5\n",
    "\tepochs_drop = 1\n",
    "\tlr = initial_lr * math.pow(drop, math.floor((1+epoch)/epochs_drop))\n",
    "\treturn lr\n",
    "model.fit(train_batches, \n",
    "          epochs=5, \n",
    "          validation_data=validation_batches, \n",
    "          callbacks=[LearningRateScheduler(step_decay, verbose=1),\n",
    "                    TensorBoard(log_dir='./log_dir')])"
   ]
  },
  {
   "cell_type": "code",
   "execution_count": 84,
   "metadata": {},
   "outputs": [
    {
     "data": {
      "text/plain": [
       "ERROR: Failed to start '/home/hasan/anaconda3/envs/tf' (set by the\n",
       "`TENSORBOARD_BINARY` environment variable): [Errno 13] Permission\n",
       "denied: '/home/hasan/anaconda3/envs/tf'"
      ]
     },
     "metadata": {},
     "output_type": "display_data"
    }
   ],
   "source": [
    "%tensorboard --logdir log_dir"
   ]
  },
  {
   "cell_type": "markdown",
   "metadata": {},
   "source": [
    "[ReduceLROnPlateau](https://keras.io/api/callbacks/reduce_lr_on_plateau/)\n",
    "Reduce learning rate when a metric has stopped improving."
   ]
  },
  {
   "cell_type": "code",
   "execution_count": null,
   "metadata": {},
   "outputs": [
    {
     "name": "stdout",
     "output_type": "stream",
     "text": [
      "Epoch 1/50\n",
      "26/26 [==============================] - 3s 113ms/step - loss: 0.0023 - accuracy: 1.0000 - val_loss: 0.0140 - val_accuracy: 0.9951\n",
      "Epoch 2/50\n",
      "26/26 [==============================] - 3s 112ms/step - loss: 0.0023 - accuracy: 1.0000 - val_loss: 0.0140 - val_accuracy: 0.9951\n",
      "Epoch 3/50\n",
      "26/26 [==============================] - 3s 111ms/step - loss: 0.0023 - accuracy: 1.0000 - val_loss: 0.0140 - val_accuracy: 0.9951\n",
      "Epoch 4/50\n",
      "26/26 [==============================] - 3s 114ms/step - loss: 0.0023 - accuracy: 1.0000 - val_loss: 0.0140 - val_accuracy: 0.9951\n",
      "Epoch 5/50\n",
      "26/26 [==============================] - 3s 111ms/step - loss: 0.0023 - accuracy: 1.0000 - val_loss: 0.0140 - val_accuracy: 0.9951\n",
      "Epoch 6/50\n",
      "26/26 [==============================] - 3s 112ms/step - loss: 0.0023 - accuracy: 1.0000 - val_loss: 0.0140 - val_accuracy: 0.9951\n",
      "Epoch 7/50\n",
      "26/26 [==============================] - 3s 113ms/step - loss: 0.0023 - accuracy: 1.0000 - val_loss: 0.0141 - val_accuracy: 0.9951\n",
      "Epoch 8/50\n",
      "26/26 [==============================] - 3s 113ms/step - loss: 0.0023 - accuracy: 1.0000 - val_loss: 0.0141 - val_accuracy: 0.9951\n",
      "Epoch 9/50\n",
      "26/26 [==============================] - 3s 113ms/step - loss: 0.0023 - accuracy: 1.0000 - val_loss: 0.0141 - val_accuracy: 0.9951\n",
      "Epoch 10/50\n",
      "26/26 [==============================] - 3s 114ms/step - loss: 0.0023 - accuracy: 1.0000 - val_loss: 0.0141 - val_accuracy: 0.9951\n",
      "Epoch 11/50\n",
      "26/26 [==============================] - 3s 111ms/step - loss: 0.0023 - accuracy: 1.0000 - val_loss: 0.0140 - val_accuracy: 0.9951\n",
      "Epoch 12/50\n",
      "26/26 [==============================] - 3s 112ms/step - loss: 0.0023 - accuracy: 1.0000 - val_loss: 0.0140 - val_accuracy: 0.9951\n",
      "Epoch 13/50\n",
      "26/26 [==============================] - 3s 112ms/step - loss: 0.0022 - accuracy: 1.0000 - val_loss: 0.0140 - val_accuracy: 0.9951\n",
      "Epoch 14/50\n",
      "26/26 [==============================] - 3s 112ms/step - loss: 0.0022 - accuracy: 1.0000 - val_loss: 0.0140 - val_accuracy: 0.9951\n",
      "Epoch 15/50\n",
      "26/26 [==============================] - 3s 112ms/step - loss: 0.0022 - accuracy: 1.0000 - val_loss: 0.0140 - val_accuracy: 0.9951\n",
      "Epoch 16/50\n",
      "26/26 [==============================] - 3s 114ms/step - loss: 0.0022 - accuracy: 1.0000 - val_loss: 0.0140 - val_accuracy: 0.9951\n",
      "Epoch 17/50\n",
      "26/26 [==============================] - 3s 112ms/step - loss: 0.0022 - accuracy: 1.0000 - val_loss: 0.0140 - val_accuracy: 0.9951\n",
      "Epoch 18/50\n",
      "26/26 [==============================] - 3s 113ms/step - loss: 0.0022 - accuracy: 1.0000 - val_loss: 0.0140 - val_accuracy: 0.9951\n",
      "Epoch 19/50\n",
      "26/26 [==============================] - 3s 113ms/step - loss: 0.0022 - accuracy: 1.0000 - val_loss: 0.0140 - val_accuracy: 0.9951\n",
      "Epoch 20/50\n",
      "26/26 [==============================] - 3s 115ms/step - loss: 0.0022 - accuracy: 1.0000 - val_loss: 0.0140 - val_accuracy: 0.9951\n",
      "Epoch 21/50\n",
      "26/26 [==============================] - 3s 115ms/step - loss: 0.0022 - accuracy: 1.0000 - val_loss: 0.0140 - val_accuracy: 0.9951\n",
      "Epoch 22/50\n",
      "26/26 [==============================] - 3s 114ms/step - loss: 0.0022 - accuracy: 1.0000 - val_loss: 0.0140 - val_accuracy: 0.9951\n",
      "Epoch 23/50\n",
      "26/26 [==============================] - 3s 113ms/step - loss: 0.0022 - accuracy: 1.0000 - val_loss: 0.0140 - val_accuracy: 0.9951\n",
      "Epoch 24/50\n",
      "26/26 [==============================] - 3s 114ms/step - loss: 0.0022 - accuracy: 1.0000 - val_loss: 0.0140 - val_accuracy: 0.9951\n",
      "Epoch 25/50\n",
      "26/26 [==============================] - 3s 113ms/step - loss: 0.0022 - accuracy: 1.0000 - val_loss: 0.0140 - val_accuracy: 0.9951\n",
      "Epoch 26/50\n",
      "26/26 [==============================] - 3s 119ms/step - loss: 0.0022 - accuracy: 1.0000 - val_loss: 0.0140 - val_accuracy: 0.9951\n",
      "Epoch 27/50\n",
      "26/26 [==============================] - 3s 118ms/step - loss: 0.0022 - accuracy: 1.0000 - val_loss: 0.0140 - val_accuracy: 0.9951\n",
      "Epoch 28/50\n",
      "26/26 [==============================] - 3s 116ms/step - loss: 0.0022 - accuracy: 1.0000 - val_loss: 0.0140 - val_accuracy: 0.9951\n",
      "Epoch 29/50\n",
      "26/26 [==============================] - 3s 122ms/step - loss: 0.0022 - accuracy: 1.0000 - val_loss: 0.0140 - val_accuracy: 0.9951\n",
      "Epoch 30/50\n",
      "26/26 [==============================] - 3s 115ms/step - loss: 0.0022 - accuracy: 1.0000 - val_loss: 0.0140 - val_accuracy: 0.9951\n",
      "Epoch 31/50\n",
      "26/26 [==============================] - 3s 113ms/step - loss: 0.0022 - accuracy: 1.0000 - val_loss: 0.0140 - val_accuracy: 0.9951\n",
      "Epoch 32/50\n",
      "26/26 [==============================] - 3s 114ms/step - loss: 0.0022 - accuracy: 1.0000 - val_loss: 0.0140 - val_accuracy: 0.9951\n",
      "Epoch 33/50\n",
      "26/26 [==============================] - 3s 117ms/step - loss: 0.0022 - accuracy: 1.0000 - val_loss: 0.0140 - val_accuracy: 0.9951\n",
      "Epoch 34/50\n",
      "26/26 [==============================] - 3s 113ms/step - loss: 0.0022 - accuracy: 1.0000 - val_loss: 0.0140 - val_accuracy: 0.9951\n",
      "Epoch 35/50\n",
      "26/26 [==============================] - 3s 110ms/step - loss: 0.0022 - accuracy: 1.0000 - val_loss: 0.0140 - val_accuracy: 0.9951\n",
      "Epoch 36/50\n",
      "26/26 [==============================] - 3s 110ms/step - loss: 0.0022 - accuracy: 1.0000 - val_loss: 0.0140 - val_accuracy: 0.9951\n",
      "Epoch 37/50\n",
      "26/26 [==============================] - 3s 110ms/step - loss: 0.0022 - accuracy: 1.0000 - val_loss: 0.0140 - val_accuracy: 0.9951\n",
      "Epoch 38/50\n",
      "26/26 [==============================] - 3s 111ms/step - loss: 0.0022 - accuracy: 1.0000 - val_loss: 0.0140 - val_accuracy: 0.9951\n",
      "Epoch 39/50\n",
      "26/26 [==============================] - 3s 111ms/step - loss: 0.0022 - accuracy: 1.0000 - val_loss: 0.0140 - val_accuracy: 0.9951\n",
      "Epoch 40/50\n",
      "12/26 [============>.................] - ETA: 1s - loss: 0.0020 - accuracy: 1.0000"
     ]
    }
   ],
   "source": [
    "model.fit(train_batches, \n",
    "          epochs=50, \n",
    "          validation_data=validation_batches, \n",
    "          callbacks=[ReduceLROnPlateau(monitor='val_loss', \n",
    "                                       factor=0.2, verbose=1,\n",
    "                                       patience=1, min_lr=0.001),\n",
    "                     TensorBoard(log_dir='./log_dir')])"
   ]
  },
  {
   "cell_type": "code",
   "execution_count": null,
   "metadata": {},
   "outputs": [],
   "source": []
  }
 ],
 "metadata": {
  "kernelspec": {
   "display_name": "Python 3",
   "language": "python",
   "name": "python3"
  },
  "language_info": {
   "codemirror_mode": {
    "name": "ipython",
    "version": 3
   },
   "file_extension": ".py",
   "mimetype": "text/x-python",
   "name": "python",
   "nbconvert_exporter": "python",
   "pygments_lexer": "ipython3",
   "version": "3.8.5"
  }
 },
 "nbformat": 4,
 "nbformat_minor": 4
}
