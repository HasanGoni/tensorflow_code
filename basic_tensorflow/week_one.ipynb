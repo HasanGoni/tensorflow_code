{
 "cells": [
  {
   "cell_type": "code",
   "execution_count": 25,
   "metadata": {},
   "outputs": [],
   "source": [
    "import tensorflow as tf\n",
    "\n",
    "from tensorflow.python.keras.utils.vis_utils import plot_model\n",
    "\n",
    "import pydot\n",
    "\n",
    "from tensorflow.keras.models import Model"
   ]
  },
  {
   "cell_type": "code",
   "execution_count": 19,
   "metadata": {},
   "outputs": [],
   "source": [
    "def seq_model():\n",
    "    seq_mod = tf.keras.models.Sequential([tf.keras.layers.Flatten(input_shape=(28,28)),\n",
    "                                         tf.keras.layers.Dense(128, activation= tf.nn.relu),\n",
    "                                         tf.keras.layers.Dense(10, activation= tf.nn.softmax)\n",
    "                                         ])\n",
    "    return seq_mod"
   ]
  },
  {
   "cell_type": "code",
   "execution_count": 11,
   "metadata": {},
   "outputs": [],
   "source": [
    "def func_model():\n",
    "    input_layer = tf.keras.Input(shape= (28,28))\n",
    "    \n",
    "    flatten_layer = tf.keras.layers.Flatten()(input_layer)\n",
    "    \n",
    "    first_dense = tf.keras.layers.Dense(128,activation = tf.nn.relu)(flatten_layer)\n",
    "    second_dense = tf.keras.layers.Dense(128, activation = tf.nn.softmax)(first_dense)\n",
    "    \n",
    "    mod = Model(inputs = input_layer, outputs = second_dense)\n",
    "    \n",
    "    return mod"
   ]
  },
  {
   "cell_type": "code",
   "execution_count": 12,
   "metadata": {},
   "outputs": [],
   "source": [
    "modl = func_model()"
   ]
  },
  {
   "cell_type": "code",
   "execution_count": 20,
   "metadata": {},
   "outputs": [],
   "source": [
    "modl_seq = seq_model()"
   ]
  },
  {
   "cell_type": "code",
   "execution_count": 17,
   "metadata": {},
   "outputs": [
    {
     "name": "stdout",
     "output_type": "stream",
     "text": [
      "Model: \"functional_1\"\n",
      "_________________________________________________________________\n",
      "Layer (type)                 Output Shape              Param #   \n",
      "=================================================================\n",
      "input_2 (InputLayer)         [(None, 28, 28)]          0         \n",
      "_________________________________________________________________\n",
      "flatten_1 (Flatten)          (None, 784)               0         \n",
      "_________________________________________________________________\n",
      "dense_2 (Dense)              (None, 128)               100480    \n",
      "_________________________________________________________________\n",
      "dense_3 (Dense)              (None, 128)               16512     \n",
      "=================================================================\n",
      "Total params: 116,992\n",
      "Trainable params: 116,992\n",
      "Non-trainable params: 0\n",
      "_________________________________________________________________\n"
     ]
    }
   ],
   "source": [
    "\n",
    "modl.summary()"
   ]
  },
  {
   "cell_type": "code",
   "execution_count": 21,
   "metadata": {},
   "outputs": [
    {
     "name": "stdout",
     "output_type": "stream",
     "text": [
      "Model: \"sequential_1\"\n",
      "_________________________________________________________________\n",
      "Layer (type)                 Output Shape              Param #   \n",
      "=================================================================\n",
      "flatten_4 (Flatten)          (None, 784)               0         \n",
      "_________________________________________________________________\n",
      "dense_7 (Dense)              (None, 128)               100480    \n",
      "_________________________________________________________________\n",
      "dense_8 (Dense)              (None, 10)                1290      \n",
      "=================================================================\n",
      "Total params: 101,770\n",
      "Trainable params: 101,770\n",
      "Non-trainable params: 0\n",
      "_________________________________________________________________\n"
     ]
    }
   ],
   "source": [
    "modl_seq.summary()"
   ]
  },
  {
   "cell_type": "code",
   "execution_count": 26,
   "metadata": {},
   "outputs": [
    {
     "name": "stdout",
     "output_type": "stream",
     "text": [
      "('Failed to import pydot. You must `pip install pydot` and install graphviz (https://graphviz.gitlab.io/download/), ', 'for `pydotprint` to work.')\n"
     ]
    }
   ],
   "source": [
    "plot_model(modl, show_shapes=True, show_layer_names=True, to_file='model.png')"
   ]
  },
  {
   "cell_type": "code",
   "execution_count": 27,
   "metadata": {},
   "outputs": [
    {
     "name": "stdout",
     "output_type": "stream",
     "text": [
      "Downloading data from https://storage.googleapis.com/tensorflow/tf-keras-datasets/train-labels-idx1-ubyte.gz\n",
      "32768/29515 [=================================] - 0s 1us/step\n",
      "Downloading data from https://storage.googleapis.com/tensorflow/tf-keras-datasets/train-images-idx3-ubyte.gz\n",
      "26427392/26421880 [==============================] - 4s 0us/step\n",
      "Downloading data from https://storage.googleapis.com/tensorflow/tf-keras-datasets/t10k-labels-idx1-ubyte.gz\n",
      "8192/5148 [===============================================] - 0s 0us/step\n",
      "Downloading data from https://storage.googleapis.com/tensorflow/tf-keras-datasets/t10k-images-idx3-ubyte.gz\n",
      "4423680/4422102 [==============================] - 1s 0us/step\n"
     ]
    }
   ],
   "source": [
    "mnist = tf.keras.datasets.fashion_mnist\n",
    "(training_images, training_labels), (test_images, test_labels) = mnist.load_data()\n",
    "training_images = training_images / 255.0\n",
    "test_images = test_images / 255.0"
   ]
  },
  {
   "cell_type": "code",
   "execution_count": 29,
   "metadata": {},
   "outputs": [
    {
     "name": "stdout",
     "output_type": "stream",
     "text": [
      "Epoch 1/2\n",
      "1875/1875 [==============================] - 2s 890us/step - loss: 0.5335 - accuracy: 0.8169\n",
      "Epoch 2/2\n",
      "1875/1875 [==============================] - 2s 896us/step - loss: 0.3873 - accuracy: 0.8609\n",
      "313/313 [==============================] - 0s 486us/step - loss: 0.4070 - accuracy: 0.8538\n"
     ]
    },
    {
     "data": {
      "text/plain": [
       "[0.407044380903244, 0.8537999987602234]"
      ]
     },
     "execution_count": 29,
     "metadata": {},
     "output_type": "execute_result"
    }
   ],
   "source": [
    "# configure, train, and evaluate the model\n",
    "modl.compile(optimizer=tf.optimizers.Adam(),\n",
    "              loss='sparse_categorical_crossentropy',\n",
    "              metrics=['accuracy'])\n",
    "modl.fit(training_images, training_labels, epochs=2)\n",
    "modl.evaluate(test_images, test_labels)"
   ]
  },
  {
   "cell_type": "markdown",
   "metadata": {},
   "source": [
    "## Multi-output Model"
   ]
  },
  {
   "cell_type": "code",
   "execution_count": 30,
   "metadata": {},
   "outputs": [],
   "source": [
    "import numpy as np\n",
    "import pandas as pd\n",
    "import matplotlib.pyplot as plt\n",
    "from pathlib import Path"
   ]
  },
  {
   "cell_type": "code",
   "execution_count": 31,
   "metadata": {},
   "outputs": [],
   "source": [
    "from tensorflow.keras.layers import Dense, Input\n",
    "from sklearn.model_selection import train_test_split"
   ]
  },
  {
   "cell_type": "code",
   "execution_count": 32,
   "metadata": {},
   "outputs": [],
   "source": [
    "# Get the data from UCI dataset\n",
    "URL = 'https://archive.ics.uci.edu/ml/machine-learning-databases/00242/ENB2012_data.xlsx'"
   ]
  },
  {
   "cell_type": "code",
   "execution_count": 33,
   "metadata": {},
   "outputs": [],
   "source": [
    "# Use pandas excel reader\n",
    "df = pd.read_excel(URL)"
   ]
  },
  {
   "cell_type": "code",
   "execution_count": 34,
   "metadata": {},
   "outputs": [
    {
     "data": {
      "text/html": [
       "<div>\n",
       "<style scoped>\n",
       "    .dataframe tbody tr th:only-of-type {\n",
       "        vertical-align: middle;\n",
       "    }\n",
       "\n",
       "    .dataframe tbody tr th {\n",
       "        vertical-align: top;\n",
       "    }\n",
       "\n",
       "    .dataframe thead th {\n",
       "        text-align: right;\n",
       "    }\n",
       "</style>\n",
       "<table border=\"1\" class=\"dataframe\">\n",
       "  <thead>\n",
       "    <tr style=\"text-align: right;\">\n",
       "      <th></th>\n",
       "      <th>X1</th>\n",
       "      <th>X2</th>\n",
       "      <th>X3</th>\n",
       "      <th>X4</th>\n",
       "      <th>X5</th>\n",
       "      <th>X6</th>\n",
       "      <th>X7</th>\n",
       "      <th>X8</th>\n",
       "      <th>Y1</th>\n",
       "      <th>Y2</th>\n",
       "    </tr>\n",
       "  </thead>\n",
       "  <tbody>\n",
       "    <tr>\n",
       "      <th>0</th>\n",
       "      <td>0.98</td>\n",
       "      <td>514.5</td>\n",
       "      <td>294.0</td>\n",
       "      <td>110.25</td>\n",
       "      <td>7.0</td>\n",
       "      <td>2</td>\n",
       "      <td>0.0</td>\n",
       "      <td>0</td>\n",
       "      <td>15.55</td>\n",
       "      <td>21.33</td>\n",
       "    </tr>\n",
       "    <tr>\n",
       "      <th>1</th>\n",
       "      <td>0.98</td>\n",
       "      <td>514.5</td>\n",
       "      <td>294.0</td>\n",
       "      <td>110.25</td>\n",
       "      <td>7.0</td>\n",
       "      <td>3</td>\n",
       "      <td>0.0</td>\n",
       "      <td>0</td>\n",
       "      <td>15.55</td>\n",
       "      <td>21.33</td>\n",
       "    </tr>\n",
       "    <tr>\n",
       "      <th>2</th>\n",
       "      <td>0.98</td>\n",
       "      <td>514.5</td>\n",
       "      <td>294.0</td>\n",
       "      <td>110.25</td>\n",
       "      <td>7.0</td>\n",
       "      <td>4</td>\n",
       "      <td>0.0</td>\n",
       "      <td>0</td>\n",
       "      <td>15.55</td>\n",
       "      <td>21.33</td>\n",
       "    </tr>\n",
       "    <tr>\n",
       "      <th>3</th>\n",
       "      <td>0.98</td>\n",
       "      <td>514.5</td>\n",
       "      <td>294.0</td>\n",
       "      <td>110.25</td>\n",
       "      <td>7.0</td>\n",
       "      <td>5</td>\n",
       "      <td>0.0</td>\n",
       "      <td>0</td>\n",
       "      <td>15.55</td>\n",
       "      <td>21.33</td>\n",
       "    </tr>\n",
       "    <tr>\n",
       "      <th>4</th>\n",
       "      <td>0.90</td>\n",
       "      <td>563.5</td>\n",
       "      <td>318.5</td>\n",
       "      <td>122.50</td>\n",
       "      <td>7.0</td>\n",
       "      <td>2</td>\n",
       "      <td>0.0</td>\n",
       "      <td>0</td>\n",
       "      <td>20.84</td>\n",
       "      <td>28.28</td>\n",
       "    </tr>\n",
       "  </tbody>\n",
       "</table>\n",
       "</div>"
      ],
      "text/plain": [
       "     X1     X2     X3      X4   X5  X6   X7  X8     Y1     Y2\n",
       "0  0.98  514.5  294.0  110.25  7.0   2  0.0   0  15.55  21.33\n",
       "1  0.98  514.5  294.0  110.25  7.0   3  0.0   0  15.55  21.33\n",
       "2  0.98  514.5  294.0  110.25  7.0   4  0.0   0  15.55  21.33\n",
       "3  0.98  514.5  294.0  110.25  7.0   5  0.0   0  15.55  21.33\n",
       "4  0.90  563.5  318.5  122.50  7.0   2  0.0   0  20.84  28.28"
      ]
     },
     "execution_count": 34,
     "metadata": {},
     "output_type": "execute_result"
    }
   ],
   "source": [
    "df.head()"
   ]
  },
  {
   "cell_type": "code",
   "execution_count": 35,
   "metadata": {},
   "outputs": [
    {
     "data": {
      "text/plain": [
       "(768, 10)"
      ]
     },
     "execution_count": 35,
     "metadata": {},
     "output_type": "execute_result"
    }
   ],
   "source": [
    "df.shape"
   ]
  },
  {
   "cell_type": "markdown",
   "metadata": {},
   "source": [
    "### Now sampling a small amount of data as the goal is not actully creating actual model but how this things work "
   ]
  },
  {
   "cell_type": "code",
   "execution_count": 36,
   "metadata": {},
   "outputs": [],
   "source": [
    "df = df.sample(frac=0.1).reset_index(drop =True )"
   ]
  },
  {
   "cell_type": "code",
   "execution_count": 37,
   "metadata": {},
   "outputs": [],
   "source": [
    "train, test = train_test_split(df, test_size = 0.2)"
   ]
  },
  {
   "cell_type": "code",
   "execution_count": 39,
   "metadata": {},
   "outputs": [
    {
     "data": {
      "text/html": [
       "<div>\n",
       "<style scoped>\n",
       "    .dataframe tbody tr th:only-of-type {\n",
       "        vertical-align: middle;\n",
       "    }\n",
       "\n",
       "    .dataframe tbody tr th {\n",
       "        vertical-align: top;\n",
       "    }\n",
       "\n",
       "    .dataframe thead th {\n",
       "        text-align: right;\n",
       "    }\n",
       "</style>\n",
       "<table border=\"1\" class=\"dataframe\">\n",
       "  <thead>\n",
       "    <tr style=\"text-align: right;\">\n",
       "      <th></th>\n",
       "      <th>X1</th>\n",
       "      <th>X2</th>\n",
       "      <th>X3</th>\n",
       "      <th>X4</th>\n",
       "      <th>X5</th>\n",
       "      <th>X6</th>\n",
       "      <th>X7</th>\n",
       "      <th>X8</th>\n",
       "      <th>Y1</th>\n",
       "      <th>Y2</th>\n",
       "    </tr>\n",
       "  </thead>\n",
       "  <tbody>\n",
       "    <tr>\n",
       "      <th>18</th>\n",
       "      <td>0.74</td>\n",
       "      <td>686.0</td>\n",
       "      <td>245.0</td>\n",
       "      <td>220.5</td>\n",
       "      <td>3.5</td>\n",
       "      <td>2</td>\n",
       "      <td>0.25</td>\n",
       "      <td>1</td>\n",
       "      <td>12.43</td>\n",
       "      <td>15.19</td>\n",
       "    </tr>\n",
       "    <tr>\n",
       "      <th>32</th>\n",
       "      <td>0.79</td>\n",
       "      <td>637.0</td>\n",
       "      <td>343.0</td>\n",
       "      <td>147.0</td>\n",
       "      <td>7.0</td>\n",
       "      <td>4</td>\n",
       "      <td>0.40</td>\n",
       "      <td>3</td>\n",
       "      <td>42.49</td>\n",
       "      <td>38.81</td>\n",
       "    </tr>\n",
       "    <tr>\n",
       "      <th>45</th>\n",
       "      <td>0.62</td>\n",
       "      <td>808.5</td>\n",
       "      <td>367.5</td>\n",
       "      <td>220.5</td>\n",
       "      <td>3.5</td>\n",
       "      <td>3</td>\n",
       "      <td>0.25</td>\n",
       "      <td>4</td>\n",
       "      <td>14.61</td>\n",
       "      <td>15.56</td>\n",
       "    </tr>\n",
       "    <tr>\n",
       "      <th>51</th>\n",
       "      <td>0.62</td>\n",
       "      <td>808.5</td>\n",
       "      <td>367.5</td>\n",
       "      <td>220.5</td>\n",
       "      <td>3.5</td>\n",
       "      <td>4</td>\n",
       "      <td>0.10</td>\n",
       "      <td>5</td>\n",
       "      <td>12.80</td>\n",
       "      <td>13.99</td>\n",
       "    </tr>\n",
       "    <tr>\n",
       "      <th>5</th>\n",
       "      <td>0.71</td>\n",
       "      <td>710.5</td>\n",
       "      <td>269.5</td>\n",
       "      <td>220.5</td>\n",
       "      <td>3.5</td>\n",
       "      <td>3</td>\n",
       "      <td>0.40</td>\n",
       "      <td>2</td>\n",
       "      <td>14.66</td>\n",
       "      <td>17.37</td>\n",
       "    </tr>\n",
       "  </tbody>\n",
       "</table>\n",
       "</div>"
      ],
      "text/plain": [
       "      X1     X2     X3     X4   X5  X6    X7  X8     Y1     Y2\n",
       "18  0.74  686.0  245.0  220.5  3.5   2  0.25   1  12.43  15.19\n",
       "32  0.79  637.0  343.0  147.0  7.0   4  0.40   3  42.49  38.81\n",
       "45  0.62  808.5  367.5  220.5  3.5   3  0.25   4  14.61  15.56\n",
       "51  0.62  808.5  367.5  220.5  3.5   4  0.10   5  12.80  13.99\n",
       "5   0.71  710.5  269.5  220.5  3.5   3  0.40   2  14.66  17.37"
      ]
     },
     "execution_count": 39,
     "metadata": {},
     "output_type": "execute_result"
    }
   ],
   "source": [
    "train.head()"
   ]
  },
  {
   "cell_type": "code",
   "execution_count": 43,
   "metadata": {},
   "outputs": [],
   "source": [
    "train_stats = train.describe()"
   ]
  },
  {
   "cell_type": "code",
   "execution_count": 44,
   "metadata": {},
   "outputs": [
    {
     "data": {
      "text/html": [
       "<div>\n",
       "<style scoped>\n",
       "    .dataframe tbody tr th:only-of-type {\n",
       "        vertical-align: middle;\n",
       "    }\n",
       "\n",
       "    .dataframe tbody tr th {\n",
       "        vertical-align: top;\n",
       "    }\n",
       "\n",
       "    .dataframe thead th {\n",
       "        text-align: right;\n",
       "    }\n",
       "</style>\n",
       "<table border=\"1\" class=\"dataframe\">\n",
       "  <thead>\n",
       "    <tr style=\"text-align: right;\">\n",
       "      <th></th>\n",
       "      <th>X1</th>\n",
       "      <th>X2</th>\n",
       "      <th>X3</th>\n",
       "      <th>X4</th>\n",
       "      <th>X5</th>\n",
       "      <th>X6</th>\n",
       "      <th>X7</th>\n",
       "      <th>X8</th>\n",
       "      <th>Y1</th>\n",
       "      <th>Y2</th>\n",
       "    </tr>\n",
       "  </thead>\n",
       "  <tbody>\n",
       "    <tr>\n",
       "      <th>count</th>\n",
       "      <td>61.000000</td>\n",
       "      <td>61.000000</td>\n",
       "      <td>61.000000</td>\n",
       "      <td>61.000000</td>\n",
       "      <td>61.000000</td>\n",
       "      <td>61.000000</td>\n",
       "      <td>61.000000</td>\n",
       "      <td>61.000000</td>\n",
       "      <td>61.000000</td>\n",
       "      <td>61.000000</td>\n",
       "    </tr>\n",
       "    <tr>\n",
       "      <th>mean</th>\n",
       "      <td>0.753934</td>\n",
       "      <td>681.581967</td>\n",
       "      <td>310.065574</td>\n",
       "      <td>185.758197</td>\n",
       "      <td>4.877049</td>\n",
       "      <td>3.590164</td>\n",
       "      <td>0.216393</td>\n",
       "      <td>3.065574</td>\n",
       "      <td>19.660492</td>\n",
       "      <td>21.841967</td>\n",
       "    </tr>\n",
       "    <tr>\n",
       "      <th>std</th>\n",
       "      <td>0.107816</td>\n",
       "      <td>89.852805</td>\n",
       "      <td>39.728608</td>\n",
       "      <td>44.572739</td>\n",
       "      <td>1.723987</td>\n",
       "      <td>1.131033</td>\n",
       "      <td>0.129975</td>\n",
       "      <td>1.662015</td>\n",
       "      <td>9.377109</td>\n",
       "      <td>8.770438</td>\n",
       "    </tr>\n",
       "    <tr>\n",
       "      <th>min</th>\n",
       "      <td>0.620000</td>\n",
       "      <td>514.500000</td>\n",
       "      <td>245.000000</td>\n",
       "      <td>110.250000</td>\n",
       "      <td>3.500000</td>\n",
       "      <td>2.000000</td>\n",
       "      <td>0.000000</td>\n",
       "      <td>0.000000</td>\n",
       "      <td>6.040000</td>\n",
       "      <td>10.900000</td>\n",
       "    </tr>\n",
       "    <tr>\n",
       "      <th>25%</th>\n",
       "      <td>0.660000</td>\n",
       "      <td>612.500000</td>\n",
       "      <td>294.000000</td>\n",
       "      <td>147.000000</td>\n",
       "      <td>3.500000</td>\n",
       "      <td>3.000000</td>\n",
       "      <td>0.100000</td>\n",
       "      <td>2.000000</td>\n",
       "      <td>12.670000</td>\n",
       "      <td>14.970000</td>\n",
       "    </tr>\n",
       "    <tr>\n",
       "      <th>50%</th>\n",
       "      <td>0.740000</td>\n",
       "      <td>686.000000</td>\n",
       "      <td>318.500000</td>\n",
       "      <td>220.500000</td>\n",
       "      <td>3.500000</td>\n",
       "      <td>4.000000</td>\n",
       "      <td>0.250000</td>\n",
       "      <td>3.000000</td>\n",
       "      <td>15.230000</td>\n",
       "      <td>17.850000</td>\n",
       "    </tr>\n",
       "    <tr>\n",
       "      <th>75%</th>\n",
       "      <td>0.820000</td>\n",
       "      <td>759.500000</td>\n",
       "      <td>343.000000</td>\n",
       "      <td>220.500000</td>\n",
       "      <td>7.000000</td>\n",
       "      <td>5.000000</td>\n",
       "      <td>0.250000</td>\n",
       "      <td>5.000000</td>\n",
       "      <td>26.460000</td>\n",
       "      <td>27.340000</td>\n",
       "    </tr>\n",
       "    <tr>\n",
       "      <th>max</th>\n",
       "      <td>0.980000</td>\n",
       "      <td>808.500000</td>\n",
       "      <td>416.500000</td>\n",
       "      <td>220.500000</td>\n",
       "      <td>7.000000</td>\n",
       "      <td>5.000000</td>\n",
       "      <td>0.400000</td>\n",
       "      <td>5.000000</td>\n",
       "      <td>42.490000</td>\n",
       "      <td>47.010000</td>\n",
       "    </tr>\n",
       "  </tbody>\n",
       "</table>\n",
       "</div>"
      ],
      "text/plain": [
       "              X1          X2          X3          X4         X5         X6  \\\n",
       "count  61.000000   61.000000   61.000000   61.000000  61.000000  61.000000   \n",
       "mean    0.753934  681.581967  310.065574  185.758197   4.877049   3.590164   \n",
       "std     0.107816   89.852805   39.728608   44.572739   1.723987   1.131033   \n",
       "min     0.620000  514.500000  245.000000  110.250000   3.500000   2.000000   \n",
       "25%     0.660000  612.500000  294.000000  147.000000   3.500000   3.000000   \n",
       "50%     0.740000  686.000000  318.500000  220.500000   3.500000   4.000000   \n",
       "75%     0.820000  759.500000  343.000000  220.500000   7.000000   5.000000   \n",
       "max     0.980000  808.500000  416.500000  220.500000   7.000000   5.000000   \n",
       "\n",
       "              X7         X8         Y1         Y2  \n",
       "count  61.000000  61.000000  61.000000  61.000000  \n",
       "mean    0.216393   3.065574  19.660492  21.841967  \n",
       "std     0.129975   1.662015   9.377109   8.770438  \n",
       "min     0.000000   0.000000   6.040000  10.900000  \n",
       "25%     0.100000   2.000000  12.670000  14.970000  \n",
       "50%     0.250000   3.000000  15.230000  17.850000  \n",
       "75%     0.250000   5.000000  26.460000  27.340000  \n",
       "max     0.400000   5.000000  42.490000  47.010000  "
      ]
     },
     "execution_count": 44,
     "metadata": {},
     "output_type": "execute_result"
    }
   ],
   "source": [
    "train_stats"
   ]
  },
  {
   "cell_type": "code",
   "execution_count": null,
   "metadata": {},
   "outputs": [],
   "source": [
    "train_stats.pop('Y1')"
   ]
  },
  {
   "cell_type": "code",
   "execution_count": 48,
   "metadata": {},
   "outputs": [
    {
     "data": {
      "text/plain": [
       "count    61.000000\n",
       "mean     21.841967\n",
       "std       8.770438\n",
       "min      10.900000\n",
       "25%      14.970000\n",
       "50%      17.850000\n",
       "75%      27.340000\n",
       "max      47.010000\n",
       "Name: Y2, dtype: float64"
      ]
     },
     "execution_count": 48,
     "metadata": {},
     "output_type": "execute_result"
    }
   ],
   "source": [
    "train_stats.pop('Y2')"
   ]
  },
  {
   "cell_type": "code",
   "execution_count": 51,
   "metadata": {},
   "outputs": [],
   "source": [
    "train_stats = train_stats.transpose()"
   ]
  },
  {
   "cell_type": "code",
   "execution_count": 52,
   "metadata": {},
   "outputs": [],
   "source": [
    "def format_output(data):\n",
    "    y1 = data.pop('Y1')\n",
    "    y1 = np.array(y1)\n",
    "    y2 = data.pop('Y2')\n",
    "    y2 = np.array(y2)\n",
    "    return y1, y2"
   ]
  },
  {
   "cell_type": "code",
   "execution_count": 53,
   "metadata": {},
   "outputs": [],
   "source": [
    "def norm(x):\n",
    "    return (x - train_stats['mean']) / train_stats['std']"
   ]
  },
  {
   "cell_type": "code",
   "execution_count": 54,
   "metadata": {},
   "outputs": [],
   "source": [
    "train_Y = format_output(train)\n",
    "test_Y = format_output(test)"
   ]
  },
  {
   "cell_type": "code",
   "execution_count": 55,
   "metadata": {},
   "outputs": [],
   "source": [
    "norm_train_X = norm(train)\n",
    "norm_test_X = norm(test)"
   ]
  },
  {
   "cell_type": "markdown",
   "metadata": {},
   "source": [
    "### model"
   ]
  },
  {
   "cell_type": "code",
   "execution_count": 60,
   "metadata": {},
   "outputs": [],
   "source": [
    "input_model = Input(shape =(len(train.columns),))\n",
    "first_layer = Dense(units='128', activation ='relu')(input_model)\n",
    "\n",
    "second_layer = Dense(units='128', activation ='relu')(first_layer)\n",
    "\n",
    "\n",
    "\n",
    "#first_output\n",
    "y1 = Dense(units='1', name = 'y1')(second_layer)\n",
    "\n",
    "#before second output another layer is added\n",
    "third_layer = Dense(units = '64', activation = 'relu')(second_layer)\n",
    "#second output\n",
    "\n",
    "y2 = Dense(units='1', name='y2')(third_layer)\n",
    "\n",
    "\n",
    "model = Model(inputs = input_model, outputs = [y1, y2])"
   ]
  },
  {
   "cell_type": "code",
   "execution_count": 61,
   "metadata": {},
   "outputs": [
    {
     "name": "stdout",
     "output_type": "stream",
     "text": [
      "Model: \"functional_3\"\n",
      "__________________________________________________________________________________________________\n",
      "Layer (type)                    Output Shape         Param #     Connected to                     \n",
      "==================================================================================================\n",
      "input_6 (InputLayer)            [(None, 8)]          0                                            \n",
      "__________________________________________________________________________________________________\n",
      "dense_17 (Dense)                (None, 128)          1152        input_6[0][0]                    \n",
      "__________________________________________________________________________________________________\n",
      "dense_18 (Dense)                (None, 128)          16512       dense_17[0][0]                   \n",
      "__________________________________________________________________________________________________\n",
      "dense_19 (Dense)                (None, 64)           8256        dense_18[0][0]                   \n",
      "__________________________________________________________________________________________________\n",
      "y1 (Dense)                      (None, 1)            129         dense_18[0][0]                   \n",
      "__________________________________________________________________________________________________\n",
      "y2 (Dense)                      (None, 1)            65          dense_19[0][0]                   \n",
      "==================================================================================================\n",
      "Total params: 26,114\n",
      "Trainable params: 26,114\n",
      "Non-trainable params: 0\n",
      "__________________________________________________________________________________________________\n",
      "None\n"
     ]
    }
   ],
   "source": [
    "print(model.summary())"
   ]
  },
  {
   "cell_type": "code",
   "execution_count": 64,
   "metadata": {},
   "outputs": [],
   "source": [
    "# Specify the optimizer, and compile the model with loss functions for both outputs\n",
    "optimizer = tf.keras.optimizers.SGD(lr=0.001)\n",
    "model.compile(optimizer=optimizer,\n",
    "              loss={'y1': 'mse', 'y2': 'mse'},\n",
    "              metrics={'y1': tf.keras.metrics.RootMeanSquaredError(),\n",
    "                       'y2': tf.keras.metrics.RootMeanSquaredError()})"
   ]
  },
  {
   "cell_type": "code",
   "execution_count": 65,
   "metadata": {},
   "outputs": [
    {
     "name": "stdout",
     "output_type": "stream",
     "text": [
      "Epoch 1/500\n",
      "7/7 [==============================] - 0s 13ms/step - loss: 963.7947 - y1_loss: 451.5571 - y2_loss: 512.2377 - y1_root_mean_squared_error: 21.2499 - y2_root_mean_squared_error: 22.6327 - val_loss: 818.3152 - val_y1_loss: 411.7479 - val_y2_loss: 406.5672 - val_y1_root_mean_squared_error: 20.2916 - val_y2_root_mean_squared_error: 20.1635\n",
      "Epoch 2/500\n",
      "7/7 [==============================] - 0s 3ms/step - loss: 450.6280 - y1_loss: 271.3432 - y2_loss: 179.2847 - y1_root_mean_squared_error: 16.4725 - y2_root_mean_squared_error: 13.3897 - val_loss: 135.7828 - val_y1_loss: 85.4278 - val_y2_loss: 50.3549 - val_y1_root_mean_squared_error: 9.2427 - val_y2_root_mean_squared_error: 7.0961\n",
      "Epoch 3/500\n",
      "7/7 [==============================] - 0s 3ms/step - loss: 105.5974 - y1_loss: 62.0584 - y2_loss: 43.5390 - y1_root_mean_squared_error: 7.8777 - y2_root_mean_squared_error: 6.5984 - val_loss: 403.5345 - val_y1_loss: 111.4903 - val_y2_loss: 292.0443 - val_y1_root_mean_squared_error: 10.5589 - val_y2_root_mean_squared_error: 17.0893\n",
      "Epoch 4/500\n",
      "7/7 [==============================] - 0s 2ms/step - loss: 130.2786 - y1_loss: 48.2030 - y2_loss: 82.0755 - y1_root_mean_squared_error: 6.9428 - y2_root_mean_squared_error: 9.0596 - val_loss: 17.0125 - val_y1_loss: 7.9199 - val_y2_loss: 9.0925 - val_y1_root_mean_squared_error: 2.8142 - val_y2_root_mean_squared_error: 3.0154\n",
      "Epoch 5/500\n",
      "7/7 [==============================] - 0s 2ms/step - loss: 39.4643 - y1_loss: 17.1240 - y2_loss: 22.3403 - y1_root_mean_squared_error: 4.1381 - y2_root_mean_squared_error: 4.7266 - val_loss: 351.7198 - val_y1_loss: 86.0631 - val_y2_loss: 265.6567 - val_y1_root_mean_squared_error: 9.2770 - val_y2_root_mean_squared_error: 16.2990\n",
      "Epoch 6/500\n",
      "7/7 [==============================] - 0s 2ms/step - loss: 126.7620 - y1_loss: 43.6079 - y2_loss: 83.1541 - y1_root_mean_squared_error: 6.6036 - y2_root_mean_squared_error: 9.1189 - val_loss: 401.8888 - val_y1_loss: 163.1725 - val_y2_loss: 238.7162 - val_y1_root_mean_squared_error: 12.7739 - val_y2_root_mean_squared_error: 15.4504\n",
      "Epoch 7/500\n",
      "7/7 [==============================] - 0s 2ms/step - loss: 57.3564 - y1_loss: 23.1211 - y2_loss: 34.2354 - y1_root_mean_squared_error: 4.8084 - y2_root_mean_squared_error: 5.8511 - val_loss: 30.8157 - val_y1_loss: 11.7755 - val_y2_loss: 19.0403 - val_y1_root_mean_squared_error: 3.4315 - val_y2_root_mean_squared_error: 4.3635\n",
      "Epoch 8/500\n",
      "7/7 [==============================] - 0s 2ms/step - loss: 22.8309 - y1_loss: 10.3846 - y2_loss: 12.4463 - y1_root_mean_squared_error: 3.2225 - y2_root_mean_squared_error: 3.5279 - val_loss: 27.0237 - val_y1_loss: 14.3613 - val_y2_loss: 12.6624 - val_y1_root_mean_squared_error: 3.7896 - val_y2_root_mean_squared_error: 3.5584\n",
      "Epoch 9/500\n",
      "7/7 [==============================] - 0s 2ms/step - loss: 26.6252 - y1_loss: 11.7704 - y2_loss: 14.8548 - y1_root_mean_squared_error: 3.4308 - y2_root_mean_squared_error: 3.8542 - val_loss: 1844.5938 - val_y1_loss: 251.4054 - val_y2_loss: 1593.1884 - val_y1_root_mean_squared_error: 15.8558 - val_y2_root_mean_squared_error: 39.9148\n",
      "Epoch 10/500\n",
      "7/7 [==============================] - 0s 2ms/step - loss: 772.5646 - y1_loss: 139.9357 - y2_loss: 632.6288 - y1_root_mean_squared_error: 11.8294 - y2_root_mean_squared_error: 25.1521 - val_loss: 613.5146 - val_y1_loss: 67.5195 - val_y2_loss: 545.9952 - val_y1_root_mean_squared_error: 8.2170 - val_y2_root_mean_squared_error: 23.3665\n",
      "Epoch 11/500\n",
      "7/7 [==============================] - 0s 2ms/step - loss: 350.6530 - y1_loss: 34.7077 - y2_loss: 315.9452 - y1_root_mean_squared_error: 5.8913 - y2_root_mean_squared_error: 17.7748 - val_loss: 55.1813 - val_y1_loss: 16.1871 - val_y2_loss: 38.9942 - val_y1_root_mean_squared_error: 4.0233 - val_y2_root_mean_squared_error: 6.2445\n",
      "Epoch 12/500\n",
      "7/7 [==============================] - 0s 2ms/step - loss: 41.9543 - y1_loss: 17.0196 - y2_loss: 24.9347 - y1_root_mean_squared_error: 4.1255 - y2_root_mean_squared_error: 4.9935 - val_loss: 426.5746 - val_y1_loss: 131.0295 - val_y2_loss: 295.5451 - val_y1_root_mean_squared_error: 11.4468 - val_y2_root_mean_squared_error: 17.1914\n",
      "Epoch 13/500\n",
      "7/7 [==============================] - 0s 3ms/step - loss: 66.6312 - y1_loss: 19.9462 - y2_loss: 46.6850 - y1_root_mean_squared_error: 4.4661 - y2_root_mean_squared_error: 6.8326 - val_loss: 15.7491 - val_y1_loss: 6.0675 - val_y2_loss: 9.6816 - val_y1_root_mean_squared_error: 2.4632 - val_y2_root_mean_squared_error: 3.1115\n",
      "Epoch 14/500\n",
      "7/7 [==============================] - 0s 3ms/step - loss: 19.2964 - y1_loss: 8.0380 - y2_loss: 11.2584 - y1_root_mean_squared_error: 2.8351 - y2_root_mean_squared_error: 3.3554 - val_loss: 17.6763 - val_y1_loss: 4.2741 - val_y2_loss: 13.4022 - val_y1_root_mean_squared_error: 2.0674 - val_y2_root_mean_squared_error: 3.6609\n",
      "Epoch 15/500\n",
      "7/7 [==============================] - 0s 3ms/step - loss: 19.7492 - y1_loss: 7.7822 - y2_loss: 11.9670 - y1_root_mean_squared_error: 2.7897 - y2_root_mean_squared_error: 3.4593 - val_loss: 14.5994 - val_y1_loss: 3.9448 - val_y2_loss: 10.6546 - val_y1_root_mean_squared_error: 1.9861 - val_y2_root_mean_squared_error: 3.2641\n",
      "Epoch 16/500\n",
      "7/7 [==============================] - 0s 2ms/step - loss: 21.4875 - y1_loss: 8.3267 - y2_loss: 13.1608 - y1_root_mean_squared_error: 2.8856 - y2_root_mean_squared_error: 3.6278 - val_loss: 84.7575 - val_y1_loss: 33.0318 - val_y2_loss: 51.7257 - val_y1_root_mean_squared_error: 5.7473 - val_y2_root_mean_squared_error: 7.1921\n",
      "Epoch 17/500\n",
      "7/7 [==============================] - 0s 3ms/step - loss: 34.0142 - y1_loss: 9.0108 - y2_loss: 25.0034 - y1_root_mean_squared_error: 3.0018 - y2_root_mean_squared_error: 5.0003 - val_loss: 16.7098 - val_y1_loss: 6.3260 - val_y2_loss: 10.3838 - val_y1_root_mean_squared_error: 2.5152 - val_y2_root_mean_squared_error: 3.2224\n",
      "Epoch 18/500\n",
      "7/7 [==============================] - 0s 2ms/step - loss: 17.2156 - y1_loss: 6.6667 - y2_loss: 10.5489 - y1_root_mean_squared_error: 2.5820 - y2_root_mean_squared_error: 3.2479 - val_loss: 18.3078 - val_y1_loss: 8.0093 - val_y2_loss: 10.2984 - val_y1_root_mean_squared_error: 2.8301 - val_y2_root_mean_squared_error: 3.2091\n",
      "Epoch 19/500\n",
      "7/7 [==============================] - 0s 3ms/step - loss: 16.3308 - y1_loss: 6.1651 - y2_loss: 10.1657 - y1_root_mean_squared_error: 2.4830 - y2_root_mean_squared_error: 3.1884 - val_loss: 15.9103 - val_y1_loss: 2.9016 - val_y2_loss: 13.0087 - val_y1_root_mean_squared_error: 1.7034 - val_y2_root_mean_squared_error: 3.6068\n",
      "Epoch 20/500\n",
      "7/7 [==============================] - 0s 2ms/step - loss: 22.5399 - y1_loss: 7.5044 - y2_loss: 15.0354 - y1_root_mean_squared_error: 2.7394 - y2_root_mean_squared_error: 3.8776 - val_loss: 9.0531 - val_y1_loss: 3.0615 - val_y2_loss: 5.9915 - val_y1_root_mean_squared_error: 1.7497 - val_y2_root_mean_squared_error: 2.4478\n",
      "Epoch 21/500\n",
      "7/7 [==============================] - 0s 2ms/step - loss: 13.8725 - y1_loss: 5.7110 - y2_loss: 8.1616 - y1_root_mean_squared_error: 2.3898 - y2_root_mean_squared_error: 2.8568 - val_loss: 47.1460 - val_y1_loss: 19.1374 - val_y2_loss: 28.0086 - val_y1_root_mean_squared_error: 4.3746 - val_y2_root_mean_squared_error: 5.2923\n",
      "Epoch 22/500\n",
      "7/7 [==============================] - 0s 3ms/step - loss: 27.6761 - y1_loss: 9.7251 - y2_loss: 17.9510 - y1_root_mean_squared_error: 3.1185 - y2_root_mean_squared_error: 4.2369 - val_loss: 21.0087 - val_y1_loss: 5.6847 - val_y2_loss: 15.3240 - val_y1_root_mean_squared_error: 2.3843 - val_y2_root_mean_squared_error: 3.9146\n",
      "Epoch 23/500\n",
      "7/7 [==============================] - 0s 2ms/step - loss: 22.1534 - y1_loss: 7.6135 - y2_loss: 14.5399 - y1_root_mean_squared_error: 2.7593 - y2_root_mean_squared_error: 3.8131 - val_loss: 70.9964 - val_y1_loss: 6.4080 - val_y2_loss: 64.5884 - val_y1_root_mean_squared_error: 2.5314 - val_y2_root_mean_squared_error: 8.0367\n",
      "Epoch 24/500\n",
      "7/7 [==============================] - 0s 2ms/step - loss: 33.1075 - y1_loss: 8.6594 - y2_loss: 24.4481 - y1_root_mean_squared_error: 2.9427 - y2_root_mean_squared_error: 4.9445 - val_loss: 15.6495 - val_y1_loss: 2.4952 - val_y2_loss: 13.1543 - val_y1_root_mean_squared_error: 1.5796 - val_y2_root_mean_squared_error: 3.6269\n",
      "Epoch 25/500\n"
     ]
    },
    {
     "name": "stdout",
     "output_type": "stream",
     "text": [
      "7/7 [==============================] - 0s 2ms/step - loss: 14.8286 - y1_loss: 5.8287 - y2_loss: 8.9999 - y1_root_mean_squared_error: 2.4143 - y2_root_mean_squared_error: 3.0000 - val_loss: 30.4327 - val_y1_loss: 12.5333 - val_y2_loss: 17.8994 - val_y1_root_mean_squared_error: 3.5402 - val_y2_root_mean_squared_error: 4.2308\n",
      "Epoch 26/500\n",
      "7/7 [==============================] - 0s 2ms/step - loss: 19.8226 - y1_loss: 7.6479 - y2_loss: 12.1747 - y1_root_mean_squared_error: 2.7655 - y2_root_mean_squared_error: 3.4892 - val_loss: 11.5962 - val_y1_loss: 3.5110 - val_y2_loss: 8.0851 - val_y1_root_mean_squared_error: 1.8738 - val_y2_root_mean_squared_error: 2.8434\n",
      "Epoch 27/500\n",
      "7/7 [==============================] - 0s 3ms/step - loss: 18.0438 - y1_loss: 6.3803 - y2_loss: 11.6635 - y1_root_mean_squared_error: 2.5259 - y2_root_mean_squared_error: 3.4152 - val_loss: 16.6517 - val_y1_loss: 3.1774 - val_y2_loss: 13.4743 - val_y1_root_mean_squared_error: 1.7825 - val_y2_root_mean_squared_error: 3.6707\n",
      "Epoch 28/500\n",
      "7/7 [==============================] - 0s 2ms/step - loss: 14.3584 - y1_loss: 5.2001 - y2_loss: 9.1583 - y1_root_mean_squared_error: 2.2804 - y2_root_mean_squared_error: 3.0263 - val_loss: 14.0547 - val_y1_loss: 4.4252 - val_y2_loss: 9.6295 - val_y1_root_mean_squared_error: 2.1036 - val_y2_root_mean_squared_error: 3.1031\n",
      "Epoch 29/500\n",
      "7/7 [==============================] - 0s 3ms/step - loss: 18.3295 - y1_loss: 6.1904 - y2_loss: 12.1390 - y1_root_mean_squared_error: 2.4881 - y2_root_mean_squared_error: 3.4841 - val_loss: 11.2150 - val_y1_loss: 2.8268 - val_y2_loss: 8.3882 - val_y1_root_mean_squared_error: 1.6813 - val_y2_root_mean_squared_error: 2.8962\n",
      "Epoch 30/500\n",
      "7/7 [==============================] - 0s 2ms/step - loss: 12.8649 - y1_loss: 5.0838 - y2_loss: 7.7812 - y1_root_mean_squared_error: 2.2547 - y2_root_mean_squared_error: 2.7895 - val_loss: 66.4793 - val_y1_loss: 21.3366 - val_y2_loss: 45.1427 - val_y1_root_mean_squared_error: 4.6192 - val_y2_root_mean_squared_error: 6.7188\n",
      "Epoch 31/500\n",
      "7/7 [==============================] - 0s 3ms/step - loss: 28.2233 - y1_loss: 7.4952 - y2_loss: 20.7282 - y1_root_mean_squared_error: 2.7377 - y2_root_mean_squared_error: 4.5528 - val_loss: 13.1028 - val_y1_loss: 3.1330 - val_y2_loss: 9.9698 - val_y1_root_mean_squared_error: 1.7700 - val_y2_root_mean_squared_error: 3.1575\n",
      "Epoch 32/500\n",
      "7/7 [==============================] - 0s 3ms/step - loss: 13.7560 - y1_loss: 5.3839 - y2_loss: 8.3721 - y1_root_mean_squared_error: 2.3203 - y2_root_mean_squared_error: 2.8935 - val_loss: 9.2503 - val_y1_loss: 3.5504 - val_y2_loss: 5.6999 - val_y1_root_mean_squared_error: 1.8842 - val_y2_root_mean_squared_error: 2.3875\n",
      "Epoch 33/500\n",
      "7/7 [==============================] - 0s 3ms/step - loss: 13.5440 - y1_loss: 4.7623 - y2_loss: 8.7817 - y1_root_mean_squared_error: 2.1823 - y2_root_mean_squared_error: 2.9634 - val_loss: 20.6290 - val_y1_loss: 2.2393 - val_y2_loss: 18.3897 - val_y1_root_mean_squared_error: 1.4964 - val_y2_root_mean_squared_error: 4.2883\n",
      "Epoch 34/500\n",
      "7/7 [==============================] - 0s 2ms/step - loss: 13.6494 - y1_loss: 4.5918 - y2_loss: 9.0575 - y1_root_mean_squared_error: 2.1429 - y2_root_mean_squared_error: 3.0096 - val_loss: 7.1522 - val_y1_loss: 1.5618 - val_y2_loss: 5.5904 - val_y1_root_mean_squared_error: 1.2497 - val_y2_root_mean_squared_error: 2.3644\n",
      "Epoch 35/500\n",
      "7/7 [==============================] - 0s 2ms/step - loss: 10.8978 - y1_loss: 3.9178 - y2_loss: 6.9800 - y1_root_mean_squared_error: 1.9793 - y2_root_mean_squared_error: 2.6420 - val_loss: 8.5657 - val_y1_loss: 3.0792 - val_y2_loss: 5.4864 - val_y1_root_mean_squared_error: 1.7548 - val_y2_root_mean_squared_error: 2.3423\n",
      "Epoch 36/500\n",
      "7/7 [==============================] - 0s 2ms/step - loss: 11.1930 - y1_loss: 4.0825 - y2_loss: 7.1105 - y1_root_mean_squared_error: 2.0205 - y2_root_mean_squared_error: 2.6666 - val_loss: 103.5004 - val_y1_loss: 22.7302 - val_y2_loss: 80.7702 - val_y1_root_mean_squared_error: 4.7676 - val_y2_root_mean_squared_error: 8.9872\n",
      "Epoch 37/500\n",
      "7/7 [==============================] - 0s 3ms/step - loss: 30.2477 - y1_loss: 8.3940 - y2_loss: 21.8537 - y1_root_mean_squared_error: 2.8972 - y2_root_mean_squared_error: 4.6748 - val_loss: 12.5614 - val_y1_loss: 4.8741 - val_y2_loss: 7.6874 - val_y1_root_mean_squared_error: 2.2077 - val_y2_root_mean_squared_error: 2.7726\n",
      "Epoch 38/500\n",
      "7/7 [==============================] - 0s 2ms/step - loss: 14.4958 - y1_loss: 5.2280 - y2_loss: 9.2677 - y1_root_mean_squared_error: 2.2865 - y2_root_mean_squared_error: 3.0443 - val_loss: 61.4298 - val_y1_loss: 21.8621 - val_y2_loss: 39.5677 - val_y1_root_mean_squared_error: 4.6757 - val_y2_root_mean_squared_error: 6.2903\n",
      "Epoch 39/500\n",
      "7/7 [==============================] - 0s 3ms/step - loss: 19.9711 - y1_loss: 6.7093 - y2_loss: 13.2618 - y1_root_mean_squared_error: 2.5902 - y2_root_mean_squared_error: 3.6417 - val_loss: 23.3204 - val_y1_loss: 2.4396 - val_y2_loss: 20.8808 - val_y1_root_mean_squared_error: 1.5619 - val_y2_root_mean_squared_error: 4.5696\n",
      "Epoch 40/500\n",
      "7/7 [==============================] - 0s 3ms/step - loss: 15.5543 - y1_loss: 5.0079 - y2_loss: 10.5464 - y1_root_mean_squared_error: 2.2378 - y2_root_mean_squared_error: 3.2475 - val_loss: 18.5402 - val_y1_loss: 4.5230 - val_y2_loss: 14.0172 - val_y1_root_mean_squared_error: 2.1267 - val_y2_root_mean_squared_error: 3.7440\n",
      "Epoch 41/500\n",
      "7/7 [==============================] - 0s 2ms/step - loss: 13.2795 - y1_loss: 4.8107 - y2_loss: 8.4688 - y1_root_mean_squared_error: 2.1933 - y2_root_mean_squared_error: 2.9101 - val_loss: 10.2512 - val_y1_loss: 3.2474 - val_y2_loss: 7.0038 - val_y1_root_mean_squared_error: 1.8021 - val_y2_root_mean_squared_error: 2.6465\n",
      "Epoch 42/500\n",
      "7/7 [==============================] - 0s 2ms/step - loss: 9.9959 - y1_loss: 3.9122 - y2_loss: 6.0837 - y1_root_mean_squared_error: 1.9779 - y2_root_mean_squared_error: 2.4665 - val_loss: 8.3150 - val_y1_loss: 2.1787 - val_y2_loss: 6.1362 - val_y1_root_mean_squared_error: 1.4761 - val_y2_root_mean_squared_error: 2.4771\n",
      "Epoch 43/500\n",
      "7/7 [==============================] - 0s 2ms/step - loss: 10.3154 - y1_loss: 4.0480 - y2_loss: 6.2674 - y1_root_mean_squared_error: 2.0120 - y2_root_mean_squared_error: 2.5035 - val_loss: 8.0462 - val_y1_loss: 1.8905 - val_y2_loss: 6.1557 - val_y1_root_mean_squared_error: 1.3750 - val_y2_root_mean_squared_error: 2.4811\n",
      "Epoch 44/500\n",
      "7/7 [==============================] - 0s 2ms/step - loss: 9.8807 - y1_loss: 3.7741 - y2_loss: 6.1066 - y1_root_mean_squared_error: 1.9427 - y2_root_mean_squared_error: 2.4711 - val_loss: 7.9320 - val_y1_loss: 3.2109 - val_y2_loss: 4.7211 - val_y1_root_mean_squared_error: 1.7919 - val_y2_root_mean_squared_error: 2.1728\n",
      "Epoch 45/500\n",
      "7/7 [==============================] - 0s 2ms/step - loss: 9.7301 - y1_loss: 3.9618 - y2_loss: 5.7683 - y1_root_mean_squared_error: 1.9904 - y2_root_mean_squared_error: 2.4017 - val_loss: 787.5521 - val_y1_loss: 117.0466 - val_y2_loss: 670.5056 - val_y1_root_mean_squared_error: 10.8188 - val_y2_root_mean_squared_error: 25.8941\n",
      "Epoch 46/500\n",
      "7/7 [==============================] - 0s 2ms/step - loss: 257.5248 - y1_loss: 45.1050 - y2_loss: 212.4198 - y1_root_mean_squared_error: 6.7160 - y2_root_mean_squared_error: 14.5746 - val_loss: 49.0705 - val_y1_loss: 24.5971 - val_y2_loss: 24.4734 - val_y1_root_mean_squared_error: 4.9595 - val_y2_root_mean_squared_error: 4.9471\n",
      "Epoch 47/500\n",
      "7/7 [==============================] - 0s 2ms/step - loss: 17.3559 - y1_loss: 7.2872 - y2_loss: 10.0687 - y1_root_mean_squared_error: 2.6995 - y2_root_mean_squared_error: 3.1731 - val_loss: 17.0476 - val_y1_loss: 6.1072 - val_y2_loss: 10.9404 - val_y1_root_mean_squared_error: 2.4713 - val_y2_root_mean_squared_error: 3.3076\n",
      "Epoch 48/500\n",
      "7/7 [==============================] - 0s 2ms/step - loss: 14.6817 - y1_loss: 5.4537 - y2_loss: 9.2280 - y1_root_mean_squared_error: 2.3353 - y2_root_mean_squared_error: 3.0378 - val_loss: 8.2013 - val_y1_loss: 2.0377 - val_y2_loss: 6.1636 - val_y1_root_mean_squared_error: 1.4275 - val_y2_root_mean_squared_error: 2.4827\n",
      "Epoch 49/500\n"
     ]
    },
    {
     "name": "stdout",
     "output_type": "stream",
     "text": [
      "7/7 [==============================] - 0s 3ms/step - loss: 10.6260 - y1_loss: 3.8463 - y2_loss: 6.7798 - y1_root_mean_squared_error: 1.9612 - y2_root_mean_squared_error: 2.6038 - val_loss: 29.0078 - val_y1_loss: 6.4569 - val_y2_loss: 22.5509 - val_y1_root_mean_squared_error: 2.5411 - val_y2_root_mean_squared_error: 4.7488\n",
      "Epoch 50/500\n",
      "7/7 [==============================] - 0s 2ms/step - loss: 16.0217 - y1_loss: 4.5020 - y2_loss: 11.5197 - y1_root_mean_squared_error: 2.1218 - y2_root_mean_squared_error: 3.3941 - val_loss: 7.1821 - val_y1_loss: 2.0325 - val_y2_loss: 5.1496 - val_y1_root_mean_squared_error: 1.4257 - val_y2_root_mean_squared_error: 2.2693\n",
      "Epoch 51/500\n",
      "7/7 [==============================] - 0s 2ms/step - loss: 11.6994 - y1_loss: 3.8345 - y2_loss: 7.8649 - y1_root_mean_squared_error: 1.9582 - y2_root_mean_squared_error: 2.8044 - val_loss: 7.4621 - val_y1_loss: 2.2467 - val_y2_loss: 5.2154 - val_y1_root_mean_squared_error: 1.4989 - val_y2_root_mean_squared_error: 2.2837\n",
      "Epoch 52/500\n",
      "7/7 [==============================] - 0s 3ms/step - loss: 12.6433 - y1_loss: 4.1700 - y2_loss: 8.4733 - y1_root_mean_squared_error: 2.0421 - y2_root_mean_squared_error: 2.9109 - val_loss: 8.9364 - val_y1_loss: 2.0166 - val_y2_loss: 6.9198 - val_y1_root_mean_squared_error: 1.4201 - val_y2_root_mean_squared_error: 2.6305\n",
      "Epoch 53/500\n",
      "7/7 [==============================] - 0s 2ms/step - loss: 12.0392 - y1_loss: 4.1997 - y2_loss: 7.8396 - y1_root_mean_squared_error: 2.0493 - y2_root_mean_squared_error: 2.7999 - val_loss: 11.9886 - val_y1_loss: 2.8817 - val_y2_loss: 9.1069 - val_y1_root_mean_squared_error: 1.6976 - val_y2_root_mean_squared_error: 3.0178\n",
      "Epoch 54/500\n",
      "7/7 [==============================] - 0s 2ms/step - loss: 10.3369 - y1_loss: 3.7962 - y2_loss: 6.5408 - y1_root_mean_squared_error: 1.9484 - y2_root_mean_squared_error: 2.5575 - val_loss: 16.3494 - val_y1_loss: 3.4248 - val_y2_loss: 12.9246 - val_y1_root_mean_squared_error: 1.8506 - val_y2_root_mean_squared_error: 3.5951\n",
      "Epoch 55/500\n",
      "7/7 [==============================] - 0s 2ms/step - loss: 11.6424 - y1_loss: 3.9638 - y2_loss: 7.6786 - y1_root_mean_squared_error: 1.9909 - y2_root_mean_squared_error: 2.7710 - val_loss: 15.4634 - val_y1_loss: 4.4918 - val_y2_loss: 10.9716 - val_y1_root_mean_squared_error: 2.1194 - val_y2_root_mean_squared_error: 3.3123\n",
      "Epoch 56/500\n",
      "7/7 [==============================] - 0s 2ms/step - loss: 10.4340 - y1_loss: 3.8795 - y2_loss: 6.5545 - y1_root_mean_squared_error: 1.9696 - y2_root_mean_squared_error: 2.5602 - val_loss: 133.0049 - val_y1_loss: 31.9581 - val_y2_loss: 101.0468 - val_y1_root_mean_squared_error: 5.6531 - val_y2_root_mean_squared_error: 10.0522\n",
      "Epoch 57/500\n",
      "7/7 [==============================] - 0s 2ms/step - loss: 33.4486 - y1_loss: 9.8005 - y2_loss: 23.6482 - y1_root_mean_squared_error: 3.1306 - y2_root_mean_squared_error: 4.8629 - val_loss: 432.4590 - val_y1_loss: 50.9332 - val_y2_loss: 381.5258 - val_y1_root_mean_squared_error: 7.1368 - val_y2_root_mean_squared_error: 19.5327\n",
      "Epoch 58/500\n",
      "7/7 [==============================] - 0s 2ms/step - loss: 56.1741 - y1_loss: 5.4250 - y2_loss: 50.7491 - y1_root_mean_squared_error: 2.3292 - y2_root_mean_squared_error: 7.1238 - val_loss: 28.7611 - val_y1_loss: 10.5925 - val_y2_loss: 18.1686 - val_y1_root_mean_squared_error: 3.2546 - val_y2_root_mean_squared_error: 4.2625\n",
      "Epoch 59/500\n",
      "7/7 [==============================] - 0s 2ms/step - loss: 12.9210 - y1_loss: 4.3823 - y2_loss: 8.5387 - y1_root_mean_squared_error: 2.0934 - y2_root_mean_squared_error: 2.9221 - val_loss: 75.7698 - val_y1_loss: 12.8529 - val_y2_loss: 62.9169 - val_y1_root_mean_squared_error: 3.5851 - val_y2_root_mean_squared_error: 7.9320\n",
      "Epoch 60/500\n",
      "7/7 [==============================] - 0s 2ms/step - loss: 19.5273 - y1_loss: 5.2508 - y2_loss: 14.2766 - y1_root_mean_squared_error: 2.2915 - y2_root_mean_squared_error: 3.7784 - val_loss: 10.5703 - val_y1_loss: 1.9454 - val_y2_loss: 8.6249 - val_y1_root_mean_squared_error: 1.3948 - val_y2_root_mean_squared_error: 2.9368\n",
      "Epoch 61/500\n",
      "7/7 [==============================] - 0s 2ms/step - loss: 10.8513 - y1_loss: 3.3800 - y2_loss: 7.4713 - y1_root_mean_squared_error: 1.8385 - y2_root_mean_squared_error: 2.7334 - val_loss: 11.0099 - val_y1_loss: 2.1181 - val_y2_loss: 8.8918 - val_y1_root_mean_squared_error: 1.4554 - val_y2_root_mean_squared_error: 2.9819\n",
      "Epoch 62/500\n",
      "7/7 [==============================] - 0s 3ms/step - loss: 9.7438 - y1_loss: 3.9506 - y2_loss: 5.7931 - y1_root_mean_squared_error: 1.9876 - y2_root_mean_squared_error: 2.4069 - val_loss: 7.0858 - val_y1_loss: 1.5462 - val_y2_loss: 5.5396 - val_y1_root_mean_squared_error: 1.2435 - val_y2_root_mean_squared_error: 2.3536\n",
      "Epoch 63/500\n",
      "7/7 [==============================] - 0s 2ms/step - loss: 11.4869 - y1_loss: 3.9313 - y2_loss: 7.5556 - y1_root_mean_squared_error: 1.9827 - y2_root_mean_squared_error: 2.7487 - val_loss: 6.6536 - val_y1_loss: 1.6808 - val_y2_loss: 4.9728 - val_y1_root_mean_squared_error: 1.2964 - val_y2_root_mean_squared_error: 2.2300\n",
      "Epoch 64/500\n",
      "7/7 [==============================] - 0s 2ms/step - loss: 8.7599 - y1_loss: 3.1625 - y2_loss: 5.5974 - y1_root_mean_squared_error: 1.7783 - y2_root_mean_squared_error: 2.3659 - val_loss: 11.8947 - val_y1_loss: 3.6235 - val_y2_loss: 8.2713 - val_y1_root_mean_squared_error: 1.9035 - val_y2_root_mean_squared_error: 2.8760\n",
      "Epoch 65/500\n",
      "7/7 [==============================] - 0s 2ms/step - loss: 10.8910 - y1_loss: 3.8254 - y2_loss: 7.0656 - y1_root_mean_squared_error: 1.9559 - y2_root_mean_squared_error: 2.6581 - val_loss: 7.4825 - val_y1_loss: 2.5406 - val_y2_loss: 4.9419 - val_y1_root_mean_squared_error: 1.5939 - val_y2_root_mean_squared_error: 2.2230\n",
      "Epoch 66/500\n",
      "7/7 [==============================] - 0s 2ms/step - loss: 9.1253 - y1_loss: 3.2118 - y2_loss: 5.9135 - y1_root_mean_squared_error: 1.7922 - y2_root_mean_squared_error: 2.4318 - val_loss: 7.2685 - val_y1_loss: 1.9791 - val_y2_loss: 5.2894 - val_y1_root_mean_squared_error: 1.4068 - val_y2_root_mean_squared_error: 2.2999\n",
      "Epoch 67/500\n",
      "7/7 [==============================] - 0s 2ms/step - loss: 9.5613 - y1_loss: 3.4514 - y2_loss: 6.1098 - y1_root_mean_squared_error: 1.8578 - y2_root_mean_squared_error: 2.4718 - val_loss: 6.7428 - val_y1_loss: 1.7175 - val_y2_loss: 5.0253 - val_y1_root_mean_squared_error: 1.3105 - val_y2_root_mean_squared_error: 2.2417\n",
      "Epoch 68/500\n",
      "7/7 [==============================] - 0s 2ms/step - loss: 8.8551 - y1_loss: 3.3279 - y2_loss: 5.5272 - y1_root_mean_squared_error: 1.8243 - y2_root_mean_squared_error: 2.3510 - val_loss: 6.6028 - val_y1_loss: 2.2627 - val_y2_loss: 4.3401 - val_y1_root_mean_squared_error: 1.5042 - val_y2_root_mean_squared_error: 2.0833\n",
      "Epoch 69/500\n",
      "7/7 [==============================] - 0s 2ms/step - loss: 8.9184 - y1_loss: 3.2957 - y2_loss: 5.6227 - y1_root_mean_squared_error: 1.8154 - y2_root_mean_squared_error: 2.3712 - val_loss: 13.9629 - val_y1_loss: 2.7456 - val_y2_loss: 11.2173 - val_y1_root_mean_squared_error: 1.6570 - val_y2_root_mean_squared_error: 3.3492\n",
      "Epoch 70/500\n",
      "7/7 [==============================] - 0s 2ms/step - loss: 14.4343 - y1_loss: 4.0197 - y2_loss: 10.4146 - y1_root_mean_squared_error: 2.0049 - y2_root_mean_squared_error: 3.2272 - val_loss: 11.0380 - val_y1_loss: 2.7770 - val_y2_loss: 8.2609 - val_y1_root_mean_squared_error: 1.6664 - val_y2_root_mean_squared_error: 2.8742\n",
      "Epoch 71/500\n",
      "7/7 [==============================] - 0s 2ms/step - loss: 10.4455 - y1_loss: 3.3431 - y2_loss: 7.1024 - y1_root_mean_squared_error: 1.8284 - y2_root_mean_squared_error: 2.6650 - val_loss: 9.9876 - val_y1_loss: 2.8119 - val_y2_loss: 7.1757 - val_y1_root_mean_squared_error: 1.6769 - val_y2_root_mean_squared_error: 2.6788\n",
      "Epoch 72/500\n",
      "7/7 [==============================] - 0s 2ms/step - loss: 8.9811 - y1_loss: 3.2266 - y2_loss: 5.7545 - y1_root_mean_squared_error: 1.7963 - y2_root_mean_squared_error: 2.3988 - val_loss: 10.1750 - val_y1_loss: 2.5833 - val_y2_loss: 7.5916 - val_y1_root_mean_squared_error: 1.6073 - val_y2_root_mean_squared_error: 2.7553\n",
      "Epoch 73/500\n"
     ]
    },
    {
     "name": "stdout",
     "output_type": "stream",
     "text": [
      "7/7 [==============================] - 0s 2ms/step - loss: 11.0205 - y1_loss: 3.7253 - y2_loss: 7.2952 - y1_root_mean_squared_error: 1.9301 - y2_root_mean_squared_error: 2.7010 - val_loss: 9.0745 - val_y1_loss: 1.9666 - val_y2_loss: 7.1079 - val_y1_root_mean_squared_error: 1.4024 - val_y2_root_mean_squared_error: 2.6661\n",
      "Epoch 74/500\n",
      "7/7 [==============================] - 0s 2ms/step - loss: 9.5417 - y1_loss: 3.2012 - y2_loss: 6.3405 - y1_root_mean_squared_error: 1.7892 - y2_root_mean_squared_error: 2.5180 - val_loss: 24.8317 - val_y1_loss: 6.1355 - val_y2_loss: 18.6962 - val_y1_root_mean_squared_error: 2.4770 - val_y2_root_mean_squared_error: 4.3239\n",
      "Epoch 75/500\n",
      "7/7 [==============================] - 0s 2ms/step - loss: 11.1435 - y1_loss: 4.2556 - y2_loss: 6.8880 - y1_root_mean_squared_error: 2.0629 - y2_root_mean_squared_error: 2.6245 - val_loss: 83.9393 - val_y1_loss: 18.6253 - val_y2_loss: 65.3139 - val_y1_root_mean_squared_error: 4.3157 - val_y2_root_mean_squared_error: 8.0817\n",
      "Epoch 76/500\n",
      "7/7 [==============================] - 0s 2ms/step - loss: 21.5617 - y1_loss: 6.5932 - y2_loss: 14.9686 - y1_root_mean_squared_error: 2.5677 - y2_root_mean_squared_error: 3.8689 - val_loss: 16.1037 - val_y1_loss: 5.4661 - val_y2_loss: 10.6376 - val_y1_root_mean_squared_error: 2.3380 - val_y2_root_mean_squared_error: 3.2615\n",
      "Epoch 77/500\n",
      "7/7 [==============================] - 0s 2ms/step - loss: 14.7202 - y1_loss: 4.4007 - y2_loss: 10.3195 - y1_root_mean_squared_error: 2.0978 - y2_root_mean_squared_error: 3.2124 - val_loss: 15.8029 - val_y1_loss: 6.5745 - val_y2_loss: 9.2284 - val_y1_root_mean_squared_error: 2.5641 - val_y2_root_mean_squared_error: 3.0378\n",
      "Epoch 78/500\n",
      "7/7 [==============================] - 0s 2ms/step - loss: 10.6755 - y1_loss: 3.6835 - y2_loss: 6.9920 - y1_root_mean_squared_error: 1.9193 - y2_root_mean_squared_error: 2.6442 - val_loss: 7.5827 - val_y1_loss: 2.2587 - val_y2_loss: 5.3240 - val_y1_root_mean_squared_error: 1.5029 - val_y2_root_mean_squared_error: 2.3074\n",
      "Epoch 79/500\n",
      "7/7 [==============================] - 0s 2ms/step - loss: 9.0056 - y1_loss: 3.1771 - y2_loss: 5.8285 - y1_root_mean_squared_error: 1.7824 - y2_root_mean_squared_error: 2.4142 - val_loss: 6.9329 - val_y1_loss: 2.1458 - val_y2_loss: 4.7871 - val_y1_root_mean_squared_error: 1.4649 - val_y2_root_mean_squared_error: 2.1879\n",
      "Epoch 80/500\n",
      "7/7 [==============================] - 0s 2ms/step - loss: 7.0725 - y1_loss: 2.7344 - y2_loss: 4.3380 - y1_root_mean_squared_error: 1.6536 - y2_root_mean_squared_error: 2.0828 - val_loss: 7.9308 - val_y1_loss: 2.0462 - val_y2_loss: 5.8846 - val_y1_root_mean_squared_error: 1.4304 - val_y2_root_mean_squared_error: 2.4258\n",
      "Epoch 81/500\n",
      "7/7 [==============================] - 0s 2ms/step - loss: 7.6821 - y1_loss: 2.9364 - y2_loss: 4.7457 - y1_root_mean_squared_error: 1.7136 - y2_root_mean_squared_error: 2.1785 - val_loss: 7.4157 - val_y1_loss: 1.9370 - val_y2_loss: 5.4788 - val_y1_root_mean_squared_error: 1.3918 - val_y2_root_mean_squared_error: 2.3407\n",
      "Epoch 82/500\n",
      "7/7 [==============================] - 0s 2ms/step - loss: 9.9962 - y1_loss: 3.0765 - y2_loss: 6.9197 - y1_root_mean_squared_error: 1.7540 - y2_root_mean_squared_error: 2.6305 - val_loss: 775.1902 - val_y1_loss: 114.8563 - val_y2_loss: 660.3339 - val_y1_root_mean_squared_error: 10.7171 - val_y2_root_mean_squared_error: 25.6970\n",
      "Epoch 83/500\n",
      "7/7 [==============================] - 0s 2ms/step - loss: 257.9009 - y1_loss: 45.9772 - y2_loss: 211.9237 - y1_root_mean_squared_error: 6.7806 - y2_root_mean_squared_error: 14.5576 - val_loss: 9.9832 - val_y1_loss: 4.9903 - val_y2_loss: 4.9930 - val_y1_root_mean_squared_error: 2.2339 - val_y2_root_mean_squared_error: 2.2345\n",
      "Epoch 84/500\n",
      "7/7 [==============================] - 0s 2ms/step - loss: 10.0268 - y1_loss: 3.9669 - y2_loss: 6.0599 - y1_root_mean_squared_error: 1.9917 - y2_root_mean_squared_error: 2.4617 - val_loss: 26.9987 - val_y1_loss: 6.1912 - val_y2_loss: 20.8075 - val_y1_root_mean_squared_error: 2.4882 - val_y2_root_mean_squared_error: 4.5615\n",
      "Epoch 85/500\n",
      "7/7 [==============================] - 0s 2ms/step - loss: 16.5312 - y1_loss: 5.8434 - y2_loss: 10.6878 - y1_root_mean_squared_error: 2.4173 - y2_root_mean_squared_error: 3.2692 - val_loss: 6.8547 - val_y1_loss: 1.5844 - val_y2_loss: 5.2703 - val_y1_root_mean_squared_error: 1.2587 - val_y2_root_mean_squared_error: 2.2957\n",
      "Epoch 86/500\n",
      "7/7 [==============================] - 0s 2ms/step - loss: 12.0638 - y1_loss: 3.5959 - y2_loss: 8.4678 - y1_root_mean_squared_error: 1.8963 - y2_root_mean_squared_error: 2.9100 - val_loss: 6.5271 - val_y1_loss: 2.5399 - val_y2_loss: 3.9872 - val_y1_root_mean_squared_error: 1.5937 - val_y2_root_mean_squared_error: 1.9968\n",
      "Epoch 87/500\n",
      "7/7 [==============================] - 0s 2ms/step - loss: 9.6304 - y1_loss: 3.3621 - y2_loss: 6.2683 - y1_root_mean_squared_error: 1.8336 - y2_root_mean_squared_error: 2.5037 - val_loss: 17.3635 - val_y1_loss: 2.9006 - val_y2_loss: 14.4629 - val_y1_root_mean_squared_error: 1.7031 - val_y2_root_mean_squared_error: 3.8030\n",
      "Epoch 88/500\n",
      "7/7 [==============================] - 0s 2ms/step - loss: 14.1980 - y1_loss: 4.0733 - y2_loss: 10.1246 - y1_root_mean_squared_error: 2.0182 - y2_root_mean_squared_error: 3.1819 - val_loss: 4.6980 - val_y1_loss: 1.6757 - val_y2_loss: 3.0223 - val_y1_root_mean_squared_error: 1.2945 - val_y2_root_mean_squared_error: 1.7385\n",
      "Epoch 89/500\n",
      "7/7 [==============================] - 0s 2ms/step - loss: 8.8143 - y1_loss: 3.0299 - y2_loss: 5.7843 - y1_root_mean_squared_error: 1.7407 - y2_root_mean_squared_error: 2.4051 - val_loss: 8.6932 - val_y1_loss: 4.0416 - val_y2_loss: 4.6516 - val_y1_root_mean_squared_error: 2.0104 - val_y2_root_mean_squared_error: 2.1568\n",
      "Epoch 90/500\n",
      "7/7 [==============================] - 0s 2ms/step - loss: 10.1886 - y1_loss: 3.6734 - y2_loss: 6.5152 - y1_root_mean_squared_error: 1.9166 - y2_root_mean_squared_error: 2.5525 - val_loss: 58.0515 - val_y1_loss: 25.5624 - val_y2_loss: 32.4891 - val_y1_root_mean_squared_error: 5.0559 - val_y2_root_mean_squared_error: 5.6999\n",
      "Epoch 91/500\n",
      "7/7 [==============================] - 0s 2ms/step - loss: 20.2792 - y1_loss: 6.2895 - y2_loss: 13.9896 - y1_root_mean_squared_error: 2.5079 - y2_root_mean_squared_error: 3.7403 - val_loss: 6.4935 - val_y1_loss: 1.9951 - val_y2_loss: 4.4983 - val_y1_root_mean_squared_error: 1.4125 - val_y2_root_mean_squared_error: 2.1209\n",
      "Epoch 92/500\n",
      "7/7 [==============================] - 0s 3ms/step - loss: 8.5597 - y1_loss: 3.0140 - y2_loss: 5.5457 - y1_root_mean_squared_error: 1.7361 - y2_root_mean_squared_error: 2.3549 - val_loss: 6.3632 - val_y1_loss: 2.4883 - val_y2_loss: 3.8749 - val_y1_root_mean_squared_error: 1.5774 - val_y2_root_mean_squared_error: 1.9685\n",
      "Epoch 93/500\n",
      "7/7 [==============================] - 0s 2ms/step - loss: 9.4575 - y1_loss: 3.2579 - y2_loss: 6.1996 - y1_root_mean_squared_error: 1.8050 - y2_root_mean_squared_error: 2.4899 - val_loss: 10.3546 - val_y1_loss: 2.7622 - val_y2_loss: 7.5924 - val_y1_root_mean_squared_error: 1.6620 - val_y2_root_mean_squared_error: 2.7554\n",
      "Epoch 94/500\n",
      "7/7 [==============================] - 0s 3ms/step - loss: 8.7466 - y1_loss: 2.9749 - y2_loss: 5.7718 - y1_root_mean_squared_error: 1.7248 - y2_root_mean_squared_error: 2.4024 - val_loss: 7.9533 - val_y1_loss: 2.9400 - val_y2_loss: 5.0133 - val_y1_root_mean_squared_error: 1.7147 - val_y2_root_mean_squared_error: 2.2390\n",
      "Epoch 95/500\n",
      "7/7 [==============================] - 0s 3ms/step - loss: 9.9015 - y1_loss: 3.1740 - y2_loss: 6.7275 - y1_root_mean_squared_error: 1.7816 - y2_root_mean_squared_error: 2.5937 - val_loss: 6.7993 - val_y1_loss: 2.3391 - val_y2_loss: 4.4602 - val_y1_root_mean_squared_error: 1.5294 - val_y2_root_mean_squared_error: 2.1119\n",
      "Epoch 96/500\n",
      "7/7 [==============================] - 0s 2ms/step - loss: 7.3220 - y1_loss: 2.6643 - y2_loss: 4.6577 - y1_root_mean_squared_error: 1.6323 - y2_root_mean_squared_error: 2.1582 - val_loss: 7.3255 - val_y1_loss: 1.9628 - val_y2_loss: 5.3627 - val_y1_root_mean_squared_error: 1.4010 - val_y2_root_mean_squared_error: 2.3157\n",
      "Epoch 97/500\n"
     ]
    },
    {
     "name": "stdout",
     "output_type": "stream",
     "text": [
      "7/7 [==============================] - 0s 2ms/step - loss: 10.7948 - y1_loss: 3.0585 - y2_loss: 7.7363 - y1_root_mean_squared_error: 1.7488 - y2_root_mean_squared_error: 2.7814 - val_loss: 6.4478 - val_y1_loss: 1.9284 - val_y2_loss: 4.5194 - val_y1_root_mean_squared_error: 1.3887 - val_y2_root_mean_squared_error: 2.1259\n",
      "Epoch 98/500\n",
      "7/7 [==============================] - 0s 2ms/step - loss: 7.4568 - y1_loss: 2.7737 - y2_loss: 4.6831 - y1_root_mean_squared_error: 1.6655 - y2_root_mean_squared_error: 2.1640 - val_loss: 6.4655 - val_y1_loss: 2.0197 - val_y2_loss: 4.4457 - val_y1_root_mean_squared_error: 1.4212 - val_y2_root_mean_squared_error: 2.1085\n",
      "Epoch 99/500\n",
      "7/7 [==============================] - 0s 2ms/step - loss: 8.0102 - y1_loss: 2.7147 - y2_loss: 5.2955 - y1_root_mean_squared_error: 1.6476 - y2_root_mean_squared_error: 2.3012 - val_loss: 25.5889 - val_y1_loss: 10.3784 - val_y2_loss: 15.2105 - val_y1_root_mean_squared_error: 3.2215 - val_y2_root_mean_squared_error: 3.9001\n",
      "Epoch 100/500\n",
      "7/7 [==============================] - 0s 2ms/step - loss: 13.9525 - y1_loss: 4.1504 - y2_loss: 9.8021 - y1_root_mean_squared_error: 2.0373 - y2_root_mean_squared_error: 3.1308 - val_loss: 111.2360 - val_y1_loss: 27.4940 - val_y2_loss: 83.7420 - val_y1_root_mean_squared_error: 5.2435 - val_y2_root_mean_squared_error: 9.1511\n",
      "Epoch 101/500\n",
      "7/7 [==============================] - 0s 2ms/step - loss: 22.9284 - y1_loss: 6.3950 - y2_loss: 16.5333 - y1_root_mean_squared_error: 2.5288 - y2_root_mean_squared_error: 4.0661 - val_loss: 7.2130 - val_y1_loss: 1.5627 - val_y2_loss: 5.6503 - val_y1_root_mean_squared_error: 1.2501 - val_y2_root_mean_squared_error: 2.3770\n",
      "Epoch 102/500\n",
      "7/7 [==============================] - 0s 2ms/step - loss: 9.5481 - y1_loss: 3.2887 - y2_loss: 6.2593 - y1_root_mean_squared_error: 1.8135 - y2_root_mean_squared_error: 2.5019 - val_loss: 11.6916 - val_y1_loss: 3.1408 - val_y2_loss: 8.5508 - val_y1_root_mean_squared_error: 1.7722 - val_y2_root_mean_squared_error: 2.9242\n",
      "Epoch 103/500\n",
      "7/7 [==============================] - 0s 2ms/step - loss: 9.2529 - y1_loss: 3.4157 - y2_loss: 5.8372 - y1_root_mean_squared_error: 1.8482 - y2_root_mean_squared_error: 2.4160 - val_loss: 11.7237 - val_y1_loss: 2.2638 - val_y2_loss: 9.4599 - val_y1_root_mean_squared_error: 1.5046 - val_y2_root_mean_squared_error: 3.0757\n",
      "Epoch 104/500\n",
      "7/7 [==============================] - 0s 2ms/step - loss: 5.9669 - y1_loss: 2.4368 - y2_loss: 3.5301 - y1_root_mean_squared_error: 1.5610 - y2_root_mean_squared_error: 1.8788 - val_loss: 12.9420 - val_y1_loss: 5.9693 - val_y2_loss: 6.9727 - val_y1_root_mean_squared_error: 2.4432 - val_y2_root_mean_squared_error: 2.6406\n",
      "Epoch 105/500\n",
      "7/7 [==============================] - 0s 2ms/step - loss: 8.9837 - y1_loss: 3.2078 - y2_loss: 5.7759 - y1_root_mean_squared_error: 1.7910 - y2_root_mean_squared_error: 2.4033 - val_loss: 10.5418 - val_y1_loss: 5.4808 - val_y2_loss: 5.0610 - val_y1_root_mean_squared_error: 2.3411 - val_y2_root_mean_squared_error: 2.2497\n",
      "Epoch 106/500\n",
      "7/7 [==============================] - 0s 2ms/step - loss: 8.1382 - y1_loss: 3.0551 - y2_loss: 5.0831 - y1_root_mean_squared_error: 1.7479 - y2_root_mean_squared_error: 2.2546 - val_loss: 6.1403 - val_y1_loss: 1.9059 - val_y2_loss: 4.2344 - val_y1_root_mean_squared_error: 1.3805 - val_y2_root_mean_squared_error: 2.0578\n",
      "Epoch 107/500\n",
      "7/7 [==============================] - 0s 2ms/step - loss: 7.7586 - y1_loss: 2.8057 - y2_loss: 4.9529 - y1_root_mean_squared_error: 1.6750 - y2_root_mean_squared_error: 2.2255 - val_loss: 12.4413 - val_y1_loss: 3.0228 - val_y2_loss: 9.4185 - val_y1_root_mean_squared_error: 1.7386 - val_y2_root_mean_squared_error: 3.0690\n",
      "Epoch 108/500\n",
      "7/7 [==============================] - 0s 2ms/step - loss: 9.1186 - y1_loss: 3.2082 - y2_loss: 5.9104 - y1_root_mean_squared_error: 1.7911 - y2_root_mean_squared_error: 2.4311 - val_loss: 10.8687 - val_y1_loss: 2.8838 - val_y2_loss: 7.9849 - val_y1_root_mean_squared_error: 1.6982 - val_y2_root_mean_squared_error: 2.8257\n",
      "Epoch 109/500\n",
      "7/7 [==============================] - 0s 2ms/step - loss: 11.6122 - y1_loss: 3.5939 - y2_loss: 8.0182 - y1_root_mean_squared_error: 1.8958 - y2_root_mean_squared_error: 2.8316 - val_loss: 15.3001 - val_y1_loss: 3.5419 - val_y2_loss: 11.7582 - val_y1_root_mean_squared_error: 1.8820 - val_y2_root_mean_squared_error: 3.4290\n",
      "Epoch 110/500\n",
      "7/7 [==============================] - 0s 2ms/step - loss: 11.3305 - y1_loss: 3.9032 - y2_loss: 7.4273 - y1_root_mean_squared_error: 1.9756 - y2_root_mean_squared_error: 2.7253 - val_loss: 10.3940 - val_y1_loss: 2.9963 - val_y2_loss: 7.3977 - val_y1_root_mean_squared_error: 1.7310 - val_y2_root_mean_squared_error: 2.7199\n",
      "Epoch 111/500\n",
      "7/7 [==============================] - 0s 2ms/step - loss: 9.6369 - y1_loss: 3.5834 - y2_loss: 6.0536 - y1_root_mean_squared_error: 1.8930 - y2_root_mean_squared_error: 2.4604 - val_loss: 6.6269 - val_y1_loss: 2.2971 - val_y2_loss: 4.3298 - val_y1_root_mean_squared_error: 1.5156 - val_y2_root_mean_squared_error: 2.0808\n",
      "Epoch 112/500\n",
      "7/7 [==============================] - 0s 2ms/step - loss: 6.9642 - y1_loss: 2.4684 - y2_loss: 4.4958 - y1_root_mean_squared_error: 1.5711 - y2_root_mean_squared_error: 2.1203 - val_loss: 96.8596 - val_y1_loss: 24.1076 - val_y2_loss: 72.7520 - val_y1_root_mean_squared_error: 4.9099 - val_y2_root_mean_squared_error: 8.5295\n",
      "Epoch 113/500\n",
      "7/7 [==============================] - 0s 3ms/step - loss: 24.3361 - y1_loss: 7.6837 - y2_loss: 16.6524 - y1_root_mean_squared_error: 2.7720 - y2_root_mean_squared_error: 4.0807 - val_loss: 8.7282 - val_y1_loss: 3.8253 - val_y2_loss: 4.9029 - val_y1_root_mean_squared_error: 1.9558 - val_y2_root_mean_squared_error: 2.2143\n",
      "Epoch 114/500\n",
      "7/7 [==============================] - 0s 2ms/step - loss: 7.6199 - y1_loss: 2.6710 - y2_loss: 4.9489 - y1_root_mean_squared_error: 1.6343 - y2_root_mean_squared_error: 2.2246 - val_loss: 5.7003 - val_y1_loss: 2.0253 - val_y2_loss: 3.6750 - val_y1_root_mean_squared_error: 1.4231 - val_y2_root_mean_squared_error: 1.9170\n",
      "Epoch 115/500\n",
      "7/7 [==============================] - 0s 3ms/step - loss: 6.7917 - y1_loss: 2.4557 - y2_loss: 4.3361 - y1_root_mean_squared_error: 1.5671 - y2_root_mean_squared_error: 2.0823 - val_loss: 96.3848 - val_y1_loss: 22.8315 - val_y2_loss: 73.5533 - val_y1_root_mean_squared_error: 4.7782 - val_y2_root_mean_squared_error: 8.5763\n",
      "Epoch 116/500\n",
      "7/7 [==============================] - 0s 2ms/step - loss: 20.1774 - y1_loss: 6.0492 - y2_loss: 14.1281 - y1_root_mean_squared_error: 2.4595 - y2_root_mean_squared_error: 3.7587 - val_loss: 4.7639 - val_y1_loss: 1.8184 - val_y2_loss: 2.9455 - val_y1_root_mean_squared_error: 1.3485 - val_y2_root_mean_squared_error: 1.7162\n",
      "Epoch 117/500\n",
      "7/7 [==============================] - 0s 2ms/step - loss: 7.0256 - y1_loss: 2.4476 - y2_loss: 4.5780 - y1_root_mean_squared_error: 1.5645 - y2_root_mean_squared_error: 2.1396 - val_loss: 4.8792 - val_y1_loss: 1.9716 - val_y2_loss: 2.9075 - val_y1_root_mean_squared_error: 1.4042 - val_y2_root_mean_squared_error: 1.7052\n",
      "Epoch 118/500\n",
      "7/7 [==============================] - 0s 2ms/step - loss: 6.3767 - y1_loss: 2.3734 - y2_loss: 4.0033 - y1_root_mean_squared_error: 1.5406 - y2_root_mean_squared_error: 2.0008 - val_loss: 57.1866 - val_y1_loss: 14.4791 - val_y2_loss: 42.7074 - val_y1_root_mean_squared_error: 3.8051 - val_y2_root_mean_squared_error: 6.5351\n",
      "Epoch 119/500\n",
      "7/7 [==============================] - 0s 2ms/step - loss: 14.8082 - y1_loss: 4.8971 - y2_loss: 9.9111 - y1_root_mean_squared_error: 2.2129 - y2_root_mean_squared_error: 3.1482 - val_loss: 7.1392 - val_y1_loss: 3.9809 - val_y2_loss: 3.1584 - val_y1_root_mean_squared_error: 1.9952 - val_y2_root_mean_squared_error: 1.7772\n",
      "Epoch 120/500\n",
      "7/7 [==============================] - 0s 2ms/step - loss: 7.0312 - y1_loss: 2.8374 - y2_loss: 4.1938 - y1_root_mean_squared_error: 1.6844 - y2_root_mean_squared_error: 2.0479 - val_loss: 5.9601 - val_y1_loss: 1.9186 - val_y2_loss: 4.0414 - val_y1_root_mean_squared_error: 1.3851 - val_y2_root_mean_squared_error: 2.0103\n",
      "Epoch 121/500\n"
     ]
    },
    {
     "name": "stdout",
     "output_type": "stream",
     "text": [
      "7/7 [==============================] - 0s 2ms/step - loss: 6.9170 - y1_loss: 2.7316 - y2_loss: 4.1854 - y1_root_mean_squared_error: 1.6528 - y2_root_mean_squared_error: 2.0458 - val_loss: 5.6544 - val_y1_loss: 1.8846 - val_y2_loss: 3.7697 - val_y1_root_mean_squared_error: 1.3728 - val_y2_root_mean_squared_error: 1.9416\n",
      "Epoch 122/500\n",
      "7/7 [==============================] - 0s 2ms/step - loss: 5.9608 - y1_loss: 2.3731 - y2_loss: 3.5877 - y1_root_mean_squared_error: 1.5405 - y2_root_mean_squared_error: 1.8941 - val_loss: 6.3683 - val_y1_loss: 2.7434 - val_y2_loss: 3.6249 - val_y1_root_mean_squared_error: 1.6563 - val_y2_root_mean_squared_error: 1.9039\n",
      "Epoch 123/500\n",
      "7/7 [==============================] - 0s 2ms/step - loss: 7.7187 - y1_loss: 2.2792 - y2_loss: 5.4395 - y1_root_mean_squared_error: 1.5097 - y2_root_mean_squared_error: 2.3323 - val_loss: 6.1096 - val_y1_loss: 1.7115 - val_y2_loss: 4.3981 - val_y1_root_mean_squared_error: 1.3082 - val_y2_root_mean_squared_error: 2.0972\n",
      "Epoch 124/500\n",
      "7/7 [==============================] - 0s 2ms/step - loss: 8.7404 - y1_loss: 2.6257 - y2_loss: 6.1147 - y1_root_mean_squared_error: 1.6204 - y2_root_mean_squared_error: 2.4728 - val_loss: 583.9850 - val_y1_loss: 93.4935 - val_y2_loss: 490.4915 - val_y1_root_mean_squared_error: 9.6692 - val_y2_root_mean_squared_error: 22.1470\n",
      "Epoch 125/500\n",
      "7/7 [==============================] - 0s 2ms/step - loss: 154.9630 - y1_loss: 29.6405 - y2_loss: 125.3225 - y1_root_mean_squared_error: 5.4443 - y2_root_mean_squared_error: 11.1948 - val_loss: 11.3373 - val_y1_loss: 5.6152 - val_y2_loss: 5.7222 - val_y1_root_mean_squared_error: 2.3696 - val_y2_root_mean_squared_error: 2.3921\n",
      "Epoch 126/500\n",
      "7/7 [==============================] - 0s 2ms/step - loss: 9.9714 - y1_loss: 4.0914 - y2_loss: 5.8800 - y1_root_mean_squared_error: 2.0227 - y2_root_mean_squared_error: 2.4249 - val_loss: 7.0668 - val_y1_loss: 2.5403 - val_y2_loss: 4.5264 - val_y1_root_mean_squared_error: 1.5938 - val_y2_root_mean_squared_error: 2.1275\n",
      "Epoch 127/500\n",
      "7/7 [==============================] - 0s 2ms/step - loss: 11.7540 - y1_loss: 3.5658 - y2_loss: 8.1883 - y1_root_mean_squared_error: 1.8883 - y2_root_mean_squared_error: 2.8615 - val_loss: 35.0144 - val_y1_loss: 13.6423 - val_y2_loss: 21.3721 - val_y1_root_mean_squared_error: 3.6935 - val_y2_root_mean_squared_error: 4.6230\n",
      "Epoch 128/500\n",
      "7/7 [==============================] - 0s 2ms/step - loss: 10.6234 - y1_loss: 3.3697 - y2_loss: 7.2537 - y1_root_mean_squared_error: 1.8357 - y2_root_mean_squared_error: 2.6933 - val_loss: 6.4930 - val_y1_loss: 1.9606 - val_y2_loss: 4.5324 - val_y1_root_mean_squared_error: 1.4002 - val_y2_root_mean_squared_error: 2.1289\n",
      "Epoch 129/500\n",
      "7/7 [==============================] - 0s 2ms/step - loss: 6.6065 - y1_loss: 2.3417 - y2_loss: 4.2648 - y1_root_mean_squared_error: 1.5302 - y2_root_mean_squared_error: 2.0651 - val_loss: 5.8950 - val_y1_loss: 2.0474 - val_y2_loss: 3.8476 - val_y1_root_mean_squared_error: 1.4309 - val_y2_root_mean_squared_error: 1.9615\n",
      "Epoch 130/500\n",
      "7/7 [==============================] - 0s 2ms/step - loss: 6.7409 - y1_loss: 2.4787 - y2_loss: 4.2622 - y1_root_mean_squared_error: 1.5744 - y2_root_mean_squared_error: 2.0645 - val_loss: 7.6955 - val_y1_loss: 2.4078 - val_y2_loss: 5.2877 - val_y1_root_mean_squared_error: 1.5517 - val_y2_root_mean_squared_error: 2.2995\n",
      "Epoch 131/500\n",
      "7/7 [==============================] - 0s 2ms/step - loss: 8.5399 - y1_loss: 2.8533 - y2_loss: 5.6865 - y1_root_mean_squared_error: 1.6892 - y2_root_mean_squared_error: 2.3846 - val_loss: 9.7748 - val_y1_loss: 1.9846 - val_y2_loss: 7.7902 - val_y1_root_mean_squared_error: 1.4088 - val_y2_root_mean_squared_error: 2.7911\n",
      "Epoch 132/500\n",
      "7/7 [==============================] - 0s 2ms/step - loss: 6.5342 - y1_loss: 2.2433 - y2_loss: 4.2908 - y1_root_mean_squared_error: 1.4978 - y2_root_mean_squared_error: 2.0714 - val_loss: 5.3861 - val_y1_loss: 1.8028 - val_y2_loss: 3.5833 - val_y1_root_mean_squared_error: 1.3427 - val_y2_root_mean_squared_error: 1.8930\n",
      "Epoch 133/500\n",
      "7/7 [==============================] - 0s 2ms/step - loss: 5.9700 - y1_loss: 2.1000 - y2_loss: 3.8700 - y1_root_mean_squared_error: 1.4491 - y2_root_mean_squared_error: 1.9672 - val_loss: 11.0857 - val_y1_loss: 5.8657 - val_y2_loss: 5.2200 - val_y1_root_mean_squared_error: 2.4219 - val_y2_root_mean_squared_error: 2.2847\n",
      "Epoch 134/500\n",
      "7/7 [==============================] - 0s 2ms/step - loss: 8.6630 - y1_loss: 2.8990 - y2_loss: 5.7640 - y1_root_mean_squared_error: 1.7027 - y2_root_mean_squared_error: 2.4008 - val_loss: 25.2614 - val_y1_loss: 1.9324 - val_y2_loss: 23.3290 - val_y1_root_mean_squared_error: 1.3901 - val_y2_root_mean_squared_error: 4.8300\n",
      "Epoch 135/500\n",
      "7/7 [==============================] - 0s 2ms/step - loss: 8.7966 - y1_loss: 2.3044 - y2_loss: 6.4922 - y1_root_mean_squared_error: 1.5180 - y2_root_mean_squared_error: 2.5480 - val_loss: 21.0711 - val_y1_loss: 3.2757 - val_y2_loss: 17.7954 - val_y1_root_mean_squared_error: 1.8099 - val_y2_root_mean_squared_error: 4.2185\n",
      "Epoch 136/500\n",
      "7/7 [==============================] - 0s 2ms/step - loss: 8.7143 - y1_loss: 2.6953 - y2_loss: 6.0190 - y1_root_mean_squared_error: 1.6417 - y2_root_mean_squared_error: 2.4534 - val_loss: 7.3467 - val_y1_loss: 2.2227 - val_y2_loss: 5.1240 - val_y1_root_mean_squared_error: 1.4909 - val_y2_root_mean_squared_error: 2.2636\n",
      "Epoch 137/500\n",
      "7/7 [==============================] - 0s 2ms/step - loss: 10.0593 - y1_loss: 3.5955 - y2_loss: 6.4638 - y1_root_mean_squared_error: 1.8962 - y2_root_mean_squared_error: 2.5424 - val_loss: 6.5019 - val_y1_loss: 2.2317 - val_y2_loss: 4.2703 - val_y1_root_mean_squared_error: 1.4939 - val_y2_root_mean_squared_error: 2.0665\n",
      "Epoch 138/500\n",
      "7/7 [==============================] - 0s 2ms/step - loss: 6.0619 - y1_loss: 2.1977 - y2_loss: 3.8642 - y1_root_mean_squared_error: 1.4825 - y2_root_mean_squared_error: 1.9658 - val_loss: 13.5857 - val_y1_loss: 7.6138 - val_y2_loss: 5.9719 - val_y1_root_mean_squared_error: 2.7593 - val_y2_root_mean_squared_error: 2.4437\n",
      "Epoch 139/500\n",
      "7/7 [==============================] - 0s 2ms/step - loss: 13.4414 - y1_loss: 3.1426 - y2_loss: 10.2988 - y1_root_mean_squared_error: 1.7727 - y2_root_mean_squared_error: 3.2092 - val_loss: 5.8928 - val_y1_loss: 2.5833 - val_y2_loss: 3.3094 - val_y1_root_mean_squared_error: 1.6073 - val_y2_root_mean_squared_error: 1.8192\n",
      "Epoch 140/500\n",
      "7/7 [==============================] - 0s 2ms/step - loss: 6.8427 - y1_loss: 2.4042 - y2_loss: 4.4385 - y1_root_mean_squared_error: 1.5505 - y2_root_mean_squared_error: 2.1068 - val_loss: 6.3212 - val_y1_loss: 2.2932 - val_y2_loss: 4.0280 - val_y1_root_mean_squared_error: 1.5143 - val_y2_root_mean_squared_error: 2.0070\n",
      "Epoch 141/500\n",
      "7/7 [==============================] - 0s 2ms/step - loss: 7.2071 - y1_loss: 2.5737 - y2_loss: 4.6334 - y1_root_mean_squared_error: 1.6043 - y2_root_mean_squared_error: 2.1525 - val_loss: 97.1738 - val_y1_loss: 26.1814 - val_y2_loss: 70.9924 - val_y1_root_mean_squared_error: 5.1168 - val_y2_root_mean_squared_error: 8.4257\n",
      "Epoch 142/500\n",
      "7/7 [==============================] - 0s 2ms/step - loss: 25.0101 - y1_loss: 7.6680 - y2_loss: 17.3421 - y1_root_mean_squared_error: 2.7691 - y2_root_mean_squared_error: 4.1644 - val_loss: 11.6928 - val_y1_loss: 3.6920 - val_y2_loss: 8.0008 - val_y1_root_mean_squared_error: 1.9215 - val_y2_root_mean_squared_error: 2.8286\n",
      "Epoch 143/500\n",
      "7/7 [==============================] - 0s 2ms/step - loss: 8.2804 - y1_loss: 2.6455 - y2_loss: 5.6349 - y1_root_mean_squared_error: 1.6265 - y2_root_mean_squared_error: 2.3738 - val_loss: 13.4421 - val_y1_loss: 8.4146 - val_y2_loss: 5.0275 - val_y1_root_mean_squared_error: 2.9008 - val_y2_root_mean_squared_error: 2.2422\n",
      "Epoch 144/500\n",
      "7/7 [==============================] - 0s 2ms/step - loss: 7.0243 - y1_loss: 2.7809 - y2_loss: 4.2434 - y1_root_mean_squared_error: 1.6676 - y2_root_mean_squared_error: 2.0600 - val_loss: 6.1788 - val_y1_loss: 2.2381 - val_y2_loss: 3.9408 - val_y1_root_mean_squared_error: 1.4960 - val_y2_root_mean_squared_error: 1.9851\n",
      "Epoch 145/500\n"
     ]
    },
    {
     "name": "stdout",
     "output_type": "stream",
     "text": [
      "7/7 [==============================] - 0s 2ms/step - loss: 6.9940 - y1_loss: 2.1062 - y2_loss: 4.8878 - y1_root_mean_squared_error: 1.4513 - y2_root_mean_squared_error: 2.2108 - val_loss: 20.8724 - val_y1_loss: 9.1969 - val_y2_loss: 11.6755 - val_y1_root_mean_squared_error: 3.0326 - val_y2_root_mean_squared_error: 3.4169\n",
      "Epoch 146/500\n",
      "7/7 [==============================] - 0s 3ms/step - loss: 5.8987 - y1_loss: 2.6084 - y2_loss: 3.2903 - y1_root_mean_squared_error: 1.6151 - y2_root_mean_squared_error: 1.8139 - val_loss: 39.0712 - val_y1_loss: 12.2306 - val_y2_loss: 26.8406 - val_y1_root_mean_squared_error: 3.4972 - val_y2_root_mean_squared_error: 5.1808\n",
      "Epoch 147/500\n",
      "7/7 [==============================] - 0s 3ms/step - loss: 10.6907 - y1_loss: 3.1337 - y2_loss: 7.5570 - y1_root_mean_squared_error: 1.7702 - y2_root_mean_squared_error: 2.7490 - val_loss: 6.4574 - val_y1_loss: 2.8919 - val_y2_loss: 3.5654 - val_y1_root_mean_squared_error: 1.7006 - val_y2_root_mean_squared_error: 1.8882\n",
      "Epoch 148/500\n",
      "7/7 [==============================] - 0s 2ms/step - loss: 5.5854 - y1_loss: 2.1076 - y2_loss: 3.4778 - y1_root_mean_squared_error: 1.4518 - y2_root_mean_squared_error: 1.8649 - val_loss: 7.1481 - val_y1_loss: 3.0416 - val_y2_loss: 4.1065 - val_y1_root_mean_squared_error: 1.7440 - val_y2_root_mean_squared_error: 2.0264\n",
      "Epoch 149/500\n",
      "7/7 [==============================] - 0s 3ms/step - loss: 5.8930 - y1_loss: 2.0428 - y2_loss: 3.8503 - y1_root_mean_squared_error: 1.4293 - y2_root_mean_squared_error: 1.9622 - val_loss: 9.0394 - val_y1_loss: 2.7149 - val_y2_loss: 6.3245 - val_y1_root_mean_squared_error: 1.6477 - val_y2_root_mean_squared_error: 2.5149\n",
      "Epoch 150/500\n",
      "7/7 [==============================] - 0s 3ms/step - loss: 6.2415 - y1_loss: 2.2446 - y2_loss: 3.9970 - y1_root_mean_squared_error: 1.4982 - y2_root_mean_squared_error: 1.9992 - val_loss: 8.6576 - val_y1_loss: 3.0512 - val_y2_loss: 5.6064 - val_y1_root_mean_squared_error: 1.7468 - val_y2_root_mean_squared_error: 2.3678\n",
      "Epoch 151/500\n",
      "7/7 [==============================] - 0s 2ms/step - loss: 7.2968 - y1_loss: 2.5025 - y2_loss: 4.7942 - y1_root_mean_squared_error: 1.5819 - y2_root_mean_squared_error: 2.1896 - val_loss: 16.1219 - val_y1_loss: 3.3811 - val_y2_loss: 12.7408 - val_y1_root_mean_squared_error: 1.8388 - val_y2_root_mean_squared_error: 3.5694\n",
      "Epoch 152/500\n",
      "7/7 [==============================] - 0s 2ms/step - loss: 7.5692 - y1_loss: 2.3351 - y2_loss: 5.2341 - y1_root_mean_squared_error: 1.5281 - y2_root_mean_squared_error: 2.2878 - val_loss: 6.3033 - val_y1_loss: 2.6497 - val_y2_loss: 3.6536 - val_y1_root_mean_squared_error: 1.6278 - val_y2_root_mean_squared_error: 1.9114\n",
      "Epoch 153/500\n",
      "7/7 [==============================] - 0s 2ms/step - loss: 6.1440 - y1_loss: 1.9613 - y2_loss: 4.1827 - y1_root_mean_squared_error: 1.4005 - y2_root_mean_squared_error: 2.0452 - val_loss: 6.8751 - val_y1_loss: 3.2202 - val_y2_loss: 3.6549 - val_y1_root_mean_squared_error: 1.7945 - val_y2_root_mean_squared_error: 1.9118\n",
      "Epoch 154/500\n",
      "7/7 [==============================] - 0s 2ms/step - loss: 5.9298 - y1_loss: 2.1431 - y2_loss: 3.7866 - y1_root_mean_squared_error: 1.4639 - y2_root_mean_squared_error: 1.9459 - val_loss: 5.9889 - val_y1_loss: 2.2850 - val_y2_loss: 3.7039 - val_y1_root_mean_squared_error: 1.5116 - val_y2_root_mean_squared_error: 1.9246\n",
      "Epoch 155/500\n",
      "7/7 [==============================] - 0s 3ms/step - loss: 8.2340 - y1_loss: 2.6563 - y2_loss: 5.5777 - y1_root_mean_squared_error: 1.6298 - y2_root_mean_squared_error: 2.3617 - val_loss: 6.0852 - val_y1_loss: 2.0442 - val_y2_loss: 4.0410 - val_y1_root_mean_squared_error: 1.4298 - val_y2_root_mean_squared_error: 2.0102\n",
      "Epoch 156/500\n",
      "7/7 [==============================] - 0s 2ms/step - loss: 5.3152 - y1_loss: 1.8958 - y2_loss: 3.4194 - y1_root_mean_squared_error: 1.3769 - y2_root_mean_squared_error: 1.8492 - val_loss: 6.5098 - val_y1_loss: 1.9370 - val_y2_loss: 4.5728 - val_y1_root_mean_squared_error: 1.3918 - val_y2_root_mean_squared_error: 2.1384\n",
      "Epoch 157/500\n",
      "7/7 [==============================] - 0s 3ms/step - loss: 5.1501 - y1_loss: 1.9253 - y2_loss: 3.2247 - y1_root_mean_squared_error: 1.3876 - y2_root_mean_squared_error: 1.7957 - val_loss: 7.6482 - val_y1_loss: 3.1084 - val_y2_loss: 4.5398 - val_y1_root_mean_squared_error: 1.7631 - val_y2_root_mean_squared_error: 2.1307\n",
      "Epoch 158/500\n",
      "7/7 [==============================] - 0s 2ms/step - loss: 5.6578 - y1_loss: 1.9895 - y2_loss: 3.6683 - y1_root_mean_squared_error: 1.4105 - y2_root_mean_squared_error: 1.9153 - val_loss: 26.7896 - val_y1_loss: 9.5107 - val_y2_loss: 17.2789 - val_y1_root_mean_squared_error: 3.0839 - val_y2_root_mean_squared_error: 4.1568\n",
      "Epoch 159/500\n",
      "7/7 [==============================] - 0s 2ms/step - loss: 7.4284 - y1_loss: 2.5466 - y2_loss: 4.8818 - y1_root_mean_squared_error: 1.5958 - y2_root_mean_squared_error: 2.2095 - val_loss: 7.9106 - val_y1_loss: 2.1534 - val_y2_loss: 5.7572 - val_y1_root_mean_squared_error: 1.4674 - val_y2_root_mean_squared_error: 2.3994\n",
      "Epoch 160/500\n",
      "7/7 [==============================] - 0s 2ms/step - loss: 5.3577 - y1_loss: 1.7442 - y2_loss: 3.6135 - y1_root_mean_squared_error: 1.3207 - y2_root_mean_squared_error: 1.9009 - val_loss: 7.2999 - val_y1_loss: 2.6208 - val_y2_loss: 4.6791 - val_y1_root_mean_squared_error: 1.6189 - val_y2_root_mean_squared_error: 2.1631\n",
      "Epoch 161/500\n",
      "7/7 [==============================] - 0s 2ms/step - loss: 6.3242 - y1_loss: 2.1983 - y2_loss: 4.1259 - y1_root_mean_squared_error: 1.4827 - y2_root_mean_squared_error: 2.0312 - val_loss: 5.2799 - val_y1_loss: 1.9539 - val_y2_loss: 3.3261 - val_y1_root_mean_squared_error: 1.3978 - val_y2_root_mean_squared_error: 1.8238\n",
      "Epoch 162/500\n",
      "7/7 [==============================] - 0s 2ms/step - loss: 5.5457 - y1_loss: 1.8779 - y2_loss: 3.6678 - y1_root_mean_squared_error: 1.3704 - y2_root_mean_squared_error: 1.9152 - val_loss: 15.2636 - val_y1_loss: 5.1616 - val_y2_loss: 10.1020 - val_y1_root_mean_squared_error: 2.2719 - val_y2_root_mean_squared_error: 3.1784\n",
      "Epoch 163/500\n",
      "7/7 [==============================] - 0s 2ms/step - loss: 6.1032 - y1_loss: 2.3918 - y2_loss: 3.7114 - y1_root_mean_squared_error: 1.5466 - y2_root_mean_squared_error: 1.9265 - val_loss: 7.1131 - val_y1_loss: 2.6437 - val_y2_loss: 4.4694 - val_y1_root_mean_squared_error: 1.6260 - val_y2_root_mean_squared_error: 2.1141\n",
      "Epoch 164/500\n",
      "7/7 [==============================] - 0s 3ms/step - loss: 5.2142 - y1_loss: 1.7963 - y2_loss: 3.4179 - y1_root_mean_squared_error: 1.3403 - y2_root_mean_squared_error: 1.8487 - val_loss: 9.0817 - val_y1_loss: 2.7320 - val_y2_loss: 6.3497 - val_y1_root_mean_squared_error: 1.6529 - val_y2_root_mean_squared_error: 2.5199\n",
      "Epoch 165/500\n",
      "7/7 [==============================] - 0s 2ms/step - loss: 5.9480 - y1_loss: 2.0378 - y2_loss: 3.9102 - y1_root_mean_squared_error: 1.4275 - y2_root_mean_squared_error: 1.9774 - val_loss: 12.6641 - val_y1_loss: 3.8220 - val_y2_loss: 8.8421 - val_y1_root_mean_squared_error: 1.9550 - val_y2_root_mean_squared_error: 2.9736\n",
      "Epoch 166/500\n",
      "7/7 [==============================] - 0s 2ms/step - loss: 7.9760 - y1_loss: 2.2310 - y2_loss: 5.7450 - y1_root_mean_squared_error: 1.4937 - y2_root_mean_squared_error: 2.3969 - val_loss: 6.7169 - val_y1_loss: 2.7324 - val_y2_loss: 3.9846 - val_y1_root_mean_squared_error: 1.6530 - val_y2_root_mean_squared_error: 1.9961\n",
      "Epoch 167/500\n",
      "7/7 [==============================] - 0s 2ms/step - loss: 4.8990 - y1_loss: 1.7757 - y2_loss: 3.1234 - y1_root_mean_squared_error: 1.3325 - y2_root_mean_squared_error: 1.7673 - val_loss: 19.3469 - val_y1_loss: 3.1297 - val_y2_loss: 16.2173 - val_y1_root_mean_squared_error: 1.7691 - val_y2_root_mean_squared_error: 4.0271\n",
      "Epoch 168/500\n",
      "7/7 [==============================] - 0s 3ms/step - loss: 7.6747 - y1_loss: 2.1556 - y2_loss: 5.5191 - y1_root_mean_squared_error: 1.4682 - y2_root_mean_squared_error: 2.3493 - val_loss: 13.5780 - val_y1_loss: 3.4341 - val_y2_loss: 10.1439 - val_y1_root_mean_squared_error: 1.8531 - val_y2_root_mean_squared_error: 3.1849\n",
      "Epoch 169/500\n"
     ]
    },
    {
     "name": "stdout",
     "output_type": "stream",
     "text": [
      "7/7 [==============================] - 0s 2ms/step - loss: 6.0780 - y1_loss: 2.2111 - y2_loss: 3.8669 - y1_root_mean_squared_error: 1.4870 - y2_root_mean_squared_error: 1.9665 - val_loss: 5.8280 - val_y1_loss: 2.1100 - val_y2_loss: 3.7181 - val_y1_root_mean_squared_error: 1.4526 - val_y2_root_mean_squared_error: 1.9282\n",
      "Epoch 170/500\n",
      "7/7 [==============================] - 0s 2ms/step - loss: 5.0838 - y1_loss: 1.7575 - y2_loss: 3.3263 - y1_root_mean_squared_error: 1.3257 - y2_root_mean_squared_error: 1.8238 - val_loss: 5.8428 - val_y1_loss: 2.1438 - val_y2_loss: 3.6990 - val_y1_root_mean_squared_error: 1.4642 - val_y2_root_mean_squared_error: 1.9233\n",
      "Epoch 171/500\n",
      "7/7 [==============================] - 0s 2ms/step - loss: 5.6984 - y1_loss: 1.7884 - y2_loss: 3.9100 - y1_root_mean_squared_error: 1.3373 - y2_root_mean_squared_error: 1.9774 - val_loss: 6.5909 - val_y1_loss: 2.8272 - val_y2_loss: 3.7637 - val_y1_root_mean_squared_error: 1.6814 - val_y2_root_mean_squared_error: 1.9400\n",
      "Epoch 172/500\n",
      "7/7 [==============================] - 0s 3ms/step - loss: 5.5805 - y1_loss: 1.9027 - y2_loss: 3.6778 - y1_root_mean_squared_error: 1.3794 - y2_root_mean_squared_error: 1.9178 - val_loss: 5.6229 - val_y1_loss: 2.0019 - val_y2_loss: 3.6210 - val_y1_root_mean_squared_error: 1.4149 - val_y2_root_mean_squared_error: 1.9029\n",
      "Epoch 173/500\n",
      "7/7 [==============================] - 0s 3ms/step - loss: 5.6791 - y1_loss: 1.9138 - y2_loss: 3.7654 - y1_root_mean_squared_error: 1.3834 - y2_root_mean_squared_error: 1.9405 - val_loss: 10.9706 - val_y1_loss: 3.1416 - val_y2_loss: 7.8290 - val_y1_root_mean_squared_error: 1.7725 - val_y2_root_mean_squared_error: 2.7980\n",
      "Epoch 174/500\n",
      "7/7 [==============================] - 0s 3ms/step - loss: 6.5995 - y1_loss: 2.2694 - y2_loss: 4.3300 - y1_root_mean_squared_error: 1.5065 - y2_root_mean_squared_error: 2.0809 - val_loss: 6.6683 - val_y1_loss: 2.5610 - val_y2_loss: 4.1073 - val_y1_root_mean_squared_error: 1.6003 - val_y2_root_mean_squared_error: 2.0267\n",
      "Epoch 175/500\n",
      "7/7 [==============================] - 0s 2ms/step - loss: 5.1757 - y1_loss: 1.7294 - y2_loss: 3.4463 - y1_root_mean_squared_error: 1.3151 - y2_root_mean_squared_error: 1.8564 - val_loss: 5.5358 - val_y1_loss: 2.4309 - val_y2_loss: 3.1049 - val_y1_root_mean_squared_error: 1.5591 - val_y2_root_mean_squared_error: 1.7621\n",
      "Epoch 176/500\n",
      "7/7 [==============================] - 0s 3ms/step - loss: 4.4114 - y1_loss: 1.5561 - y2_loss: 2.8553 - y1_root_mean_squared_error: 1.2475 - y2_root_mean_squared_error: 1.6898 - val_loss: 6.3545 - val_y1_loss: 2.8651 - val_y2_loss: 3.4894 - val_y1_root_mean_squared_error: 1.6926 - val_y2_root_mean_squared_error: 1.8680\n",
      "Epoch 177/500\n",
      "7/7 [==============================] - 0s 2ms/step - loss: 4.7726 - y1_loss: 1.4717 - y2_loss: 3.3009 - y1_root_mean_squared_error: 1.2131 - y2_root_mean_squared_error: 1.8168 - val_loss: 8.7190 - val_y1_loss: 4.3820 - val_y2_loss: 4.3370 - val_y1_root_mean_squared_error: 2.0933 - val_y2_root_mean_squared_error: 2.0825\n",
      "Epoch 178/500\n",
      "7/7 [==============================] - 0s 2ms/step - loss: 4.5005 - y1_loss: 1.7139 - y2_loss: 2.7866 - y1_root_mean_squared_error: 1.3092 - y2_root_mean_squared_error: 1.6693 - val_loss: 18.3920 - val_y1_loss: 4.6846 - val_y2_loss: 13.7074 - val_y1_root_mean_squared_error: 2.1644 - val_y2_root_mean_squared_error: 3.7023\n",
      "Epoch 179/500\n",
      "7/7 [==============================] - 0s 3ms/step - loss: 8.4811 - y1_loss: 2.2982 - y2_loss: 6.1829 - y1_root_mean_squared_error: 1.5160 - y2_root_mean_squared_error: 2.4865 - val_loss: 6.5212 - val_y1_loss: 2.4288 - val_y2_loss: 4.0924 - val_y1_root_mean_squared_error: 1.5585 - val_y2_root_mean_squared_error: 2.0230\n",
      "Epoch 180/500\n",
      "7/7 [==============================] - 0s 2ms/step - loss: 4.7884 - y1_loss: 1.8238 - y2_loss: 2.9646 - y1_root_mean_squared_error: 1.3505 - y2_root_mean_squared_error: 1.7218 - val_loss: 6.4387 - val_y1_loss: 2.7463 - val_y2_loss: 3.6924 - val_y1_root_mean_squared_error: 1.6572 - val_y2_root_mean_squared_error: 1.9216\n",
      "Epoch 181/500\n",
      "7/7 [==============================] - 0s 2ms/step - loss: 4.8271 - y1_loss: 1.6736 - y2_loss: 3.1536 - y1_root_mean_squared_error: 1.2937 - y2_root_mean_squared_error: 1.7758 - val_loss: 6.7612 - val_y1_loss: 2.7324 - val_y2_loss: 4.0288 - val_y1_root_mean_squared_error: 1.6530 - val_y2_root_mean_squared_error: 2.0072\n",
      "Epoch 182/500\n",
      "7/7 [==============================] - 0s 2ms/step - loss: 4.4161 - y1_loss: 1.5743 - y2_loss: 2.8417 - y1_root_mean_squared_error: 1.2547 - y2_root_mean_squared_error: 1.6857 - val_loss: 7.3907 - val_y1_loss: 3.2949 - val_y2_loss: 4.0958 - val_y1_root_mean_squared_error: 1.8152 - val_y2_root_mean_squared_error: 2.0238\n",
      "Epoch 183/500\n",
      "7/7 [==============================] - 0s 2ms/step - loss: 4.8580 - y1_loss: 1.8557 - y2_loss: 3.0024 - y1_root_mean_squared_error: 1.3622 - y2_root_mean_squared_error: 1.7327 - val_loss: 19.0845 - val_y1_loss: 2.4610 - val_y2_loss: 16.6236 - val_y1_root_mean_squared_error: 1.5688 - val_y2_root_mean_squared_error: 4.0772\n",
      "Epoch 184/500\n",
      "7/7 [==============================] - 0s 2ms/step - loss: 9.0996 - y1_loss: 2.9543 - y2_loss: 6.1453 - y1_root_mean_squared_error: 1.7188 - y2_root_mean_squared_error: 2.4790 - val_loss: 14.7565 - val_y1_loss: 2.5022 - val_y2_loss: 12.2543 - val_y1_root_mean_squared_error: 1.5818 - val_y2_root_mean_squared_error: 3.5006\n",
      "Epoch 185/500\n",
      "7/7 [==============================] - 0s 3ms/step - loss: 5.9782 - y1_loss: 1.8668 - y2_loss: 4.1114 - y1_root_mean_squared_error: 1.3663 - y2_root_mean_squared_error: 2.0277 - val_loss: 8.9551 - val_y1_loss: 3.0965 - val_y2_loss: 5.8586 - val_y1_root_mean_squared_error: 1.7597 - val_y2_root_mean_squared_error: 2.4204\n",
      "Epoch 186/500\n",
      "7/7 [==============================] - 0s 3ms/step - loss: 5.9507 - y1_loss: 2.1141 - y2_loss: 3.8366 - y1_root_mean_squared_error: 1.4540 - y2_root_mean_squared_error: 1.9587 - val_loss: 5.5733 - val_y1_loss: 2.5466 - val_y2_loss: 3.0267 - val_y1_root_mean_squared_error: 1.5958 - val_y2_root_mean_squared_error: 1.7397\n",
      "Epoch 187/500\n",
      "7/7 [==============================] - 0s 2ms/step - loss: 4.2271 - y1_loss: 1.7168 - y2_loss: 2.5103 - y1_root_mean_squared_error: 1.3103 - y2_root_mean_squared_error: 1.5844 - val_loss: 5.4651 - val_y1_loss: 2.5523 - val_y2_loss: 2.9128 - val_y1_root_mean_squared_error: 1.5976 - val_y2_root_mean_squared_error: 1.7067\n",
      "Epoch 188/500\n",
      "7/7 [==============================] - 0s 2ms/step - loss: 4.0439 - y1_loss: 1.5717 - y2_loss: 2.4722 - y1_root_mean_squared_error: 1.2537 - y2_root_mean_squared_error: 1.5723 - val_loss: 4.6240 - val_y1_loss: 2.3881 - val_y2_loss: 2.2359 - val_y1_root_mean_squared_error: 1.5454 - val_y2_root_mean_squared_error: 1.4953\n",
      "Epoch 189/500\n",
      "7/7 [==============================] - 0s 2ms/step - loss: 4.4890 - y1_loss: 1.5334 - y2_loss: 2.9556 - y1_root_mean_squared_error: 1.2383 - y2_root_mean_squared_error: 1.7192 - val_loss: 5.0198 - val_y1_loss: 2.3993 - val_y2_loss: 2.6205 - val_y1_root_mean_squared_error: 1.5490 - val_y2_root_mean_squared_error: 1.6188\n",
      "Epoch 190/500\n",
      "7/7 [==============================] - 0s 2ms/step - loss: 4.6130 - y1_loss: 1.6963 - y2_loss: 2.9167 - y1_root_mean_squared_error: 1.3024 - y2_root_mean_squared_error: 1.7078 - val_loss: 5.2889 - val_y1_loss: 2.1026 - val_y2_loss: 3.1862 - val_y1_root_mean_squared_error: 1.4500 - val_y2_root_mean_squared_error: 1.7850\n",
      "Epoch 191/500\n",
      "7/7 [==============================] - 0s 2ms/step - loss: 4.2266 - y1_loss: 1.4474 - y2_loss: 2.7791 - y1_root_mean_squared_error: 1.2031 - y2_root_mean_squared_error: 1.6671 - val_loss: 5.0812 - val_y1_loss: 1.9651 - val_y2_loss: 3.1162 - val_y1_root_mean_squared_error: 1.4018 - val_y2_root_mean_squared_error: 1.7653\n",
      "Epoch 192/500\n",
      "7/7 [==============================] - 0s 2ms/step - loss: 4.3351 - y1_loss: 1.5298 - y2_loss: 2.8053 - y1_root_mean_squared_error: 1.2368 - y2_root_mean_squared_error: 1.6749 - val_loss: 4.8145 - val_y1_loss: 2.0192 - val_y2_loss: 2.7952 - val_y1_root_mean_squared_error: 1.4210 - val_y2_root_mean_squared_error: 1.6719\n",
      "Epoch 193/500\n"
     ]
    },
    {
     "name": "stdout",
     "output_type": "stream",
     "text": [
      "7/7 [==============================] - 0s 2ms/step - loss: 4.8232 - y1_loss: 1.7127 - y2_loss: 3.1105 - y1_root_mean_squared_error: 1.3087 - y2_root_mean_squared_error: 1.7637 - val_loss: 31.8851 - val_y1_loss: 13.4793 - val_y2_loss: 18.4058 - val_y1_root_mean_squared_error: 3.6714 - val_y2_root_mean_squared_error: 4.2902\n",
      "Epoch 194/500\n",
      "7/7 [==============================] - 0s 2ms/step - loss: 10.8456 - y1_loss: 2.8282 - y2_loss: 8.0174 - y1_root_mean_squared_error: 1.6817 - y2_root_mean_squared_error: 2.8315 - val_loss: 12.2668 - val_y1_loss: 4.1056 - val_y2_loss: 8.1612 - val_y1_root_mean_squared_error: 2.0262 - val_y2_root_mean_squared_error: 2.8568\n",
      "Epoch 195/500\n",
      "7/7 [==============================] - 0s 2ms/step - loss: 4.5643 - y1_loss: 2.0028 - y2_loss: 2.5615 - y1_root_mean_squared_error: 1.4152 - y2_root_mean_squared_error: 1.6005 - val_loss: 8.1232 - val_y1_loss: 4.4022 - val_y2_loss: 3.7210 - val_y1_root_mean_squared_error: 2.0981 - val_y2_root_mean_squared_error: 1.9290\n",
      "Epoch 196/500\n",
      "7/7 [==============================] - 0s 2ms/step - loss: 5.6266 - y1_loss: 2.1050 - y2_loss: 3.5216 - y1_root_mean_squared_error: 1.4509 - y2_root_mean_squared_error: 1.8766 - val_loss: 5.3791 - val_y1_loss: 2.2575 - val_y2_loss: 3.1216 - val_y1_root_mean_squared_error: 1.5025 - val_y2_root_mean_squared_error: 1.7668\n",
      "Epoch 197/500\n",
      "7/7 [==============================] - 0s 2ms/step - loss: 4.0369 - y1_loss: 1.5019 - y2_loss: 2.5350 - y1_root_mean_squared_error: 1.2255 - y2_root_mean_squared_error: 1.5922 - val_loss: 5.3716 - val_y1_loss: 2.2986 - val_y2_loss: 3.0730 - val_y1_root_mean_squared_error: 1.5161 - val_y2_root_mean_squared_error: 1.7530\n",
      "Epoch 198/500\n",
      "7/7 [==============================] - 0s 2ms/step - loss: 4.6884 - y1_loss: 1.7704 - y2_loss: 2.9180 - y1_root_mean_squared_error: 1.3306 - y2_root_mean_squared_error: 1.7082 - val_loss: 18.8272 - val_y1_loss: 4.3925 - val_y2_loss: 14.4348 - val_y1_root_mean_squared_error: 2.0958 - val_y2_root_mean_squared_error: 3.7993\n",
      "Epoch 199/500\n",
      "7/7 [==============================] - 0s 2ms/step - loss: 6.5067 - y1_loss: 1.6653 - y2_loss: 4.8415 - y1_root_mean_squared_error: 1.2905 - y2_root_mean_squared_error: 2.2003 - val_loss: 9.3278 - val_y1_loss: 2.7250 - val_y2_loss: 6.6027 - val_y1_root_mean_squared_error: 1.6508 - val_y2_root_mean_squared_error: 2.5696\n",
      "Epoch 200/500\n",
      "7/7 [==============================] - 0s 2ms/step - loss: 5.7140 - y1_loss: 1.9888 - y2_loss: 3.7252 - y1_root_mean_squared_error: 1.4103 - y2_root_mean_squared_error: 1.9301 - val_loss: 6.0317 - val_y1_loss: 2.8541 - val_y2_loss: 3.1775 - val_y1_root_mean_squared_error: 1.6894 - val_y2_root_mean_squared_error: 1.7826\n",
      "Epoch 201/500\n",
      "7/7 [==============================] - 0s 2ms/step - loss: 4.7306 - y1_loss: 1.6676 - y2_loss: 3.0631 - y1_root_mean_squared_error: 1.2913 - y2_root_mean_squared_error: 1.7502 - val_loss: 13.7461 - val_y1_loss: 3.3064 - val_y2_loss: 10.4397 - val_y1_root_mean_squared_error: 1.8183 - val_y2_root_mean_squared_error: 3.2311\n",
      "Epoch 202/500\n",
      "7/7 [==============================] - 0s 2ms/step - loss: 5.8659 - y1_loss: 1.9977 - y2_loss: 3.8682 - y1_root_mean_squared_error: 1.4134 - y2_root_mean_squared_error: 1.9668 - val_loss: 8.2926 - val_y1_loss: 2.0424 - val_y2_loss: 6.2502 - val_y1_root_mean_squared_error: 1.4291 - val_y2_root_mean_squared_error: 2.5000\n",
      "Epoch 203/500\n",
      "7/7 [==============================] - 0s 2ms/step - loss: 4.8233 - y1_loss: 1.9302 - y2_loss: 2.8931 - y1_root_mean_squared_error: 1.3893 - y2_root_mean_squared_error: 1.7009 - val_loss: 8.7940 - val_y1_loss: 2.4960 - val_y2_loss: 6.2980 - val_y1_root_mean_squared_error: 1.5799 - val_y2_root_mean_squared_error: 2.5096\n",
      "Epoch 204/500\n",
      "7/7 [==============================] - 0s 3ms/step - loss: 4.3101 - y1_loss: 1.4286 - y2_loss: 2.8815 - y1_root_mean_squared_error: 1.1952 - y2_root_mean_squared_error: 1.6975 - val_loss: 60.6997 - val_y1_loss: 16.6530 - val_y2_loss: 44.0467 - val_y1_root_mean_squared_error: 4.0808 - val_y2_root_mean_squared_error: 6.6368\n",
      "Epoch 205/500\n",
      "7/7 [==============================] - 0s 3ms/step - loss: 16.3777 - y1_loss: 5.6831 - y2_loss: 10.6946 - y1_root_mean_squared_error: 2.3839 - y2_root_mean_squared_error: 3.2703 - val_loss: 6.0068 - val_y1_loss: 2.3265 - val_y2_loss: 3.6804 - val_y1_root_mean_squared_error: 1.5253 - val_y2_root_mean_squared_error: 1.9184\n",
      "Epoch 206/500\n",
      "7/7 [==============================] - 0s 3ms/step - loss: 4.2671 - y1_loss: 1.5817 - y2_loss: 2.6853 - y1_root_mean_squared_error: 1.2577 - y2_root_mean_squared_error: 1.6387 - val_loss: 7.4354 - val_y1_loss: 4.2457 - val_y2_loss: 3.1897 - val_y1_root_mean_squared_error: 2.0605 - val_y2_root_mean_squared_error: 1.7860\n",
      "Epoch 207/500\n",
      "7/7 [==============================] - 0s 2ms/step - loss: 4.3421 - y1_loss: 1.7390 - y2_loss: 2.6031 - y1_root_mean_squared_error: 1.3187 - y2_root_mean_squared_error: 1.6134 - val_loss: 5.7371 - val_y1_loss: 2.6234 - val_y2_loss: 3.1137 - val_y1_root_mean_squared_error: 1.6197 - val_y2_root_mean_squared_error: 1.7646\n",
      "Epoch 208/500\n",
      "7/7 [==============================] - 0s 3ms/step - loss: 4.0987 - y1_loss: 1.4817 - y2_loss: 2.6170 - y1_root_mean_squared_error: 1.2173 - y2_root_mean_squared_error: 1.6177 - val_loss: 55.0787 - val_y1_loss: 15.2143 - val_y2_loss: 39.8644 - val_y1_root_mean_squared_error: 3.9006 - val_y2_root_mean_squared_error: 6.3138\n",
      "Epoch 209/500\n",
      "7/7 [==============================] - 0s 2ms/step - loss: 12.8273 - y1_loss: 3.7275 - y2_loss: 9.0998 - y1_root_mean_squared_error: 1.9307 - y2_root_mean_squared_error: 3.0166 - val_loss: 9.3112 - val_y1_loss: 4.1246 - val_y2_loss: 5.1866 - val_y1_root_mean_squared_error: 2.0309 - val_y2_root_mean_squared_error: 2.2774\n",
      "Epoch 210/500\n",
      "7/7 [==============================] - 0s 2ms/step - loss: 5.1300 - y1_loss: 1.9245 - y2_loss: 3.2055 - y1_root_mean_squared_error: 1.3873 - y2_root_mean_squared_error: 1.7904 - val_loss: 6.1304 - val_y1_loss: 2.9227 - val_y2_loss: 3.2077 - val_y1_root_mean_squared_error: 1.7096 - val_y2_root_mean_squared_error: 1.7910\n",
      "Epoch 211/500\n",
      "7/7 [==============================] - 0s 3ms/step - loss: 4.7571 - y1_loss: 1.6264 - y2_loss: 3.1307 - y1_root_mean_squared_error: 1.2753 - y2_root_mean_squared_error: 1.7694 - val_loss: 6.3266 - val_y1_loss: 2.7991 - val_y2_loss: 3.5275 - val_y1_root_mean_squared_error: 1.6731 - val_y2_root_mean_squared_error: 1.8782\n",
      "Epoch 212/500\n",
      "7/7 [==============================] - 0s 2ms/step - loss: 3.9648 - y1_loss: 1.4134 - y2_loss: 2.5513 - y1_root_mean_squared_error: 1.1889 - y2_root_mean_squared_error: 1.5973 - val_loss: 8.0333 - val_y1_loss: 2.4779 - val_y2_loss: 5.5554 - val_y1_root_mean_squared_error: 1.5741 - val_y2_root_mean_squared_error: 2.3570\n",
      "Epoch 213/500\n",
      "7/7 [==============================] - 0s 2ms/step - loss: 3.6518 - y1_loss: 1.4505 - y2_loss: 2.2013 - y1_root_mean_squared_error: 1.2043 - y2_root_mean_squared_error: 1.4837 - val_loss: 6.0300 - val_y1_loss: 2.5160 - val_y2_loss: 3.5140 - val_y1_root_mean_squared_error: 1.5862 - val_y2_root_mean_squared_error: 1.8746\n",
      "Epoch 214/500\n",
      "7/7 [==============================] - 0s 2ms/step - loss: 3.8548 - y1_loss: 1.6139 - y2_loss: 2.2409 - y1_root_mean_squared_error: 1.2704 - y2_root_mean_squared_error: 1.4969 - val_loss: 7.6899 - val_y1_loss: 4.2852 - val_y2_loss: 3.4047 - val_y1_root_mean_squared_error: 2.0701 - val_y2_root_mean_squared_error: 1.8452\n",
      "Epoch 215/500\n",
      "7/7 [==============================] - 0s 2ms/step - loss: 3.8186 - y1_loss: 1.7595 - y2_loss: 2.0591 - y1_root_mean_squared_error: 1.3264 - y2_root_mean_squared_error: 1.4350 - val_loss: 7.1944 - val_y1_loss: 2.4129 - val_y2_loss: 4.7815 - val_y1_root_mean_squared_error: 1.5533 - val_y2_root_mean_squared_error: 2.1867\n",
      "Epoch 216/500\n",
      "7/7 [==============================] - 0s 2ms/step - loss: 5.1667 - y1_loss: 1.7732 - y2_loss: 3.3934 - y1_root_mean_squared_error: 1.3316 - y2_root_mean_squared_error: 1.8421 - val_loss: 5.8088 - val_y1_loss: 2.2351 - val_y2_loss: 3.5736 - val_y1_root_mean_squared_error: 1.4950 - val_y2_root_mean_squared_error: 1.8904\n",
      "Epoch 217/500\n"
     ]
    },
    {
     "name": "stdout",
     "output_type": "stream",
     "text": [
      "7/7 [==============================] - 0s 2ms/step - loss: 3.3086 - y1_loss: 1.2558 - y2_loss: 2.0528 - y1_root_mean_squared_error: 1.1206 - y2_root_mean_squared_error: 1.4328 - val_loss: 212.7719 - val_y1_loss: 39.4259 - val_y2_loss: 173.3461 - val_y1_root_mean_squared_error: 6.2790 - val_y2_root_mean_squared_error: 13.1661\n",
      "Epoch 218/500\n",
      "7/7 [==============================] - 0s 2ms/step - loss: 41.3995 - y1_loss: 9.5067 - y2_loss: 31.8928 - y1_root_mean_squared_error: 3.0833 - y2_root_mean_squared_error: 5.6474 - val_loss: 7.5126 - val_y1_loss: 2.8153 - val_y2_loss: 4.6974 - val_y1_root_mean_squared_error: 1.6779 - val_y2_root_mean_squared_error: 2.1673\n",
      "Epoch 219/500\n",
      "7/7 [==============================] - 0s 2ms/step - loss: 4.3509 - y1_loss: 1.6942 - y2_loss: 2.6567 - y1_root_mean_squared_error: 1.3016 - y2_root_mean_squared_error: 1.6299 - val_loss: 7.4153 - val_y1_loss: 2.5972 - val_y2_loss: 4.8181 - val_y1_root_mean_squared_error: 1.6116 - val_y2_root_mean_squared_error: 2.1950\n",
      "Epoch 220/500\n",
      "7/7 [==============================] - 0s 3ms/step - loss: 3.9291 - y1_loss: 1.2841 - y2_loss: 2.6450 - y1_root_mean_squared_error: 1.1332 - y2_root_mean_squared_error: 1.6263 - val_loss: 7.5824 - val_y1_loss: 3.8008 - val_y2_loss: 3.7816 - val_y1_root_mean_squared_error: 1.9496 - val_y2_root_mean_squared_error: 1.9446\n",
      "Epoch 221/500\n",
      "7/7 [==============================] - 0s 2ms/step - loss: 4.0091 - y1_loss: 1.4413 - y2_loss: 2.5679 - y1_root_mean_squared_error: 1.2005 - y2_root_mean_squared_error: 1.6025 - val_loss: 7.4380 - val_y1_loss: 3.5835 - val_y2_loss: 3.8546 - val_y1_root_mean_squared_error: 1.8930 - val_y2_root_mean_squared_error: 1.9633\n",
      "Epoch 222/500\n",
      "7/7 [==============================] - 0s 3ms/step - loss: 4.4959 - y1_loss: 1.5569 - y2_loss: 2.9391 - y1_root_mean_squared_error: 1.2477 - y2_root_mean_squared_error: 1.7144 - val_loss: 5.5509 - val_y1_loss: 2.0178 - val_y2_loss: 3.5331 - val_y1_root_mean_squared_error: 1.4205 - val_y2_root_mean_squared_error: 1.8797\n",
      "Epoch 223/500\n",
      "7/7 [==============================] - 0s 2ms/step - loss: 3.4201 - y1_loss: 1.3464 - y2_loss: 2.0737 - y1_root_mean_squared_error: 1.1603 - y2_root_mean_squared_error: 1.4400 - val_loss: 36.9365 - val_y1_loss: 10.5978 - val_y2_loss: 26.3387 - val_y1_root_mean_squared_error: 3.2554 - val_y2_root_mean_squared_error: 5.1321\n",
      "Epoch 224/500\n",
      "7/7 [==============================] - 0s 2ms/step - loss: 8.6975 - y1_loss: 3.4298 - y2_loss: 5.2678 - y1_root_mean_squared_error: 1.8520 - y2_root_mean_squared_error: 2.2952 - val_loss: 10.9736 - val_y1_loss: 6.8899 - val_y2_loss: 4.0838 - val_y1_root_mean_squared_error: 2.6249 - val_y2_root_mean_squared_error: 2.0208\n",
      "Epoch 225/500\n",
      "7/7 [==============================] - 0s 2ms/step - loss: 4.2851 - y1_loss: 1.5899 - y2_loss: 2.6952 - y1_root_mean_squared_error: 1.2609 - y2_root_mean_squared_error: 1.6417 - val_loss: 6.4865 - val_y1_loss: 3.1906 - val_y2_loss: 3.2959 - val_y1_root_mean_squared_error: 1.7862 - val_y2_root_mean_squared_error: 1.8155\n",
      "Epoch 226/500\n",
      "7/7 [==============================] - 0s 2ms/step - loss: 3.4149 - y1_loss: 1.2497 - y2_loss: 2.1652 - y1_root_mean_squared_error: 1.1179 - y2_root_mean_squared_error: 1.4714 - val_loss: 40.8980 - val_y1_loss: 16.4122 - val_y2_loss: 24.4858 - val_y1_root_mean_squared_error: 4.0512 - val_y2_root_mean_squared_error: 4.9483\n",
      "Epoch 227/500\n",
      "7/7 [==============================] - 0s 2ms/step - loss: 8.4510 - y1_loss: 2.6374 - y2_loss: 5.8136 - y1_root_mean_squared_error: 1.6240 - y2_root_mean_squared_error: 2.4111 - val_loss: 51.0040 - val_y1_loss: 14.3413 - val_y2_loss: 36.6627 - val_y1_root_mean_squared_error: 3.7870 - val_y2_root_mean_squared_error: 6.0550\n",
      "Epoch 228/500\n",
      "7/7 [==============================] - 0s 2ms/step - loss: 9.3753 - y1_loss: 4.1218 - y2_loss: 5.2534 - y1_root_mean_squared_error: 2.0302 - y2_root_mean_squared_error: 2.2920 - val_loss: 6.7905 - val_y1_loss: 2.6718 - val_y2_loss: 4.1187 - val_y1_root_mean_squared_error: 1.6346 - val_y2_root_mean_squared_error: 2.0295\n",
      "Epoch 229/500\n",
      "7/7 [==============================] - 0s 2ms/step - loss: 3.7891 - y1_loss: 1.2701 - y2_loss: 2.5189 - y1_root_mean_squared_error: 1.1270 - y2_root_mean_squared_error: 1.5871 - val_loss: 6.5141 - val_y1_loss: 2.7465 - val_y2_loss: 3.7675 - val_y1_root_mean_squared_error: 1.6573 - val_y2_root_mean_squared_error: 1.9410\n",
      "Epoch 230/500\n",
      "7/7 [==============================] - 0s 2ms/step - loss: 3.2723 - y1_loss: 1.1914 - y2_loss: 2.0809 - y1_root_mean_squared_error: 1.0915 - y2_root_mean_squared_error: 1.4425 - val_loss: 5.6383 - val_y1_loss: 2.5388 - val_y2_loss: 3.0995 - val_y1_root_mean_squared_error: 1.5934 - val_y2_root_mean_squared_error: 1.7605\n",
      "Epoch 231/500\n",
      "7/7 [==============================] - 0s 2ms/step - loss: 3.3595 - y1_loss: 1.3627 - y2_loss: 1.9968 - y1_root_mean_squared_error: 1.1673 - y2_root_mean_squared_error: 1.4131 - val_loss: 8.4994 - val_y1_loss: 4.8117 - val_y2_loss: 3.6877 - val_y1_root_mean_squared_error: 2.1936 - val_y2_root_mean_squared_error: 1.9203\n",
      "Epoch 232/500\n",
      "7/7 [==============================] - 0s 3ms/step - loss: 3.6317 - y1_loss: 1.5588 - y2_loss: 2.0729 - y1_root_mean_squared_error: 1.2485 - y2_root_mean_squared_error: 1.4397 - val_loss: 7.2374 - val_y1_loss: 2.6564 - val_y2_loss: 4.5811 - val_y1_root_mean_squared_error: 1.6298 - val_y2_root_mean_squared_error: 2.1403\n",
      "Epoch 233/500\n",
      "7/7 [==============================] - 0s 3ms/step - loss: 3.3971 - y1_loss: 1.3502 - y2_loss: 2.0469 - y1_root_mean_squared_error: 1.1620 - y2_root_mean_squared_error: 1.4307 - val_loss: 23.9739 - val_y1_loss: 9.1807 - val_y2_loss: 14.7932 - val_y1_root_mean_squared_error: 3.0300 - val_y2_root_mean_squared_error: 3.8462\n",
      "Epoch 234/500\n",
      "7/7 [==============================] - 0s 3ms/step - loss: 9.2110 - y1_loss: 2.7358 - y2_loss: 6.4751 - y1_root_mean_squared_error: 1.6540 - y2_root_mean_squared_error: 2.5446 - val_loss: 8.1882 - val_y1_loss: 2.6966 - val_y2_loss: 5.4917 - val_y1_root_mean_squared_error: 1.6421 - val_y2_root_mean_squared_error: 2.3434\n",
      "Epoch 235/500\n",
      "7/7 [==============================] - 0s 3ms/step - loss: 3.8163 - y1_loss: 1.2765 - y2_loss: 2.5399 - y1_root_mean_squared_error: 1.1298 - y2_root_mean_squared_error: 1.5937 - val_loss: 27.9443 - val_y1_loss: 2.0749 - val_y2_loss: 25.8694 - val_y1_root_mean_squared_error: 1.4405 - val_y2_root_mean_squared_error: 5.0862\n",
      "Epoch 236/500\n",
      "7/7 [==============================] - 0s 3ms/step - loss: 6.4112 - y1_loss: 1.6536 - y2_loss: 4.7576 - y1_root_mean_squared_error: 1.2859 - y2_root_mean_squared_error: 2.1812 - val_loss: 9.0358 - val_y1_loss: 2.8385 - val_y2_loss: 6.1973 - val_y1_root_mean_squared_error: 1.6848 - val_y2_root_mean_squared_error: 2.4894\n",
      "Epoch 237/500\n",
      "7/7 [==============================] - 0s 3ms/step - loss: 5.1870 - y1_loss: 1.8832 - y2_loss: 3.3038 - y1_root_mean_squared_error: 1.3723 - y2_root_mean_squared_error: 1.8176 - val_loss: 23.9904 - val_y1_loss: 6.2618 - val_y2_loss: 17.7286 - val_y1_root_mean_squared_error: 2.5024 - val_y2_root_mean_squared_error: 4.2105\n",
      "Epoch 238/500\n",
      "7/7 [==============================] - 0s 3ms/step - loss: 5.2707 - y1_loss: 1.7865 - y2_loss: 3.4842 - y1_root_mean_squared_error: 1.3366 - y2_root_mean_squared_error: 1.8666 - val_loss: 5.5073 - val_y1_loss: 2.0176 - val_y2_loss: 3.4897 - val_y1_root_mean_squared_error: 1.4204 - val_y2_root_mean_squared_error: 1.8681\n",
      "Epoch 239/500\n",
      "7/7 [==============================] - 0s 3ms/step - loss: 3.2863 - y1_loss: 1.2134 - y2_loss: 2.0729 - y1_root_mean_squared_error: 1.1016 - y2_root_mean_squared_error: 1.4397 - val_loss: 5.0783 - val_y1_loss: 2.0254 - val_y2_loss: 3.0529 - val_y1_root_mean_squared_error: 1.4232 - val_y2_root_mean_squared_error: 1.7472\n",
      "Epoch 240/500\n",
      "7/7 [==============================] - 0s 3ms/step - loss: 3.0401 - y1_loss: 1.2459 - y2_loss: 1.7942 - y1_root_mean_squared_error: 1.1162 - y2_root_mean_squared_error: 1.3395 - val_loss: 5.0395 - val_y1_loss: 2.0916 - val_y2_loss: 2.9479 - val_y1_root_mean_squared_error: 1.4462 - val_y2_root_mean_squared_error: 1.7170\n",
      "Epoch 241/500\n"
     ]
    },
    {
     "name": "stdout",
     "output_type": "stream",
     "text": [
      "7/7 [==============================] - 0s 3ms/step - loss: 3.6015 - y1_loss: 1.3935 - y2_loss: 2.2080 - y1_root_mean_squared_error: 1.1805 - y2_root_mean_squared_error: 1.4859 - val_loss: 5.1470 - val_y1_loss: 1.9764 - val_y2_loss: 3.1706 - val_y1_root_mean_squared_error: 1.4058 - val_y2_root_mean_squared_error: 1.7806\n",
      "Epoch 242/500\n",
      "7/7 [==============================] - 0s 3ms/step - loss: 4.0568 - y1_loss: 1.5862 - y2_loss: 2.4706 - y1_root_mean_squared_error: 1.2595 - y2_root_mean_squared_error: 1.5718 - val_loss: 6.2838 - val_y1_loss: 2.0386 - val_y2_loss: 4.2452 - val_y1_root_mean_squared_error: 1.4278 - val_y2_root_mean_squared_error: 2.0604\n",
      "Epoch 243/500\n",
      "7/7 [==============================] - 0s 3ms/step - loss: 2.9560 - y1_loss: 1.2628 - y2_loss: 1.6932 - y1_root_mean_squared_error: 1.1238 - y2_root_mean_squared_error: 1.3012 - val_loss: 5.4864 - val_y1_loss: 2.1951 - val_y2_loss: 3.2913 - val_y1_root_mean_squared_error: 1.4816 - val_y2_root_mean_squared_error: 1.8142\n",
      "Epoch 244/500\n",
      "7/7 [==============================] - 0s 3ms/step - loss: 2.8258 - y1_loss: 1.0655 - y2_loss: 1.7603 - y1_root_mean_squared_error: 1.0322 - y2_root_mean_squared_error: 1.3268 - val_loss: 63.6619 - val_y1_loss: 8.3847 - val_y2_loss: 55.2772 - val_y1_root_mean_squared_error: 2.8956 - val_y2_root_mean_squared_error: 7.4349\n",
      "Epoch 245/500\n",
      "7/7 [==============================] - 0s 2ms/step - loss: 12.7008 - y1_loss: 3.0996 - y2_loss: 9.6012 - y1_root_mean_squared_error: 1.7606 - y2_root_mean_squared_error: 3.0986 - val_loss: 56.1566 - val_y1_loss: 20.9819 - val_y2_loss: 35.1747 - val_y1_root_mean_squared_error: 4.5806 - val_y2_root_mean_squared_error: 5.9308\n",
      "Epoch 246/500\n",
      "7/7 [==============================] - 0s 3ms/step - loss: 7.2618 - y1_loss: 2.6288 - y2_loss: 4.6330 - y1_root_mean_squared_error: 1.6214 - y2_root_mean_squared_error: 2.1524 - val_loss: 7.4833 - val_y1_loss: 2.8219 - val_y2_loss: 4.6615 - val_y1_root_mean_squared_error: 1.6798 - val_y2_root_mean_squared_error: 2.1590\n",
      "Epoch 247/500\n",
      "7/7 [==============================] - 0s 3ms/step - loss: 3.4415 - y1_loss: 1.2483 - y2_loss: 2.1932 - y1_root_mean_squared_error: 1.1173 - y2_root_mean_squared_error: 1.4809 - val_loss: 11.2575 - val_y1_loss: 3.0355 - val_y2_loss: 8.2220 - val_y1_root_mean_squared_error: 1.7423 - val_y2_root_mean_squared_error: 2.8674\n",
      "Epoch 248/500\n",
      "7/7 [==============================] - 0s 2ms/step - loss: 3.6487 - y1_loss: 1.3228 - y2_loss: 2.3259 - y1_root_mean_squared_error: 1.1501 - y2_root_mean_squared_error: 1.5251 - val_loss: 11.0314 - val_y1_loss: 3.2887 - val_y2_loss: 7.7426 - val_y1_root_mean_squared_error: 1.8135 - val_y2_root_mean_squared_error: 2.7826\n",
      "Epoch 249/500\n",
      "7/7 [==============================] - 0s 2ms/step - loss: 3.4833 - y1_loss: 1.3743 - y2_loss: 2.1091 - y1_root_mean_squared_error: 1.1723 - y2_root_mean_squared_error: 1.4523 - val_loss: 38.0415 - val_y1_loss: 10.5475 - val_y2_loss: 27.4940 - val_y1_root_mean_squared_error: 3.2477 - val_y2_root_mean_squared_error: 5.2435\n",
      "Epoch 250/500\n",
      "7/7 [==============================] - 0s 3ms/step - loss: 14.0848 - y1_loss: 4.0781 - y2_loss: 10.0067 - y1_root_mean_squared_error: 2.0194 - y2_root_mean_squared_error: 3.1633 - val_loss: 5.7344 - val_y1_loss: 2.2116 - val_y2_loss: 3.5228 - val_y1_root_mean_squared_error: 1.4872 - val_y2_root_mean_squared_error: 1.8769\n",
      "Epoch 251/500\n",
      "7/7 [==============================] - 0s 2ms/step - loss: 3.5353 - y1_loss: 1.2310 - y2_loss: 2.3043 - y1_root_mean_squared_error: 1.1095 - y2_root_mean_squared_error: 1.5180 - val_loss: 69.0222 - val_y1_loss: 7.4242 - val_y2_loss: 61.5979 - val_y1_root_mean_squared_error: 2.7247 - val_y2_root_mean_squared_error: 7.8484\n",
      "Epoch 252/500\n",
      "7/7 [==============================] - 0s 2ms/step - loss: 23.2903 - y1_loss: 4.1433 - y2_loss: 19.1470 - y1_root_mean_squared_error: 2.0355 - y2_root_mean_squared_error: 4.3757 - val_loss: 8.2694 - val_y1_loss: 2.4027 - val_y2_loss: 5.8667 - val_y1_root_mean_squared_error: 1.5501 - val_y2_root_mean_squared_error: 2.4221\n",
      "Epoch 253/500\n",
      "7/7 [==============================] - 0s 3ms/step - loss: 3.3367 - y1_loss: 1.4140 - y2_loss: 1.9227 - y1_root_mean_squared_error: 1.1891 - y2_root_mean_squared_error: 1.3866 - val_loss: 6.6728 - val_y1_loss: 2.0633 - val_y2_loss: 4.6095 - val_y1_root_mean_squared_error: 1.4364 - val_y2_root_mean_squared_error: 2.1470\n",
      "Epoch 254/500\n",
      "7/7 [==============================] - 0s 2ms/step - loss: 3.3620 - y1_loss: 1.2253 - y2_loss: 2.1367 - y1_root_mean_squared_error: 1.1069 - y2_root_mean_squared_error: 1.4617 - val_loss: 5.5637 - val_y1_loss: 2.0130 - val_y2_loss: 3.5507 - val_y1_root_mean_squared_error: 1.4188 - val_y2_root_mean_squared_error: 1.8843\n",
      "Epoch 255/500\n",
      "7/7 [==============================] - 0s 2ms/step - loss: 2.5694 - y1_loss: 1.1811 - y2_loss: 1.3883 - y1_root_mean_squared_error: 1.0868 - y2_root_mean_squared_error: 1.1783 - val_loss: 26.6210 - val_y1_loss: 2.2811 - val_y2_loss: 24.3399 - val_y1_root_mean_squared_error: 1.5103 - val_y2_root_mean_squared_error: 4.9335\n",
      "Epoch 256/500\n",
      "7/7 [==============================] - 0s 3ms/step - loss: 5.7011 - y1_loss: 1.4855 - y2_loss: 4.2156 - y1_root_mean_squared_error: 1.2188 - y2_root_mean_squared_error: 2.0532 - val_loss: 6.7511 - val_y1_loss: 2.9347 - val_y2_loss: 3.8164 - val_y1_root_mean_squared_error: 1.7131 - val_y2_root_mean_squared_error: 1.9536\n",
      "Epoch 257/500\n",
      "7/7 [==============================] - 0s 3ms/step - loss: 3.2059 - y1_loss: 1.3321 - y2_loss: 1.8738 - y1_root_mean_squared_error: 1.1542 - y2_root_mean_squared_error: 1.3689 - val_loss: 6.6141 - val_y1_loss: 2.2214 - val_y2_loss: 4.3928 - val_y1_root_mean_squared_error: 1.4904 - val_y2_root_mean_squared_error: 2.0959\n",
      "Epoch 258/500\n",
      "7/7 [==============================] - 0s 3ms/step - loss: 3.1801 - y1_loss: 1.2813 - y2_loss: 1.8989 - y1_root_mean_squared_error: 1.1319 - y2_root_mean_squared_error: 1.3780 - val_loss: 5.3711 - val_y1_loss: 2.2918 - val_y2_loss: 3.0793 - val_y1_root_mean_squared_error: 1.5139 - val_y2_root_mean_squared_error: 1.7548\n",
      "Epoch 259/500\n",
      "7/7 [==============================] - 0s 3ms/step - loss: 3.5314 - y1_loss: 1.2679 - y2_loss: 2.2635 - y1_root_mean_squared_error: 1.1260 - y2_root_mean_squared_error: 1.5045 - val_loss: 16.2328 - val_y1_loss: 7.9490 - val_y2_loss: 8.2838 - val_y1_root_mean_squared_error: 2.8194 - val_y2_root_mean_squared_error: 2.8782\n",
      "Epoch 260/500\n",
      "7/7 [==============================] - 0s 2ms/step - loss: 3.8854 - y1_loss: 1.6524 - y2_loss: 2.2330 - y1_root_mean_squared_error: 1.2855 - y2_root_mean_squared_error: 1.4943 - val_loss: 6.2487 - val_y1_loss: 2.6430 - val_y2_loss: 3.6056 - val_y1_root_mean_squared_error: 1.6257 - val_y2_root_mean_squared_error: 1.8988\n",
      "Epoch 261/500\n",
      "7/7 [==============================] - 0s 3ms/step - loss: 2.5439 - y1_loss: 0.9702 - y2_loss: 1.5737 - y1_root_mean_squared_error: 0.9850 - y2_root_mean_squared_error: 1.2545 - val_loss: 5.4169 - val_y1_loss: 2.2507 - val_y2_loss: 3.1662 - val_y1_root_mean_squared_error: 1.5002 - val_y2_root_mean_squared_error: 1.7794\n",
      "Epoch 262/500\n",
      "7/7 [==============================] - 0s 3ms/step - loss: 3.2320 - y1_loss: 1.2081 - y2_loss: 2.0240 - y1_root_mean_squared_error: 1.0991 - y2_root_mean_squared_error: 1.4227 - val_loss: 5.7482 - val_y1_loss: 2.4819 - val_y2_loss: 3.2663 - val_y1_root_mean_squared_error: 1.5754 - val_y2_root_mean_squared_error: 1.8073\n",
      "Epoch 263/500\n",
      "7/7 [==============================] - 0s 3ms/step - loss: 2.2894 - y1_loss: 1.0391 - y2_loss: 1.2502 - y1_root_mean_squared_error: 1.0194 - y2_root_mean_squared_error: 1.1181 - val_loss: 5.2180 - val_y1_loss: 2.1837 - val_y2_loss: 3.0343 - val_y1_root_mean_squared_error: 1.4777 - val_y2_root_mean_squared_error: 1.7419\n",
      "Epoch 264/500\n",
      "7/7 [==============================] - 0s 3ms/step - loss: 2.7299 - y1_loss: 1.0248 - y2_loss: 1.7051 - y1_root_mean_squared_error: 1.0123 - y2_root_mean_squared_error: 1.3058 - val_loss: 6.2065 - val_y1_loss: 3.2753 - val_y2_loss: 2.9313 - val_y1_root_mean_squared_error: 1.8098 - val_y2_root_mean_squared_error: 1.7121\n",
      "Epoch 265/500\n"
     ]
    },
    {
     "name": "stdout",
     "output_type": "stream",
     "text": [
      "7/7 [==============================] - 0s 2ms/step - loss: 2.4119 - y1_loss: 1.0743 - y2_loss: 1.3376 - y1_root_mean_squared_error: 1.0365 - y2_root_mean_squared_error: 1.1566 - val_loss: 40.4427 - val_y1_loss: 11.6070 - val_y2_loss: 28.8356 - val_y1_root_mean_squared_error: 3.4069 - val_y2_root_mean_squared_error: 5.3699\n",
      "Epoch 266/500\n",
      "7/7 [==============================] - 0s 2ms/step - loss: 6.6281 - y1_loss: 2.2063 - y2_loss: 4.4218 - y1_root_mean_squared_error: 1.4854 - y2_root_mean_squared_error: 2.1028 - val_loss: 7.2358 - val_y1_loss: 3.2547 - val_y2_loss: 3.9811 - val_y1_root_mean_squared_error: 1.8041 - val_y2_root_mean_squared_error: 1.9953\n",
      "Epoch 267/500\n",
      "7/7 [==============================] - 0s 2ms/step - loss: 2.6155 - y1_loss: 1.2351 - y2_loss: 1.3804 - y1_root_mean_squared_error: 1.1114 - y2_root_mean_squared_error: 1.1749 - val_loss: 35.9972 - val_y1_loss: 13.9839 - val_y2_loss: 22.0133 - val_y1_root_mean_squared_error: 3.7395 - val_y2_root_mean_squared_error: 4.6918\n",
      "Epoch 268/500\n",
      "7/7 [==============================] - 0s 2ms/step - loss: 7.0635 - y1_loss: 2.7775 - y2_loss: 4.2861 - y1_root_mean_squared_error: 1.6666 - y2_root_mean_squared_error: 2.0703 - val_loss: 7.2760 - val_y1_loss: 2.7856 - val_y2_loss: 4.4904 - val_y1_root_mean_squared_error: 1.6690 - val_y2_root_mean_squared_error: 2.1191\n",
      "Epoch 269/500\n",
      "7/7 [==============================] - 0s 2ms/step - loss: 4.2863 - y1_loss: 1.4607 - y2_loss: 2.8255 - y1_root_mean_squared_error: 1.2086 - y2_root_mean_squared_error: 1.6809 - val_loss: 13.5419 - val_y1_loss: 2.6288 - val_y2_loss: 10.9131 - val_y1_root_mean_squared_error: 1.6214 - val_y2_root_mean_squared_error: 3.3035\n",
      "Epoch 270/500\n",
      "7/7 [==============================] - 0s 2ms/step - loss: 4.2847 - y1_loss: 1.4527 - y2_loss: 2.8321 - y1_root_mean_squared_error: 1.2053 - y2_root_mean_squared_error: 1.6829 - val_loss: 6.6152 - val_y1_loss: 2.1329 - val_y2_loss: 4.4823 - val_y1_root_mean_squared_error: 1.4604 - val_y2_root_mean_squared_error: 2.1171\n",
      "Epoch 271/500\n",
      "7/7 [==============================] - 0s 2ms/step - loss: 2.4738 - y1_loss: 1.0555 - y2_loss: 1.4183 - y1_root_mean_squared_error: 1.0274 - y2_root_mean_squared_error: 1.1909 - val_loss: 5.7070 - val_y1_loss: 2.5236 - val_y2_loss: 3.1834 - val_y1_root_mean_squared_error: 1.5886 - val_y2_root_mean_squared_error: 1.7842\n",
      "Epoch 272/500\n",
      "7/7 [==============================] - 0s 2ms/step - loss: 2.2353 - y1_loss: 0.9724 - y2_loss: 1.2628 - y1_root_mean_squared_error: 0.9861 - y2_root_mean_squared_error: 1.1238 - val_loss: 5.9579 - val_y1_loss: 2.5522 - val_y2_loss: 3.4056 - val_y1_root_mean_squared_error: 1.5976 - val_y2_root_mean_squared_error: 1.8454\n",
      "Epoch 273/500\n",
      "7/7 [==============================] - 0s 2ms/step - loss: 2.4747 - y1_loss: 0.9883 - y2_loss: 1.4864 - y1_root_mean_squared_error: 0.9941 - y2_root_mean_squared_error: 1.2192 - val_loss: 5.9635 - val_y1_loss: 2.1708 - val_y2_loss: 3.7928 - val_y1_root_mean_squared_error: 1.4734 - val_y2_root_mean_squared_error: 1.9475\n",
      "Epoch 274/500\n",
      "7/7 [==============================] - 0s 2ms/step - loss: 2.3528 - y1_loss: 1.0922 - y2_loss: 1.2606 - y1_root_mean_squared_error: 1.0451 - y2_root_mean_squared_error: 1.1227 - val_loss: 9.9308 - val_y1_loss: 2.9684 - val_y2_loss: 6.9623 - val_y1_root_mean_squared_error: 1.7229 - val_y2_root_mean_squared_error: 2.6386\n",
      "Epoch 275/500\n",
      "7/7 [==============================] - 0s 2ms/step - loss: 4.0572 - y1_loss: 1.5648 - y2_loss: 2.4924 - y1_root_mean_squared_error: 1.2509 - y2_root_mean_squared_error: 1.5787 - val_loss: 9.4348 - val_y1_loss: 2.3112 - val_y2_loss: 7.1237 - val_y1_root_mean_squared_error: 1.5202 - val_y2_root_mean_squared_error: 2.6690\n",
      "Epoch 276/500\n",
      "7/7 [==============================] - 0s 2ms/step - loss: 3.0213 - y1_loss: 0.9091 - y2_loss: 2.1122 - y1_root_mean_squared_error: 0.9535 - y2_root_mean_squared_error: 1.4533 - val_loss: 6.0577 - val_y1_loss: 2.1941 - val_y2_loss: 3.8637 - val_y1_root_mean_squared_error: 1.4812 - val_y2_root_mean_squared_error: 1.9656\n",
      "Epoch 277/500\n",
      "7/7 [==============================] - 0s 2ms/step - loss: 2.7771 - y1_loss: 1.0960 - y2_loss: 1.6812 - y1_root_mean_squared_error: 1.0469 - y2_root_mean_squared_error: 1.2966 - val_loss: 10.2441 - val_y1_loss: 3.4278 - val_y2_loss: 6.8162 - val_y1_root_mean_squared_error: 1.8514 - val_y2_root_mean_squared_error: 2.6108\n",
      "Epoch 278/500\n",
      "7/7 [==============================] - 0s 2ms/step - loss: 4.3022 - y1_loss: 1.1564 - y2_loss: 3.1457 - y1_root_mean_squared_error: 1.0754 - y2_root_mean_squared_error: 1.7736 - val_loss: 6.8161 - val_y1_loss: 2.8841 - val_y2_loss: 3.9320 - val_y1_root_mean_squared_error: 1.6983 - val_y2_root_mean_squared_error: 1.9829\n",
      "Epoch 279/500\n",
      "7/7 [==============================] - 0s 3ms/step - loss: 2.5940 - y1_loss: 1.0501 - y2_loss: 1.5439 - y1_root_mean_squared_error: 1.0247 - y2_root_mean_squared_error: 1.2425 - val_loss: 12.6984 - val_y1_loss: 5.5473 - val_y2_loss: 7.1511 - val_y1_root_mean_squared_error: 2.3553 - val_y2_root_mean_squared_error: 2.6742\n",
      "Epoch 280/500\n",
      "7/7 [==============================] - 0s 3ms/step - loss: 2.9273 - y1_loss: 1.2580 - y2_loss: 1.6693 - y1_root_mean_squared_error: 1.1216 - y2_root_mean_squared_error: 1.2920 - val_loss: 7.4312 - val_y1_loss: 3.3211 - val_y2_loss: 4.1101 - val_y1_root_mean_squared_error: 1.8224 - val_y2_root_mean_squared_error: 2.0273\n",
      "Epoch 281/500\n",
      "7/7 [==============================] - 0s 2ms/step - loss: 2.4435 - y1_loss: 0.8753 - y2_loss: 1.5682 - y1_root_mean_squared_error: 0.9356 - y2_root_mean_squared_error: 1.2523 - val_loss: 26.1324 - val_y1_loss: 11.5872 - val_y2_loss: 14.5452 - val_y1_root_mean_squared_error: 3.4040 - val_y2_root_mean_squared_error: 3.8138\n",
      "Epoch 282/500\n",
      "7/7 [==============================] - 0s 3ms/step - loss: 4.2049 - y1_loss: 1.6654 - y2_loss: 2.5395 - y1_root_mean_squared_error: 1.2905 - y2_root_mean_squared_error: 1.5936 - val_loss: 6.3304 - val_y1_loss: 2.8440 - val_y2_loss: 3.4865 - val_y1_root_mean_squared_error: 1.6864 - val_y2_root_mean_squared_error: 1.8672\n",
      "Epoch 283/500\n",
      "7/7 [==============================] - 0s 2ms/step - loss: 2.2958 - y1_loss: 0.9755 - y2_loss: 1.3203 - y1_root_mean_squared_error: 0.9877 - y2_root_mean_squared_error: 1.1491 - val_loss: 6.0182 - val_y1_loss: 2.8949 - val_y2_loss: 3.1233 - val_y1_root_mean_squared_error: 1.7014 - val_y2_root_mean_squared_error: 1.7673\n",
      "Epoch 284/500\n",
      "7/7 [==============================] - 0s 2ms/step - loss: 2.0105 - y1_loss: 0.9046 - y2_loss: 1.1059 - y1_root_mean_squared_error: 0.9511 - y2_root_mean_squared_error: 1.0516 - val_loss: 5.6309 - val_y1_loss: 2.2856 - val_y2_loss: 3.3452 - val_y1_root_mean_squared_error: 1.5118 - val_y2_root_mean_squared_error: 1.8290\n",
      "Epoch 285/500\n",
      "7/7 [==============================] - 0s 2ms/step - loss: 2.0651 - y1_loss: 0.9190 - y2_loss: 1.1461 - y1_root_mean_squared_error: 0.9587 - y2_root_mean_squared_error: 1.0706 - val_loss: 34.9622 - val_y1_loss: 2.8376 - val_y2_loss: 32.1246 - val_y1_root_mean_squared_error: 1.6845 - val_y2_root_mean_squared_error: 5.6679\n",
      "Epoch 286/500\n",
      "7/7 [==============================] - 0s 2ms/step - loss: 7.3440 - y1_loss: 1.9971 - y2_loss: 5.3469 - y1_root_mean_squared_error: 1.4132 - y2_root_mean_squared_error: 2.3123 - val_loss: 10.4796 - val_y1_loss: 3.0919 - val_y2_loss: 7.3877 - val_y1_root_mean_squared_error: 1.7584 - val_y2_root_mean_squared_error: 2.7180\n",
      "Epoch 287/500\n",
      "7/7 [==============================] - 0s 3ms/step - loss: 4.0291 - y1_loss: 1.8727 - y2_loss: 2.1564 - y1_root_mean_squared_error: 1.3685 - y2_root_mean_squared_error: 1.4685 - val_loss: 5.3896 - val_y1_loss: 2.0587 - val_y2_loss: 3.3309 - val_y1_root_mean_squared_error: 1.4348 - val_y2_root_mean_squared_error: 1.8251\n",
      "Epoch 288/500\n",
      "7/7 [==============================] - 0s 3ms/step - loss: 2.0339 - y1_loss: 0.9736 - y2_loss: 1.0603 - y1_root_mean_squared_error: 0.9867 - y2_root_mean_squared_error: 1.0297 - val_loss: 33.8664 - val_y1_loss: 13.5111 - val_y2_loss: 20.3554 - val_y1_root_mean_squared_error: 3.6757 - val_y2_root_mean_squared_error: 4.5117\n",
      "Epoch 289/500\n"
     ]
    },
    {
     "name": "stdout",
     "output_type": "stream",
     "text": [
      "7/7 [==============================] - 0s 2ms/step - loss: 5.3898 - y1_loss: 1.8093 - y2_loss: 3.5805 - y1_root_mean_squared_error: 1.3451 - y2_root_mean_squared_error: 1.8922 - val_loss: 8.2240 - val_y1_loss: 2.4670 - val_y2_loss: 5.7570 - val_y1_root_mean_squared_error: 1.5707 - val_y2_root_mean_squared_error: 2.3994\n",
      "Epoch 290/500\n",
      "7/7 [==============================] - 0s 2ms/step - loss: 2.3819 - y1_loss: 0.9796 - y2_loss: 1.4024 - y1_root_mean_squared_error: 0.9897 - y2_root_mean_squared_error: 1.1842 - val_loss: 5.9001 - val_y1_loss: 2.7693 - val_y2_loss: 3.1308 - val_y1_root_mean_squared_error: 1.6641 - val_y2_root_mean_squared_error: 1.7694\n",
      "Epoch 291/500\n",
      "7/7 [==============================] - 0s 2ms/step - loss: 2.3603 - y1_loss: 0.8644 - y2_loss: 1.4959 - y1_root_mean_squared_error: 0.9298 - y2_root_mean_squared_error: 1.2231 - val_loss: 5.6140 - val_y1_loss: 2.0551 - val_y2_loss: 3.5589 - val_y1_root_mean_squared_error: 1.4336 - val_y2_root_mean_squared_error: 1.8865\n",
      "Epoch 292/500\n",
      "7/7 [==============================] - 0s 2ms/step - loss: 1.8984 - y1_loss: 0.9303 - y2_loss: 0.9681 - y1_root_mean_squared_error: 0.9645 - y2_root_mean_squared_error: 0.9839 - val_loss: 5.2892 - val_y1_loss: 2.3342 - val_y2_loss: 2.9550 - val_y1_root_mean_squared_error: 1.5278 - val_y2_root_mean_squared_error: 1.7190\n",
      "Epoch 293/500\n",
      "7/7 [==============================] - 0s 2ms/step - loss: 1.8542 - y1_loss: 0.9397 - y2_loss: 0.9145 - y1_root_mean_squared_error: 0.9694 - y2_root_mean_squared_error: 0.9563 - val_loss: 5.3385 - val_y1_loss: 2.2707 - val_y2_loss: 3.0678 - val_y1_root_mean_squared_error: 1.5069 - val_y2_root_mean_squared_error: 1.7515\n",
      "Epoch 294/500\n",
      "7/7 [==============================] - 0s 2ms/step - loss: 1.8306 - y1_loss: 0.8294 - y2_loss: 1.0012 - y1_root_mean_squared_error: 0.9107 - y2_root_mean_squared_error: 1.0006 - val_loss: 13.9871 - val_y1_loss: 3.9960 - val_y2_loss: 9.9911 - val_y1_root_mean_squared_error: 1.9990 - val_y2_root_mean_squared_error: 3.1609\n",
      "Epoch 295/500\n",
      "7/7 [==============================] - 0s 3ms/step - loss: 3.3170 - y1_loss: 1.3740 - y2_loss: 1.9430 - y1_root_mean_squared_error: 1.1722 - y2_root_mean_squared_error: 1.3939 - val_loss: 24.7233 - val_y1_loss: 7.7563 - val_y2_loss: 16.9670 - val_y1_root_mean_squared_error: 2.7850 - val_y2_root_mean_squared_error: 4.1191\n",
      "Epoch 296/500\n",
      "7/7 [==============================] - 0s 2ms/step - loss: 5.2125 - y1_loss: 2.0979 - y2_loss: 3.1146 - y1_root_mean_squared_error: 1.4484 - y2_root_mean_squared_error: 1.7648 - val_loss: 5.5033 - val_y1_loss: 2.5108 - val_y2_loss: 2.9925 - val_y1_root_mean_squared_error: 1.5845 - val_y2_root_mean_squared_error: 1.7299\n",
      "Epoch 297/500\n",
      "7/7 [==============================] - 0s 3ms/step - loss: 2.3941 - y1_loss: 0.9549 - y2_loss: 1.4392 - y1_root_mean_squared_error: 0.9772 - y2_root_mean_squared_error: 1.1997 - val_loss: 17.7983 - val_y1_loss: 3.5779 - val_y2_loss: 14.2204 - val_y1_root_mean_squared_error: 1.8915 - val_y2_root_mean_squared_error: 3.7710\n",
      "Epoch 298/500\n",
      "7/7 [==============================] - 0s 2ms/step - loss: 3.3419 - y1_loss: 1.1962 - y2_loss: 2.1457 - y1_root_mean_squared_error: 1.0937 - y2_root_mean_squared_error: 1.4648 - val_loss: 6.0886 - val_y1_loss: 3.1349 - val_y2_loss: 2.9538 - val_y1_root_mean_squared_error: 1.7706 - val_y2_root_mean_squared_error: 1.7187\n",
      "Epoch 299/500\n",
      "7/7 [==============================] - 0s 3ms/step - loss: 2.2299 - y1_loss: 0.9051 - y2_loss: 1.3248 - y1_root_mean_squared_error: 0.9514 - y2_root_mean_squared_error: 1.1510 - val_loss: 11.5228 - val_y1_loss: 2.7322 - val_y2_loss: 8.7907 - val_y1_root_mean_squared_error: 1.6529 - val_y2_root_mean_squared_error: 2.9649\n",
      "Epoch 300/500\n",
      "7/7 [==============================] - 0s 3ms/step - loss: 2.9725 - y1_loss: 1.0915 - y2_loss: 1.8810 - y1_root_mean_squared_error: 1.0448 - y2_root_mean_squared_error: 1.3715 - val_loss: 5.8467 - val_y1_loss: 2.3556 - val_y2_loss: 3.4911 - val_y1_root_mean_squared_error: 1.5348 - val_y2_root_mean_squared_error: 1.8684\n",
      "Epoch 301/500\n",
      "7/7 [==============================] - 0s 3ms/step - loss: 2.2153 - y1_loss: 0.8857 - y2_loss: 1.3295 - y1_root_mean_squared_error: 0.9411 - y2_root_mean_squared_error: 1.1531 - val_loss: 7.5523 - val_y1_loss: 2.4807 - val_y2_loss: 5.0716 - val_y1_root_mean_squared_error: 1.5750 - val_y2_root_mean_squared_error: 2.2520\n",
      "Epoch 302/500\n",
      "7/7 [==============================] - 0s 3ms/step - loss: 2.7148 - y1_loss: 1.1553 - y2_loss: 1.5595 - y1_root_mean_squared_error: 1.0748 - y2_root_mean_squared_error: 1.2488 - val_loss: 6.9374 - val_y1_loss: 2.6239 - val_y2_loss: 4.3134 - val_y1_root_mean_squared_error: 1.6199 - val_y2_root_mean_squared_error: 2.0769\n",
      "Epoch 303/500\n",
      "7/7 [==============================] - 0s 2ms/step - loss: 2.3601 - y1_loss: 0.8689 - y2_loss: 1.4912 - y1_root_mean_squared_error: 0.9322 - y2_root_mean_squared_error: 1.2211 - val_loss: 5.7252 - val_y1_loss: 2.3268 - val_y2_loss: 3.3984 - val_y1_root_mean_squared_error: 1.5254 - val_y2_root_mean_squared_error: 1.8435\n",
      "Epoch 304/500\n",
      "7/7 [==============================] - 0s 2ms/step - loss: 1.6601 - y1_loss: 0.8264 - y2_loss: 0.8337 - y1_root_mean_squared_error: 0.9091 - y2_root_mean_squared_error: 0.9131 - val_loss: 9.5303 - val_y1_loss: 3.0105 - val_y2_loss: 6.5198 - val_y1_root_mean_squared_error: 1.7351 - val_y2_root_mean_squared_error: 2.5534\n",
      "Epoch 305/500\n",
      "7/7 [==============================] - 0s 2ms/step - loss: 2.5074 - y1_loss: 0.9766 - y2_loss: 1.5309 - y1_root_mean_squared_error: 0.9882 - y2_root_mean_squared_error: 1.2373 - val_loss: 5.6461 - val_y1_loss: 2.3912 - val_y2_loss: 3.2549 - val_y1_root_mean_squared_error: 1.5464 - val_y2_root_mean_squared_error: 1.8041\n",
      "Epoch 306/500\n",
      "7/7 [==============================] - 0s 2ms/step - loss: 1.9257 - y1_loss: 0.7378 - y2_loss: 1.1879 - y1_root_mean_squared_error: 0.8589 - y2_root_mean_squared_error: 1.0899 - val_loss: 9.1581 - val_y1_loss: 2.7419 - val_y2_loss: 6.4162 - val_y1_root_mean_squared_error: 1.6559 - val_y2_root_mean_squared_error: 2.5330\n",
      "Epoch 307/500\n",
      "7/7 [==============================] - 0s 3ms/step - loss: 2.8082 - y1_loss: 0.9327 - y2_loss: 1.8755 - y1_root_mean_squared_error: 0.9657 - y2_root_mean_squared_error: 1.3695 - val_loss: 6.5021 - val_y1_loss: 2.7225 - val_y2_loss: 3.7796 - val_y1_root_mean_squared_error: 1.6500 - val_y2_root_mean_squared_error: 1.9441\n",
      "Epoch 308/500\n",
      "7/7 [==============================] - 0s 3ms/step - loss: 1.8987 - y1_loss: 0.8572 - y2_loss: 1.0414 - y1_root_mean_squared_error: 0.9259 - y2_root_mean_squared_error: 1.0205 - val_loss: 9.8524 - val_y1_loss: 4.9056 - val_y2_loss: 4.9468 - val_y1_root_mean_squared_error: 2.2149 - val_y2_root_mean_squared_error: 2.2241\n",
      "Epoch 309/500\n",
      "7/7 [==============================] - 0s 3ms/step - loss: 2.1082 - y1_loss: 1.0331 - y2_loss: 1.0752 - y1_root_mean_squared_error: 1.0164 - y2_root_mean_squared_error: 1.0369 - val_loss: 6.1256 - val_y1_loss: 2.1449 - val_y2_loss: 3.9807 - val_y1_root_mean_squared_error: 1.4645 - val_y2_root_mean_squared_error: 1.9952\n",
      "Epoch 310/500\n",
      "7/7 [==============================] - 0s 2ms/step - loss: 1.8706 - y1_loss: 0.8039 - y2_loss: 1.0668 - y1_root_mean_squared_error: 0.8966 - y2_root_mean_squared_error: 1.0328 - val_loss: 6.3834 - val_y1_loss: 2.5761 - val_y2_loss: 3.8073 - val_y1_root_mean_squared_error: 1.6050 - val_y2_root_mean_squared_error: 1.9512\n",
      "Epoch 311/500\n",
      "7/7 [==============================] - 0s 2ms/step - loss: 2.4186 - y1_loss: 0.9411 - y2_loss: 1.4776 - y1_root_mean_squared_error: 0.9701 - y2_root_mean_squared_error: 1.2156 - val_loss: 5.3890 - val_y1_loss: 2.2546 - val_y2_loss: 3.1343 - val_y1_root_mean_squared_error: 1.5015 - val_y2_root_mean_squared_error: 1.7704\n",
      "Epoch 312/500\n",
      "7/7 [==============================] - 0s 3ms/step - loss: 1.5783 - y1_loss: 0.7449 - y2_loss: 0.8334 - y1_root_mean_squared_error: 0.8631 - y2_root_mean_squared_error: 0.9129 - val_loss: 6.1384 - val_y1_loss: 2.6868 - val_y2_loss: 3.4517 - val_y1_root_mean_squared_error: 1.6391 - val_y2_root_mean_squared_error: 1.8579\n",
      "Epoch 313/500\n"
     ]
    },
    {
     "name": "stdout",
     "output_type": "stream",
     "text": [
      "7/7 [==============================] - 0s 2ms/step - loss: 2.1969 - y1_loss: 0.7392 - y2_loss: 1.4577 - y1_root_mean_squared_error: 0.8598 - y2_root_mean_squared_error: 1.2074 - val_loss: 14.5450 - val_y1_loss: 2.3777 - val_y2_loss: 12.1673 - val_y1_root_mean_squared_error: 1.5420 - val_y2_root_mean_squared_error: 3.4882\n",
      "Epoch 314/500\n",
      "7/7 [==============================] - 0s 2ms/step - loss: 3.1311 - y1_loss: 1.1081 - y2_loss: 2.0230 - y1_root_mean_squared_error: 1.0527 - y2_root_mean_squared_error: 1.4223 - val_loss: 6.1198 - val_y1_loss: 2.1102 - val_y2_loss: 4.0096 - val_y1_root_mean_squared_error: 1.4527 - val_y2_root_mean_squared_error: 2.0024\n",
      "Epoch 315/500\n",
      "7/7 [==============================] - 0s 2ms/step - loss: 2.9964 - y1_loss: 1.0791 - y2_loss: 1.9173 - y1_root_mean_squared_error: 1.0388 - y2_root_mean_squared_error: 1.3847 - val_loss: 22.2162 - val_y1_loss: 8.0156 - val_y2_loss: 14.2006 - val_y1_root_mean_squared_error: 2.8312 - val_y2_root_mean_squared_error: 3.7684\n",
      "Epoch 316/500\n",
      "7/7 [==============================] - 0s 2ms/step - loss: 6.8298 - y1_loss: 2.0995 - y2_loss: 4.7302 - y1_root_mean_squared_error: 1.4490 - y2_root_mean_squared_error: 2.1749 - val_loss: 11.8584 - val_y1_loss: 7.4211 - val_y2_loss: 4.4373 - val_y1_root_mean_squared_error: 2.7242 - val_y2_root_mean_squared_error: 2.1065\n",
      "Epoch 317/500\n",
      "7/7 [==============================] - 0s 2ms/step - loss: 3.2050 - y1_loss: 1.6215 - y2_loss: 1.5835 - y1_root_mean_squared_error: 1.2734 - y2_root_mean_squared_error: 1.2584 - val_loss: 6.2096 - val_y1_loss: 2.8471 - val_y2_loss: 3.3625 - val_y1_root_mean_squared_error: 1.6873 - val_y2_root_mean_squared_error: 1.8337\n",
      "Epoch 318/500\n",
      "7/7 [==============================] - 0s 2ms/step - loss: 2.0410 - y1_loss: 0.9404 - y2_loss: 1.1006 - y1_root_mean_squared_error: 0.9697 - y2_root_mean_squared_error: 1.0491 - val_loss: 5.6174 - val_y1_loss: 2.2214 - val_y2_loss: 3.3960 - val_y1_root_mean_squared_error: 1.4904 - val_y2_root_mean_squared_error: 1.8428\n",
      "Epoch 319/500\n",
      "7/7 [==============================] - 0s 2ms/step - loss: 1.6691 - y1_loss: 0.8393 - y2_loss: 0.8297 - y1_root_mean_squared_error: 0.9162 - y2_root_mean_squared_error: 0.9109 - val_loss: 7.4894 - val_y1_loss: 2.3130 - val_y2_loss: 5.1764 - val_y1_root_mean_squared_error: 1.5209 - val_y2_root_mean_squared_error: 2.2752\n",
      "Epoch 320/500\n",
      "7/7 [==============================] - 0s 2ms/step - loss: 1.6938 - y1_loss: 0.8178 - y2_loss: 0.8761 - y1_root_mean_squared_error: 0.9043 - y2_root_mean_squared_error: 0.9360 - val_loss: 6.0049 - val_y1_loss: 2.6423 - val_y2_loss: 3.3627 - val_y1_root_mean_squared_error: 1.6255 - val_y2_root_mean_squared_error: 1.8338\n",
      "Epoch 321/500\n",
      "7/7 [==============================] - 0s 2ms/step - loss: 1.7581 - y1_loss: 0.7294 - y2_loss: 1.0288 - y1_root_mean_squared_error: 0.8540 - y2_root_mean_squared_error: 1.0143 - val_loss: 7.6252 - val_y1_loss: 3.8759 - val_y2_loss: 3.7492 - val_y1_root_mean_squared_error: 1.9687 - val_y2_root_mean_squared_error: 1.9363\n",
      "Epoch 322/500\n",
      "7/7 [==============================] - 0s 2ms/step - loss: 2.0336 - y1_loss: 0.7578 - y2_loss: 1.2759 - y1_root_mean_squared_error: 0.8705 - y2_root_mean_squared_error: 1.1295 - val_loss: 7.7858 - val_y1_loss: 2.3181 - val_y2_loss: 5.4677 - val_y1_root_mean_squared_error: 1.5225 - val_y2_root_mean_squared_error: 2.3383\n",
      "Epoch 323/500\n",
      "7/7 [==============================] - 0s 3ms/step - loss: 2.3212 - y1_loss: 1.0741 - y2_loss: 1.2472 - y1_root_mean_squared_error: 1.0364 - y2_root_mean_squared_error: 1.1168 - val_loss: 5.6584 - val_y1_loss: 2.4572 - val_y2_loss: 3.2012 - val_y1_root_mean_squared_error: 1.5675 - val_y2_root_mean_squared_error: 1.7892\n",
      "Epoch 324/500\n",
      "7/7 [==============================] - 0s 2ms/step - loss: 1.8303 - y1_loss: 1.0708 - y2_loss: 0.7595 - y1_root_mean_squared_error: 1.0348 - y2_root_mean_squared_error: 0.8715 - val_loss: 5.8907 - val_y1_loss: 2.2495 - val_y2_loss: 3.6412 - val_y1_root_mean_squared_error: 1.4998 - val_y2_root_mean_squared_error: 1.9082\n",
      "Epoch 325/500\n",
      "7/7 [==============================] - 0s 2ms/step - loss: 1.7712 - y1_loss: 0.7578 - y2_loss: 1.0134 - y1_root_mean_squared_error: 0.8705 - y2_root_mean_squared_error: 1.0067 - val_loss: 34.7320 - val_y1_loss: 9.8669 - val_y2_loss: 24.8651 - val_y1_root_mean_squared_error: 3.1412 - val_y2_root_mean_squared_error: 4.9865\n",
      "Epoch 326/500\n",
      "7/7 [==============================] - 0s 2ms/step - loss: 6.8244 - y1_loss: 3.1710 - y2_loss: 3.6533 - y1_root_mean_squared_error: 1.7807 - y2_root_mean_squared_error: 1.9114 - val_loss: 14.2241 - val_y1_loss: 5.4659 - val_y2_loss: 8.7582 - val_y1_root_mean_squared_error: 2.3379 - val_y2_root_mean_squared_error: 2.9594\n",
      "Epoch 327/500\n",
      "7/7 [==============================] - 0s 2ms/step - loss: 2.6374 - y1_loss: 1.4920 - y2_loss: 1.1454 - y1_root_mean_squared_error: 1.2215 - y2_root_mean_squared_error: 1.0702 - val_loss: 6.5660 - val_y1_loss: 3.1928 - val_y2_loss: 3.3731 - val_y1_root_mean_squared_error: 1.7868 - val_y2_root_mean_squared_error: 1.8366\n",
      "Epoch 328/500\n",
      "7/7 [==============================] - 0s 2ms/step - loss: 1.8180 - y1_loss: 0.8574 - y2_loss: 0.9607 - y1_root_mean_squared_error: 0.9259 - y2_root_mean_squared_error: 0.9801 - val_loss: 5.8879 - val_y1_loss: 2.4866 - val_y2_loss: 3.4013 - val_y1_root_mean_squared_error: 1.5769 - val_y2_root_mean_squared_error: 1.8443\n",
      "Epoch 329/500\n",
      "7/7 [==============================] - 0s 2ms/step - loss: 1.9796 - y1_loss: 0.6901 - y2_loss: 1.2895 - y1_root_mean_squared_error: 0.8307 - y2_root_mean_squared_error: 1.1356 - val_loss: 5.9055 - val_y1_loss: 2.3908 - val_y2_loss: 3.5147 - val_y1_root_mean_squared_error: 1.5462 - val_y2_root_mean_squared_error: 1.8748\n",
      "Epoch 330/500\n",
      "7/7 [==============================] - 0s 2ms/step - loss: 1.4579 - y1_loss: 0.7749 - y2_loss: 0.6829 - y1_root_mean_squared_error: 0.8803 - y2_root_mean_squared_error: 0.8264 - val_loss: 24.5211 - val_y1_loss: 5.9651 - val_y2_loss: 18.5560 - val_y1_root_mean_squared_error: 2.4424 - val_y2_root_mean_squared_error: 4.3077\n",
      "Epoch 331/500\n",
      "7/7 [==============================] - 0s 2ms/step - loss: 3.7110 - y1_loss: 1.4533 - y2_loss: 2.2577 - y1_root_mean_squared_error: 1.2055 - y2_root_mean_squared_error: 1.5026 - val_loss: 5.7019 - val_y1_loss: 2.6198 - val_y2_loss: 3.0821 - val_y1_root_mean_squared_error: 1.6186 - val_y2_root_mean_squared_error: 1.7556\n",
      "Epoch 332/500\n",
      "7/7 [==============================] - 0s 2ms/step - loss: 1.7002 - y1_loss: 0.7583 - y2_loss: 0.9419 - y1_root_mean_squared_error: 0.8708 - y2_root_mean_squared_error: 0.9705 - val_loss: 10.1657 - val_y1_loss: 4.0226 - val_y2_loss: 6.1431 - val_y1_root_mean_squared_error: 2.0056 - val_y2_root_mean_squared_error: 2.4785\n",
      "Epoch 333/500\n",
      "7/7 [==============================] - 0s 2ms/step - loss: 4.0598 - y1_loss: 1.4749 - y2_loss: 2.5849 - y1_root_mean_squared_error: 1.2145 - y2_root_mean_squared_error: 1.6078 - val_loss: 7.1243 - val_y1_loss: 2.5098 - val_y2_loss: 4.6145 - val_y1_root_mean_squared_error: 1.5842 - val_y2_root_mean_squared_error: 2.1481\n",
      "Epoch 334/500\n",
      "7/7 [==============================] - 0s 2ms/step - loss: 2.8386 - y1_loss: 1.1215 - y2_loss: 1.7172 - y1_root_mean_squared_error: 1.0590 - y2_root_mean_squared_error: 1.3104 - val_loss: 7.4328 - val_y1_loss: 2.7997 - val_y2_loss: 4.6331 - val_y1_root_mean_squared_error: 1.6732 - val_y2_root_mean_squared_error: 2.1525\n",
      "Epoch 335/500\n",
      "7/7 [==============================] - 0s 3ms/step - loss: 1.9715 - y1_loss: 0.8827 - y2_loss: 1.0888 - y1_root_mean_squared_error: 0.9395 - y2_root_mean_squared_error: 1.0435 - val_loss: 5.6895 - val_y1_loss: 2.2771 - val_y2_loss: 3.4124 - val_y1_root_mean_squared_error: 1.5090 - val_y2_root_mean_squared_error: 1.8473\n",
      "Epoch 336/500\n",
      "7/7 [==============================] - 0s 2ms/step - loss: 1.4450 - y1_loss: 0.7060 - y2_loss: 0.7390 - y1_root_mean_squared_error: 0.8403 - y2_root_mean_squared_error: 0.8596 - val_loss: 6.1673 - val_y1_loss: 2.5165 - val_y2_loss: 3.6508 - val_y1_root_mean_squared_error: 1.5864 - val_y2_root_mean_squared_error: 1.9107\n",
      "Epoch 337/500\n"
     ]
    },
    {
     "name": "stdout",
     "output_type": "stream",
     "text": [
      "7/7 [==============================] - 0s 3ms/step - loss: 1.7596 - y1_loss: 0.8120 - y2_loss: 0.9475 - y1_root_mean_squared_error: 0.9011 - y2_root_mean_squared_error: 0.9734 - val_loss: 15.0102 - val_y1_loss: 2.5922 - val_y2_loss: 12.4180 - val_y1_root_mean_squared_error: 1.6100 - val_y2_root_mean_squared_error: 3.5239\n",
      "Epoch 338/500\n",
      "7/7 [==============================] - 0s 3ms/step - loss: 3.7615 - y1_loss: 1.2914 - y2_loss: 2.4701 - y1_root_mean_squared_error: 1.1364 - y2_root_mean_squared_error: 1.5717 - val_loss: 5.7288 - val_y1_loss: 1.9275 - val_y2_loss: 3.8013 - val_y1_root_mean_squared_error: 1.3883 - val_y2_root_mean_squared_error: 1.9497\n",
      "Epoch 339/500\n",
      "7/7 [==============================] - 0s 3ms/step - loss: 1.6842 - y1_loss: 0.7372 - y2_loss: 0.9470 - y1_root_mean_squared_error: 0.8586 - y2_root_mean_squared_error: 0.9731 - val_loss: 30.5893 - val_y1_loss: 4.1383 - val_y2_loss: 26.4510 - val_y1_root_mean_squared_error: 2.0343 - val_y2_root_mean_squared_error: 5.1431\n",
      "Epoch 340/500\n",
      "7/7 [==============================] - 0s 2ms/step - loss: 5.4872 - y1_loss: 1.3810 - y2_loss: 4.1062 - y1_root_mean_squared_error: 1.1752 - y2_root_mean_squared_error: 2.0264 - val_loss: 6.4796 - val_y1_loss: 2.2977 - val_y2_loss: 4.1819 - val_y1_root_mean_squared_error: 1.5158 - val_y2_root_mean_squared_error: 2.0450\n",
      "Epoch 341/500\n",
      "7/7 [==============================] - 0s 3ms/step - loss: 2.6692 - y1_loss: 0.9881 - y2_loss: 1.6811 - y1_root_mean_squared_error: 0.9940 - y2_root_mean_squared_error: 1.2966 - val_loss: 5.3921 - val_y1_loss: 2.2181 - val_y2_loss: 3.1740 - val_y1_root_mean_squared_error: 1.4893 - val_y2_root_mean_squared_error: 1.7816\n",
      "Epoch 342/500\n",
      "7/7 [==============================] - 0s 2ms/step - loss: 1.5015 - y1_loss: 0.6345 - y2_loss: 0.8669 - y1_root_mean_squared_error: 0.7966 - y2_root_mean_squared_error: 0.9311 - val_loss: 24.0117 - val_y1_loss: 10.8083 - val_y2_loss: 13.2033 - val_y1_root_mean_squared_error: 3.2876 - val_y2_root_mean_squared_error: 3.6336\n",
      "Epoch 343/500\n",
      "7/7 [==============================] - 0s 3ms/step - loss: 9.9228 - y1_loss: 3.2654 - y2_loss: 6.6574 - y1_root_mean_squared_error: 1.8070 - y2_root_mean_squared_error: 2.5802 - val_loss: 26.2828 - val_y1_loss: 8.2713 - val_y2_loss: 18.0115 - val_y1_root_mean_squared_error: 2.8760 - val_y2_root_mean_squared_error: 4.2440\n",
      "Epoch 344/500\n",
      "7/7 [==============================] - 0s 2ms/step - loss: 6.2993 - y1_loss: 3.0098 - y2_loss: 3.2895 - y1_root_mean_squared_error: 1.7349 - y2_root_mean_squared_error: 1.8137 - val_loss: 5.0977 - val_y1_loss: 1.9084 - val_y2_loss: 3.1893 - val_y1_root_mean_squared_error: 1.3814 - val_y2_root_mean_squared_error: 1.7859\n",
      "Epoch 345/500\n",
      "7/7 [==============================] - 0s 2ms/step - loss: 1.6018 - y1_loss: 0.8505 - y2_loss: 0.7514 - y1_root_mean_squared_error: 0.9222 - y2_root_mean_squared_error: 0.8668 - val_loss: 5.8526 - val_y1_loss: 2.2670 - val_y2_loss: 3.5856 - val_y1_root_mean_squared_error: 1.5056 - val_y2_root_mean_squared_error: 1.8936\n",
      "Epoch 346/500\n",
      "7/7 [==============================] - 0s 3ms/step - loss: 1.4714 - y1_loss: 0.7747 - y2_loss: 0.6967 - y1_root_mean_squared_error: 0.8802 - y2_root_mean_squared_error: 0.8347 - val_loss: 7.1822 - val_y1_loss: 1.9816 - val_y2_loss: 5.2006 - val_y1_root_mean_squared_error: 1.4077 - val_y2_root_mean_squared_error: 2.2805\n",
      "Epoch 347/500\n",
      "7/7 [==============================] - 0s 2ms/step - loss: 1.6180 - y1_loss: 0.6582 - y2_loss: 0.9598 - y1_root_mean_squared_error: 0.8113 - y2_root_mean_squared_error: 0.9797 - val_loss: 6.2220 - val_y1_loss: 2.0835 - val_y2_loss: 4.1385 - val_y1_root_mean_squared_error: 1.4434 - val_y2_root_mean_squared_error: 2.0343\n",
      "Epoch 348/500\n",
      "7/7 [==============================] - 0s 2ms/step - loss: 1.3045 - y1_loss: 0.6270 - y2_loss: 0.6775 - y1_root_mean_squared_error: 0.7919 - y2_root_mean_squared_error: 0.8231 - val_loss: 5.9227 - val_y1_loss: 2.6590 - val_y2_loss: 3.2637 - val_y1_root_mean_squared_error: 1.6306 - val_y2_root_mean_squared_error: 1.8066\n",
      "Epoch 349/500\n",
      "7/7 [==============================] - 0s 2ms/step - loss: 1.2832 - y1_loss: 0.6091 - y2_loss: 0.6741 - y1_root_mean_squared_error: 0.7804 - y2_root_mean_squared_error: 0.8210 - val_loss: 5.6097 - val_y1_loss: 2.1629 - val_y2_loss: 3.4468 - val_y1_root_mean_squared_error: 1.4707 - val_y2_root_mean_squared_error: 1.8565\n",
      "Epoch 350/500\n",
      "7/7 [==============================] - 0s 2ms/step - loss: 1.2116 - y1_loss: 0.6748 - y2_loss: 0.5368 - y1_root_mean_squared_error: 0.8215 - y2_root_mean_squared_error: 0.7327 - val_loss: 5.5822 - val_y1_loss: 2.2080 - val_y2_loss: 3.3742 - val_y1_root_mean_squared_error: 1.4859 - val_y2_root_mean_squared_error: 1.8369\n",
      "Epoch 351/500\n",
      "7/7 [==============================] - 0s 2ms/step - loss: 1.3486 - y1_loss: 0.6049 - y2_loss: 0.7438 - y1_root_mean_squared_error: 0.7778 - y2_root_mean_squared_error: 0.8624 - val_loss: 9.5163 - val_y1_loss: 3.1571 - val_y2_loss: 6.3592 - val_y1_root_mean_squared_error: 1.7768 - val_y2_root_mean_squared_error: 2.5217\n",
      "Epoch 352/500\n",
      "7/7 [==============================] - 0s 2ms/step - loss: 3.4329 - y1_loss: 1.0527 - y2_loss: 2.3802 - y1_root_mean_squared_error: 1.0260 - y2_root_mean_squared_error: 1.5428 - val_loss: 7.0032 - val_y1_loss: 2.5483 - val_y2_loss: 4.4550 - val_y1_root_mean_squared_error: 1.5963 - val_y2_root_mean_squared_error: 2.1107\n",
      "Epoch 353/500\n",
      "7/7 [==============================] - 0s 2ms/step - loss: 1.3157 - y1_loss: 0.6402 - y2_loss: 0.6754 - y1_root_mean_squared_error: 0.8001 - y2_root_mean_squared_error: 0.8219 - val_loss: 7.1559 - val_y1_loss: 2.9797 - val_y2_loss: 4.1762 - val_y1_root_mean_squared_error: 1.7262 - val_y2_root_mean_squared_error: 2.0436\n",
      "Epoch 354/500\n",
      "7/7 [==============================] - 0s 2ms/step - loss: 1.4456 - y1_loss: 0.7195 - y2_loss: 0.7260 - y1_root_mean_squared_error: 0.8482 - y2_root_mean_squared_error: 0.8521 - val_loss: 6.3199 - val_y1_loss: 2.3182 - val_y2_loss: 4.0017 - val_y1_root_mean_squared_error: 1.5226 - val_y2_root_mean_squared_error: 2.0004\n",
      "Epoch 355/500\n",
      "7/7 [==============================] - 0s 2ms/step - loss: 1.2517 - y1_loss: 0.6786 - y2_loss: 0.5732 - y1_root_mean_squared_error: 0.8238 - y2_root_mean_squared_error: 0.7571 - val_loss: 6.0627 - val_y1_loss: 2.2979 - val_y2_loss: 3.7648 - val_y1_root_mean_squared_error: 1.5159 - val_y2_root_mean_squared_error: 1.9403\n",
      "Epoch 356/500\n",
      "7/7 [==============================] - 0s 2ms/step - loss: 1.2845 - y1_loss: 0.7238 - y2_loss: 0.5607 - y1_root_mean_squared_error: 0.8508 - y2_root_mean_squared_error: 0.7488 - val_loss: 10.6262 - val_y1_loss: 2.4191 - val_y2_loss: 8.2072 - val_y1_root_mean_squared_error: 1.5553 - val_y2_root_mean_squared_error: 2.8648\n",
      "Epoch 357/500\n",
      "7/7 [==============================] - 0s 2ms/step - loss: 2.3088 - y1_loss: 0.7375 - y2_loss: 1.5713 - y1_root_mean_squared_error: 0.8588 - y2_root_mean_squared_error: 1.2535 - val_loss: 6.6876 - val_y1_loss: 2.1399 - val_y2_loss: 4.5477 - val_y1_root_mean_squared_error: 1.4628 - val_y2_root_mean_squared_error: 2.1325\n",
      "Epoch 358/500\n",
      "7/7 [==============================] - 0s 2ms/step - loss: 1.4229 - y1_loss: 0.7476 - y2_loss: 0.6753 - y1_root_mean_squared_error: 0.8646 - y2_root_mean_squared_error: 0.8218 - val_loss: 8.2097 - val_y1_loss: 2.7881 - val_y2_loss: 5.4216 - val_y1_root_mean_squared_error: 1.6698 - val_y2_root_mean_squared_error: 2.3284\n",
      "Epoch 359/500\n",
      "7/7 [==============================] - 0s 2ms/step - loss: 2.6293 - y1_loss: 0.9562 - y2_loss: 1.6732 - y1_root_mean_squared_error: 0.9778 - y2_root_mean_squared_error: 1.2935 - val_loss: 8.8401 - val_y1_loss: 3.9578 - val_y2_loss: 4.8823 - val_y1_root_mean_squared_error: 1.9894 - val_y2_root_mean_squared_error: 2.2096\n",
      "Epoch 360/500\n",
      "7/7 [==============================] - 0s 3ms/step - loss: 2.7135 - y1_loss: 1.0037 - y2_loss: 1.7099 - y1_root_mean_squared_error: 1.0018 - y2_root_mean_squared_error: 1.3076 - val_loss: 8.4068 - val_y1_loss: 3.9827 - val_y2_loss: 4.4241 - val_y1_root_mean_squared_error: 1.9957 - val_y2_root_mean_squared_error: 2.1033\n",
      "Epoch 361/500\n"
     ]
    },
    {
     "name": "stdout",
     "output_type": "stream",
     "text": [
      "7/7 [==============================] - 0s 2ms/step - loss: 1.6980 - y1_loss: 0.7355 - y2_loss: 0.9625 - y1_root_mean_squared_error: 0.8576 - y2_root_mean_squared_error: 0.9811 - val_loss: 6.5218 - val_y1_loss: 3.1984 - val_y2_loss: 3.3234 - val_y1_root_mean_squared_error: 1.7884 - val_y2_root_mean_squared_error: 1.8230\n",
      "Epoch 362/500\n",
      "7/7 [==============================] - 0s 3ms/step - loss: 1.3946 - y1_loss: 0.8054 - y2_loss: 0.5892 - y1_root_mean_squared_error: 0.8974 - y2_root_mean_squared_error: 0.7676 - val_loss: 8.2445 - val_y1_loss: 2.4566 - val_y2_loss: 5.7878 - val_y1_root_mean_squared_error: 1.5674 - val_y2_root_mean_squared_error: 2.4058\n",
      "Epoch 363/500\n",
      "7/7 [==============================] - 0s 2ms/step - loss: 2.6330 - y1_loss: 0.8655 - y2_loss: 1.7675 - y1_root_mean_squared_error: 0.9303 - y2_root_mean_squared_error: 1.3295 - val_loss: 7.2477 - val_y1_loss: 2.2551 - val_y2_loss: 4.9926 - val_y1_root_mean_squared_error: 1.5017 - val_y2_root_mean_squared_error: 2.2344\n",
      "Epoch 364/500\n",
      "7/7 [==============================] - 0s 2ms/step - loss: 1.4208 - y1_loss: 0.6823 - y2_loss: 0.7385 - y1_root_mean_squared_error: 0.8260 - y2_root_mean_squared_error: 0.8594 - val_loss: 6.0252 - val_y1_loss: 2.5540 - val_y2_loss: 3.4712 - val_y1_root_mean_squared_error: 1.5981 - val_y2_root_mean_squared_error: 1.8631\n",
      "Epoch 365/500\n",
      "7/7 [==============================] - 0s 2ms/step - loss: 1.3501 - y1_loss: 0.6455 - y2_loss: 0.7046 - y1_root_mean_squared_error: 0.8034 - y2_root_mean_squared_error: 0.8394 - val_loss: 6.0688 - val_y1_loss: 2.3078 - val_y2_loss: 3.7609 - val_y1_root_mean_squared_error: 1.5192 - val_y2_root_mean_squared_error: 1.9393\n",
      "Epoch 366/500\n",
      "7/7 [==============================] - 0s 3ms/step - loss: 1.0862 - y1_loss: 0.5869 - y2_loss: 0.4993 - y1_root_mean_squared_error: 0.7661 - y2_root_mean_squared_error: 0.7066 - val_loss: 5.6194 - val_y1_loss: 2.2703 - val_y2_loss: 3.3491 - val_y1_root_mean_squared_error: 1.5068 - val_y2_root_mean_squared_error: 1.8301\n",
      "Epoch 367/500\n",
      "7/7 [==============================] - 0s 2ms/step - loss: 1.3903 - y1_loss: 0.6064 - y2_loss: 0.7839 - y1_root_mean_squared_error: 0.7787 - y2_root_mean_squared_error: 0.8854 - val_loss: 6.2554 - val_y1_loss: 2.0233 - val_y2_loss: 4.2321 - val_y1_root_mean_squared_error: 1.4224 - val_y2_root_mean_squared_error: 2.0572\n",
      "Epoch 368/500\n",
      "7/7 [==============================] - 0s 3ms/step - loss: 1.3941 - y1_loss: 0.7671 - y2_loss: 0.6271 - y1_root_mean_squared_error: 0.8758 - y2_root_mean_squared_error: 0.7919 - val_loss: 5.4785 - val_y1_loss: 2.1742 - val_y2_loss: 3.3044 - val_y1_root_mean_squared_error: 1.4745 - val_y2_root_mean_squared_error: 1.8178\n",
      "Epoch 369/500\n",
      "7/7 [==============================] - 0s 3ms/step - loss: 1.3235 - y1_loss: 0.6774 - y2_loss: 0.6461 - y1_root_mean_squared_error: 0.8230 - y2_root_mean_squared_error: 0.8038 - val_loss: 8.9909 - val_y1_loss: 3.9337 - val_y2_loss: 5.0571 - val_y1_root_mean_squared_error: 1.9834 - val_y2_root_mean_squared_error: 2.2488\n",
      "Epoch 370/500\n",
      "7/7 [==============================] - 0s 2ms/step - loss: 1.7609 - y1_loss: 0.7347 - y2_loss: 1.0263 - y1_root_mean_squared_error: 0.8571 - y2_root_mean_squared_error: 1.0130 - val_loss: 5.8881 - val_y1_loss: 2.1813 - val_y2_loss: 3.7068 - val_y1_root_mean_squared_error: 1.4769 - val_y2_root_mean_squared_error: 1.9253\n",
      "Epoch 371/500\n",
      "7/7 [==============================] - 0s 3ms/step - loss: 1.1354 - y1_loss: 0.5705 - y2_loss: 0.5649 - y1_root_mean_squared_error: 0.7553 - y2_root_mean_squared_error: 0.7516 - val_loss: 6.3937 - val_y1_loss: 2.9969 - val_y2_loss: 3.3968 - val_y1_root_mean_squared_error: 1.7312 - val_y2_root_mean_squared_error: 1.8430\n",
      "Epoch 372/500\n",
      "7/7 [==============================] - 0s 2ms/step - loss: 1.2600 - y1_loss: 0.6281 - y2_loss: 0.6319 - y1_root_mean_squared_error: 0.7925 - y2_root_mean_squared_error: 0.7949 - val_loss: 9.8555 - val_y1_loss: 5.1494 - val_y2_loss: 4.7061 - val_y1_root_mean_squared_error: 2.2692 - val_y2_root_mean_squared_error: 2.1694\n",
      "Epoch 373/500\n",
      "7/7 [==============================] - 0s 2ms/step - loss: 1.6207 - y1_loss: 0.8729 - y2_loss: 0.7478 - y1_root_mean_squared_error: 0.9343 - y2_root_mean_squared_error: 0.8648 - val_loss: 13.6708 - val_y1_loss: 2.7540 - val_y2_loss: 10.9169 - val_y1_root_mean_squared_error: 1.6595 - val_y2_root_mean_squared_error: 3.3041\n",
      "Epoch 374/500\n",
      "7/7 [==============================] - 0s 3ms/step - loss: 1.9953 - y1_loss: 0.8165 - y2_loss: 1.1788 - y1_root_mean_squared_error: 0.9036 - y2_root_mean_squared_error: 1.0857 - val_loss: 5.7790 - val_y1_loss: 2.3153 - val_y2_loss: 3.4637 - val_y1_root_mean_squared_error: 1.5216 - val_y2_root_mean_squared_error: 1.8611\n",
      "Epoch 375/500\n",
      "7/7 [==============================] - 0s 2ms/step - loss: 1.1283 - y1_loss: 0.6855 - y2_loss: 0.4428 - y1_root_mean_squared_error: 0.8279 - y2_root_mean_squared_error: 0.6655 - val_loss: 24.8809 - val_y1_loss: 10.7650 - val_y2_loss: 14.1159 - val_y1_root_mean_squared_error: 3.2810 - val_y2_root_mean_squared_error: 3.7571\n",
      "Epoch 376/500\n",
      "7/7 [==============================] - 0s 2ms/step - loss: 4.4455 - y1_loss: 1.7144 - y2_loss: 2.7311 - y1_root_mean_squared_error: 1.3093 - y2_root_mean_squared_error: 1.6526 - val_loss: 5.2280 - val_y1_loss: 2.1462 - val_y2_loss: 3.0818 - val_y1_root_mean_squared_error: 1.4650 - val_y2_root_mean_squared_error: 1.7555\n",
      "Epoch 377/500\n",
      "7/7 [==============================] - 0s 2ms/step - loss: 1.3995 - y1_loss: 0.7812 - y2_loss: 0.6183 - y1_root_mean_squared_error: 0.8839 - y2_root_mean_squared_error: 0.7863 - val_loss: 5.8111 - val_y1_loss: 1.9970 - val_y2_loss: 3.8142 - val_y1_root_mean_squared_error: 1.4131 - val_y2_root_mean_squared_error: 1.9530\n",
      "Epoch 378/500\n",
      "7/7 [==============================] - 0s 2ms/step - loss: 1.1378 - y1_loss: 0.6791 - y2_loss: 0.4586 - y1_root_mean_squared_error: 0.8241 - y2_root_mean_squared_error: 0.6772 - val_loss: 14.4767 - val_y1_loss: 4.6307 - val_y2_loss: 9.8460 - val_y1_root_mean_squared_error: 2.1519 - val_y2_root_mean_squared_error: 3.1378\n",
      "Epoch 379/500\n",
      "7/7 [==============================] - 0s 3ms/step - loss: 2.6278 - y1_loss: 1.2183 - y2_loss: 1.4095 - y1_root_mean_squared_error: 1.1037 - y2_root_mean_squared_error: 1.1872 - val_loss: 6.2206 - val_y1_loss: 2.1761 - val_y2_loss: 4.0445 - val_y1_root_mean_squared_error: 1.4752 - val_y2_root_mean_squared_error: 2.0111\n",
      "Epoch 380/500\n",
      "7/7 [==============================] - 0s 2ms/step - loss: 1.9878 - y1_loss: 0.7185 - y2_loss: 1.2693 - y1_root_mean_squared_error: 0.8476 - y2_root_mean_squared_error: 1.1266 - val_loss: 5.2320 - val_y1_loss: 1.9239 - val_y2_loss: 3.3080 - val_y1_root_mean_squared_error: 1.3871 - val_y2_root_mean_squared_error: 1.8188\n",
      "Epoch 381/500\n",
      "7/7 [==============================] - 0s 2ms/step - loss: 1.1854 - y1_loss: 0.6132 - y2_loss: 0.5721 - y1_root_mean_squared_error: 0.7831 - y2_root_mean_squared_error: 0.7564 - val_loss: 8.9191 - val_y1_loss: 2.6542 - val_y2_loss: 6.2649 - val_y1_root_mean_squared_error: 1.6292 - val_y2_root_mean_squared_error: 2.5030\n",
      "Epoch 382/500\n",
      "7/7 [==============================] - 0s 2ms/step - loss: 1.7047 - y1_loss: 0.9166 - y2_loss: 0.7881 - y1_root_mean_squared_error: 0.9574 - y2_root_mean_squared_error: 0.8877 - val_loss: 5.6233 - val_y1_loss: 2.3821 - val_y2_loss: 3.2412 - val_y1_root_mean_squared_error: 1.5434 - val_y2_root_mean_squared_error: 1.8003\n",
      "Epoch 383/500\n",
      "7/7 [==============================] - 0s 2ms/step - loss: 1.2479 - y1_loss: 0.7619 - y2_loss: 0.4860 - y1_root_mean_squared_error: 0.8729 - y2_root_mean_squared_error: 0.6971 - val_loss: 5.8479 - val_y1_loss: 1.9462 - val_y2_loss: 3.9018 - val_y1_root_mean_squared_error: 1.3950 - val_y2_root_mean_squared_error: 1.9753\n",
      "Epoch 384/500\n",
      "7/7 [==============================] - 0s 2ms/step - loss: 1.0021 - y1_loss: 0.5794 - y2_loss: 0.4227 - y1_root_mean_squared_error: 0.7612 - y2_root_mean_squared_error: 0.6501 - val_loss: 6.5100 - val_y1_loss: 2.4568 - val_y2_loss: 4.0532 - val_y1_root_mean_squared_error: 1.5674 - val_y2_root_mean_squared_error: 2.0132\n",
      "Epoch 385/500\n"
     ]
    },
    {
     "name": "stdout",
     "output_type": "stream",
     "text": [
      "7/7 [==============================] - 0s 2ms/step - loss: 1.2610 - y1_loss: 0.7335 - y2_loss: 0.5275 - y1_root_mean_squared_error: 0.8564 - y2_root_mean_squared_error: 0.7263 - val_loss: 5.7715 - val_y1_loss: 2.2180 - val_y2_loss: 3.5535 - val_y1_root_mean_squared_error: 1.4893 - val_y2_root_mean_squared_error: 1.8851\n",
      "Epoch 386/500\n",
      "7/7 [==============================] - 0s 2ms/step - loss: 1.0837 - y1_loss: 0.6404 - y2_loss: 0.4432 - y1_root_mean_squared_error: 0.8003 - y2_root_mean_squared_error: 0.6657 - val_loss: 9.1896 - val_y1_loss: 2.7168 - val_y2_loss: 6.4729 - val_y1_root_mean_squared_error: 1.6483 - val_y2_root_mean_squared_error: 2.5442\n",
      "Epoch 387/500\n",
      "7/7 [==============================] - 0s 2ms/step - loss: 1.4132 - y1_loss: 0.8003 - y2_loss: 0.6129 - y1_root_mean_squared_error: 0.8946 - y2_root_mean_squared_error: 0.7828 - val_loss: 5.2997 - val_y1_loss: 2.0463 - val_y2_loss: 3.2535 - val_y1_root_mean_squared_error: 1.4305 - val_y2_root_mean_squared_error: 1.8037\n",
      "Epoch 388/500\n",
      "7/7 [==============================] - 0s 2ms/step - loss: 1.1210 - y1_loss: 0.5800 - y2_loss: 0.5410 - y1_root_mean_squared_error: 0.7616 - y2_root_mean_squared_error: 0.7355 - val_loss: 13.7340 - val_y1_loss: 3.9031 - val_y2_loss: 9.8309 - val_y1_root_mean_squared_error: 1.9756 - val_y2_root_mean_squared_error: 3.1354\n",
      "Epoch 389/500\n",
      "7/7 [==============================] - 0s 2ms/step - loss: 2.3953 - y1_loss: 1.0988 - y2_loss: 1.2965 - y1_root_mean_squared_error: 1.0483 - y2_root_mean_squared_error: 1.1386 - val_loss: 6.5074 - val_y1_loss: 2.5125 - val_y2_loss: 3.9949 - val_y1_root_mean_squared_error: 1.5851 - val_y2_root_mean_squared_error: 1.9987\n",
      "Epoch 390/500\n",
      "7/7 [==============================] - 0s 2ms/step - loss: 1.2047 - y1_loss: 0.6697 - y2_loss: 0.5350 - y1_root_mean_squared_error: 0.8183 - y2_root_mean_squared_error: 0.7314 - val_loss: 6.4029 - val_y1_loss: 1.9134 - val_y2_loss: 4.4895 - val_y1_root_mean_squared_error: 1.3832 - val_y2_root_mean_squared_error: 2.1188\n",
      "Epoch 391/500\n",
      "7/7 [==============================] - 0s 2ms/step - loss: 1.0143 - y1_loss: 0.5699 - y2_loss: 0.4444 - y1_root_mean_squared_error: 0.7549 - y2_root_mean_squared_error: 0.6666 - val_loss: 5.5685 - val_y1_loss: 1.8941 - val_y2_loss: 3.6744 - val_y1_root_mean_squared_error: 1.3763 - val_y2_root_mean_squared_error: 1.9169\n",
      "Epoch 392/500\n",
      "7/7 [==============================] - 0s 2ms/step - loss: 1.0320 - y1_loss: 0.5916 - y2_loss: 0.4404 - y1_root_mean_squared_error: 0.7692 - y2_root_mean_squared_error: 0.6636 - val_loss: 5.5547 - val_y1_loss: 2.0224 - val_y2_loss: 3.5323 - val_y1_root_mean_squared_error: 1.4221 - val_y2_root_mean_squared_error: 1.8795\n",
      "Epoch 393/500\n",
      "7/7 [==============================] - 0s 2ms/step - loss: 1.0194 - y1_loss: 0.6281 - y2_loss: 0.3912 - y1_root_mean_squared_error: 0.7926 - y2_root_mean_squared_error: 0.6255 - val_loss: 5.9192 - val_y1_loss: 2.0695 - val_y2_loss: 3.8497 - val_y1_root_mean_squared_error: 1.4386 - val_y2_root_mean_squared_error: 1.9621\n",
      "Epoch 394/500\n",
      "7/7 [==============================] - 0s 2ms/step - loss: 0.9962 - y1_loss: 0.5635 - y2_loss: 0.4327 - y1_root_mean_squared_error: 0.7507 - y2_root_mean_squared_error: 0.6578 - val_loss: 6.0042 - val_y1_loss: 2.0322 - val_y2_loss: 3.9720 - val_y1_root_mean_squared_error: 1.4255 - val_y2_root_mean_squared_error: 1.9930\n",
      "Epoch 395/500\n",
      "7/7 [==============================] - 0s 2ms/step - loss: 1.0881 - y1_loss: 0.6180 - y2_loss: 0.4700 - y1_root_mean_squared_error: 0.7862 - y2_root_mean_squared_error: 0.6856 - val_loss: 7.0704 - val_y1_loss: 2.1948 - val_y2_loss: 4.8756 - val_y1_root_mean_squared_error: 1.4815 - val_y2_root_mean_squared_error: 2.2081\n",
      "Epoch 396/500\n",
      "7/7 [==============================] - 0s 3ms/step - loss: 1.6717 - y1_loss: 0.7869 - y2_loss: 0.8848 - y1_root_mean_squared_error: 0.8870 - y2_root_mean_squared_error: 0.9406 - val_loss: 5.9071 - val_y1_loss: 2.0280 - val_y2_loss: 3.8792 - val_y1_root_mean_squared_error: 1.4241 - val_y2_root_mean_squared_error: 1.9696\n",
      "Epoch 397/500\n",
      "7/7 [==============================] - 0s 2ms/step - loss: 1.3045 - y1_loss: 0.7108 - y2_loss: 0.5937 - y1_root_mean_squared_error: 0.8431 - y2_root_mean_squared_error: 0.7705 - val_loss: 5.7331 - val_y1_loss: 2.4943 - val_y2_loss: 3.2388 - val_y1_root_mean_squared_error: 1.5793 - val_y2_root_mean_squared_error: 1.7997\n",
      "Epoch 398/500\n",
      "7/7 [==============================] - 0s 2ms/step - loss: 1.1447 - y1_loss: 0.6271 - y2_loss: 0.5176 - y1_root_mean_squared_error: 0.7919 - y2_root_mean_squared_error: 0.7195 - val_loss: 8.7738 - val_y1_loss: 3.8924 - val_y2_loss: 4.8814 - val_y1_root_mean_squared_error: 1.9729 - val_y2_root_mean_squared_error: 2.2094\n",
      "Epoch 399/500\n",
      "7/7 [==============================] - 0s 2ms/step - loss: 3.0944 - y1_loss: 1.2094 - y2_loss: 1.8850 - y1_root_mean_squared_error: 1.0997 - y2_root_mean_squared_error: 1.3730 - val_loss: 5.8128 - val_y1_loss: 2.1037 - val_y2_loss: 3.7091 - val_y1_root_mean_squared_error: 1.4504 - val_y2_root_mean_squared_error: 1.9259\n",
      "Epoch 400/500\n",
      "7/7 [==============================] - 0s 2ms/step - loss: 1.3725 - y1_loss: 0.6597 - y2_loss: 0.7128 - y1_root_mean_squared_error: 0.8122 - y2_root_mean_squared_error: 0.8443 - val_loss: 6.4388 - val_y1_loss: 2.3834 - val_y2_loss: 4.0555 - val_y1_root_mean_squared_error: 1.5438 - val_y2_root_mean_squared_error: 2.0138\n",
      "Epoch 401/500\n",
      "7/7 [==============================] - 0s 2ms/step - loss: 1.2786 - y1_loss: 0.6604 - y2_loss: 0.6182 - y1_root_mean_squared_error: 0.8127 - y2_root_mean_squared_error: 0.7862 - val_loss: 6.1094 - val_y1_loss: 2.1952 - val_y2_loss: 3.9142 - val_y1_root_mean_squared_error: 1.4816 - val_y2_root_mean_squared_error: 1.9784\n",
      "Epoch 402/500\n",
      "7/7 [==============================] - 0s 2ms/step - loss: 1.3231 - y1_loss: 0.6387 - y2_loss: 0.6843 - y1_root_mean_squared_error: 0.7992 - y2_root_mean_squared_error: 0.8272 - val_loss: 5.2183 - val_y1_loss: 1.9850 - val_y2_loss: 3.2333 - val_y1_root_mean_squared_error: 1.4089 - val_y2_root_mean_squared_error: 1.7982\n",
      "Epoch 403/500\n",
      "7/7 [==============================] - 0s 2ms/step - loss: 1.0995 - y1_loss: 0.6542 - y2_loss: 0.4453 - y1_root_mean_squared_error: 0.8088 - y2_root_mean_squared_error: 0.6673 - val_loss: 5.6896 - val_y1_loss: 2.2666 - val_y2_loss: 3.4230 - val_y1_root_mean_squared_error: 1.5055 - val_y2_root_mean_squared_error: 1.8501\n",
      "Epoch 404/500\n",
      "7/7 [==============================] - 0s 2ms/step - loss: 1.0925 - y1_loss: 0.6289 - y2_loss: 0.4636 - y1_root_mean_squared_error: 0.7930 - y2_root_mean_squared_error: 0.6809 - val_loss: 5.5817 - val_y1_loss: 2.1353 - val_y2_loss: 3.4465 - val_y1_root_mean_squared_error: 1.4613 - val_y2_root_mean_squared_error: 1.8565\n",
      "Epoch 405/500\n",
      "7/7 [==============================] - 0s 2ms/step - loss: 0.9639 - y1_loss: 0.5697 - y2_loss: 0.3942 - y1_root_mean_squared_error: 0.7548 - y2_root_mean_squared_error: 0.6278 - val_loss: 6.2308 - val_y1_loss: 1.9149 - val_y2_loss: 4.3159 - val_y1_root_mean_squared_error: 1.3838 - val_y2_root_mean_squared_error: 2.0775\n",
      "Epoch 406/500\n",
      "7/7 [==============================] - 0s 2ms/step - loss: 1.0944 - y1_loss: 0.6107 - y2_loss: 0.4837 - y1_root_mean_squared_error: 0.7815 - y2_root_mean_squared_error: 0.6955 - val_loss: 5.6535 - val_y1_loss: 2.0290 - val_y2_loss: 3.6244 - val_y1_root_mean_squared_error: 1.4244 - val_y2_root_mean_squared_error: 1.9038\n",
      "Epoch 407/500\n",
      "7/7 [==============================] - 0s 2ms/step - loss: 0.8959 - y1_loss: 0.5455 - y2_loss: 0.3504 - y1_root_mean_squared_error: 0.7386 - y2_root_mean_squared_error: 0.5920 - val_loss: 6.0675 - val_y1_loss: 2.1110 - val_y2_loss: 3.9566 - val_y1_root_mean_squared_error: 1.4529 - val_y2_root_mean_squared_error: 1.9891\n",
      "Epoch 408/500\n",
      "7/7 [==============================] - 0s 2ms/step - loss: 1.0926 - y1_loss: 0.5664 - y2_loss: 0.5262 - y1_root_mean_squared_error: 0.7526 - y2_root_mean_squared_error: 0.7254 - val_loss: 6.1114 - val_y1_loss: 2.0681 - val_y2_loss: 4.0433 - val_y1_root_mean_squared_error: 1.4381 - val_y2_root_mean_squared_error: 2.0108\n",
      "Epoch 409/500\n"
     ]
    },
    {
     "name": "stdout",
     "output_type": "stream",
     "text": [
      "7/7 [==============================] - 0s 2ms/step - loss: 1.2458 - y1_loss: 0.6142 - y2_loss: 0.6316 - y1_root_mean_squared_error: 0.7837 - y2_root_mean_squared_error: 0.7948 - val_loss: 6.1373 - val_y1_loss: 2.0149 - val_y2_loss: 4.1223 - val_y1_root_mean_squared_error: 1.4195 - val_y2_root_mean_squared_error: 2.0304\n",
      "Epoch 410/500\n",
      "7/7 [==============================] - 0s 2ms/step - loss: 1.1784 - y1_loss: 0.5385 - y2_loss: 0.6400 - y1_root_mean_squared_error: 0.7338 - y2_root_mean_squared_error: 0.8000 - val_loss: 6.1390 - val_y1_loss: 2.5657 - val_y2_loss: 3.5733 - val_y1_root_mean_squared_error: 1.6018 - val_y2_root_mean_squared_error: 1.8903\n",
      "Epoch 411/500\n",
      "7/7 [==============================] - 0s 3ms/step - loss: 1.3723 - y1_loss: 0.7394 - y2_loss: 0.6328 - y1_root_mean_squared_error: 0.8599 - y2_root_mean_squared_error: 0.7955 - val_loss: 5.5039 - val_y1_loss: 2.0567 - val_y2_loss: 3.4472 - val_y1_root_mean_squared_error: 1.4341 - val_y2_root_mean_squared_error: 1.8567\n",
      "Epoch 412/500\n",
      "7/7 [==============================] - 0s 3ms/step - loss: 0.8982 - y1_loss: 0.5478 - y2_loss: 0.3504 - y1_root_mean_squared_error: 0.7401 - y2_root_mean_squared_error: 0.5919 - val_loss: 5.7851 - val_y1_loss: 1.9897 - val_y2_loss: 3.7955 - val_y1_root_mean_squared_error: 1.4106 - val_y2_root_mean_squared_error: 1.9482\n",
      "Epoch 413/500\n",
      "7/7 [==============================] - 0s 3ms/step - loss: 0.9477 - y1_loss: 0.5508 - y2_loss: 0.3969 - y1_root_mean_squared_error: 0.7422 - y2_root_mean_squared_error: 0.6300 - val_loss: 10.1069 - val_y1_loss: 2.1484 - val_y2_loss: 7.9585 - val_y1_root_mean_squared_error: 1.4657 - val_y2_root_mean_squared_error: 2.8211\n",
      "Epoch 414/500\n",
      "7/7 [==============================] - 0s 3ms/step - loss: 3.3286 - y1_loss: 0.7465 - y2_loss: 2.5821 - y1_root_mean_squared_error: 0.8640 - y2_root_mean_squared_error: 1.6069 - val_loss: 5.9640 - val_y1_loss: 2.1871 - val_y2_loss: 3.7769 - val_y1_root_mean_squared_error: 1.4789 - val_y2_root_mean_squared_error: 1.9434\n",
      "Epoch 415/500\n",
      "7/7 [==============================] - 0s 3ms/step - loss: 1.1607 - y1_loss: 0.6531 - y2_loss: 0.5076 - y1_root_mean_squared_error: 0.8081 - y2_root_mean_squared_error: 0.7125 - val_loss: 6.5167 - val_y1_loss: 2.0407 - val_y2_loss: 4.4760 - val_y1_root_mean_squared_error: 1.4285 - val_y2_root_mean_squared_error: 2.1157\n",
      "Epoch 416/500\n",
      "7/7 [==============================] - 0s 3ms/step - loss: 0.9749 - y1_loss: 0.5495 - y2_loss: 0.4254 - y1_root_mean_squared_error: 0.7413 - y2_root_mean_squared_error: 0.6522 - val_loss: 5.7673 - val_y1_loss: 2.2837 - val_y2_loss: 3.4836 - val_y1_root_mean_squared_error: 1.5112 - val_y2_root_mean_squared_error: 1.8664\n",
      "Epoch 417/500\n",
      "7/7 [==============================] - 0s 3ms/step - loss: 0.9455 - y1_loss: 0.5475 - y2_loss: 0.3979 - y1_root_mean_squared_error: 0.7399 - y2_root_mean_squared_error: 0.6308 - val_loss: 5.7903 - val_y1_loss: 2.0323 - val_y2_loss: 3.7580 - val_y1_root_mean_squared_error: 1.4256 - val_y2_root_mean_squared_error: 1.9386\n",
      "Epoch 418/500\n",
      "7/7 [==============================] - 0s 3ms/step - loss: 0.9287 - y1_loss: 0.5808 - y2_loss: 0.3479 - y1_root_mean_squared_error: 0.7621 - y2_root_mean_squared_error: 0.5898 - val_loss: 6.9110 - val_y1_loss: 2.5167 - val_y2_loss: 4.3943 - val_y1_root_mean_squared_error: 1.5864 - val_y2_root_mean_squared_error: 2.0963\n",
      "Epoch 419/500\n",
      "7/7 [==============================] - 0s 2ms/step - loss: 0.9835 - y1_loss: 0.6008 - y2_loss: 0.3827 - y1_root_mean_squared_error: 0.7751 - y2_root_mean_squared_error: 0.6186 - val_loss: 6.8386 - val_y1_loss: 2.0731 - val_y2_loss: 4.7655 - val_y1_root_mean_squared_error: 1.4398 - val_y2_root_mean_squared_error: 2.1830\n",
      "Epoch 420/500\n",
      "7/7 [==============================] - 0s 2ms/step - loss: 1.0342 - y1_loss: 0.5567 - y2_loss: 0.4775 - y1_root_mean_squared_error: 0.7461 - y2_root_mean_squared_error: 0.6910 - val_loss: 13.1961 - val_y1_loss: 4.2062 - val_y2_loss: 8.9899 - val_y1_root_mean_squared_error: 2.0509 - val_y2_root_mean_squared_error: 2.9983\n",
      "Epoch 421/500\n",
      "7/7 [==============================] - 0s 3ms/step - loss: 2.6125 - y1_loss: 1.2517 - y2_loss: 1.3609 - y1_root_mean_squared_error: 1.1188 - y2_root_mean_squared_error: 1.1666 - val_loss: 5.9672 - val_y1_loss: 2.2120 - val_y2_loss: 3.7552 - val_y1_root_mean_squared_error: 1.4873 - val_y2_root_mean_squared_error: 1.9378\n",
      "Epoch 422/500\n",
      "7/7 [==============================] - 0s 3ms/step - loss: 0.9258 - y1_loss: 0.5720 - y2_loss: 0.3538 - y1_root_mean_squared_error: 0.7563 - y2_root_mean_squared_error: 0.5948 - val_loss: 7.6755 - val_y1_loss: 2.9665 - val_y2_loss: 4.7090 - val_y1_root_mean_squared_error: 1.7223 - val_y2_root_mean_squared_error: 2.1700\n",
      "Epoch 423/500\n",
      "7/7 [==============================] - 0s 2ms/step - loss: 1.0808 - y1_loss: 0.6701 - y2_loss: 0.4108 - y1_root_mean_squared_error: 0.8186 - y2_root_mean_squared_error: 0.6409 - val_loss: 6.5851 - val_y1_loss: 2.4442 - val_y2_loss: 4.1410 - val_y1_root_mean_squared_error: 1.5634 - val_y2_root_mean_squared_error: 2.0349\n",
      "Epoch 424/500\n",
      "7/7 [==============================] - 0s 2ms/step - loss: 1.0419 - y1_loss: 0.5455 - y2_loss: 0.4964 - y1_root_mean_squared_error: 0.7386 - y2_root_mean_squared_error: 0.7046 - val_loss: 18.7687 - val_y1_loss: 2.3467 - val_y2_loss: 16.4220 - val_y1_root_mean_squared_error: 1.5319 - val_y2_root_mean_squared_error: 4.0524\n",
      "Epoch 425/500\n",
      "7/7 [==============================] - 0s 2ms/step - loss: 2.4407 - y1_loss: 0.9225 - y2_loss: 1.5181 - y1_root_mean_squared_error: 0.9605 - y2_root_mean_squared_error: 1.2321 - val_loss: 7.6435 - val_y1_loss: 2.1709 - val_y2_loss: 5.4727 - val_y1_root_mean_squared_error: 1.4734 - val_y2_root_mean_squared_error: 2.3394\n",
      "Epoch 426/500\n",
      "7/7 [==============================] - 0s 3ms/step - loss: 1.3794 - y1_loss: 0.5912 - y2_loss: 0.7882 - y1_root_mean_squared_error: 0.7689 - y2_root_mean_squared_error: 0.8878 - val_loss: 6.9270 - val_y1_loss: 1.9028 - val_y2_loss: 5.0242 - val_y1_root_mean_squared_error: 1.3794 - val_y2_root_mean_squared_error: 2.2415\n",
      "Epoch 427/500\n",
      "7/7 [==============================] - 0s 3ms/step - loss: 1.0331 - y1_loss: 0.5043 - y2_loss: 0.5288 - y1_root_mean_squared_error: 0.7101 - y2_root_mean_squared_error: 0.7272 - val_loss: 5.4606 - val_y1_loss: 2.0003 - val_y2_loss: 3.4604 - val_y1_root_mean_squared_error: 1.4143 - val_y2_root_mean_squared_error: 1.8602\n",
      "Epoch 428/500\n",
      "7/7 [==============================] - 0s 3ms/step - loss: 0.9779 - y1_loss: 0.5902 - y2_loss: 0.3877 - y1_root_mean_squared_error: 0.7682 - y2_root_mean_squared_error: 0.6227 - val_loss: 5.7226 - val_y1_loss: 1.8915 - val_y2_loss: 3.8311 - val_y1_root_mean_squared_error: 1.3753 - val_y2_root_mean_squared_error: 1.9573\n",
      "Epoch 429/500\n",
      "7/7 [==============================] - 0s 2ms/step - loss: 0.9160 - y1_loss: 0.5686 - y2_loss: 0.3475 - y1_root_mean_squared_error: 0.7540 - y2_root_mean_squared_error: 0.5895 - val_loss: 5.6214 - val_y1_loss: 1.9093 - val_y2_loss: 3.7120 - val_y1_root_mean_squared_error: 1.3818 - val_y2_root_mean_squared_error: 1.9267\n",
      "Epoch 430/500\n",
      "7/7 [==============================] - 0s 3ms/step - loss: 0.8278 - y1_loss: 0.5155 - y2_loss: 0.3123 - y1_root_mean_squared_error: 0.7180 - y2_root_mean_squared_error: 0.5588 - val_loss: 5.5293 - val_y1_loss: 2.0187 - val_y2_loss: 3.5106 - val_y1_root_mean_squared_error: 1.4208 - val_y2_root_mean_squared_error: 1.8737\n",
      "Epoch 431/500\n",
      "7/7 [==============================] - 0s 3ms/step - loss: 0.7854 - y1_loss: 0.5418 - y2_loss: 0.2436 - y1_root_mean_squared_error: 0.7361 - y2_root_mean_squared_error: 0.4936 - val_loss: 6.7625 - val_y1_loss: 2.6525 - val_y2_loss: 4.1099 - val_y1_root_mean_squared_error: 1.6287 - val_y2_root_mean_squared_error: 2.0273\n",
      "Epoch 432/500\n",
      "7/7 [==============================] - 0s 3ms/step - loss: 1.0245 - y1_loss: 0.5808 - y2_loss: 0.4438 - y1_root_mean_squared_error: 0.7621 - y2_root_mean_squared_error: 0.6662 - val_loss: 12.5313 - val_y1_loss: 2.2087 - val_y2_loss: 10.3226 - val_y1_root_mean_squared_error: 1.4862 - val_y2_root_mean_squared_error: 3.2129\n",
      "Epoch 433/500\n"
     ]
    },
    {
     "name": "stdout",
     "output_type": "stream",
     "text": [
      "7/7 [==============================] - 0s 3ms/step - loss: 1.7853 - y1_loss: 0.7779 - y2_loss: 1.0075 - y1_root_mean_squared_error: 0.8820 - y2_root_mean_squared_error: 1.0037 - val_loss: 6.2217 - val_y1_loss: 2.0539 - val_y2_loss: 4.1678 - val_y1_root_mean_squared_error: 1.4331 - val_y2_root_mean_squared_error: 2.0415\n",
      "Epoch 434/500\n",
      "7/7 [==============================] - 0s 3ms/step - loss: 0.9915 - y1_loss: 0.5316 - y2_loss: 0.4599 - y1_root_mean_squared_error: 0.7291 - y2_root_mean_squared_error: 0.6781 - val_loss: 8.8736 - val_y1_loss: 3.6127 - val_y2_loss: 5.2609 - val_y1_root_mean_squared_error: 1.9007 - val_y2_root_mean_squared_error: 2.2937\n",
      "Epoch 435/500\n",
      "7/7 [==============================] - 0s 3ms/step - loss: 1.6184 - y1_loss: 0.8024 - y2_loss: 0.8160 - y1_root_mean_squared_error: 0.8958 - y2_root_mean_squared_error: 0.9033 - val_loss: 6.3923 - val_y1_loss: 2.0943 - val_y2_loss: 4.2980 - val_y1_root_mean_squared_error: 1.4472 - val_y2_root_mean_squared_error: 2.0732\n",
      "Epoch 436/500\n",
      "7/7 [==============================] - 0s 2ms/step - loss: 1.1830 - y1_loss: 0.6347 - y2_loss: 0.5483 - y1_root_mean_squared_error: 0.7967 - y2_root_mean_squared_error: 0.7405 - val_loss: 6.1559 - val_y1_loss: 2.2449 - val_y2_loss: 3.9110 - val_y1_root_mean_squared_error: 1.4983 - val_y2_root_mean_squared_error: 1.9776\n",
      "Epoch 437/500\n",
      "7/7 [==============================] - 0s 3ms/step - loss: 1.1662 - y1_loss: 0.5813 - y2_loss: 0.5849 - y1_root_mean_squared_error: 0.7624 - y2_root_mean_squared_error: 0.7648 - val_loss: 11.9998 - val_y1_loss: 4.8332 - val_y2_loss: 7.1666 - val_y1_root_mean_squared_error: 2.1985 - val_y2_root_mean_squared_error: 2.6770\n",
      "Epoch 438/500\n",
      "7/7 [==============================] - 0s 2ms/step - loss: 3.1210 - y1_loss: 0.8360 - y2_loss: 2.2849 - y1_root_mean_squared_error: 0.9144 - y2_root_mean_squared_error: 1.5116 - val_loss: 5.9722 - val_y1_loss: 2.1309 - val_y2_loss: 3.8413 - val_y1_root_mean_squared_error: 1.4598 - val_y2_root_mean_squared_error: 1.9599\n",
      "Epoch 439/500\n",
      "7/7 [==============================] - 0s 2ms/step - loss: 1.5047 - y1_loss: 0.6400 - y2_loss: 0.8646 - y1_root_mean_squared_error: 0.8000 - y2_root_mean_squared_error: 0.9299 - val_loss: 6.1523 - val_y1_loss: 1.9367 - val_y2_loss: 4.2156 - val_y1_root_mean_squared_error: 1.3917 - val_y2_root_mean_squared_error: 2.0532\n",
      "Epoch 440/500\n",
      "7/7 [==============================] - 0s 2ms/step - loss: 1.0196 - y1_loss: 0.6270 - y2_loss: 0.3925 - y1_root_mean_squared_error: 0.7919 - y2_root_mean_squared_error: 0.6265 - val_loss: 33.6840 - val_y1_loss: 13.4126 - val_y2_loss: 20.2715 - val_y1_root_mean_squared_error: 3.6623 - val_y2_root_mean_squared_error: 4.5024\n",
      "Epoch 441/500\n",
      "7/7 [==============================] - 0s 2ms/step - loss: 4.2753 - y1_loss: 2.0141 - y2_loss: 2.2612 - y1_root_mean_squared_error: 1.4192 - y2_root_mean_squared_error: 1.5037 - val_loss: 9.7624 - val_y1_loss: 4.1653 - val_y2_loss: 5.5971 - val_y1_root_mean_squared_error: 2.0409 - val_y2_root_mean_squared_error: 2.3658\n",
      "Epoch 442/500\n",
      "7/7 [==============================] - 0s 2ms/step - loss: 3.0534 - y1_loss: 0.7210 - y2_loss: 2.3324 - y1_root_mean_squared_error: 0.8491 - y2_root_mean_squared_error: 1.5272 - val_loss: 6.1396 - val_y1_loss: 1.7965 - val_y2_loss: 4.3431 - val_y1_root_mean_squared_error: 1.3403 - val_y2_root_mean_squared_error: 2.0840\n",
      "Epoch 443/500\n",
      "7/7 [==============================] - 0s 2ms/step - loss: 1.0060 - y1_loss: 0.6204 - y2_loss: 0.3856 - y1_root_mean_squared_error: 0.7877 - y2_root_mean_squared_error: 0.6209 - val_loss: 6.9871 - val_y1_loss: 1.9266 - val_y2_loss: 5.0605 - val_y1_root_mean_squared_error: 1.3880 - val_y2_root_mean_squared_error: 2.2495\n",
      "Epoch 444/500\n",
      "7/7 [==============================] - 0s 2ms/step - loss: 1.0164 - y1_loss: 0.6233 - y2_loss: 0.3931 - y1_root_mean_squared_error: 0.7895 - y2_root_mean_squared_error: 0.6270 - val_loss: 6.4740 - val_y1_loss: 1.9626 - val_y2_loss: 4.5114 - val_y1_root_mean_squared_error: 1.4009 - val_y2_root_mean_squared_error: 2.1240\n",
      "Epoch 445/500\n",
      "7/7 [==============================] - 0s 2ms/step - loss: 1.0295 - y1_loss: 0.5920 - y2_loss: 0.4375 - y1_root_mean_squared_error: 0.7694 - y2_root_mean_squared_error: 0.6615 - val_loss: 5.3277 - val_y1_loss: 1.8550 - val_y2_loss: 3.4727 - val_y1_root_mean_squared_error: 1.3620 - val_y2_root_mean_squared_error: 1.8635\n",
      "Epoch 446/500\n",
      "7/7 [==============================] - 0s 2ms/step - loss: 0.8166 - y1_loss: 0.4922 - y2_loss: 0.3243 - y1_root_mean_squared_error: 0.7016 - y2_root_mean_squared_error: 0.5695 - val_loss: 5.8632 - val_y1_loss: 2.1223 - val_y2_loss: 3.7409 - val_y1_root_mean_squared_error: 1.4568 - val_y2_root_mean_squared_error: 1.9341\n",
      "Epoch 447/500\n",
      "7/7 [==============================] - 0s 2ms/step - loss: 0.9620 - y1_loss: 0.5580 - y2_loss: 0.4040 - y1_root_mean_squared_error: 0.7470 - y2_root_mean_squared_error: 0.6356 - val_loss: 7.2902 - val_y1_loss: 3.0807 - val_y2_loss: 4.2095 - val_y1_root_mean_squared_error: 1.7552 - val_y2_root_mean_squared_error: 2.0517\n",
      "Epoch 448/500\n",
      "7/7 [==============================] - 0s 2ms/step - loss: 1.5188 - y1_loss: 0.6727 - y2_loss: 0.8461 - y1_root_mean_squared_error: 0.8202 - y2_root_mean_squared_error: 0.9198 - val_loss: 5.9705 - val_y1_loss: 1.9972 - val_y2_loss: 3.9733 - val_y1_root_mean_squared_error: 1.4132 - val_y2_root_mean_squared_error: 1.9933\n",
      "Epoch 449/500\n",
      "7/7 [==============================] - 0s 3ms/step - loss: 0.8489 - y1_loss: 0.4920 - y2_loss: 0.3569 - y1_root_mean_squared_error: 0.7014 - y2_root_mean_squared_error: 0.5974 - val_loss: 6.4410 - val_y1_loss: 1.8298 - val_y2_loss: 4.6112 - val_y1_root_mean_squared_error: 1.3527 - val_y2_root_mean_squared_error: 2.1474\n",
      "Epoch 450/500\n",
      "7/7 [==============================] - 0s 3ms/step - loss: 0.9309 - y1_loss: 0.4795 - y2_loss: 0.4514 - y1_root_mean_squared_error: 0.6924 - y2_root_mean_squared_error: 0.6719 - val_loss: 5.8189 - val_y1_loss: 1.9802 - val_y2_loss: 3.8388 - val_y1_root_mean_squared_error: 1.4072 - val_y2_root_mean_squared_error: 1.9593\n",
      "Epoch 451/500\n",
      "7/7 [==============================] - 0s 2ms/step - loss: 1.1880 - y1_loss: 0.7254 - y2_loss: 0.4626 - y1_root_mean_squared_error: 0.8517 - y2_root_mean_squared_error: 0.6802 - val_loss: 6.1185 - val_y1_loss: 1.9046 - val_y2_loss: 4.2139 - val_y1_root_mean_squared_error: 1.3801 - val_y2_root_mean_squared_error: 2.0528\n",
      "Epoch 452/500\n",
      "7/7 [==============================] - 0s 2ms/step - loss: 0.7662 - y1_loss: 0.4853 - y2_loss: 0.2809 - y1_root_mean_squared_error: 0.6967 - y2_root_mean_squared_error: 0.5300 - val_loss: 8.9525 - val_y1_loss: 4.4750 - val_y2_loss: 4.4774 - val_y1_root_mean_squared_error: 2.1154 - val_y2_root_mean_squared_error: 2.1160\n",
      "Epoch 453/500\n",
      "7/7 [==============================] - 0s 2ms/step - loss: 1.2119 - y1_loss: 0.7080 - y2_loss: 0.5038 - y1_root_mean_squared_error: 0.8414 - y2_root_mean_squared_error: 0.7098 - val_loss: 5.8079 - val_y1_loss: 1.9790 - val_y2_loss: 3.8288 - val_y1_root_mean_squared_error: 1.4068 - val_y2_root_mean_squared_error: 1.9567\n",
      "Epoch 454/500\n",
      "7/7 [==============================] - 0s 2ms/step - loss: 0.9695 - y1_loss: 0.4456 - y2_loss: 0.5240 - y1_root_mean_squared_error: 0.6675 - y2_root_mean_squared_error: 0.7239 - val_loss: 5.4069 - val_y1_loss: 1.8317 - val_y2_loss: 3.5752 - val_y1_root_mean_squared_error: 1.3534 - val_y2_root_mean_squared_error: 1.8908\n",
      "Epoch 455/500\n",
      "7/7 [==============================] - 0s 3ms/step - loss: 0.8404 - y1_loss: 0.5121 - y2_loss: 0.3284 - y1_root_mean_squared_error: 0.7156 - y2_root_mean_squared_error: 0.5730 - val_loss: 5.1973 - val_y1_loss: 2.0723 - val_y2_loss: 3.1249 - val_y1_root_mean_squared_error: 1.4396 - val_y2_root_mean_squared_error: 1.7677\n",
      "Epoch 456/500\n",
      "7/7 [==============================] - 0s 2ms/step - loss: 0.7294 - y1_loss: 0.4413 - y2_loss: 0.2881 - y1_root_mean_squared_error: 0.6643 - y2_root_mean_squared_error: 0.5368 - val_loss: 6.1782 - val_y1_loss: 1.7494 - val_y2_loss: 4.4289 - val_y1_root_mean_squared_error: 1.3226 - val_y2_root_mean_squared_error: 2.1045\n",
      "Epoch 457/500\n"
     ]
    },
    {
     "name": "stdout",
     "output_type": "stream",
     "text": [
      "7/7 [==============================] - 0s 2ms/step - loss: 1.0053 - y1_loss: 0.4707 - y2_loss: 0.5346 - y1_root_mean_squared_error: 0.6861 - y2_root_mean_squared_error: 0.7312 - val_loss: 6.6005 - val_y1_loss: 1.9821 - val_y2_loss: 4.6184 - val_y1_root_mean_squared_error: 1.4079 - val_y2_root_mean_squared_error: 2.1490\n",
      "Epoch 458/500\n",
      "7/7 [==============================] - 0s 2ms/step - loss: 0.8450 - y1_loss: 0.4664 - y2_loss: 0.3786 - y1_root_mean_squared_error: 0.6830 - y2_root_mean_squared_error: 0.6153 - val_loss: 7.7141 - val_y1_loss: 1.8336 - val_y2_loss: 5.8805 - val_y1_root_mean_squared_error: 1.3541 - val_y2_root_mean_squared_error: 2.4250\n",
      "Epoch 459/500\n",
      "7/7 [==============================] - 0s 2ms/step - loss: 1.0511 - y1_loss: 0.5206 - y2_loss: 0.5305 - y1_root_mean_squared_error: 0.7215 - y2_root_mean_squared_error: 0.7284 - val_loss: 5.6554 - val_y1_loss: 1.7494 - val_y2_loss: 3.9060 - val_y1_root_mean_squared_error: 1.3227 - val_y2_root_mean_squared_error: 1.9764\n",
      "Epoch 460/500\n",
      "7/7 [==============================] - 0s 2ms/step - loss: 0.7469 - y1_loss: 0.4550 - y2_loss: 0.2919 - y1_root_mean_squared_error: 0.6746 - y2_root_mean_squared_error: 0.5403 - val_loss: 9.4327 - val_y1_loss: 2.5216 - val_y2_loss: 6.9111 - val_y1_root_mean_squared_error: 1.5880 - val_y2_root_mean_squared_error: 2.6289\n",
      "Epoch 461/500\n",
      "7/7 [==============================] - 0s 3ms/step - loss: 1.0470 - y1_loss: 0.6042 - y2_loss: 0.4429 - y1_root_mean_squared_error: 0.7773 - y2_root_mean_squared_error: 0.6655 - val_loss: 5.1825 - val_y1_loss: 1.7691 - val_y2_loss: 3.4134 - val_y1_root_mean_squared_error: 1.3301 - val_y2_root_mean_squared_error: 1.8475\n",
      "Epoch 462/500\n",
      "7/7 [==============================] - 0s 2ms/step - loss: 0.7923 - y1_loss: 0.4473 - y2_loss: 0.3450 - y1_root_mean_squared_error: 0.6688 - y2_root_mean_squared_error: 0.5873 - val_loss: 17.6386 - val_y1_loss: 3.3686 - val_y2_loss: 14.2700 - val_y1_root_mean_squared_error: 1.8354 - val_y2_root_mean_squared_error: 3.7776\n",
      "Epoch 463/500\n",
      "7/7 [==============================] - 0s 2ms/step - loss: 1.7601 - y1_loss: 0.5846 - y2_loss: 1.1755 - y1_root_mean_squared_error: 0.7646 - y2_root_mean_squared_error: 1.0842 - val_loss: 5.2287 - val_y1_loss: 2.0588 - val_y2_loss: 3.1699 - val_y1_root_mean_squared_error: 1.4349 - val_y2_root_mean_squared_error: 1.7804\n",
      "Epoch 464/500\n",
      "7/7 [==============================] - 0s 3ms/step - loss: 0.9166 - y1_loss: 0.6560 - y2_loss: 0.2605 - y1_root_mean_squared_error: 0.8100 - y2_root_mean_squared_error: 0.5104 - val_loss: 5.2141 - val_y1_loss: 1.7162 - val_y2_loss: 3.4979 - val_y1_root_mean_squared_error: 1.3100 - val_y2_root_mean_squared_error: 1.8703\n",
      "Epoch 465/500\n",
      "7/7 [==============================] - 0s 3ms/step - loss: 0.8040 - y1_loss: 0.5111 - y2_loss: 0.2929 - y1_root_mean_squared_error: 0.7149 - y2_root_mean_squared_error: 0.5412 - val_loss: 5.5032 - val_y1_loss: 1.7950 - val_y2_loss: 3.7082 - val_y1_root_mean_squared_error: 1.3398 - val_y2_root_mean_squared_error: 1.9257\n",
      "Epoch 466/500\n",
      "7/7 [==============================] - 0s 3ms/step - loss: 1.1477 - y1_loss: 0.5863 - y2_loss: 0.5613 - y1_root_mean_squared_error: 0.7657 - y2_root_mean_squared_error: 0.7492 - val_loss: 6.6396 - val_y1_loss: 2.1226 - val_y2_loss: 4.5171 - val_y1_root_mean_squared_error: 1.4569 - val_y2_root_mean_squared_error: 2.1253\n",
      "Epoch 467/500\n",
      "7/7 [==============================] - 0s 2ms/step - loss: 1.5026 - y1_loss: 0.6069 - y2_loss: 0.8957 - y1_root_mean_squared_error: 0.7791 - y2_root_mean_squared_error: 0.9464 - val_loss: 5.4504 - val_y1_loss: 1.6563 - val_y2_loss: 3.7941 - val_y1_root_mean_squared_error: 1.2870 - val_y2_root_mean_squared_error: 1.9478\n",
      "Epoch 468/500\n",
      "7/7 [==============================] - 0s 2ms/step - loss: 1.0004 - y1_loss: 0.5513 - y2_loss: 0.4491 - y1_root_mean_squared_error: 0.7425 - y2_root_mean_squared_error: 0.6702 - val_loss: 7.0346 - val_y1_loss: 1.7988 - val_y2_loss: 5.2359 - val_y1_root_mean_squared_error: 1.3412 - val_y2_root_mean_squared_error: 2.2882\n",
      "Epoch 469/500\n",
      "7/7 [==============================] - 0s 3ms/step - loss: 0.9374 - y1_loss: 0.5681 - y2_loss: 0.3693 - y1_root_mean_squared_error: 0.7537 - y2_root_mean_squared_error: 0.6077 - val_loss: 5.9231 - val_y1_loss: 1.6711 - val_y2_loss: 4.2520 - val_y1_root_mean_squared_error: 1.2927 - val_y2_root_mean_squared_error: 2.0620\n",
      "Epoch 470/500\n",
      "7/7 [==============================] - 0s 2ms/step - loss: 0.8306 - y1_loss: 0.5163 - y2_loss: 0.3143 - y1_root_mean_squared_error: 0.7185 - y2_root_mean_squared_error: 0.5606 - val_loss: 5.5197 - val_y1_loss: 1.7855 - val_y2_loss: 3.7342 - val_y1_root_mean_squared_error: 1.3362 - val_y2_root_mean_squared_error: 1.9324\n",
      "Epoch 471/500\n",
      "7/7 [==============================] - 0s 2ms/step - loss: 0.7507 - y1_loss: 0.3961 - y2_loss: 0.3546 - y1_root_mean_squared_error: 0.6294 - y2_root_mean_squared_error: 0.5955 - val_loss: 4.9279 - val_y1_loss: 1.7547 - val_y2_loss: 3.1732 - val_y1_root_mean_squared_error: 1.3246 - val_y2_root_mean_squared_error: 1.7814\n",
      "Epoch 472/500\n",
      "7/7 [==============================] - 0s 3ms/step - loss: 0.7447 - y1_loss: 0.4262 - y2_loss: 0.3185 - y1_root_mean_squared_error: 0.6528 - y2_root_mean_squared_error: 0.5644 - val_loss: 5.6699 - val_y1_loss: 1.9498 - val_y2_loss: 3.7201 - val_y1_root_mean_squared_error: 1.3964 - val_y2_root_mean_squared_error: 1.9288\n",
      "Epoch 473/500\n",
      "7/7 [==============================] - 0s 2ms/step - loss: 0.9555 - y1_loss: 0.4949 - y2_loss: 0.4606 - y1_root_mean_squared_error: 0.7035 - y2_root_mean_squared_error: 0.6786 - val_loss: 7.7578 - val_y1_loss: 3.8309 - val_y2_loss: 3.9269 - val_y1_root_mean_squared_error: 1.9573 - val_y2_root_mean_squared_error: 1.9816\n",
      "Epoch 474/500\n",
      "7/7 [==============================] - 0s 3ms/step - loss: 1.8477 - y1_loss: 0.8326 - y2_loss: 1.0151 - y1_root_mean_squared_error: 0.9124 - y2_root_mean_squared_error: 1.0075 - val_loss: 6.2815 - val_y1_loss: 1.8763 - val_y2_loss: 4.4052 - val_y1_root_mean_squared_error: 1.3698 - val_y2_root_mean_squared_error: 2.0989\n",
      "Epoch 475/500\n",
      "7/7 [==============================] - 0s 2ms/step - loss: 0.9396 - y1_loss: 0.4895 - y2_loss: 0.4502 - y1_root_mean_squared_error: 0.6996 - y2_root_mean_squared_error: 0.6709 - val_loss: 5.0719 - val_y1_loss: 1.8106 - val_y2_loss: 3.2613 - val_y1_root_mean_squared_error: 1.3456 - val_y2_root_mean_squared_error: 1.8059\n",
      "Epoch 476/500\n",
      "7/7 [==============================] - 0s 2ms/step - loss: 0.7316 - y1_loss: 0.4498 - y2_loss: 0.2818 - y1_root_mean_squared_error: 0.6706 - y2_root_mean_squared_error: 0.5309 - val_loss: 5.2227 - val_y1_loss: 1.8370 - val_y2_loss: 3.3856 - val_y1_root_mean_squared_error: 1.3554 - val_y2_root_mean_squared_error: 1.8400\n",
      "Epoch 477/500\n",
      "7/7 [==============================] - 0s 2ms/step - loss: 0.8190 - y1_loss: 0.4474 - y2_loss: 0.3717 - y1_root_mean_squared_error: 0.6688 - y2_root_mean_squared_error: 0.6096 - val_loss: 6.4493 - val_y1_loss: 1.8004 - val_y2_loss: 4.6489 - val_y1_root_mean_squared_error: 1.3418 - val_y2_root_mean_squared_error: 2.1561\n",
      "Epoch 478/500\n",
      "7/7 [==============================] - 0s 2ms/step - loss: 0.7198 - y1_loss: 0.4227 - y2_loss: 0.2971 - y1_root_mean_squared_error: 0.6502 - y2_root_mean_squared_error: 0.5451 - val_loss: 5.2107 - val_y1_loss: 1.7851 - val_y2_loss: 3.4256 - val_y1_root_mean_squared_error: 1.3361 - val_y2_root_mean_squared_error: 1.8508\n",
      "Epoch 479/500\n",
      "7/7 [==============================] - 0s 3ms/step - loss: 0.6838 - y1_loss: 0.3988 - y2_loss: 0.2849 - y1_root_mean_squared_error: 0.6315 - y2_root_mean_squared_error: 0.5338 - val_loss: 5.0935 - val_y1_loss: 1.7584 - val_y2_loss: 3.3351 - val_y1_root_mean_squared_error: 1.3260 - val_y2_root_mean_squared_error: 1.8262\n",
      "Epoch 480/500\n",
      "7/7 [==============================] - 0s 2ms/step - loss: 0.6812 - y1_loss: 0.4241 - y2_loss: 0.2571 - y1_root_mean_squared_error: 0.6512 - y2_root_mean_squared_error: 0.5071 - val_loss: 5.0200 - val_y1_loss: 1.8102 - val_y2_loss: 3.2098 - val_y1_root_mean_squared_error: 1.3454 - val_y2_root_mean_squared_error: 1.7916\n",
      "Epoch 481/500\n"
     ]
    },
    {
     "name": "stdout",
     "output_type": "stream",
     "text": [
      "7/7 [==============================] - 0s 2ms/step - loss: 0.6896 - y1_loss: 0.4646 - y2_loss: 0.2250 - y1_root_mean_squared_error: 0.6816 - y2_root_mean_squared_error: 0.4744 - val_loss: 5.5904 - val_y1_loss: 1.6901 - val_y2_loss: 3.9002 - val_y1_root_mean_squared_error: 1.3001 - val_y2_root_mean_squared_error: 1.9749\n",
      "Epoch 482/500\n",
      "7/7 [==============================] - 0s 2ms/step - loss: 0.6575 - y1_loss: 0.4295 - y2_loss: 0.2280 - y1_root_mean_squared_error: 0.6554 - y2_root_mean_squared_error: 0.4774 - val_loss: 5.3258 - val_y1_loss: 1.7653 - val_y2_loss: 3.5605 - val_y1_root_mean_squared_error: 1.3287 - val_y2_root_mean_squared_error: 1.8869\n",
      "Epoch 483/500\n",
      "7/7 [==============================] - 0s 2ms/step - loss: 0.6870 - y1_loss: 0.4274 - y2_loss: 0.2597 - y1_root_mean_squared_error: 0.6537 - y2_root_mean_squared_error: 0.5096 - val_loss: 7.4244 - val_y1_loss: 2.4154 - val_y2_loss: 5.0090 - val_y1_root_mean_squared_error: 1.5542 - val_y2_root_mean_squared_error: 2.2381\n",
      "Epoch 484/500\n",
      "7/7 [==============================] - 0s 2ms/step - loss: 1.4505 - y1_loss: 0.7800 - y2_loss: 0.6705 - y1_root_mean_squared_error: 0.8832 - y2_root_mean_squared_error: 0.8189 - val_loss: 5.2974 - val_y1_loss: 1.8196 - val_y2_loss: 3.4778 - val_y1_root_mean_squared_error: 1.3489 - val_y2_root_mean_squared_error: 1.8649\n",
      "Epoch 485/500\n",
      "7/7 [==============================] - 0s 2ms/step - loss: 0.7919 - y1_loss: 0.4288 - y2_loss: 0.3631 - y1_root_mean_squared_error: 0.6548 - y2_root_mean_squared_error: 0.6026 - val_loss: 5.6126 - val_y1_loss: 1.7478 - val_y2_loss: 3.8648 - val_y1_root_mean_squared_error: 1.3221 - val_y2_root_mean_squared_error: 1.9659\n",
      "Epoch 486/500\n",
      "7/7 [==============================] - 0s 2ms/step - loss: 0.7286 - y1_loss: 0.4444 - y2_loss: 0.2841 - y1_root_mean_squared_error: 0.6666 - y2_root_mean_squared_error: 0.5330 - val_loss: 5.3025 - val_y1_loss: 1.8959 - val_y2_loss: 3.4067 - val_y1_root_mean_squared_error: 1.3769 - val_y2_root_mean_squared_error: 1.8457\n",
      "Epoch 487/500\n",
      "7/7 [==============================] - 0s 2ms/step - loss: 0.6968 - y1_loss: 0.4519 - y2_loss: 0.2449 - y1_root_mean_squared_error: 0.6722 - y2_root_mean_squared_error: 0.4948 - val_loss: 5.4290 - val_y1_loss: 1.7228 - val_y2_loss: 3.7062 - val_y1_root_mean_squared_error: 1.3125 - val_y2_root_mean_squared_error: 1.9251\n",
      "Epoch 488/500\n",
      "7/7 [==============================] - 0s 2ms/step - loss: 0.9415 - y1_loss: 0.5138 - y2_loss: 0.4277 - y1_root_mean_squared_error: 0.7168 - y2_root_mean_squared_error: 0.6540 - val_loss: 5.3327 - val_y1_loss: 1.8764 - val_y2_loss: 3.4563 - val_y1_root_mean_squared_error: 1.3698 - val_y2_root_mean_squared_error: 1.8591\n",
      "Epoch 489/500\n",
      "7/7 [==============================] - 0s 2ms/step - loss: 0.7361 - y1_loss: 0.4750 - y2_loss: 0.2611 - y1_root_mean_squared_error: 0.6892 - y2_root_mean_squared_error: 0.5109 - val_loss: 12.5841 - val_y1_loss: 2.4053 - val_y2_loss: 10.1788 - val_y1_root_mean_squared_error: 1.5509 - val_y2_root_mean_squared_error: 3.1904\n",
      "Epoch 490/500\n",
      "7/7 [==============================] - 0s 2ms/step - loss: 1.6525 - y1_loss: 0.6666 - y2_loss: 0.9859 - y1_root_mean_squared_error: 0.8164 - y2_root_mean_squared_error: 0.9929 - val_loss: 6.7514 - val_y1_loss: 2.1495 - val_y2_loss: 4.6020 - val_y1_root_mean_squared_error: 1.4661 - val_y2_root_mean_squared_error: 2.1452\n",
      "Epoch 491/500\n",
      "7/7 [==============================] - 0s 2ms/step - loss: 1.0068 - y1_loss: 0.5160 - y2_loss: 0.4907 - y1_root_mean_squared_error: 0.7183 - y2_root_mean_squared_error: 0.7005 - val_loss: 6.6665 - val_y1_loss: 2.3579 - val_y2_loss: 4.3086 - val_y1_root_mean_squared_error: 1.5355 - val_y2_root_mean_squared_error: 2.0757\n",
      "Epoch 492/500\n",
      "7/7 [==============================] - 0s 2ms/step - loss: 0.8279 - y1_loss: 0.5084 - y2_loss: 0.3195 - y1_root_mean_squared_error: 0.7130 - y2_root_mean_squared_error: 0.5653 - val_loss: 5.4147 - val_y1_loss: 1.9034 - val_y2_loss: 3.5113 - val_y1_root_mean_squared_error: 1.3796 - val_y2_root_mean_squared_error: 1.8738\n",
      "Epoch 493/500\n",
      "7/7 [==============================] - 0s 2ms/step - loss: 0.6565 - y1_loss: 0.4158 - y2_loss: 0.2407 - y1_root_mean_squared_error: 0.6449 - y2_root_mean_squared_error: 0.4906 - val_loss: 8.1634 - val_y1_loss: 2.0531 - val_y2_loss: 6.1102 - val_y1_root_mean_squared_error: 1.4329 - val_y2_root_mean_squared_error: 2.4719\n",
      "Epoch 494/500\n",
      "7/7 [==============================] - 0s 3ms/step - loss: 0.8279 - y1_loss: 0.4851 - y2_loss: 0.3428 - y1_root_mean_squared_error: 0.6965 - y2_root_mean_squared_error: 0.5855 - val_loss: 14.3344 - val_y1_loss: 4.4585 - val_y2_loss: 9.8760 - val_y1_root_mean_squared_error: 2.1115 - val_y2_root_mean_squared_error: 3.1426\n",
      "Epoch 495/500\n",
      "7/7 [==============================] - 0s 2ms/step - loss: 3.7905 - y1_loss: 1.3041 - y2_loss: 2.4864 - y1_root_mean_squared_error: 1.1420 - y2_root_mean_squared_error: 1.5768 - val_loss: 5.4116 - val_y1_loss: 1.6069 - val_y2_loss: 3.8048 - val_y1_root_mean_squared_error: 1.2676 - val_y2_root_mean_squared_error: 1.9506\n",
      "Epoch 496/500\n",
      "7/7 [==============================] - 0s 2ms/step - loss: 0.8969 - y1_loss: 0.5514 - y2_loss: 0.3456 - y1_root_mean_squared_error: 0.7425 - y2_root_mean_squared_error: 0.5879 - val_loss: 9.0291 - val_y1_loss: 3.5711 - val_y2_loss: 5.4579 - val_y1_root_mean_squared_error: 1.8897 - val_y2_root_mean_squared_error: 2.3362\n",
      "Epoch 497/500\n",
      "7/7 [==============================] - 0s 2ms/step - loss: 1.7867 - y1_loss: 0.7344 - y2_loss: 1.0523 - y1_root_mean_squared_error: 0.8570 - y2_root_mean_squared_error: 1.0258 - val_loss: 14.2579 - val_y1_loss: 3.1726 - val_y2_loss: 11.0852 - val_y1_root_mean_squared_error: 1.7812 - val_y2_root_mean_squared_error: 3.3295\n",
      "Epoch 498/500\n",
      "7/7 [==============================] - 0s 2ms/step - loss: 1.4533 - y1_loss: 0.7234 - y2_loss: 0.7299 - y1_root_mean_squared_error: 0.8505 - y2_root_mean_squared_error: 0.8544 - val_loss: 9.9768 - val_y1_loss: 4.9815 - val_y2_loss: 4.9953 - val_y1_root_mean_squared_error: 2.2319 - val_y2_root_mean_squared_error: 2.2350\n",
      "Epoch 499/500\n",
      "7/7 [==============================] - 0s 2ms/step - loss: 1.1294 - y1_loss: 0.6153 - y2_loss: 0.5141 - y1_root_mean_squared_error: 0.7844 - y2_root_mean_squared_error: 0.7170 - val_loss: 5.7067 - val_y1_loss: 1.8503 - val_y2_loss: 3.8564 - val_y1_root_mean_squared_error: 1.3603 - val_y2_root_mean_squared_error: 1.9638\n",
      "Epoch 500/500\n",
      "7/7 [==============================] - 0s 3ms/step - loss: 0.6522 - y1_loss: 0.4391 - y2_loss: 0.2131 - y1_root_mean_squared_error: 0.6627 - y2_root_mean_squared_error: 0.4616 - val_loss: 7.1511 - val_y1_loss: 3.0778 - val_y2_loss: 4.0734 - val_y1_root_mean_squared_error: 1.7544 - val_y2_root_mean_squared_error: 2.0183\n"
     ]
    }
   ],
   "source": [
    "# Train the model for 500 epochs\n",
    "history = model.fit(norm_train_X, train_Y,\n",
    "                    epochs=500, batch_size=10, validation_data=(norm_test_X, test_Y))"
   ]
  },
  {
   "cell_type": "code",
   "execution_count": 66,
   "metadata": {},
   "outputs": [
    {
     "name": "stdout",
     "output_type": "stream",
     "text": [
      "1/1 [==============================] - 0s 707us/step - loss: 7.1511 - y1_loss: 3.0778 - y2_loss: 4.0734 - y1_root_mean_squared_error: 1.7544 - y2_root_mean_squared_error: 2.0183\n",
      "Loss = 7.151148796081543, Y1_loss = 3.0777840614318848, Y1_mse = 1.7543613910675049, Y2_loss = 4.073364734649658, Y2_mse = 2.0182578563690186\n"
     ]
    }
   ],
   "source": [
    "loss, Y1_loss, Y2_loss, Y1_rmse, Y2_rmse = model.evaluate(x=norm_test_X, y=test_Y)\n",
    "print(f\"Loss = {loss}, Y1_loss = {Y1_loss}, Y1_mse = {Y1_rmse}, Y2_loss = {Y2_loss}, Y2_mse = {Y2_rmse}\")"
   ]
  },
  {
   "cell_type": "code",
   "execution_count": 67,
   "metadata": {},
   "outputs": [],
   "source": [
    "\n",
    "def plot_diff(y_true, y_pred, title=''):\n",
    "    plt.scatter(y_true, y_pred)\n",
    "    plt.title(title)\n",
    "    plt.xlabel('True Values')\n",
    "    plt.ylabel('Predictions')\n",
    "    plt.axis('equal')\n",
    "    plt.axis('square')\n",
    "    plt.xlim(plt.xlim())\n",
    "    plt.ylim(plt.ylim())\n",
    "    plt.plot([-100, 100], [-100, 100])\n",
    "    plt.show()\n",
    "\n",
    "\n",
    "def plot_metrics(metric_name, title, ylim=5):\n",
    "    plt.title(title)\n",
    "    plt.ylim(0, ylim)\n",
    "    plt.plot(history.history[metric_name], color='blue', label=metric_name)\n",
    "    plt.plot(history.history['val_' + metric_name], color='green', label='val_' + metric_name)\n",
    "    plt.show()"
   ]
  },
  {
   "cell_type": "code",
   "execution_count": 69,
   "metadata": {},
   "outputs": [
    {
     "data": {
      "image/png": "[encoded data removed]",
      "text/plain": [
       "<Figure size 432x288 with 1 Axes>"
      ]
     },
     "metadata": {
      "needs_background": "light"
     },
     "output_type": "display_data"
    },
    {
     "data": {
      "image/png": "[encoded data removed]",
      "text/plain": [
       "<Figure size 432x288 with 1 Axes>"
      ]
     },
     "metadata": {
      "needs_background": "light"
     },
     "output_type": "display_data"
    },
    {
     "data": {
      "image/png": "[encoded data removed]",
      "text/plain": [
       "<Figure size 432x288 with 1 Axes>"
      ]
     },
     "metadata": {
      "needs_background": "light"
     },
     "output_type": "display_data"
    },
    {
     "data": {
      "image/png": "[encoded data removed]",
      "text/plain": [
       "<Figure size 432x288 with 1 Axes>"
      ]
     },
     "metadata": {
      "needs_background": "light"
     },
     "output_type": "display_data"
    }
   ],
   "source": [
    "# Plot the loss and mse\n",
    "Y_pred = model.predict(norm_test_X)\n",
    "plot_diff(test_Y[0], Y_pred[0], title='Y1')\n",
    "plot_diff(test_Y[1], Y_pred[1], title='Y2')\n",
    "plot_metrics(metric_name='y1_root_mean_squared_error', title='Y1 RMSE', ylim=6)\n",
    "plot_metrics(metric_name='y2_root_mean_squared_error', title='Y2 RMSE', ylim=7)"
   ]
  },
  {
   "cell_type": "markdown",
   "metadata": {},
   "source": [
    "## Siamese Network"
   ]
  },
  {
   "cell_type": "code",
   "execution_count": 71,
   "metadata": {},
   "outputs": [],
   "source": [
    "from tensorflow.keras.layers import Flatten, Lambda, Dropout\n",
    "from tensorflow.keras.optimizers import RMSprop\n",
    "from tensorflow.keras import backend as K"
   ]
  },
  {
   "cell_type": "code",
   "execution_count": 72,
   "metadata": {},
   "outputs": [],
   "source": [
    "from PIL import Image, ImageFont, ImageDraw\n",
    "import random"
   ]
  },
  {
   "cell_type": "code",
   "execution_count": 73,
   "metadata": {},
   "outputs": [],
   "source": [
    "from tensorflow.keras.datasets import fashion_mnist\n"
   ]
  },
  {
   "cell_type": "code",
   "execution_count": 79,
   "metadata": {},
   "outputs": [],
   "source": [
    "(train_images, train_labels), (test_images, test_labels) = fashion_mnist.load_data()"
   ]
  },
  {
   "cell_type": "code",
   "execution_count": 75,
   "metadata": {},
   "outputs": [],
   "source": [
    "# prepare train and test sets\n",
    "train_images = train_images.astype('float32')\n",
    "test_images = test_images.astype('float32')"
   ]
  },
  {
   "cell_type": "code",
   "execution_count": 76,
   "metadata": {},
   "outputs": [],
   "source": [
    "# normalize values\n",
    "train_images = train_images / 255.0\n",
    "test_images = test_images / 255.0"
   ]
  },
  {
   "cell_type": "code",
   "execution_count": 78,
   "metadata": {},
   "outputs": [
    {
     "data": {
      "text/plain": [
       "array([9, 0, 0, ..., 3, 0, 5], dtype=uint8)"
      ]
     },
     "execution_count": 78,
     "metadata": {},
     "output_type": "execute_result"
    }
   ],
   "source": [
    "train_labels"
   ]
  },
  {
   "cell_type": "code",
   "execution_count": 94,
   "metadata": {},
   "outputs": [
    {
     "data": {
      "image/png": "[encoded data removed]",
      "text/plain": [
       "<Figure size 432x288 with 2 Axes>"
      ]
     },
     "metadata": {
      "needs_background": "light"
     },
     "output_type": "display_data"
    }
   ],
   "source": [
    "plt.imshow(train_images[0])\n",
    "plt.colorbar()\n",
    "plt.grid(False)"
   ]
  },
  {
   "cell_type": "code",
   "execution_count": 86,
   "metadata": {},
   "outputs": [],
   "source": [
    "  digit_indices = [np.where(train_labels== i)[0] for i in range(10)]"
   ]
  },
  {
   "cell_type": "code",
   "execution_count": 87,
   "metadata": {},
   "outputs": [
    {
     "data": {
      "text/plain": [
       "[array([    1,     2,     4, ..., 59974, 59985, 59998]),\n",
       " array([   16,    21,    38, ..., 59989, 59991, 59996]),\n",
       " array([    5,     7,    27, ..., 59977, 59981, 59993]),\n",
       " array([    3,    20,    25, ..., 59971, 59980, 59997]),\n",
       " array([   19,    22,    24, ..., 59984, 59986, 59990]),\n",
       " array([    8,     9,    12, ..., 59983, 59995, 59999]),\n",
       " array([   18,    32,    33, ..., 59973, 59987, 59988]),\n",
       " array([    6,    14,    41, ..., 59951, 59979, 59992]),\n",
       " array([   23,    35,    57, ..., 59962, 59967, 59994]),\n",
       " array([    0,    11,    15, ..., 59932, 59970, 59978])]"
      ]
     },
     "execution_count": 87,
     "metadata": {},
     "output_type": "execute_result"
    }
   ],
   "source": [
    "digit_indices "
   ]
  },
  {
   "cell_type": "code",
   "execution_count": 92,
   "metadata": {},
   "outputs": [
    {
     "data": {
      "text/plain": [
       "5999"
      ]
     },
     "execution_count": 92,
     "metadata": {},
     "output_type": "execute_result"
    }
   ],
   "source": [
    "n = min([len(digit_indices[d]) for d in range(10)])-1\n",
    "n"
   ]
  },
  {
   "cell_type": "code",
   "execution_count": 95,
   "metadata": {},
   "outputs": [],
   "source": [
    "def create_pairs(x, digit_indices):\n",
    "    '''Positive and negative pair creation.\n",
    "    Alternates between positive and negative pairs.\n",
    "    '''\n",
    "    pairs = []\n",
    "    labels = []\n",
    "    n = min([len(digit_indices[d]) for d in range(10)]) - 1\n",
    "    \n",
    "    for d in range(10):\n",
    "        for i in range(n):\n",
    "            z1, z2 = digit_indices[d][i], digit_indices[d][i + 1]\n",
    "            pairs += [[x[z1], x[z2]]]\n",
    "            inc = random.randrange(1, 10)\n",
    "            dn = (d + inc) % 10\n",
    "            z1, z2 = digit_indices[d][i], digit_indices[dn][i]\n",
    "            pairs += [[x[z1], x[z2]]]\n",
    "            labels += [1, 0]\n",
    "            \n",
    "    return np.array(pairs), np.array(labels)\n",
    "\n",
    "\n",
    "def create_pairs_on_set(images, labels):\n",
    "    \n",
    "    digit_indices = [np.where(labels == i)[0] for i in range(10)]\n",
    "    pairs, y = create_pairs(images, digit_indices)\n",
    "    y = y.astype('float32')\n",
    "    \n",
    "    return pairs, y\n",
    "\n",
    "\n",
    "def show_image(image):\n",
    "    plt.figure()\n",
    "    plt.imshow(image)\n",
    "    plt.colorbar()\n",
    "    plt.grid(False)\n",
    "    plt.show()"
   ]
  },
  {
   "cell_type": "code",
   "execution_count": 96,
   "metadata": {},
   "outputs": [],
   "source": [
    "tr_pairs, tr_y = create_pairs_on_set(train_images, train_labels)\n",
    "ts_pairs, ts_y = create_pairs_on_set(test_images, test_labels)"
   ]
  },
  {
   "cell_type": "code",
   "execution_count": 97,
   "metadata": {},
   "outputs": [
    {
     "data": {
      "image/png": "[encoded data removed]",
      "text/plain": [
       "<Figure size 432x288 with 2 Axes>"
      ]
     },
     "metadata": {
      "needs_background": "light"
     },
     "output_type": "display_data"
    },
    {
     "data": {
      "image/png": "[encoded data removed]",
      "text/plain": [
       "<Figure size 432x288 with 2 Axes>"
      ]
     },
     "metadata": {
      "needs_background": "light"
     },
     "output_type": "display_data"
    }
   ],
   "source": [
    "# array index\n",
    "this_pair = 8\n",
    "\n",
    "# show images at this index\n",
    "show_image(ts_pairs[this_pair][0])\n",
    "show_image(ts_pairs[this_pair][1])"
   ]
  },
  {
   "cell_type": "code",
   "execution_count": 98,
   "metadata": {},
   "outputs": [
    {
     "name": "stdout",
     "output_type": "stream",
     "text": [
      "1.0\n"
     ]
    }
   ],
   "source": [
    "# print the label for this pair\n",
    "print(tr_y[this_pair])"
   ]
  },
  {
   "cell_type": "code",
   "execution_count": 99,
   "metadata": {},
   "outputs": [
    {
     "data": {
      "image/png": "[encoded data removed]",
      "text/plain": [
       "<Figure size 432x288 with 2 Axes>"
      ]
     },
     "metadata": {
      "needs_background": "light"
     },
     "output_type": "display_data"
    },
    {
     "data": {
      "image/png": "[encoded data removed]",
      "text/plain": [
       "<Figure size 432x288 with 2 Axes>"
      ]
     },
     "metadata": {
      "needs_background": "light"
     },
     "output_type": "display_data"
    },
    {
     "data": {
      "image/png": "[encoded data removed]",
      "text/plain": [
       "<Figure size 432x288 with 2 Axes>"
      ]
     },
     "metadata": {
      "needs_background": "light"
     },
     "output_type": "display_data"
    },
    {
     "data": {
      "image/png": "[encoded data removed]",
      "text/plain": [
       "<Figure size 432x288 with 2 Axes>"
      ]
     },
     "metadata": {
      "needs_background": "light"
     },
     "output_type": "display_data"
    }
   ],
   "source": [
    "# print other pairs\n",
    "\n",
    "show_image(tr_pairs[:,0][0])\n",
    "show_image(tr_pairs[:,0][1])\n",
    "\n",
    "show_image(tr_pairs[:,1][0])\n",
    "show_image(tr_pairs[:,1][1])"
   ]
  },
  {
   "cell_type": "code",
   "execution_count": 100,
   "metadata": {},
   "outputs": [],
   "source": [
    "def initialize_base_network():\n",
    "    input = Input(shape=(28,28,), name=\"base_input\")\n",
    "    x = Flatten(name=\"flatten_input\")(input)\n",
    "    x = Dense(128, activation='relu', name=\"first_base_dense\")(x)\n",
    "    x = Dropout(0.1, name=\"first_dropout\")(x)\n",
    "    x = Dense(128, activation='relu', name=\"second_base_dense\")(x)\n",
    "    x = Dropout(0.1, name=\"second_dropout\")(x)\n",
    "    x = Dense(128, activation='relu', name=\"third_base_dense\")(x)\n",
    "\n",
    "    return Model(inputs=input, outputs=x)\n",
    "\n",
    "\n",
    "def euclidean_distance(vects):\n",
    "    x, y = vects\n",
    "    sum_square = K.sum(K.square(x - y), axis=1, keepdims=True)\n",
    "    return K.sqrt(K.maximum(sum_square, K.epsilon()))\n",
    "\n",
    "\n",
    "def eucl_dist_output_shape(shapes):\n",
    "    shape1, shape2 = shapes\n",
    "    return (shape1[0], 1)"
   ]
  },
  {
   "cell_type": "code",
   "execution_count": 101,
   "metadata": {},
   "outputs": [
    {
     "name": "stdout",
     "output_type": "stream",
     "text": [
      "('Failed to import pydot. You must `pip install pydot` and install graphviz (https://graphviz.gitlab.io/download/), ', 'for `pydotprint` to work.')\n"
     ]
    }
   ],
   "source": [
    "base_network = initialize_base_network()\n",
    "plot_model(base_network, show_shapes=True, show_layer_names=True, to_file='base-model.png')"
   ]
  },
  {
   "cell_type": "code",
   "execution_count": 102,
   "metadata": {},
   "outputs": [],
   "source": [
    "# create the left input and point to the base network\n",
    "input_a = Input(shape=(28,28,), name=\"left_input\")\n",
    "vect_output_a = base_network(input_a)"
   ]
  },
  {
   "cell_type": "code",
   "execution_count": 103,
   "metadata": {},
   "outputs": [],
   "source": [
    "# create the right input and point to the base network\n",
    "input_b = Input(shape=(28,28,), name=\"right_input\")\n",
    "vect_output_b = base_network(input_b)"
   ]
  },
  {
   "cell_type": "code",
   "execution_count": 104,
   "metadata": {},
   "outputs": [],
   "source": [
    "# measure the similarity of the two vector outputs\n",
    "output = Lambda(euclidean_distance, name=\"output_layer\", output_shape=eucl_dist_output_shape)([vect_output_a, vect_output_b])\n"
   ]
  },
  {
   "cell_type": "code",
   "execution_count": 106,
   "metadata": {},
   "outputs": [],
   "source": [
    "# specify the inputs and output of the model\n",
    "model = Model([input_a, input_b], output)"
   ]
  },
  {
   "cell_type": "code",
   "execution_count": 107,
   "metadata": {},
   "outputs": [],
   "source": [
    "def contrastive_loss_with_margin(margin):\n",
    "    def contrastive_loss(y_true, y_pred):\n",
    "        '''Contrastive loss from Hadsell-et-al.'06\n",
    "        http://yann.lecun.com/exdb/publis/pdf/hadsell-chopra-lecun-06.pdf\n",
    "        '''\n",
    "        square_pred = K.square(y_pred)\n",
    "        margin_square = K.square(K.maximum(margin - y_pred, 0))\n",
    "        return K.mean(y_true * square_pred + (1 - y_true) * margin_square)\n",
    "    return contrastive_loss"
   ]
  },
  {
   "cell_type": "code",
   "execution_count": 109,
   "metadata": {},
   "outputs": [
    {
     "name": "stdout",
     "output_type": "stream",
     "text": [
      "Epoch 1/20\n",
      "938/938 [==============================] - 3s 3ms/step - loss: 332.0255 - val_loss: 0.4807\n",
      "Epoch 2/20\n",
      "938/938 [==============================] - 3s 3ms/step - loss: 0.2627 - val_loss: 0.2678\n",
      "Epoch 3/20\n",
      "938/938 [==============================] - 3s 3ms/step - loss: 0.2258 - val_loss: 0.2932\n",
      "Epoch 4/20\n",
      "938/938 [==============================] - 3s 3ms/step - loss: 0.2099 - val_loss: 0.2716\n",
      "Epoch 5/20\n",
      "938/938 [==============================] - 3s 3ms/step - loss: 0.2020 - val_loss: 0.2515\n",
      "Epoch 6/20\n",
      "938/938 [==============================] - 3s 3ms/step - loss: 0.2232 - val_loss: 0.2544\n",
      "Epoch 7/20\n",
      "938/938 [==============================] - 3s 3ms/step - loss: 0.2095 - val_loss: 0.2519\n",
      "Epoch 8/20\n",
      "938/938 [==============================] - 3s 3ms/step - loss: 0.2011 - val_loss: 0.2628\n",
      "Epoch 9/20\n",
      "938/938 [==============================] - 3s 3ms/step - loss: 0.1973 - val_loss: 0.2456\n",
      "Epoch 10/20\n",
      "938/938 [==============================] - 3s 3ms/step - loss: 0.1991 - val_loss: 0.2496\n",
      "Epoch 11/20\n",
      "938/938 [==============================] - 3s 3ms/step - loss: 0.1944 - val_loss: 0.2487\n",
      "Epoch 12/20\n",
      "938/938 [==============================] - 3s 3ms/step - loss: 0.1996 - val_loss: 0.2504\n",
      "Epoch 13/20\n",
      "938/938 [==============================] - 3s 3ms/step - loss: 0.1915 - val_loss: 0.2505\n",
      "Epoch 14/20\n",
      "938/938 [==============================] - 3s 3ms/step - loss: 0.1998 - val_loss: 0.2473\n",
      "Epoch 15/20\n",
      "938/938 [==============================] - 3s 3ms/step - loss: 0.1975 - val_loss: 0.2596\n",
      "Epoch 16/20\n",
      "938/938 [==============================] - 3s 3ms/step - loss: 0.1946 - val_loss: 0.2489\n",
      "Epoch 17/20\n",
      "938/938 [==============================] - 3s 3ms/step - loss: 0.1979 - val_loss: 0.2496\n",
      "Epoch 18/20\n",
      "938/938 [==============================] - 3s 3ms/step - loss: 0.2018 - val_loss: 0.2475\n",
      "Epoch 19/20\n",
      "938/938 [==============================] - 3s 3ms/step - loss: 0.1957 - val_loss: 0.2488\n",
      "Epoch 20/20\n",
      "938/938 [==============================] - 3s 3ms/step - loss: 0.2101 - val_loss: 0.2489\n"
     ]
    }
   ],
   "source": [
    "rms = RMSprop()\n",
    "model.compile(loss=contrastive_loss_with_margin(margin=1), optimizer=rms)\n",
    "history = model.fit([tr_pairs[:,0], tr_pairs[:,1]], tr_y, epochs=20, batch_size=128, validation_data=([ts_pairs[:,0], ts_pairs[:,1]], ts_y))"
   ]
  },
  {
   "cell_type": "code",
   "execution_count": 108,
   "metadata": {},
   "outputs": [],
   "source": [
    "def compute_accuracy(y_true, y_pred):\n",
    "    '''Compute classification accuracy with a fixed threshold on distances.\n",
    "    '''\n",
    "    pred = y_pred.ravel() > 0.5\n",
    "    return np.mean(pred == y_true)"
   ]
  },
  {
   "cell_type": "code",
   "execution_count": 110,
   "metadata": {},
   "outputs": [
    {
     "name": "stdout",
     "output_type": "stream",
     "text": [
      "625/625 [==============================] - 0s 604us/step - loss: 0.2489\n",
      "Loss = 0.24887336790561676, Train Accuracy = 0.2476912818803134 Test Accuracy = 0.24974974974974976\n"
     ]
    }
   ],
   "source": [
    "loss = model.evaluate(x=[ts_pairs[:,0],ts_pairs[:,1]], y=ts_y)\n",
    "\n",
    "y_pred_train = model.predict([tr_pairs[:,0], tr_pairs[:,1]])\n",
    "train_accuracy = compute_accuracy(tr_y, y_pred_train)\n",
    "\n",
    "y_pred_test = model.predict([ts_pairs[:,0], ts_pairs[:,1]])\n",
    "test_accuracy = compute_accuracy(ts_y, y_pred_test)\n",
    "\n",
    "print(\"Loss = {}, Train Accuracy = {} Test Accuracy = {}\".format(loss, train_accuracy, test_accuracy))"
   ]
  },
  {
   "cell_type": "code",
   "execution_count": 111,
   "metadata": {},
   "outputs": [
    {
     "data": {
      "image/png": "[encoded data removed]",
      "text/plain": [
       "<Figure size 432x288 with 1 Axes>"
      ]
     },
     "metadata": {
      "needs_background": "light"
     },
     "output_type": "display_data"
    }
   ],
   "source": [
    "def plot_metrics(metric_name, title, ylim=5):\n",
    "    plt.title(title)\n",
    "    plt.ylim(0,ylim)\n",
    "    plt.plot(history.history[metric_name],color='blue',label=metric_name)\n",
    "    plt.plot(history.history['val_' + metric_name],color='green',label='val_' + metric_name)\n",
    "\n",
    "\n",
    "plot_metrics(metric_name='loss', title=\"Loss\", ylim=0.2)"
   ]
  },
  {
   "cell_type": "code",
   "execution_count": 112,
   "metadata": {},
   "outputs": [],
   "source": [
    "# Matplotlib config\n",
    "def visualize_images():\n",
    "    plt.rc('image', cmap='gray_r')\n",
    "    plt.rc('grid', linewidth=0)\n",
    "    plt.rc('xtick', top=False, bottom=False, labelsize='large')\n",
    "    plt.rc('ytick', left=False, right=False, labelsize='large')\n",
    "    plt.rc('axes', facecolor='F8F8F8', titlesize=\"large\", edgecolor='white')\n",
    "    plt.rc('text', color='a8151a')\n",
    "    plt.rc('figure', facecolor='F0F0F0')# Matplotlib fonts"
   ]
  },
  {
   "cell_type": "code",
   "execution_count": 113,
   "metadata": {},
   "outputs": [],
   "source": [
    "# utility to display a row of digits with their predictions\n",
    "def display_images(left, right, predictions, labels, title, n):\n",
    "    plt.figure(figsize=(17,3))\n",
    "    plt.title(title)\n",
    "    plt.yticks([])\n",
    "    plt.xticks([])\n",
    "    plt.grid(None)\n",
    "    left = np.reshape(left, [n, 28, 28])\n",
    "    left = np.swapaxes(left, 0, 1)\n",
    "    left = np.reshape(left, [28, 28*n])\n",
    "    plt.imshow(left)\n",
    "    plt.figure(figsize=(17,3))\n",
    "    plt.yticks([])\n",
    "    plt.xticks([28*x+14 for x in range(n)], predictions)\n",
    "    for i,t in enumerate(plt.gca().xaxis.get_ticklabels()):\n",
    "        if predictions[i] > 0.5: t.set_color('red') # bad predictions in red\n",
    "    plt.grid(None)\n",
    "    right = np.reshape(right, [n, 28, 28])\n",
    "    right = np.swapaxes(right, 0, 1)\n",
    "    right = np.reshape(right, [28, 28*n])\n",
    "    plt.imshow(right)\n"
   ]
  },
  {
   "cell_type": "code",
   "execution_count": 114,
   "metadata": {},
   "outputs": [
    {
     "data": {
      "image/png": "[encoded data removed]",
      "text/plain": [
       "<Figure size 1224x216 with 1 Axes>"
      ]
     },
     "metadata": {},
     "output_type": "display_data"
    },
    {
     "data": {
      "image/png": "[encoded data removed]",
      "text/plain": [
       "<Figure size 1224x216 with 1 Axes>"
      ]
     },
     "metadata": {
      "needs_background": "light"
     },
     "output_type": "display_data"
    }
   ],
   "source": [
    "y_pred_train = np.squeeze(y_pred_train)\n",
    "indexes = np.random.choice(len(y_pred_train), size=10)\n",
    "display_images(tr_pairs[:, 0][indexes], tr_pairs[:, 1][indexes], y_pred_train[indexes], tr_y[indexes], \"clothes and their dissimilarity\", 10)"
   ]
  },
  {
   "cell_type": "markdown",
   "metadata": {},
   "source": [
    "# Assignment"
   ]
  },
  {
   "cell_type": "code",
   "execution_count": 115,
   "metadata": {},
   "outputs": [],
   "source": [
    "import utils_week_one"
   ]
  },
  {
   "cell_type": "code",
   "execution_count": 122,
   "metadata": {},
   "outputs": [],
   "source": [
    "URL = 'http://archive.ics.uci.edu/ml/machine-learning-databases/wine-quality/winequality-white.csv'\n",
    "\n",
    "# # load the dataset from the URL\n",
    "white_df = pd.read_csv(URL, sep=\";\")"
   ]
  },
  {
   "cell_type": "code",
   "execution_count": 123,
   "metadata": {},
   "outputs": [
    {
     "data": {
      "text/html": [
       "<div>\n",
       "<style scoped>\n",
       "    .dataframe tbody tr th:only-of-type {\n",
       "        vertical-align: middle;\n",
       "    }\n",
       "\n",
       "    .dataframe tbody tr th {\n",
       "        vertical-align: top;\n",
       "    }\n",
       "\n",
       "    .dataframe thead th {\n",
       "        text-align: right;\n",
       "    }\n",
       "</style>\n",
       "<table border=\"1\" class=\"dataframe\">\n",
       "  <thead>\n",
       "    <tr style=\"text-align: right;\">\n",
       "      <th></th>\n",
       "      <th>fixed acidity</th>\n",
       "      <th>volatile acidity</th>\n",
       "      <th>citric acid</th>\n",
       "      <th>residual sugar</th>\n",
       "      <th>chlorides</th>\n",
       "      <th>free sulfur dioxide</th>\n",
       "      <th>total sulfur dioxide</th>\n",
       "      <th>density</th>\n",
       "      <th>pH</th>\n",
       "      <th>sulphates</th>\n",
       "      <th>alcohol</th>\n",
       "      <th>quality</th>\n",
       "    </tr>\n",
       "  </thead>\n",
       "  <tbody>\n",
       "    <tr>\n",
       "      <th>0</th>\n",
       "      <td>7.0</td>\n",
       "      <td>0.27</td>\n",
       "      <td>0.36</td>\n",
       "      <td>20.7</td>\n",
       "      <td>0.045</td>\n",
       "      <td>45.0</td>\n",
       "      <td>170.0</td>\n",
       "      <td>1.0010</td>\n",
       "      <td>3.00</td>\n",
       "      <td>0.45</td>\n",
       "      <td>8.8</td>\n",
       "      <td>6</td>\n",
       "    </tr>\n",
       "    <tr>\n",
       "      <th>1</th>\n",
       "      <td>6.3</td>\n",
       "      <td>0.30</td>\n",
       "      <td>0.34</td>\n",
       "      <td>1.6</td>\n",
       "      <td>0.049</td>\n",
       "      <td>14.0</td>\n",
       "      <td>132.0</td>\n",
       "      <td>0.9940</td>\n",
       "      <td>3.30</td>\n",
       "      <td>0.49</td>\n",
       "      <td>9.5</td>\n",
       "      <td>6</td>\n",
       "    </tr>\n",
       "    <tr>\n",
       "      <th>2</th>\n",
       "      <td>8.1</td>\n",
       "      <td>0.28</td>\n",
       "      <td>0.40</td>\n",
       "      <td>6.9</td>\n",
       "      <td>0.050</td>\n",
       "      <td>30.0</td>\n",
       "      <td>97.0</td>\n",
       "      <td>0.9951</td>\n",
       "      <td>3.26</td>\n",
       "      <td>0.44</td>\n",
       "      <td>10.1</td>\n",
       "      <td>6</td>\n",
       "    </tr>\n",
       "    <tr>\n",
       "      <th>3</th>\n",
       "      <td>7.2</td>\n",
       "      <td>0.23</td>\n",
       "      <td>0.32</td>\n",
       "      <td>8.5</td>\n",
       "      <td>0.058</td>\n",
       "      <td>47.0</td>\n",
       "      <td>186.0</td>\n",
       "      <td>0.9956</td>\n",
       "      <td>3.19</td>\n",
       "      <td>0.40</td>\n",
       "      <td>9.9</td>\n",
       "      <td>6</td>\n",
       "    </tr>\n",
       "    <tr>\n",
       "      <th>4</th>\n",
       "      <td>7.2</td>\n",
       "      <td>0.23</td>\n",
       "      <td>0.32</td>\n",
       "      <td>8.5</td>\n",
       "      <td>0.058</td>\n",
       "      <td>47.0</td>\n",
       "      <td>186.0</td>\n",
       "      <td>0.9956</td>\n",
       "      <td>3.19</td>\n",
       "      <td>0.40</td>\n",
       "      <td>9.9</td>\n",
       "      <td>6</td>\n",
       "    </tr>\n",
       "  </tbody>\n",
       "</table>\n",
       "</div>"
      ],
      "text/plain": [
       "   fixed acidity  volatile acidity  citric acid  residual sugar  chlorides  \\\n",
       "0            7.0              0.27         0.36            20.7      0.045   \n",
       "1            6.3              0.30         0.34             1.6      0.049   \n",
       "2            8.1              0.28         0.40             6.9      0.050   \n",
       "3            7.2              0.23         0.32             8.5      0.058   \n",
       "4            7.2              0.23         0.32             8.5      0.058   \n",
       "\n",
       "   free sulfur dioxide  total sulfur dioxide  density    pH  sulphates  \\\n",
       "0                 45.0                 170.0   1.0010  3.00       0.45   \n",
       "1                 14.0                 132.0   0.9940  3.30       0.49   \n",
       "2                 30.0                  97.0   0.9951  3.26       0.44   \n",
       "3                 47.0                 186.0   0.9956  3.19       0.40   \n",
       "4                 47.0                 186.0   0.9956  3.19       0.40   \n",
       "\n",
       "   alcohol  quality  \n",
       "0      8.8        6  \n",
       "1      9.5        6  \n",
       "2     10.1        6  \n",
       "3      9.9        6  \n",
       "4      9.9        6  "
      ]
     },
     "execution_count": 123,
     "metadata": {},
     "output_type": "execute_result"
    }
   ],
   "source": [
    "white_df.head()"
   ]
  },
  {
   "cell_type": "code",
   "execution_count": 125,
   "metadata": {},
   "outputs": [],
   "source": [
    " white_df[\"is_red\"] = np.zeros(len(white_df)).astype(int)"
   ]
  },
  {
   "cell_type": "code",
   "execution_count": 126,
   "metadata": {},
   "outputs": [
    {
     "data": {
      "text/html": [
       "<div>\n",
       "<style scoped>\n",
       "    .dataframe tbody tr th:only-of-type {\n",
       "        vertical-align: middle;\n",
       "    }\n",
       "\n",
       "    .dataframe tbody tr th {\n",
       "        vertical-align: top;\n",
       "    }\n",
       "\n",
       "    .dataframe thead th {\n",
       "        text-align: right;\n",
       "    }\n",
       "</style>\n",
       "<table border=\"1\" class=\"dataframe\">\n",
       "  <thead>\n",
       "    <tr style=\"text-align: right;\">\n",
       "      <th></th>\n",
       "      <th>fixed acidity</th>\n",
       "      <th>volatile acidity</th>\n",
       "      <th>citric acid</th>\n",
       "      <th>residual sugar</th>\n",
       "      <th>chlorides</th>\n",
       "      <th>free sulfur dioxide</th>\n",
       "      <th>total sulfur dioxide</th>\n",
       "      <th>density</th>\n",
       "      <th>pH</th>\n",
       "      <th>sulphates</th>\n",
       "      <th>alcohol</th>\n",
       "      <th>quality</th>\n",
       "      <th>is_red</th>\n",
       "    </tr>\n",
       "  </thead>\n",
       "  <tbody>\n",
       "    <tr>\n",
       "      <th>0</th>\n",
       "      <td>7.0</td>\n",
       "      <td>0.27</td>\n",
       "      <td>0.36</td>\n",
       "      <td>20.7</td>\n",
       "      <td>0.045</td>\n",
       "      <td>45.0</td>\n",
       "      <td>170.0</td>\n",
       "      <td>1.0010</td>\n",
       "      <td>3.00</td>\n",
       "      <td>0.45</td>\n",
       "      <td>8.8</td>\n",
       "      <td>6</td>\n",
       "      <td>0</td>\n",
       "    </tr>\n",
       "    <tr>\n",
       "      <th>1</th>\n",
       "      <td>6.3</td>\n",
       "      <td>0.30</td>\n",
       "      <td>0.34</td>\n",
       "      <td>1.6</td>\n",
       "      <td>0.049</td>\n",
       "      <td>14.0</td>\n",
       "      <td>132.0</td>\n",
       "      <td>0.9940</td>\n",
       "      <td>3.30</td>\n",
       "      <td>0.49</td>\n",
       "      <td>9.5</td>\n",
       "      <td>6</td>\n",
       "      <td>0</td>\n",
       "    </tr>\n",
       "    <tr>\n",
       "      <th>2</th>\n",
       "      <td>8.1</td>\n",
       "      <td>0.28</td>\n",
       "      <td>0.40</td>\n",
       "      <td>6.9</td>\n",
       "      <td>0.050</td>\n",
       "      <td>30.0</td>\n",
       "      <td>97.0</td>\n",
       "      <td>0.9951</td>\n",
       "      <td>3.26</td>\n",
       "      <td>0.44</td>\n",
       "      <td>10.1</td>\n",
       "      <td>6</td>\n",
       "      <td>0</td>\n",
       "    </tr>\n",
       "    <tr>\n",
       "      <th>3</th>\n",
       "      <td>7.2</td>\n",
       "      <td>0.23</td>\n",
       "      <td>0.32</td>\n",
       "      <td>8.5</td>\n",
       "      <td>0.058</td>\n",
       "      <td>47.0</td>\n",
       "      <td>186.0</td>\n",
       "      <td>0.9956</td>\n",
       "      <td>3.19</td>\n",
       "      <td>0.40</td>\n",
       "      <td>9.9</td>\n",
       "      <td>6</td>\n",
       "      <td>0</td>\n",
       "    </tr>\n",
       "    <tr>\n",
       "      <th>4</th>\n",
       "      <td>7.2</td>\n",
       "      <td>0.23</td>\n",
       "      <td>0.32</td>\n",
       "      <td>8.5</td>\n",
       "      <td>0.058</td>\n",
       "      <td>47.0</td>\n",
       "      <td>186.0</td>\n",
       "      <td>0.9956</td>\n",
       "      <td>3.19</td>\n",
       "      <td>0.40</td>\n",
       "      <td>9.9</td>\n",
       "      <td>6</td>\n",
       "      <td>0</td>\n",
       "    </tr>\n",
       "  </tbody>\n",
       "</table>\n",
       "</div>"
      ],
      "text/plain": [
       "   fixed acidity  volatile acidity  citric acid  residual sugar  chlorides  \\\n",
       "0            7.0              0.27         0.36            20.7      0.045   \n",
       "1            6.3              0.30         0.34             1.6      0.049   \n",
       "2            8.1              0.28         0.40             6.9      0.050   \n",
       "3            7.2              0.23         0.32             8.5      0.058   \n",
       "4            7.2              0.23         0.32             8.5      0.058   \n",
       "\n",
       "   free sulfur dioxide  total sulfur dioxide  density    pH  sulphates  \\\n",
       "0                 45.0                 170.0   1.0010  3.00       0.45   \n",
       "1                 14.0                 132.0   0.9940  3.30       0.49   \n",
       "2                 30.0                  97.0   0.9951  3.26       0.44   \n",
       "3                 47.0                 186.0   0.9956  3.19       0.40   \n",
       "4                 47.0                 186.0   0.9956  3.19       0.40   \n",
       "\n",
       "   alcohol  quality  is_red  \n",
       "0      8.8        6       0  \n",
       "1      9.5        6       0  \n",
       "2     10.1        6       0  \n",
       "3      9.9        6       0  \n",
       "4      9.9        6       0  "
      ]
     },
     "execution_count": 126,
     "metadata": {},
     "output_type": "execute_result"
    }
   ],
   "source": [
    "white_df.head()"
   ]
  },
  {
   "cell_type": "code",
   "execution_count": 127,
   "metadata": {},
   "outputs": [],
   "source": [
    "white_df = white_df.drop_duplicates(keep='first')"
   ]
  },
  {
   "cell_type": "code",
   "execution_count": 128,
   "metadata": {},
   "outputs": [
    {
     "name": "stdout",
     "output_type": "stream",
     "text": [
      "\u001b[92m All public tests passed\n"
     ]
    }
   ],
   "source": [
    "utils_week_one.test_white_df(white_df)"
   ]
  },
  {
   "cell_type": "code",
   "execution_count": 133,
   "metadata": {},
   "outputs": [],
   "source": [
    "# # URL of the red wine dataset\n",
    "URL = 'http://archive.ics.uci.edu/ml/machine-learning-databases/wine-quality/winequality-red.csv'\n",
    "\n",
    "# # load the dataset from the URL\n",
    "red_df = pd.read_csv(URL, sep=\";\")"
   ]
  },
  {
   "cell_type": "code",
   "execution_count": 134,
   "metadata": {},
   "outputs": [],
   "source": [
    "# # fill the `is_red` column with ones.\n",
    "red_df[\"is_red\"] = np.ones(len(red_df)).astype(int)\n",
    "\n",
    "# # keep only the first of duplicate items\n",
    "red_df = red_df.drop_duplicates(keep='first')"
   ]
  },
  {
   "cell_type": "code",
   "execution_count": 135,
   "metadata": {},
   "outputs": [
    {
     "data": {
      "text/html": [
       "<div>\n",
       "<style scoped>\n",
       "    .dataframe tbody tr th:only-of-type {\n",
       "        vertical-align: middle;\n",
       "    }\n",
       "\n",
       "    .dataframe tbody tr th {\n",
       "        vertical-align: top;\n",
       "    }\n",
       "\n",
       "    .dataframe thead th {\n",
       "        text-align: right;\n",
       "    }\n",
       "</style>\n",
       "<table border=\"1\" class=\"dataframe\">\n",
       "  <thead>\n",
       "    <tr style=\"text-align: right;\">\n",
       "      <th></th>\n",
       "      <th>fixed acidity</th>\n",
       "      <th>volatile acidity</th>\n",
       "      <th>citric acid</th>\n",
       "      <th>residual sugar</th>\n",
       "      <th>chlorides</th>\n",
       "      <th>free sulfur dioxide</th>\n",
       "      <th>total sulfur dioxide</th>\n",
       "      <th>density</th>\n",
       "      <th>pH</th>\n",
       "      <th>sulphates</th>\n",
       "      <th>alcohol</th>\n",
       "      <th>quality</th>\n",
       "      <th>is_red</th>\n",
       "    </tr>\n",
       "  </thead>\n",
       "  <tbody>\n",
       "    <tr>\n",
       "      <th>0</th>\n",
       "      <td>7.4</td>\n",
       "      <td>0.70</td>\n",
       "      <td>0.00</td>\n",
       "      <td>1.9</td>\n",
       "      <td>0.076</td>\n",
       "      <td>11.0</td>\n",
       "      <td>34.0</td>\n",
       "      <td>0.9978</td>\n",
       "      <td>3.51</td>\n",
       "      <td>0.56</td>\n",
       "      <td>9.4</td>\n",
       "      <td>5</td>\n",
       "      <td>1</td>\n",
       "    </tr>\n",
       "    <tr>\n",
       "      <th>1</th>\n",
       "      <td>7.8</td>\n",
       "      <td>0.88</td>\n",
       "      <td>0.00</td>\n",
       "      <td>2.6</td>\n",
       "      <td>0.098</td>\n",
       "      <td>25.0</td>\n",
       "      <td>67.0</td>\n",
       "      <td>0.9968</td>\n",
       "      <td>3.20</td>\n",
       "      <td>0.68</td>\n",
       "      <td>9.8</td>\n",
       "      <td>5</td>\n",
       "      <td>1</td>\n",
       "    </tr>\n",
       "    <tr>\n",
       "      <th>2</th>\n",
       "      <td>7.8</td>\n",
       "      <td>0.76</td>\n",
       "      <td>0.04</td>\n",
       "      <td>2.3</td>\n",
       "      <td>0.092</td>\n",
       "      <td>15.0</td>\n",
       "      <td>54.0</td>\n",
       "      <td>0.9970</td>\n",
       "      <td>3.26</td>\n",
       "      <td>0.65</td>\n",
       "      <td>9.8</td>\n",
       "      <td>5</td>\n",
       "      <td>1</td>\n",
       "    </tr>\n",
       "    <tr>\n",
       "      <th>3</th>\n",
       "      <td>11.2</td>\n",
       "      <td>0.28</td>\n",
       "      <td>0.56</td>\n",
       "      <td>1.9</td>\n",
       "      <td>0.075</td>\n",
       "      <td>17.0</td>\n",
       "      <td>60.0</td>\n",
       "      <td>0.9980</td>\n",
       "      <td>3.16</td>\n",
       "      <td>0.58</td>\n",
       "      <td>9.8</td>\n",
       "      <td>6</td>\n",
       "      <td>1</td>\n",
       "    </tr>\n",
       "    <tr>\n",
       "      <th>5</th>\n",
       "      <td>7.4</td>\n",
       "      <td>0.66</td>\n",
       "      <td>0.00</td>\n",
       "      <td>1.8</td>\n",
       "      <td>0.075</td>\n",
       "      <td>13.0</td>\n",
       "      <td>40.0</td>\n",
       "      <td>0.9978</td>\n",
       "      <td>3.51</td>\n",
       "      <td>0.56</td>\n",
       "      <td>9.4</td>\n",
       "      <td>5</td>\n",
       "      <td>1</td>\n",
       "    </tr>\n",
       "  </tbody>\n",
       "</table>\n",
       "</div>"
      ],
      "text/plain": [
       "   fixed acidity  volatile acidity  citric acid  residual sugar  chlorides  \\\n",
       "0            7.4              0.70         0.00             1.9      0.076   \n",
       "1            7.8              0.88         0.00             2.6      0.098   \n",
       "2            7.8              0.76         0.04             2.3      0.092   \n",
       "3           11.2              0.28         0.56             1.9      0.075   \n",
       "5            7.4              0.66         0.00             1.8      0.075   \n",
       "\n",
       "   free sulfur dioxide  total sulfur dioxide  density    pH  sulphates  \\\n",
       "0                 11.0                  34.0   0.9978  3.51       0.56   \n",
       "1                 25.0                  67.0   0.9968  3.20       0.68   \n",
       "2                 15.0                  54.0   0.9970  3.26       0.65   \n",
       "3                 17.0                  60.0   0.9980  3.16       0.58   \n",
       "5                 13.0                  40.0   0.9978  3.51       0.56   \n",
       "\n",
       "   alcohol  quality  is_red  \n",
       "0      9.4        5       1  \n",
       "1      9.8        5       1  \n",
       "2      9.8        5       1  \n",
       "3      9.8        6       1  \n",
       "5      9.4        5       1  "
      ]
     },
     "execution_count": 135,
     "metadata": {},
     "output_type": "execute_result"
    }
   ],
   "source": [
    "red_df.head()"
   ]
  },
  {
   "cell_type": "code",
   "execution_count": 136,
   "metadata": {},
   "outputs": [
    {
     "data": {
      "text/plain": [
       "(1359, 13)"
      ]
     },
     "execution_count": 136,
     "metadata": {},
     "output_type": "execute_result"
    }
   ],
   "source": [
    "red_df.shape"
   ]
  },
  {
   "cell_type": "code",
   "execution_count": 138,
   "metadata": {},
   "outputs": [
    {
     "name": "stdout",
     "output_type": "stream",
     "text": [
      "\u001b[92m All public tests passed\n"
     ]
    }
   ],
   "source": [
    "utils_week_one.test_red_df(red_df)"
   ]
  },
  {
   "cell_type": "code",
   "execution_count": 139,
   "metadata": {},
   "outputs": [],
   "source": [
    "df = pd.concat([red_df, white_df], ignore_index=True)"
   ]
  },
  {
   "cell_type": "code",
   "execution_count": 140,
   "metadata": {},
   "outputs": [],
   "source": [
    "# NOTE: In a real-world scenario, you should shuffle the data.\n",
    "# YOU ARE NOT going to do that here because we want to test\n",
    "# with deterministic data. But if you want the code to do it,\n",
    "# it's in the commented line below:\n",
    "\n",
    "#df = df.iloc[np.random.permutation(len(df))]"
   ]
  },
  {
   "cell_type": "code",
   "execution_count": 141,
   "metadata": {},
   "outputs": [
    {
     "data": {
      "image/png": "[encoded data removed]",
      "text/plain": [
       "<Figure size 432x288 with 1 Axes>"
      ]
     },
     "metadata": {
      "needs_background": "light"
     },
     "output_type": "display_data"
    }
   ],
   "source": [
    "df['quality'].hist(bins=20);"
   ]
  },
  {
   "cell_type": "markdown",
   "metadata": {},
   "source": [
    "### Imbalanced data (TODO)\n",
    "You can see from the plot above that the wine quality dataset is imbalanced. \n",
    "- Since there are very few observations with quality equal to 3, 4, 8 and 9, you can drop these observations from your dataset. \n",
    "- You can do this by removing data belonging to all classes except those > 4 and < 8."
   ]
  },
  {
   "cell_type": "code",
   "execution_count": 142,
   "metadata": {},
   "outputs": [],
   "source": [
    "\n",
    "# # get data with wine quality greater than 4 and less than 8\n",
    "df = df[(df['quality'] > 4) & (df['quality'] < 8 )]\n",
    "\n",
    "# # reset index and drop the old one\n",
    "df = df.reset_index(drop=True)"
   ]
  },
  {
   "cell_type": "code",
   "execution_count": 143,
   "metadata": {},
   "outputs": [
    {
     "name": "stdout",
     "output_type": "stream",
     "text": [
      "\u001b[92m All public tests passed\n"
     ]
    }
   ],
   "source": [
    "utils_week_one.test_df_drop(df)"
   ]
  },
  {
   "cell_type": "code",
   "execution_count": 144,
   "metadata": {},
   "outputs": [
    {
     "data": {
      "image/png": "[encoded data removed]",
      "text/plain": [
       "<Figure size 432x288 with 1 Axes>"
      ]
     },
     "metadata": {
      "needs_background": "light"
     },
     "output_type": "display_data"
    }
   ],
   "source": [
    "df['quality'].hist(bins=20);"
   ]
  },
  {
   "cell_type": "code",
   "execution_count": 145,
   "metadata": {},
   "outputs": [],
   "source": [
    "# # split df into 80:20 train and test sets\n",
    "train, test = train_test_split(df, test_size=0.2, random_state = 1)\n",
    "                               \n",
    "# # split train into 80:20 train and val sets\n",
    "train, val = train_test_split(train, test_size=0.2, random_state = 1)"
   ]
  },
  {
   "cell_type": "code",
   "execution_count": 146,
   "metadata": {},
   "outputs": [
    {
     "name": "stdout",
     "output_type": "stream",
     "text": [
      "\u001b[92m All public tests passed\n"
     ]
    }
   ],
   "source": [
    "utils_week_one.test_data_sizes(train.size, test.size, val.size)"
   ]
  },
  {
   "cell_type": "code",
   "execution_count": 147,
   "metadata": {},
   "outputs": [],
   "source": [
    "train_stats = train.describe()\n",
    "train_stats.pop('is_red')\n",
    "train_stats.pop('quality')\n",
    "train_stats = train_stats.transpose()"
   ]
  },
  {
   "cell_type": "code",
   "execution_count": 148,
   "metadata": {},
   "outputs": [],
   "source": [
    "def format_output(data):\n",
    "    is_red = data.pop('is_red')\n",
    "    is_red = np.array(is_red)\n",
    "    quality = data.pop('quality')\n",
    "    quality = np.array(quality)\n",
    "    return (quality, is_red)"
   ]
  },
  {
   "cell_type": "code",
   "execution_count": 149,
   "metadata": {},
   "outputs": [],
   "source": [
    "# # format the output of the train set\n",
    "train_Y = format_output(train)\n",
    "\n",
    "# # format the output of the val set\n",
    "val_Y = format_output(val)\n",
    "    \n",
    "# # format the output of the test set\n",
    "test_Y = format_output(test)"
   ]
  },
  {
   "cell_type": "code",
   "execution_count": 150,
   "metadata": {},
   "outputs": [
    {
     "name": "stdout",
     "output_type": "stream",
     "text": [
      "\u001b[92m All public tests passed\n"
     ]
    }
   ],
   "source": [
    "utils_week_one.test_format_output(df, train_Y, val_Y, test_Y)"
   ]
  },
  {
   "cell_type": "code",
   "execution_count": 151,
   "metadata": {},
   "outputs": [
    {
     "data": {
      "text/html": [
       "<div>\n",
       "<style scoped>\n",
       "    .dataframe tbody tr th:only-of-type {\n",
       "        vertical-align: middle;\n",
       "    }\n",
       "\n",
       "    .dataframe tbody tr th {\n",
       "        vertical-align: top;\n",
       "    }\n",
       "\n",
       "    .dataframe thead th {\n",
       "        text-align: right;\n",
       "    }\n",
       "</style>\n",
       "<table border=\"1\" class=\"dataframe\">\n",
       "  <thead>\n",
       "    <tr style=\"text-align: right;\">\n",
       "      <th></th>\n",
       "      <th>count</th>\n",
       "      <th>mean</th>\n",
       "      <th>std</th>\n",
       "      <th>min</th>\n",
       "      <th>25%</th>\n",
       "      <th>50%</th>\n",
       "      <th>75%</th>\n",
       "      <th>max</th>\n",
       "    </tr>\n",
       "  </thead>\n",
       "  <tbody>\n",
       "    <tr>\n",
       "      <th>fixed acidity</th>\n",
       "      <td>3155.0</td>\n",
       "      <td>7.221616</td>\n",
       "      <td>1.325297</td>\n",
       "      <td>3.80000</td>\n",
       "      <td>6.40000</td>\n",
       "      <td>7.00000</td>\n",
       "      <td>7.7000</td>\n",
       "      <td>15.60000</td>\n",
       "    </tr>\n",
       "    <tr>\n",
       "      <th>volatile acidity</th>\n",
       "      <td>3155.0</td>\n",
       "      <td>0.338929</td>\n",
       "      <td>0.162476</td>\n",
       "      <td>0.08000</td>\n",
       "      <td>0.23000</td>\n",
       "      <td>0.29000</td>\n",
       "      <td>0.4000</td>\n",
       "      <td>1.24000</td>\n",
       "    </tr>\n",
       "    <tr>\n",
       "      <th>citric acid</th>\n",
       "      <td>3155.0</td>\n",
       "      <td>0.321569</td>\n",
       "      <td>0.147970</td>\n",
       "      <td>0.00000</td>\n",
       "      <td>0.25000</td>\n",
       "      <td>0.31000</td>\n",
       "      <td>0.4000</td>\n",
       "      <td>1.66000</td>\n",
       "    </tr>\n",
       "    <tr>\n",
       "      <th>residual sugar</th>\n",
       "      <td>3155.0</td>\n",
       "      <td>5.155911</td>\n",
       "      <td>4.639632</td>\n",
       "      <td>0.60000</td>\n",
       "      <td>1.80000</td>\n",
       "      <td>2.80000</td>\n",
       "      <td>7.6500</td>\n",
       "      <td>65.80000</td>\n",
       "    </tr>\n",
       "    <tr>\n",
       "      <th>chlorides</th>\n",
       "      <td>3155.0</td>\n",
       "      <td>0.056976</td>\n",
       "      <td>0.036802</td>\n",
       "      <td>0.01200</td>\n",
       "      <td>0.03800</td>\n",
       "      <td>0.04700</td>\n",
       "      <td>0.0660</td>\n",
       "      <td>0.61100</td>\n",
       "    </tr>\n",
       "    <tr>\n",
       "      <th>free sulfur dioxide</th>\n",
       "      <td>3155.0</td>\n",
       "      <td>30.388590</td>\n",
       "      <td>17.236784</td>\n",
       "      <td>1.00000</td>\n",
       "      <td>17.00000</td>\n",
       "      <td>28.00000</td>\n",
       "      <td>41.0000</td>\n",
       "      <td>131.00000</td>\n",
       "    </tr>\n",
       "    <tr>\n",
       "      <th>total sulfur dioxide</th>\n",
       "      <td>3155.0</td>\n",
       "      <td>115.062282</td>\n",
       "      <td>56.706617</td>\n",
       "      <td>6.00000</td>\n",
       "      <td>75.00000</td>\n",
       "      <td>117.00000</td>\n",
       "      <td>156.0000</td>\n",
       "      <td>344.00000</td>\n",
       "    </tr>\n",
       "    <tr>\n",
       "      <th>density</th>\n",
       "      <td>3155.0</td>\n",
       "      <td>0.994633</td>\n",
       "      <td>0.003005</td>\n",
       "      <td>0.98711</td>\n",
       "      <td>0.99232</td>\n",
       "      <td>0.99481</td>\n",
       "      <td>0.9968</td>\n",
       "      <td>1.03898</td>\n",
       "    </tr>\n",
       "    <tr>\n",
       "      <th>pH</th>\n",
       "      <td>3155.0</td>\n",
       "      <td>3.223201</td>\n",
       "      <td>0.161272</td>\n",
       "      <td>2.72000</td>\n",
       "      <td>3.11000</td>\n",
       "      <td>3.21000</td>\n",
       "      <td>3.3300</td>\n",
       "      <td>4.01000</td>\n",
       "    </tr>\n",
       "    <tr>\n",
       "      <th>sulphates</th>\n",
       "      <td>3155.0</td>\n",
       "      <td>0.534051</td>\n",
       "      <td>0.149149</td>\n",
       "      <td>0.22000</td>\n",
       "      <td>0.43000</td>\n",
       "      <td>0.51000</td>\n",
       "      <td>0.6000</td>\n",
       "      <td>1.95000</td>\n",
       "    </tr>\n",
       "    <tr>\n",
       "      <th>alcohol</th>\n",
       "      <td>3155.0</td>\n",
       "      <td>10.504466</td>\n",
       "      <td>1.154654</td>\n",
       "      <td>8.50000</td>\n",
       "      <td>9.50000</td>\n",
       "      <td>10.30000</td>\n",
       "      <td>11.3000</td>\n",
       "      <td>14.00000</td>\n",
       "    </tr>\n",
       "  </tbody>\n",
       "</table>\n",
       "</div>"
      ],
      "text/plain": [
       "                       count        mean        std      min       25%  \\\n",
       "fixed acidity         3155.0    7.221616   1.325297  3.80000   6.40000   \n",
       "volatile acidity      3155.0    0.338929   0.162476  0.08000   0.23000   \n",
       "citric acid           3155.0    0.321569   0.147970  0.00000   0.25000   \n",
       "residual sugar        3155.0    5.155911   4.639632  0.60000   1.80000   \n",
       "chlorides             3155.0    0.056976   0.036802  0.01200   0.03800   \n",
       "free sulfur dioxide   3155.0   30.388590  17.236784  1.00000  17.00000   \n",
       "total sulfur dioxide  3155.0  115.062282  56.706617  6.00000  75.00000   \n",
       "density               3155.0    0.994633   0.003005  0.98711   0.99232   \n",
       "pH                    3155.0    3.223201   0.161272  2.72000   3.11000   \n",
       "sulphates             3155.0    0.534051   0.149149  0.22000   0.43000   \n",
       "alcohol               3155.0   10.504466   1.154654  8.50000   9.50000   \n",
       "\n",
       "                            50%       75%        max  \n",
       "fixed acidity           7.00000    7.7000   15.60000  \n",
       "volatile acidity        0.29000    0.4000    1.24000  \n",
       "citric acid             0.31000    0.4000    1.66000  \n",
       "residual sugar          2.80000    7.6500   65.80000  \n",
       "chlorides               0.04700    0.0660    0.61100  \n",
       "free sulfur dioxide    28.00000   41.0000  131.00000  \n",
       "total sulfur dioxide  117.00000  156.0000  344.00000  \n",
       "density                 0.99481    0.9968    1.03898  \n",
       "pH                      3.21000    3.3300    4.01000  \n",
       "sulphates               0.51000    0.6000    1.95000  \n",
       "alcohol                10.30000   11.3000   14.00000  "
      ]
     },
     "execution_count": 151,
     "metadata": {},
     "output_type": "execute_result"
    }
   ],
   "source": [
    "train_stats"
   ]
  },
  {
   "cell_type": "code",
   "execution_count": 152,
   "metadata": {},
   "outputs": [],
   "source": [
    "def norm(x):\n",
    "    return (x - train_stats['mean']) / train_stats['std']"
   ]
  },
  {
   "cell_type": "code",
   "execution_count": 153,
   "metadata": {},
   "outputs": [],
   "source": [
    "\n",
    "# # normalize the train set\n",
    "norm_train_X = norm(train)\n",
    "    \n",
    "# # normalize the val set\n",
    "norm_val_X = norm(val)\n",
    "    \n",
    "# # normalize the test set\n",
    "norm_test_X = norm(test)"
   ]
  },
  {
   "cell_type": "code",
   "execution_count": 154,
   "metadata": {},
   "outputs": [
    {
     "name": "stdout",
     "output_type": "stream",
     "text": [
      "\u001b[92m All public tests passed\n"
     ]
    }
   ],
   "source": [
    "utils_week_one.test_norm(norm_train_X, norm_val_X, norm_test_X, train, val, test)"
   ]
  },
  {
   "cell_type": "code",
   "execution_count": 155,
   "metadata": {},
   "outputs": [
    {
     "name": "stdout",
     "output_type": "stream",
     "text": [
      "\u001b[92m All public tests passed\n"
     ]
    }
   ],
   "source": [
    "\n",
    "def base_model(inputs):\n",
    "    \n",
    "#     # connect a Dense layer with 128 neurons and a relu activation\n",
    "     x = Dense(128, activation = 'relu')(inputs)\n",
    "    \n",
    "#     # connect another Dense layer with 128 neurons and a relu activation\n",
    "     x = Dense(128, activation = 'relu')(x)\n",
    "     return x\n",
    "utils_week_one.test_base_model(base_model) "
   ]
  },
  {
   "cell_type": "code",
   "execution_count": 157,
   "metadata": {},
   "outputs": [
    {
     "data": {
      "text/plain": [
       "11"
      ]
     },
     "execution_count": 157,
     "metadata": {},
     "output_type": "execute_result"
    }
   ],
   "source": [
    "\n",
    "len(norm_train_X.columns)"
   ]
  },
  {
   "cell_type": "code",
   "execution_count": 158,
   "metadata": {},
   "outputs": [],
   "source": [
    "\n",
    "\n",
    "def final_model(inputs):\n",
    "    \n",
    "#     # get the base model\n",
    "     x = base_model(inputs)\n",
    "\n",
    "#     # connect the output Dense layer for regression\n",
    "     wine_quality = Dense(units='1', name='wine_quality')(x)\n",
    "\n",
    "#     # connect the output Dense layer for classification. this will use a sigmoid activation.\n",
    "     wine_type = Dense(units='1', activation='sigmoid', name='wine_type')(x)\n",
    "\n",
    "#     # define the model using the input and output layers\n",
    "     model = Model(inputs=[inputs], outputs=[wine_quality,wine_type])\n",
    "\n",
    "     return model"
   ]
  },
  {
   "cell_type": "code",
   "execution_count": 159,
   "metadata": {},
   "outputs": [],
   "source": [
    "inputs = tf.keras.layers.Input(shape=(11,))\n",
    "rms = tf.keras.optimizers.RMSprop(lr=0.0001)\n",
    "model = final_model(inputs)\n",
    "\n",
    "model.compile(optimizer=rms, \n",
    "               loss = {'wine_type' : 'binary_crossentropy',\n",
    "                       'wine_quality' :'mse'\n",
    "                      },\n",
    "               metrics = {'wine_type' : 'accuracy',\n",
    "                          'wine_quality': tf.keras.metrics.RootMeanSquaredError()\n",
    "                        }\n",
    "              )"
   ]
  },
  {
   "cell_type": "code",
   "execution_count": 160,
   "metadata": {},
   "outputs": [
    {
     "name": "stdout",
     "output_type": "stream",
     "text": [
      "Epoch 1/180\n",
      "99/99 [==============================] - 0s 2ms/step - loss: 19.0743 - wine_quality_loss: 18.3515 - wine_type_loss: 0.7228 - wine_quality_root_mean_squared_error: 4.2839 - wine_type_accuracy: 0.3851 - val_loss: 11.6311 - val_wine_quality_loss: 10.9410 - val_wine_type_loss: 0.6900 - val_wine_quality_root_mean_squared_error: 3.3077 - val_wine_type_accuracy: 0.4842\n",
      "Epoch 2/180\n",
      "99/99 [==============================] - 0s 1ms/step - loss: 6.8018 - wine_quality_loss: 6.1676 - wine_type_loss: 0.6343 - wine_quality_root_mean_squared_error: 2.4835 - wine_type_accuracy: 0.6063 - val_loss: 3.5568 - val_wine_quality_loss: 3.0011 - val_wine_type_loss: 0.5556 - val_wine_quality_root_mean_squared_error: 1.7324 - val_wine_type_accuracy: 0.8314\n",
      "Epoch 3/180\n",
      "99/99 [==============================] - 0s 948us/step - loss: 2.9519 - wine_quality_loss: 2.4907 - wine_type_loss: 0.4612 - wine_quality_root_mean_squared_error: 1.5782 - wine_type_accuracy: 0.9398 - val_loss: 2.4976 - val_wine_quality_loss: 2.1174 - val_wine_type_loss: 0.3802 - val_wine_quality_root_mean_squared_error: 1.4551 - val_wine_type_accuracy: 0.9455\n",
      "Epoch 4/180\n",
      "99/99 [==============================] - 0s 946us/step - loss: 2.3591 - wine_quality_loss: 2.0380 - wine_type_loss: 0.3211 - wine_quality_root_mean_squared_error: 1.4276 - wine_type_accuracy: 0.9496 - val_loss: 2.1361 - val_wine_quality_loss: 1.8553 - val_wine_type_loss: 0.2808 - val_wine_quality_root_mean_squared_error: 1.3621 - val_wine_type_accuracy: 0.9582\n",
      "Epoch 5/180\n",
      "99/99 [==============================] - 0s 904us/step - loss: 2.0320 - wine_quality_loss: 1.7962 - wine_type_loss: 0.2359 - wine_quality_root_mean_squared_error: 1.3402 - wine_type_accuracy: 0.9686 - val_loss: 1.8928 - val_wine_quality_loss: 1.6829 - val_wine_type_loss: 0.2099 - val_wine_quality_root_mean_squared_error: 1.2972 - val_wine_type_accuracy: 0.9823\n",
      "Epoch 6/180\n",
      "99/99 [==============================] - 0s 906us/step - loss: 1.8117 - wine_quality_loss: 1.6319 - wine_type_loss: 0.1799 - wine_quality_root_mean_squared_error: 1.2775 - wine_type_accuracy: 0.9803 - val_loss: 1.7151 - val_wine_quality_loss: 1.5525 - val_wine_type_loss: 0.1626 - val_wine_quality_root_mean_squared_error: 1.2460 - val_wine_type_accuracy: 0.9861\n",
      "Epoch 7/180\n",
      "99/99 [==============================] - 0s 961us/step - loss: 1.6479 - wine_quality_loss: 1.5066 - wine_type_loss: 0.1413 - wine_quality_root_mean_squared_error: 1.2274 - wine_type_accuracy: 0.9861 - val_loss: 1.5607 - val_wine_quality_loss: 1.4303 - val_wine_type_loss: 0.1304 - val_wine_quality_root_mean_squared_error: 1.1960 - val_wine_type_accuracy: 0.9861\n",
      "Epoch 8/180\n",
      "99/99 [==============================] - 0s 932us/step - loss: 1.5190 - wine_quality_loss: 1.4042 - wine_type_loss: 0.1148 - wine_quality_root_mean_squared_error: 1.1850 - wine_type_accuracy: 0.9873 - val_loss: 1.4554 - val_wine_quality_loss: 1.3486 - val_wine_type_loss: 0.1068 - val_wine_quality_root_mean_squared_error: 1.1613 - val_wine_type_accuracy: 0.9873\n",
      "Epoch 9/180\n",
      "99/99 [==============================] - 0s 941us/step - loss: 1.4046 - wine_quality_loss: 1.3094 - wine_type_loss: 0.0952 - wine_quality_root_mean_squared_error: 1.1443 - wine_type_accuracy: 0.9886 - val_loss: 1.3436 - val_wine_quality_loss: 1.2539 - val_wine_type_loss: 0.0897 - val_wine_quality_root_mean_squared_error: 1.1198 - val_wine_type_accuracy: 0.9886\n",
      "Epoch 10/180\n",
      "99/99 [==============================] - 0s 934us/step - loss: 1.3061 - wine_quality_loss: 1.2245 - wine_type_loss: 0.0816 - wine_quality_root_mean_squared_error: 1.1066 - wine_type_accuracy: 0.9902 - val_loss: 1.2465 - val_wine_quality_loss: 1.1690 - val_wine_type_loss: 0.0775 - val_wine_quality_root_mean_squared_error: 1.0812 - val_wine_type_accuracy: 0.9899\n",
      "Epoch 11/180\n",
      "99/99 [==============================] - 0s 932us/step - loss: 1.2265 - wine_quality_loss: 1.1548 - wine_type_loss: 0.0717 - wine_quality_root_mean_squared_error: 1.0746 - wine_type_accuracy: 0.9902 - val_loss: 1.1703 - val_wine_quality_loss: 1.1014 - val_wine_type_loss: 0.0689 - val_wine_quality_root_mean_squared_error: 1.0495 - val_wine_type_accuracy: 0.9899\n",
      "Epoch 12/180\n",
      "99/99 [==============================] - 0s 925us/step - loss: 1.1456 - wine_quality_loss: 1.0813 - wine_type_loss: 0.0643 - wine_quality_root_mean_squared_error: 1.0398 - wine_type_accuracy: 0.9905 - val_loss: 1.1013 - val_wine_quality_loss: 1.0389 - val_wine_type_loss: 0.0625 - val_wine_quality_root_mean_squared_error: 1.0192 - val_wine_type_accuracy: 0.9899\n",
      "Epoch 13/180\n",
      "99/99 [==============================] - 0s 965us/step - loss: 1.0738 - wine_quality_loss: 1.0152 - wine_type_loss: 0.0586 - wine_quality_root_mean_squared_error: 1.0076 - wine_type_accuracy: 0.9914 - val_loss: 1.0317 - val_wine_quality_loss: 0.9740 - val_wine_type_loss: 0.0576 - val_wine_quality_root_mean_squared_error: 0.9869 - val_wine_type_accuracy: 0.9899\n",
      "Epoch 14/180\n",
      "99/99 [==============================] - 0s 999us/step - loss: 1.0057 - wine_quality_loss: 0.9514 - wine_type_loss: 0.0543 - wine_quality_root_mean_squared_error: 0.9754 - wine_type_accuracy: 0.9914 - val_loss: 0.9619 - val_wine_quality_loss: 0.9087 - val_wine_type_loss: 0.0532 - val_wine_quality_root_mean_squared_error: 0.9532 - val_wine_type_accuracy: 0.9899\n",
      "Epoch 15/180\n",
      "99/99 [==============================] - 0s 952us/step - loss: 0.9471 - wine_quality_loss: 0.8964 - wine_type_loss: 0.0508 - wine_quality_root_mean_squared_error: 0.9468 - wine_type_accuracy: 0.9918 - val_loss: 0.9049 - val_wine_quality_loss: 0.8549 - val_wine_type_loss: 0.0500 - val_wine_quality_root_mean_squared_error: 0.9246 - val_wine_type_accuracy: 0.9911\n",
      "Epoch 16/180\n",
      "99/99 [==============================] - 0s 943us/step - loss: 0.8930 - wine_quality_loss: 0.8452 - wine_type_loss: 0.0478 - wine_quality_root_mean_squared_error: 0.9194 - wine_type_accuracy: 0.9921 - val_loss: 0.8561 - val_wine_quality_loss: 0.8087 - val_wine_type_loss: 0.0474 - val_wine_quality_root_mean_squared_error: 0.8993 - val_wine_type_accuracy: 0.9911\n",
      "Epoch 17/180\n",
      "99/99 [==============================] - 0s 936us/step - loss: 0.8405 - wine_quality_loss: 0.7951 - wine_type_loss: 0.0454 - wine_quality_root_mean_squared_error: 0.8917 - wine_type_accuracy: 0.9924 - val_loss: 0.8048 - val_wine_quality_loss: 0.7594 - val_wine_type_loss: 0.0454 - val_wine_quality_root_mean_squared_error: 0.8714 - val_wine_type_accuracy: 0.9911\n",
      "Epoch 18/180\n",
      "99/99 [==============================] - 0s 982us/step - loss: 0.7936 - wine_quality_loss: 0.7503 - wine_type_loss: 0.0434 - wine_quality_root_mean_squared_error: 0.8662 - wine_type_accuracy: 0.9924 - val_loss: 0.7689 - val_wine_quality_loss: 0.7252 - val_wine_type_loss: 0.0437 - val_wine_quality_root_mean_squared_error: 0.8516 - val_wine_type_accuracy: 0.9911\n",
      "Epoch 19/180\n",
      "99/99 [==============================] - 0s 946us/step - loss: 0.7509 - wine_quality_loss: 0.7094 - wine_type_loss: 0.0416 - wine_quality_root_mean_squared_error: 0.8422 - wine_type_accuracy: 0.9927 - val_loss: 0.7226 - val_wine_quality_loss: 0.6802 - val_wine_type_loss: 0.0424 - val_wine_quality_root_mean_squared_error: 0.8247 - val_wine_type_accuracy: 0.9911\n",
      "Epoch 20/180\n",
      "99/99 [==============================] - 0s 939us/step - loss: 0.7111 - wine_quality_loss: 0.6710 - wine_type_loss: 0.0402 - wine_quality_root_mean_squared_error: 0.8191 - wine_type_accuracy: 0.9933 - val_loss: 0.6700 - val_wine_quality_loss: 0.6293 - val_wine_type_loss: 0.0407 - val_wine_quality_root_mean_squared_error: 0.7933 - val_wine_type_accuracy: 0.9911\n",
      "Epoch 21/180\n",
      "99/99 [==============================] - 0s 964us/step - loss: 0.6749 - wine_quality_loss: 0.6360 - wine_type_loss: 0.0389 - wine_quality_root_mean_squared_error: 0.7975 - wine_type_accuracy: 0.9933 - val_loss: 0.6372 - val_wine_quality_loss: 0.5973 - val_wine_type_loss: 0.0399 - val_wine_quality_root_mean_squared_error: 0.7729 - val_wine_type_accuracy: 0.9911\n",
      "Epoch 22/180\n",
      "99/99 [==============================] - 0s 957us/step - loss: 0.6399 - wine_quality_loss: 0.6021 - wine_type_loss: 0.0378 - wine_quality_root_mean_squared_error: 0.7760 - wine_type_accuracy: 0.9940 - val_loss: 0.6075 - val_wine_quality_loss: 0.5688 - val_wine_type_loss: 0.0387 - val_wine_quality_root_mean_squared_error: 0.7542 - val_wine_type_accuracy: 0.9911\n"
     ]
    },
    {
     "name": "stdout",
     "output_type": "stream",
     "text": [
      "Epoch 23/180\n",
      "99/99 [==============================] - 0s 964us/step - loss: 0.6069 - wine_quality_loss: 0.5702 - wine_type_loss: 0.0367 - wine_quality_root_mean_squared_error: 0.7551 - wine_type_accuracy: 0.9933 - val_loss: 0.5932 - val_wine_quality_loss: 0.5551 - val_wine_type_loss: 0.0381 - val_wine_quality_root_mean_squared_error: 0.7450 - val_wine_type_accuracy: 0.9911\n",
      "Epoch 24/180\n",
      "99/99 [==============================] - 0s 965us/step - loss: 0.5790 - wine_quality_loss: 0.5431 - wine_type_loss: 0.0359 - wine_quality_root_mean_squared_error: 0.7370 - wine_type_accuracy: 0.9937 - val_loss: 0.5570 - val_wine_quality_loss: 0.5197 - val_wine_type_loss: 0.0373 - val_wine_quality_root_mean_squared_error: 0.7209 - val_wine_type_accuracy: 0.9911\n",
      "Epoch 25/180\n",
      "99/99 [==============================] - 0s 970us/step - loss: 0.5524 - wine_quality_loss: 0.5173 - wine_type_loss: 0.0351 - wine_quality_root_mean_squared_error: 0.7192 - wine_type_accuracy: 0.9943 - val_loss: 0.5337 - val_wine_quality_loss: 0.4971 - val_wine_type_loss: 0.0365 - val_wine_quality_root_mean_squared_error: 0.7051 - val_wine_type_accuracy: 0.9924\n",
      "Epoch 26/180\n",
      "99/99 [==============================] - 0s 933us/step - loss: 0.5299 - wine_quality_loss: 0.4956 - wine_type_loss: 0.0344 - wine_quality_root_mean_squared_error: 0.7040 - wine_type_accuracy: 0.9940 - val_loss: 0.4996 - val_wine_quality_loss: 0.4637 - val_wine_type_loss: 0.0359 - val_wine_quality_root_mean_squared_error: 0.6810 - val_wine_type_accuracy: 0.9924\n",
      "Epoch 27/180\n",
      "99/99 [==============================] - 0s 943us/step - loss: 0.5087 - wine_quality_loss: 0.4750 - wine_type_loss: 0.0337 - wine_quality_root_mean_squared_error: 0.6892 - wine_type_accuracy: 0.9946 - val_loss: 0.4838 - val_wine_quality_loss: 0.4485 - val_wine_type_loss: 0.0353 - val_wine_quality_root_mean_squared_error: 0.6697 - val_wine_type_accuracy: 0.9924\n",
      "Epoch 28/180\n",
      "99/99 [==============================] - 0s 948us/step - loss: 0.4899 - wine_quality_loss: 0.4568 - wine_type_loss: 0.0331 - wine_quality_root_mean_squared_error: 0.6759 - wine_type_accuracy: 0.9943 - val_loss: 0.4644 - val_wine_quality_loss: 0.4291 - val_wine_type_loss: 0.0353 - val_wine_quality_root_mean_squared_error: 0.6551 - val_wine_type_accuracy: 0.9924\n",
      "Epoch 29/180\n",
      "99/99 [==============================] - 0s 946us/step - loss: 0.4716 - wine_quality_loss: 0.4389 - wine_type_loss: 0.0326 - wine_quality_root_mean_squared_error: 0.6625 - wine_type_accuracy: 0.9943 - val_loss: 0.4505 - val_wine_quality_loss: 0.4158 - val_wine_type_loss: 0.0347 - val_wine_quality_root_mean_squared_error: 0.6448 - val_wine_type_accuracy: 0.9924\n",
      "Epoch 30/180\n",
      "99/99 [==============================] - 0s 1ms/step - loss: 0.4532 - wine_quality_loss: 0.4212 - wine_type_loss: 0.0321 - wine_quality_root_mean_squared_error: 0.6490 - wine_type_accuracy: 0.9943 - val_loss: 0.4403 - val_wine_quality_loss: 0.4061 - val_wine_type_loss: 0.0342 - val_wine_quality_root_mean_squared_error: 0.6373 - val_wine_type_accuracy: 0.9924\n",
      "Epoch 31/180\n",
      "99/99 [==============================] - 0s 924us/step - loss: 0.4433 - wine_quality_loss: 0.4117 - wine_type_loss: 0.0316 - wine_quality_root_mean_squared_error: 0.6417 - wine_type_accuracy: 0.9943 - val_loss: 0.4321 - val_wine_quality_loss: 0.3982 - val_wine_type_loss: 0.0339 - val_wine_quality_root_mean_squared_error: 0.6310 - val_wine_type_accuracy: 0.9924\n",
      "Epoch 32/180\n",
      "99/99 [==============================] - 0s 978us/step - loss: 0.4315 - wine_quality_loss: 0.4004 - wine_type_loss: 0.0312 - wine_quality_root_mean_squared_error: 0.6327 - wine_type_accuracy: 0.9946 - val_loss: 0.4230 - val_wine_quality_loss: 0.3897 - val_wine_type_loss: 0.0333 - val_wine_quality_root_mean_squared_error: 0.6242 - val_wine_type_accuracy: 0.9937\n",
      "Epoch 33/180\n",
      "99/99 [==============================] - 0s 1ms/step - loss: 0.4206 - wine_quality_loss: 0.3898 - wine_type_loss: 0.0308 - wine_quality_root_mean_squared_error: 0.6243 - wine_type_accuracy: 0.9946 - val_loss: 0.4136 - val_wine_quality_loss: 0.3806 - val_wine_type_loss: 0.0330 - val_wine_quality_root_mean_squared_error: 0.6170 - val_wine_type_accuracy: 0.9924\n",
      "Epoch 34/180\n",
      "99/99 [==============================] - 0s 952us/step - loss: 0.4096 - wine_quality_loss: 0.3791 - wine_type_loss: 0.0304 - wine_quality_root_mean_squared_error: 0.6157 - wine_type_accuracy: 0.9946 - val_loss: 0.4129 - val_wine_quality_loss: 0.3800 - val_wine_type_loss: 0.0330 - val_wine_quality_root_mean_squared_error: 0.6164 - val_wine_type_accuracy: 0.9937\n",
      "Epoch 35/180\n",
      "99/99 [==============================] - 0s 970us/step - loss: 0.4020 - wine_quality_loss: 0.3720 - wine_type_loss: 0.0300 - wine_quality_root_mean_squared_error: 0.6100 - wine_type_accuracy: 0.9946 - val_loss: 0.3989 - val_wine_quality_loss: 0.3660 - val_wine_type_loss: 0.0328 - val_wine_quality_root_mean_squared_error: 0.6050 - val_wine_type_accuracy: 0.9937\n",
      "Epoch 36/180\n",
      "99/99 [==============================] - 0s 967us/step - loss: 0.3952 - wine_quality_loss: 0.3655 - wine_type_loss: 0.0297 - wine_quality_root_mean_squared_error: 0.6045 - wine_type_accuracy: 0.9946 - val_loss: 0.3833 - val_wine_quality_loss: 0.3509 - val_wine_type_loss: 0.0324 - val_wine_quality_root_mean_squared_error: 0.5924 - val_wine_type_accuracy: 0.9924\n",
      "Epoch 37/180\n",
      "99/99 [==============================] - 0s 905us/step - loss: 0.3872 - wine_quality_loss: 0.3577 - wine_type_loss: 0.0294 - wine_quality_root_mean_squared_error: 0.5981 - wine_type_accuracy: 0.9946 - val_loss: 0.3847 - val_wine_quality_loss: 0.3526 - val_wine_type_loss: 0.0321 - val_wine_quality_root_mean_squared_error: 0.5938 - val_wine_type_accuracy: 0.9924\n",
      "Epoch 38/180\n",
      "99/99 [==============================] - 0s 909us/step - loss: 0.3813 - wine_quality_loss: 0.3522 - wine_type_loss: 0.0291 - wine_quality_root_mean_squared_error: 0.5935 - wine_type_accuracy: 0.9946 - val_loss: 0.3847 - val_wine_quality_loss: 0.3527 - val_wine_type_loss: 0.0320 - val_wine_quality_root_mean_squared_error: 0.5939 - val_wine_type_accuracy: 0.9924\n",
      "Epoch 39/180\n",
      "99/99 [==============================] - 0s 943us/step - loss: 0.3744 - wine_quality_loss: 0.3456 - wine_type_loss: 0.0288 - wine_quality_root_mean_squared_error: 0.5879 - wine_type_accuracy: 0.9946 - val_loss: 0.3703 - val_wine_quality_loss: 0.3384 - val_wine_type_loss: 0.0319 - val_wine_quality_root_mean_squared_error: 0.5817 - val_wine_type_accuracy: 0.9924\n",
      "Epoch 40/180\n",
      "99/99 [==============================] - 0s 965us/step - loss: 0.3727 - wine_quality_loss: 0.3441 - wine_type_loss: 0.0285 - wine_quality_root_mean_squared_error: 0.5866 - wine_type_accuracy: 0.9946 - val_loss: 0.3669 - val_wine_quality_loss: 0.3352 - val_wine_type_loss: 0.0318 - val_wine_quality_root_mean_squared_error: 0.5789 - val_wine_type_accuracy: 0.9924\n",
      "Epoch 41/180\n",
      "99/99 [==============================] - 0s 951us/step - loss: 0.3672 - wine_quality_loss: 0.3389 - wine_type_loss: 0.0283 - wine_quality_root_mean_squared_error: 0.5822 - wine_type_accuracy: 0.9946 - val_loss: 0.3618 - val_wine_quality_loss: 0.3301 - val_wine_type_loss: 0.0317 - val_wine_quality_root_mean_squared_error: 0.5746 - val_wine_type_accuracy: 0.9924\n",
      "Epoch 42/180\n",
      "99/99 [==============================] - 0s 914us/step - loss: 0.3638 - wine_quality_loss: 0.3358 - wine_type_loss: 0.0280 - wine_quality_root_mean_squared_error: 0.5795 - wine_type_accuracy: 0.9946 - val_loss: 0.3605 - val_wine_quality_loss: 0.3291 - val_wine_type_loss: 0.0314 - val_wine_quality_root_mean_squared_error: 0.5737 - val_wine_type_accuracy: 0.9924\n",
      "Epoch 43/180\n",
      "99/99 [==============================] - 0s 938us/step - loss: 0.3605 - wine_quality_loss: 0.3328 - wine_type_loss: 0.0277 - wine_quality_root_mean_squared_error: 0.5769 - wine_type_accuracy: 0.9952 - val_loss: 0.3626 - val_wine_quality_loss: 0.3311 - val_wine_type_loss: 0.0314 - val_wine_quality_root_mean_squared_error: 0.5754 - val_wine_type_accuracy: 0.9924\n",
      "Epoch 44/180\n",
      "99/99 [==============================] - 0s 944us/step - loss: 0.3559 - wine_quality_loss: 0.3284 - wine_type_loss: 0.0275 - wine_quality_root_mean_squared_error: 0.5731 - wine_type_accuracy: 0.9952 - val_loss: 0.3673 - val_wine_quality_loss: 0.3363 - val_wine_type_loss: 0.0310 - val_wine_quality_root_mean_squared_error: 0.5799 - val_wine_type_accuracy: 0.9924\n"
     ]
    },
    {
     "name": "stdout",
     "output_type": "stream",
     "text": [
      "Epoch 45/180\n",
      "99/99 [==============================] - 0s 956us/step - loss: 0.3554 - wine_quality_loss: 0.3282 - wine_type_loss: 0.0272 - wine_quality_root_mean_squared_error: 0.5729 - wine_type_accuracy: 0.9952 - val_loss: 0.3565 - val_wine_quality_loss: 0.3254 - val_wine_type_loss: 0.0311 - val_wine_quality_root_mean_squared_error: 0.5704 - val_wine_type_accuracy: 0.9924\n",
      "Epoch 46/180\n",
      "99/99 [==============================] - 0s 927us/step - loss: 0.3510 - wine_quality_loss: 0.3240 - wine_type_loss: 0.0270 - wine_quality_root_mean_squared_error: 0.5692 - wine_type_accuracy: 0.9949 - val_loss: 0.3599 - val_wine_quality_loss: 0.3289 - val_wine_type_loss: 0.0310 - val_wine_quality_root_mean_squared_error: 0.5735 - val_wine_type_accuracy: 0.9924\n",
      "Epoch 47/180\n",
      "99/99 [==============================] - 0s 912us/step - loss: 0.3498 - wine_quality_loss: 0.3230 - wine_type_loss: 0.0268 - wine_quality_root_mean_squared_error: 0.5683 - wine_type_accuracy: 0.9952 - val_loss: 0.3489 - val_wine_quality_loss: 0.3180 - val_wine_type_loss: 0.0308 - val_wine_quality_root_mean_squared_error: 0.5640 - val_wine_type_accuracy: 0.9924\n",
      "Epoch 48/180\n",
      "99/99 [==============================] - 0s 917us/step - loss: 0.3484 - wine_quality_loss: 0.3218 - wine_type_loss: 0.0266 - wine_quality_root_mean_squared_error: 0.5672 - wine_type_accuracy: 0.9952 - val_loss: 0.3483 - val_wine_quality_loss: 0.3176 - val_wine_type_loss: 0.0307 - val_wine_quality_root_mean_squared_error: 0.5635 - val_wine_type_accuracy: 0.9924\n",
      "Epoch 49/180\n",
      "99/99 [==============================] - 0s 923us/step - loss: 0.3451 - wine_quality_loss: 0.3187 - wine_type_loss: 0.0264 - wine_quality_root_mean_squared_error: 0.5646 - wine_type_accuracy: 0.9952 - val_loss: 0.3470 - val_wine_quality_loss: 0.3165 - val_wine_type_loss: 0.0305 - val_wine_quality_root_mean_squared_error: 0.5626 - val_wine_type_accuracy: 0.9937\n",
      "Epoch 50/180\n",
      "99/99 [==============================] - 0s 940us/step - loss: 0.3441 - wine_quality_loss: 0.3180 - wine_type_loss: 0.0261 - wine_quality_root_mean_squared_error: 0.5639 - wine_type_accuracy: 0.9952 - val_loss: 0.3495 - val_wine_quality_loss: 0.3189 - val_wine_type_loss: 0.0306 - val_wine_quality_root_mean_squared_error: 0.5647 - val_wine_type_accuracy: 0.9924\n",
      "Epoch 51/180\n",
      "99/99 [==============================] - 0s 960us/step - loss: 0.3419 - wine_quality_loss: 0.3159 - wine_type_loss: 0.0260 - wine_quality_root_mean_squared_error: 0.5620 - wine_type_accuracy: 0.9952 - val_loss: 0.3493 - val_wine_quality_loss: 0.3188 - val_wine_type_loss: 0.0305 - val_wine_quality_root_mean_squared_error: 0.5646 - val_wine_type_accuracy: 0.9924\n",
      "Epoch 52/180\n",
      "99/99 [==============================] - 0s 936us/step - loss: 0.3393 - wine_quality_loss: 0.3135 - wine_type_loss: 0.0258 - wine_quality_root_mean_squared_error: 0.5599 - wine_type_accuracy: 0.9952 - val_loss: 0.3498 - val_wine_quality_loss: 0.3194 - val_wine_type_loss: 0.0304 - val_wine_quality_root_mean_squared_error: 0.5652 - val_wine_type_accuracy: 0.9924\n",
      "Epoch 53/180\n",
      "99/99 [==============================] - 0s 914us/step - loss: 0.3391 - wine_quality_loss: 0.3135 - wine_type_loss: 0.0256 - wine_quality_root_mean_squared_error: 0.5599 - wine_type_accuracy: 0.9952 - val_loss: 0.3436 - val_wine_quality_loss: 0.3136 - val_wine_type_loss: 0.0301 - val_wine_quality_root_mean_squared_error: 0.5600 - val_wine_type_accuracy: 0.9937\n",
      "Epoch 54/180\n",
      "99/99 [==============================] - 0s 978us/step - loss: 0.3368 - wine_quality_loss: 0.3114 - wine_type_loss: 0.0254 - wine_quality_root_mean_squared_error: 0.5580 - wine_type_accuracy: 0.9952 - val_loss: 0.3475 - val_wine_quality_loss: 0.3175 - val_wine_type_loss: 0.0301 - val_wine_quality_root_mean_squared_error: 0.5634 - val_wine_type_accuracy: 0.9937\n",
      "Epoch 55/180\n",
      "99/99 [==============================] - 0s 947us/step - loss: 0.3348 - wine_quality_loss: 0.3096 - wine_type_loss: 0.0253 - wine_quality_root_mean_squared_error: 0.5564 - wine_type_accuracy: 0.9952 - val_loss: 0.3560 - val_wine_quality_loss: 0.3260 - val_wine_type_loss: 0.0301 - val_wine_quality_root_mean_squared_error: 0.5710 - val_wine_type_accuracy: 0.9937\n",
      "Epoch 56/180\n",
      "99/99 [==============================] - 0s 943us/step - loss: 0.3344 - wine_quality_loss: 0.3093 - wine_type_loss: 0.0251 - wine_quality_root_mean_squared_error: 0.5562 - wine_type_accuracy: 0.9952 - val_loss: 0.3496 - val_wine_quality_loss: 0.3196 - val_wine_type_loss: 0.0300 - val_wine_quality_root_mean_squared_error: 0.5653 - val_wine_type_accuracy: 0.9924\n",
      "Epoch 57/180\n",
      "99/99 [==============================] - 0s 995us/step - loss: 0.3325 - wine_quality_loss: 0.3077 - wine_type_loss: 0.0249 - wine_quality_root_mean_squared_error: 0.5547 - wine_type_accuracy: 0.9952 - val_loss: 0.3415 - val_wine_quality_loss: 0.3115 - val_wine_type_loss: 0.0299 - val_wine_quality_root_mean_squared_error: 0.5582 - val_wine_type_accuracy: 0.9924\n",
      "Epoch 58/180\n",
      "99/99 [==============================] - 0s 938us/step - loss: 0.3317 - wine_quality_loss: 0.3070 - wine_type_loss: 0.0247 - wine_quality_root_mean_squared_error: 0.5541 - wine_type_accuracy: 0.9952 - val_loss: 0.3412 - val_wine_quality_loss: 0.3113 - val_wine_type_loss: 0.0299 - val_wine_quality_root_mean_squared_error: 0.5580 - val_wine_type_accuracy: 0.9924\n",
      "Epoch 59/180\n",
      "99/99 [==============================] - 0s 945us/step - loss: 0.3299 - wine_quality_loss: 0.3054 - wine_type_loss: 0.0245 - wine_quality_root_mean_squared_error: 0.5526 - wine_type_accuracy: 0.9952 - val_loss: 0.3438 - val_wine_quality_loss: 0.3141 - val_wine_type_loss: 0.0297 - val_wine_quality_root_mean_squared_error: 0.5604 - val_wine_type_accuracy: 0.9937\n",
      "Epoch 60/180\n",
      "99/99 [==============================] - 0s 934us/step - loss: 0.3289 - wine_quality_loss: 0.3046 - wine_type_loss: 0.0243 - wine_quality_root_mean_squared_error: 0.5519 - wine_type_accuracy: 0.9952 - val_loss: 0.3487 - val_wine_quality_loss: 0.3189 - val_wine_type_loss: 0.0298 - val_wine_quality_root_mean_squared_error: 0.5648 - val_wine_type_accuracy: 0.9937\n",
      "Epoch 61/180\n",
      "99/99 [==============================] - 0s 951us/step - loss: 0.3290 - wine_quality_loss: 0.3048 - wine_type_loss: 0.0242 - wine_quality_root_mean_squared_error: 0.5521 - wine_type_accuracy: 0.9952 - val_loss: 0.3412 - val_wine_quality_loss: 0.3115 - val_wine_type_loss: 0.0297 - val_wine_quality_root_mean_squared_error: 0.5581 - val_wine_type_accuracy: 0.9949\n",
      "Epoch 62/180\n",
      "99/99 [==============================] - 0s 974us/step - loss: 0.3254 - wine_quality_loss: 0.3014 - wine_type_loss: 0.0240 - wine_quality_root_mean_squared_error: 0.5490 - wine_type_accuracy: 0.9952 - val_loss: 0.3393 - val_wine_quality_loss: 0.3099 - val_wine_type_loss: 0.0294 - val_wine_quality_root_mean_squared_error: 0.5567 - val_wine_type_accuracy: 0.9937\n",
      "Epoch 63/180\n",
      "99/99 [==============================] - 0s 945us/step - loss: 0.3259 - wine_quality_loss: 0.3020 - wine_type_loss: 0.0239 - wine_quality_root_mean_squared_error: 0.5495 - wine_type_accuracy: 0.9952 - val_loss: 0.3411 - val_wine_quality_loss: 0.3116 - val_wine_type_loss: 0.0295 - val_wine_quality_root_mean_squared_error: 0.5582 - val_wine_type_accuracy: 0.9949\n",
      "Epoch 64/180\n",
      "99/99 [==============================] - 0s 903us/step - loss: 0.3234 - wine_quality_loss: 0.2998 - wine_type_loss: 0.0236 - wine_quality_root_mean_squared_error: 0.5475 - wine_type_accuracy: 0.9952 - val_loss: 0.3403 - val_wine_quality_loss: 0.3107 - val_wine_type_loss: 0.0296 - val_wine_quality_root_mean_squared_error: 0.5574 - val_wine_type_accuracy: 0.9937\n",
      "Epoch 65/180\n",
      "99/99 [==============================] - 0s 994us/step - loss: 0.3237 - wine_quality_loss: 0.3001 - wine_type_loss: 0.0236 - wine_quality_root_mean_squared_error: 0.5478 - wine_type_accuracy: 0.9952 - val_loss: 0.3435 - val_wine_quality_loss: 0.3142 - val_wine_type_loss: 0.0293 - val_wine_quality_root_mean_squared_error: 0.5606 - val_wine_type_accuracy: 0.9949\n",
      "Epoch 66/180\n",
      "99/99 [==============================] - 0s 998us/step - loss: 0.3230 - wine_quality_loss: 0.2996 - wine_type_loss: 0.0234 - wine_quality_root_mean_squared_error: 0.5474 - wine_type_accuracy: 0.9952 - val_loss: 0.3443 - val_wine_quality_loss: 0.3151 - val_wine_type_loss: 0.0292 - val_wine_quality_root_mean_squared_error: 0.5613 - val_wine_type_accuracy: 0.9949\n"
     ]
    },
    {
     "name": "stdout",
     "output_type": "stream",
     "text": [
      "Epoch 67/180\n",
      "99/99 [==============================] - 0s 1ms/step - loss: 0.3221 - wine_quality_loss: 0.2988 - wine_type_loss: 0.0233 - wine_quality_root_mean_squared_error: 0.5466 - wine_type_accuracy: 0.9952 - val_loss: 0.3387 - val_wine_quality_loss: 0.3095 - val_wine_type_loss: 0.0292 - val_wine_quality_root_mean_squared_error: 0.5563 - val_wine_type_accuracy: 0.9949\n",
      "Epoch 68/180\n",
      "99/99 [==============================] - 0s 899us/step - loss: 0.3206 - wine_quality_loss: 0.2974 - wine_type_loss: 0.0232 - wine_quality_root_mean_squared_error: 0.5454 - wine_type_accuracy: 0.9952 - val_loss: 0.3481 - val_wine_quality_loss: 0.3189 - val_wine_type_loss: 0.0291 - val_wine_quality_root_mean_squared_error: 0.5647 - val_wine_type_accuracy: 0.9949\n",
      "Epoch 69/180\n",
      "99/99 [==============================] - 0s 909us/step - loss: 0.3194 - wine_quality_loss: 0.2964 - wine_type_loss: 0.0230 - wine_quality_root_mean_squared_error: 0.5445 - wine_type_accuracy: 0.9952 - val_loss: 0.3444 - val_wine_quality_loss: 0.3154 - val_wine_type_loss: 0.0291 - val_wine_quality_root_mean_squared_error: 0.5616 - val_wine_type_accuracy: 0.9949\n",
      "Epoch 70/180\n",
      "99/99 [==============================] - 0s 907us/step - loss: 0.3201 - wine_quality_loss: 0.2973 - wine_type_loss: 0.0229 - wine_quality_root_mean_squared_error: 0.5452 - wine_type_accuracy: 0.9956 - val_loss: 0.3382 - val_wine_quality_loss: 0.3092 - val_wine_type_loss: 0.0290 - val_wine_quality_root_mean_squared_error: 0.5561 - val_wine_type_accuracy: 0.9949\n",
      "Epoch 71/180\n",
      "99/99 [==============================] - 0s 945us/step - loss: 0.3194 - wine_quality_loss: 0.2967 - wine_type_loss: 0.0227 - wine_quality_root_mean_squared_error: 0.5447 - wine_type_accuracy: 0.9956 - val_loss: 0.3375 - val_wine_quality_loss: 0.3084 - val_wine_type_loss: 0.0291 - val_wine_quality_root_mean_squared_error: 0.5554 - val_wine_type_accuracy: 0.9949\n",
      "Epoch 72/180\n",
      "99/99 [==============================] - 0s 948us/step - loss: 0.3187 - wine_quality_loss: 0.2960 - wine_type_loss: 0.0227 - wine_quality_root_mean_squared_error: 0.5440 - wine_type_accuracy: 0.9952 - val_loss: 0.3379 - val_wine_quality_loss: 0.3090 - val_wine_type_loss: 0.0289 - val_wine_quality_root_mean_squared_error: 0.5559 - val_wine_type_accuracy: 0.9949\n",
      "Epoch 73/180\n",
      "99/99 [==============================] - 0s 939us/step - loss: 0.3181 - wine_quality_loss: 0.2956 - wine_type_loss: 0.0225 - wine_quality_root_mean_squared_error: 0.5437 - wine_type_accuracy: 0.9956 - val_loss: 0.3395 - val_wine_quality_loss: 0.3107 - val_wine_type_loss: 0.0288 - val_wine_quality_root_mean_squared_error: 0.5574 - val_wine_type_accuracy: 0.9949\n",
      "Epoch 74/180\n",
      "99/99 [==============================] - 0s 949us/step - loss: 0.3170 - wine_quality_loss: 0.2946 - wine_type_loss: 0.0224 - wine_quality_root_mean_squared_error: 0.5428 - wine_type_accuracy: 0.9952 - val_loss: 0.3435 - val_wine_quality_loss: 0.3148 - val_wine_type_loss: 0.0287 - val_wine_quality_root_mean_squared_error: 0.5611 - val_wine_type_accuracy: 0.9949\n",
      "Epoch 75/180\n",
      "99/99 [==============================] - 0s 941us/step - loss: 0.3168 - wine_quality_loss: 0.2946 - wine_type_loss: 0.0222 - wine_quality_root_mean_squared_error: 0.5428 - wine_type_accuracy: 0.9956 - val_loss: 0.3411 - val_wine_quality_loss: 0.3124 - val_wine_type_loss: 0.0288 - val_wine_quality_root_mean_squared_error: 0.5589 - val_wine_type_accuracy: 0.9949\n",
      "Epoch 76/180\n",
      "99/99 [==============================] - 0s 964us/step - loss: 0.3163 - wine_quality_loss: 0.2942 - wine_type_loss: 0.0221 - wine_quality_root_mean_squared_error: 0.5424 - wine_type_accuracy: 0.9952 - val_loss: 0.3358 - val_wine_quality_loss: 0.3073 - val_wine_type_loss: 0.0285 - val_wine_quality_root_mean_squared_error: 0.5543 - val_wine_type_accuracy: 0.9949\n",
      "Epoch 77/180\n",
      "99/99 [==============================] - 0s 943us/step - loss: 0.3135 - wine_quality_loss: 0.2915 - wine_type_loss: 0.0220 - wine_quality_root_mean_squared_error: 0.5399 - wine_type_accuracy: 0.9956 - val_loss: 0.3408 - val_wine_quality_loss: 0.3123 - val_wine_type_loss: 0.0285 - val_wine_quality_root_mean_squared_error: 0.5589 - val_wine_type_accuracy: 0.9949\n",
      "Epoch 78/180\n",
      "99/99 [==============================] - 0s 961us/step - loss: 0.3136 - wine_quality_loss: 0.2917 - wine_type_loss: 0.0218 - wine_quality_root_mean_squared_error: 0.5401 - wine_type_accuracy: 0.9956 - val_loss: 0.3366 - val_wine_quality_loss: 0.3082 - val_wine_type_loss: 0.0284 - val_wine_quality_root_mean_squared_error: 0.5552 - val_wine_type_accuracy: 0.9949\n",
      "Epoch 79/180\n",
      "99/99 [==============================] - 0s 937us/step - loss: 0.3128 - wine_quality_loss: 0.2911 - wine_type_loss: 0.0217 - wine_quality_root_mean_squared_error: 0.5396 - wine_type_accuracy: 0.9959 - val_loss: 0.3430 - val_wine_quality_loss: 0.3145 - val_wine_type_loss: 0.0285 - val_wine_quality_root_mean_squared_error: 0.5608 - val_wine_type_accuracy: 0.9949\n",
      "Epoch 80/180\n",
      "99/99 [==============================] - 0s 925us/step - loss: 0.3129 - wine_quality_loss: 0.2912 - wine_type_loss: 0.0217 - wine_quality_root_mean_squared_error: 0.5397 - wine_type_accuracy: 0.9956 - val_loss: 0.3352 - val_wine_quality_loss: 0.3067 - val_wine_type_loss: 0.0285 - val_wine_quality_root_mean_squared_error: 0.5538 - val_wine_type_accuracy: 0.9949\n",
      "Epoch 81/180\n",
      "99/99 [==============================] - 0s 902us/step - loss: 0.3111 - wine_quality_loss: 0.2896 - wine_type_loss: 0.0215 - wine_quality_root_mean_squared_error: 0.5381 - wine_type_accuracy: 0.9956 - val_loss: 0.3400 - val_wine_quality_loss: 0.3116 - val_wine_type_loss: 0.0284 - val_wine_quality_root_mean_squared_error: 0.5582 - val_wine_type_accuracy: 0.9949\n",
      "Epoch 82/180\n",
      "99/99 [==============================] - 0s 913us/step - loss: 0.3111 - wine_quality_loss: 0.2897 - wine_type_loss: 0.0214 - wine_quality_root_mean_squared_error: 0.5383 - wine_type_accuracy: 0.9959 - val_loss: 0.3402 - val_wine_quality_loss: 0.3118 - val_wine_type_loss: 0.0284 - val_wine_quality_root_mean_squared_error: 0.5584 - val_wine_type_accuracy: 0.9949\n",
      "Epoch 83/180\n",
      "99/99 [==============================] - 0s 941us/step - loss: 0.3107 - wine_quality_loss: 0.2894 - wine_type_loss: 0.0213 - wine_quality_root_mean_squared_error: 0.5380 - wine_type_accuracy: 0.9959 - val_loss: 0.3438 - val_wine_quality_loss: 0.3155 - val_wine_type_loss: 0.0284 - val_wine_quality_root_mean_squared_error: 0.5617 - val_wine_type_accuracy: 0.9949\n",
      "Epoch 84/180\n",
      "99/99 [==============================] - 0s 916us/step - loss: 0.3105 - wine_quality_loss: 0.2894 - wine_type_loss: 0.0211 - wine_quality_root_mean_squared_error: 0.5379 - wine_type_accuracy: 0.9962 - val_loss: 0.3321 - val_wine_quality_loss: 0.3036 - val_wine_type_loss: 0.0284 - val_wine_quality_root_mean_squared_error: 0.5510 - val_wine_type_accuracy: 0.9949\n",
      "Epoch 85/180\n",
      "99/99 [==============================] - 0s 972us/step - loss: 0.3089 - wine_quality_loss: 0.2877 - wine_type_loss: 0.0211 - wine_quality_root_mean_squared_error: 0.5364 - wine_type_accuracy: 0.9962 - val_loss: 0.3428 - val_wine_quality_loss: 0.3146 - val_wine_type_loss: 0.0282 - val_wine_quality_root_mean_squared_error: 0.5609 - val_wine_type_accuracy: 0.9949\n",
      "Epoch 86/180\n",
      "99/99 [==============================] - 0s 945us/step - loss: 0.3090 - wine_quality_loss: 0.2880 - wine_type_loss: 0.0209 - wine_quality_root_mean_squared_error: 0.5367 - wine_type_accuracy: 0.9959 - val_loss: 0.3343 - val_wine_quality_loss: 0.3062 - val_wine_type_loss: 0.0282 - val_wine_quality_root_mean_squared_error: 0.5533 - val_wine_type_accuracy: 0.9949\n",
      "Epoch 87/180\n",
      "99/99 [==============================] - 0s 991us/step - loss: 0.3092 - wine_quality_loss: 0.2883 - wine_type_loss: 0.0208 - wine_quality_root_mean_squared_error: 0.5370 - wine_type_accuracy: 0.9962 - val_loss: 0.3387 - val_wine_quality_loss: 0.3105 - val_wine_type_loss: 0.0282 - val_wine_quality_root_mean_squared_error: 0.5572 - val_wine_type_accuracy: 0.9949\n",
      "Epoch 88/180\n",
      "99/99 [==============================] - 0s 952us/step - loss: 0.3083 - wine_quality_loss: 0.2876 - wine_type_loss: 0.0208 - wine_quality_root_mean_squared_error: 0.5362 - wine_type_accuracy: 0.9962 - val_loss: 0.3365 - val_wine_quality_loss: 0.3083 - val_wine_type_loss: 0.0282 - val_wine_quality_root_mean_squared_error: 0.5552 - val_wine_type_accuracy: 0.9949\n"
     ]
    },
    {
     "name": "stdout",
     "output_type": "stream",
     "text": [
      "Epoch 89/180\n",
      "99/99 [==============================] - 0s 946us/step - loss: 0.3070 - wine_quality_loss: 0.2863 - wine_type_loss: 0.0206 - wine_quality_root_mean_squared_error: 0.5351 - wine_type_accuracy: 0.9962 - val_loss: 0.3440 - val_wine_quality_loss: 0.3160 - val_wine_type_loss: 0.0281 - val_wine_quality_root_mean_squared_error: 0.5621 - val_wine_type_accuracy: 0.9949\n",
      "Epoch 90/180\n",
      "99/99 [==============================] - 0s 997us/step - loss: 0.3072 - wine_quality_loss: 0.2868 - wine_type_loss: 0.0204 - wine_quality_root_mean_squared_error: 0.5355 - wine_type_accuracy: 0.9962 - val_loss: 0.3361 - val_wine_quality_loss: 0.3080 - val_wine_type_loss: 0.0281 - val_wine_quality_root_mean_squared_error: 0.5550 - val_wine_type_accuracy: 0.9949\n",
      "Epoch 91/180\n",
      "99/99 [==============================] - 0s 926us/step - loss: 0.3059 - wine_quality_loss: 0.2854 - wine_type_loss: 0.0204 - wine_quality_root_mean_squared_error: 0.5342 - wine_type_accuracy: 0.9962 - val_loss: 0.3401 - val_wine_quality_loss: 0.3120 - val_wine_type_loss: 0.0281 - val_wine_quality_root_mean_squared_error: 0.5585 - val_wine_type_accuracy: 0.9949\n",
      "Epoch 92/180\n",
      "99/99 [==============================] - 0s 949us/step - loss: 0.3053 - wine_quality_loss: 0.2851 - wine_type_loss: 0.0203 - wine_quality_root_mean_squared_error: 0.5339 - wine_type_accuracy: 0.9962 - val_loss: 0.3379 - val_wine_quality_loss: 0.3097 - val_wine_type_loss: 0.0281 - val_wine_quality_root_mean_squared_error: 0.5565 - val_wine_type_accuracy: 0.9949\n",
      "Epoch 93/180\n",
      "99/99 [==============================] - 0s 957us/step - loss: 0.3054 - wine_quality_loss: 0.2852 - wine_type_loss: 0.0202 - wine_quality_root_mean_squared_error: 0.5340 - wine_type_accuracy: 0.9962 - val_loss: 0.3394 - val_wine_quality_loss: 0.3112 - val_wine_type_loss: 0.0282 - val_wine_quality_root_mean_squared_error: 0.5579 - val_wine_type_accuracy: 0.9949\n",
      "Epoch 94/180\n",
      "99/99 [==============================] - 0s 934us/step - loss: 0.3044 - wine_quality_loss: 0.2844 - wine_type_loss: 0.0201 - wine_quality_root_mean_squared_error: 0.5332 - wine_type_accuracy: 0.9962 - val_loss: 0.3325 - val_wine_quality_loss: 0.3044 - val_wine_type_loss: 0.0281 - val_wine_quality_root_mean_squared_error: 0.5517 - val_wine_type_accuracy: 0.9949\n",
      "Epoch 95/180\n",
      "99/99 [==============================] - 0s 932us/step - loss: 0.3037 - wine_quality_loss: 0.2838 - wine_type_loss: 0.0200 - wine_quality_root_mean_squared_error: 0.5327 - wine_type_accuracy: 0.9962 - val_loss: 0.3339 - val_wine_quality_loss: 0.3059 - val_wine_type_loss: 0.0280 - val_wine_quality_root_mean_squared_error: 0.5531 - val_wine_type_accuracy: 0.9949\n",
      "Epoch 96/180\n",
      "99/99 [==============================] - 0s 927us/step - loss: 0.3038 - wine_quality_loss: 0.2840 - wine_type_loss: 0.0198 - wine_quality_root_mean_squared_error: 0.5329 - wine_type_accuracy: 0.9959 - val_loss: 0.3364 - val_wine_quality_loss: 0.3085 - val_wine_type_loss: 0.0279 - val_wine_quality_root_mean_squared_error: 0.5554 - val_wine_type_accuracy: 0.9949\n",
      "Epoch 97/180\n",
      "99/99 [==============================] - 0s 919us/step - loss: 0.3035 - wine_quality_loss: 0.2837 - wine_type_loss: 0.0198 - wine_quality_root_mean_squared_error: 0.5327 - wine_type_accuracy: 0.9962 - val_loss: 0.3364 - val_wine_quality_loss: 0.3084 - val_wine_type_loss: 0.0279 - val_wine_quality_root_mean_squared_error: 0.5554 - val_wine_type_accuracy: 0.9949\n",
      "Epoch 98/180\n",
      "99/99 [==============================] - 0s 923us/step - loss: 0.3029 - wine_quality_loss: 0.2832 - wine_type_loss: 0.0197 - wine_quality_root_mean_squared_error: 0.5322 - wine_type_accuracy: 0.9962 - val_loss: 0.3369 - val_wine_quality_loss: 0.3090 - val_wine_type_loss: 0.0279 - val_wine_quality_root_mean_squared_error: 0.5559 - val_wine_type_accuracy: 0.9949\n",
      "Epoch 99/180\n",
      "99/99 [==============================] - 0s 911us/step - loss: 0.3015 - wine_quality_loss: 0.2819 - wine_type_loss: 0.0195 - wine_quality_root_mean_squared_error: 0.5310 - wine_type_accuracy: 0.9962 - val_loss: 0.3568 - val_wine_quality_loss: 0.3288 - val_wine_type_loss: 0.0280 - val_wine_quality_root_mean_squared_error: 0.5734 - val_wine_type_accuracy: 0.9949\n",
      "Epoch 100/180\n",
      "99/99 [==============================] - 0s 931us/step - loss: 0.3017 - wine_quality_loss: 0.2823 - wine_type_loss: 0.0194 - wine_quality_root_mean_squared_error: 0.5313 - wine_type_accuracy: 0.9962 - val_loss: 0.3380 - val_wine_quality_loss: 0.3102 - val_wine_type_loss: 0.0278 - val_wine_quality_root_mean_squared_error: 0.5569 - val_wine_type_accuracy: 0.9949\n",
      "Epoch 101/180\n",
      "99/99 [==============================] - 0s 946us/step - loss: 0.3008 - wine_quality_loss: 0.2814 - wine_type_loss: 0.0193 - wine_quality_root_mean_squared_error: 0.5305 - wine_type_accuracy: 0.9962 - val_loss: 0.3364 - val_wine_quality_loss: 0.3085 - val_wine_type_loss: 0.0279 - val_wine_quality_root_mean_squared_error: 0.5554 - val_wine_type_accuracy: 0.9949\n",
      "Epoch 102/180\n",
      "99/99 [==============================] - 0s 917us/step - loss: 0.3003 - wine_quality_loss: 0.2810 - wine_type_loss: 0.0193 - wine_quality_root_mean_squared_error: 0.5301 - wine_type_accuracy: 0.9962 - val_loss: 0.3306 - val_wine_quality_loss: 0.3026 - val_wine_type_loss: 0.0279 - val_wine_quality_root_mean_squared_error: 0.5501 - val_wine_type_accuracy: 0.9949\n",
      "Epoch 103/180\n",
      "99/99 [==============================] - 0s 922us/step - loss: 0.2996 - wine_quality_loss: 0.2804 - wine_type_loss: 0.0192 - wine_quality_root_mean_squared_error: 0.5295 - wine_type_accuracy: 0.9962 - val_loss: 0.3417 - val_wine_quality_loss: 0.3138 - val_wine_type_loss: 0.0279 - val_wine_quality_root_mean_squared_error: 0.5602 - val_wine_type_accuracy: 0.9949\n",
      "Epoch 104/180\n",
      "99/99 [==============================] - 0s 925us/step - loss: 0.2985 - wine_quality_loss: 0.2794 - wine_type_loss: 0.0191 - wine_quality_root_mean_squared_error: 0.5286 - wine_type_accuracy: 0.9962 - val_loss: 0.3364 - val_wine_quality_loss: 0.3086 - val_wine_type_loss: 0.0278 - val_wine_quality_root_mean_squared_error: 0.5555 - val_wine_type_accuracy: 0.9949\n",
      "Epoch 105/180\n",
      "99/99 [==============================] - 0s 928us/step - loss: 0.2976 - wine_quality_loss: 0.2786 - wine_type_loss: 0.0190 - wine_quality_root_mean_squared_error: 0.5278 - wine_type_accuracy: 0.9962 - val_loss: 0.3362 - val_wine_quality_loss: 0.3084 - val_wine_type_loss: 0.0278 - val_wine_quality_root_mean_squared_error: 0.5554 - val_wine_type_accuracy: 0.9949\n",
      "Epoch 106/180\n",
      "99/99 [==============================] - 0s 901us/step - loss: 0.2981 - wine_quality_loss: 0.2792 - wine_type_loss: 0.0189 - wine_quality_root_mean_squared_error: 0.5284 - wine_type_accuracy: 0.9962 - val_loss: 0.3399 - val_wine_quality_loss: 0.3122 - val_wine_type_loss: 0.0277 - val_wine_quality_root_mean_squared_error: 0.5588 - val_wine_type_accuracy: 0.9949\n",
      "Epoch 107/180\n",
      "99/99 [==============================] - 0s 912us/step - loss: 0.2980 - wine_quality_loss: 0.2792 - wine_type_loss: 0.0188 - wine_quality_root_mean_squared_error: 0.5283 - wine_type_accuracy: 0.9962 - val_loss: 0.3363 - val_wine_quality_loss: 0.3086 - val_wine_type_loss: 0.0277 - val_wine_quality_root_mean_squared_error: 0.5555 - val_wine_type_accuracy: 0.9949\n",
      "Epoch 108/180\n",
      "99/99 [==============================] - 0s 920us/step - loss: 0.2966 - wine_quality_loss: 0.2779 - wine_type_loss: 0.0187 - wine_quality_root_mean_squared_error: 0.5272 - wine_type_accuracy: 0.9962 - val_loss: 0.3332 - val_wine_quality_loss: 0.3055 - val_wine_type_loss: 0.0277 - val_wine_quality_root_mean_squared_error: 0.5528 - val_wine_type_accuracy: 0.9949\n",
      "Epoch 109/180\n",
      "99/99 [==============================] - 0s 917us/step - loss: 0.2976 - wine_quality_loss: 0.2789 - wine_type_loss: 0.0186 - wine_quality_root_mean_squared_error: 0.5281 - wine_type_accuracy: 0.9965 - val_loss: 0.3322 - val_wine_quality_loss: 0.3045 - val_wine_type_loss: 0.0277 - val_wine_quality_root_mean_squared_error: 0.5519 - val_wine_type_accuracy: 0.9949\n",
      "Epoch 110/180\n",
      "99/99 [==============================] - 0s 951us/step - loss: 0.2961 - wine_quality_loss: 0.2777 - wine_type_loss: 0.0185 - wine_quality_root_mean_squared_error: 0.5269 - wine_type_accuracy: 0.9962 - val_loss: 0.3507 - val_wine_quality_loss: 0.3230 - val_wine_type_loss: 0.0277 - val_wine_quality_root_mean_squared_error: 0.5683 - val_wine_type_accuracy: 0.9949\n"
     ]
    },
    {
     "name": "stdout",
     "output_type": "stream",
     "text": [
      "Epoch 111/180\n",
      "99/99 [==============================] - 0s 927us/step - loss: 0.2966 - wine_quality_loss: 0.2782 - wine_type_loss: 0.0184 - wine_quality_root_mean_squared_error: 0.5274 - wine_type_accuracy: 0.9965 - val_loss: 0.3387 - val_wine_quality_loss: 0.3110 - val_wine_type_loss: 0.0277 - val_wine_quality_root_mean_squared_error: 0.5577 - val_wine_type_accuracy: 0.9949\n",
      "Epoch 112/180\n",
      "99/99 [==============================] - 0s 928us/step - loss: 0.2954 - wine_quality_loss: 0.2771 - wine_type_loss: 0.0183 - wine_quality_root_mean_squared_error: 0.5264 - wine_type_accuracy: 0.9965 - val_loss: 0.3383 - val_wine_quality_loss: 0.3106 - val_wine_type_loss: 0.0277 - val_wine_quality_root_mean_squared_error: 0.5573 - val_wine_type_accuracy: 0.9949\n",
      "Epoch 113/180\n",
      "99/99 [==============================] - 0s 927us/step - loss: 0.2955 - wine_quality_loss: 0.2773 - wine_type_loss: 0.0183 - wine_quality_root_mean_squared_error: 0.5266 - wine_type_accuracy: 0.9962 - val_loss: 0.3310 - val_wine_quality_loss: 0.3033 - val_wine_type_loss: 0.0277 - val_wine_quality_root_mean_squared_error: 0.5507 - val_wine_type_accuracy: 0.9949\n",
      "Epoch 114/180\n",
      "99/99 [==============================] - 0s 927us/step - loss: 0.2945 - wine_quality_loss: 0.2764 - wine_type_loss: 0.0181 - wine_quality_root_mean_squared_error: 0.5257 - wine_type_accuracy: 0.9965 - val_loss: 0.3335 - val_wine_quality_loss: 0.3058 - val_wine_type_loss: 0.0277 - val_wine_quality_root_mean_squared_error: 0.5530 - val_wine_type_accuracy: 0.9949\n",
      "Epoch 115/180\n",
      "99/99 [==============================] - 0s 927us/step - loss: 0.2941 - wine_quality_loss: 0.2760 - wine_type_loss: 0.0181 - wine_quality_root_mean_squared_error: 0.5254 - wine_type_accuracy: 0.9965 - val_loss: 0.3315 - val_wine_quality_loss: 0.3037 - val_wine_type_loss: 0.0278 - val_wine_quality_root_mean_squared_error: 0.5511 - val_wine_type_accuracy: 0.9949\n",
      "Epoch 116/180\n",
      "99/99 [==============================] - 0s 920us/step - loss: 0.2942 - wine_quality_loss: 0.2762 - wine_type_loss: 0.0180 - wine_quality_root_mean_squared_error: 0.5255 - wine_type_accuracy: 0.9962 - val_loss: 0.3402 - val_wine_quality_loss: 0.3124 - val_wine_type_loss: 0.0278 - val_wine_quality_root_mean_squared_error: 0.5589 - val_wine_type_accuracy: 0.9949\n",
      "Epoch 117/180\n",
      "99/99 [==============================] - 0s 932us/step - loss: 0.2932 - wine_quality_loss: 0.2753 - wine_type_loss: 0.0179 - wine_quality_root_mean_squared_error: 0.5247 - wine_type_accuracy: 0.9965 - val_loss: 0.3388 - val_wine_quality_loss: 0.3111 - val_wine_type_loss: 0.0277 - val_wine_quality_root_mean_squared_error: 0.5578 - val_wine_type_accuracy: 0.9949\n",
      "Epoch 118/180\n",
      "99/99 [==============================] - 0s 913us/step - loss: 0.2938 - wine_quality_loss: 0.2760 - wine_type_loss: 0.0178 - wine_quality_root_mean_squared_error: 0.5254 - wine_type_accuracy: 0.9965 - val_loss: 0.3336 - val_wine_quality_loss: 0.3060 - val_wine_type_loss: 0.0276 - val_wine_quality_root_mean_squared_error: 0.5531 - val_wine_type_accuracy: 0.9949\n",
      "Epoch 119/180\n",
      "99/99 [==============================] - 0s 934us/step - loss: 0.2919 - wine_quality_loss: 0.2742 - wine_type_loss: 0.0177 - wine_quality_root_mean_squared_error: 0.5236 - wine_type_accuracy: 0.9965 - val_loss: 0.3321 - val_wine_quality_loss: 0.3045 - val_wine_type_loss: 0.0276 - val_wine_quality_root_mean_squared_error: 0.5518 - val_wine_type_accuracy: 0.9949\n",
      "Epoch 120/180\n",
      "99/99 [==============================] - 0s 912us/step - loss: 0.2921 - wine_quality_loss: 0.2745 - wine_type_loss: 0.0177 - wine_quality_root_mean_squared_error: 0.5239 - wine_type_accuracy: 0.9965 - val_loss: 0.3293 - val_wine_quality_loss: 0.3018 - val_wine_type_loss: 0.0276 - val_wine_quality_root_mean_squared_error: 0.5493 - val_wine_type_accuracy: 0.9949\n",
      "Epoch 121/180\n",
      "99/99 [==============================] - 0s 927us/step - loss: 0.2908 - wine_quality_loss: 0.2732 - wine_type_loss: 0.0175 - wine_quality_root_mean_squared_error: 0.5227 - wine_type_accuracy: 0.9965 - val_loss: 0.3368 - val_wine_quality_loss: 0.3091 - val_wine_type_loss: 0.0277 - val_wine_quality_root_mean_squared_error: 0.5559 - val_wine_type_accuracy: 0.9949\n",
      "Epoch 122/180\n",
      "99/99 [==============================] - 0s 971us/step - loss: 0.2914 - wine_quality_loss: 0.2740 - wine_type_loss: 0.0174 - wine_quality_root_mean_squared_error: 0.5234 - wine_type_accuracy: 0.9965 - val_loss: 0.3321 - val_wine_quality_loss: 0.3043 - val_wine_type_loss: 0.0277 - val_wine_quality_root_mean_squared_error: 0.5517 - val_wine_type_accuracy: 0.9949\n",
      "Epoch 123/180\n",
      "99/99 [==============================] - 0s 964us/step - loss: 0.2901 - wine_quality_loss: 0.2727 - wine_type_loss: 0.0174 - wine_quality_root_mean_squared_error: 0.5222 - wine_type_accuracy: 0.9965 - val_loss: 0.3309 - val_wine_quality_loss: 0.3032 - val_wine_type_loss: 0.0277 - val_wine_quality_root_mean_squared_error: 0.5506 - val_wine_type_accuracy: 0.9949\n",
      "Epoch 124/180\n",
      "99/99 [==============================] - 0s 903us/step - loss: 0.2893 - wine_quality_loss: 0.2720 - wine_type_loss: 0.0173 - wine_quality_root_mean_squared_error: 0.5216 - wine_type_accuracy: 0.9965 - val_loss: 0.3340 - val_wine_quality_loss: 0.3062 - val_wine_type_loss: 0.0278 - val_wine_quality_root_mean_squared_error: 0.5534 - val_wine_type_accuracy: 0.9949\n",
      "Epoch 125/180\n",
      "99/99 [==============================] - 0s 916us/step - loss: 0.2902 - wine_quality_loss: 0.2731 - wine_type_loss: 0.0172 - wine_quality_root_mean_squared_error: 0.5225 - wine_type_accuracy: 0.9965 - val_loss: 0.3319 - val_wine_quality_loss: 0.3042 - val_wine_type_loss: 0.0277 - val_wine_quality_root_mean_squared_error: 0.5516 - val_wine_type_accuracy: 0.9949\n",
      "Epoch 126/180\n",
      "99/99 [==============================] - 0s 977us/step - loss: 0.2894 - wine_quality_loss: 0.2723 - wine_type_loss: 0.0171 - wine_quality_root_mean_squared_error: 0.5218 - wine_type_accuracy: 0.9965 - val_loss: 0.3310 - val_wine_quality_loss: 0.3033 - val_wine_type_loss: 0.0277 - val_wine_quality_root_mean_squared_error: 0.5507 - val_wine_type_accuracy: 0.9949\n",
      "Epoch 127/180\n",
      "99/99 [==============================] - 0s 946us/step - loss: 0.2896 - wine_quality_loss: 0.2725 - wine_type_loss: 0.0171 - wine_quality_root_mean_squared_error: 0.5220 - wine_type_accuracy: 0.9965 - val_loss: 0.3323 - val_wine_quality_loss: 0.3045 - val_wine_type_loss: 0.0277 - val_wine_quality_root_mean_squared_error: 0.5519 - val_wine_type_accuracy: 0.9949\n",
      "Epoch 128/180\n",
      "99/99 [==============================] - 0s 910us/step - loss: 0.2888 - wine_quality_loss: 0.2718 - wine_type_loss: 0.0170 - wine_quality_root_mean_squared_error: 0.5213 - wine_type_accuracy: 0.9965 - val_loss: 0.3374 - val_wine_quality_loss: 0.3096 - val_wine_type_loss: 0.0278 - val_wine_quality_root_mean_squared_error: 0.5564 - val_wine_type_accuracy: 0.9949\n",
      "Epoch 129/180\n",
      "99/99 [==============================] - 0s 951us/step - loss: 0.2882 - wine_quality_loss: 0.2713 - wine_type_loss: 0.0169 - wine_quality_root_mean_squared_error: 0.5209 - wine_type_accuracy: 0.9965 - val_loss: 0.3338 - val_wine_quality_loss: 0.3060 - val_wine_type_loss: 0.0278 - val_wine_quality_root_mean_squared_error: 0.5532 - val_wine_type_accuracy: 0.9949\n",
      "Epoch 130/180\n",
      "99/99 [==============================] - 0s 950us/step - loss: 0.2886 - wine_quality_loss: 0.2718 - wine_type_loss: 0.0169 - wine_quality_root_mean_squared_error: 0.5213 - wine_type_accuracy: 0.9965 - val_loss: 0.3322 - val_wine_quality_loss: 0.3044 - val_wine_type_loss: 0.0277 - val_wine_quality_root_mean_squared_error: 0.5518 - val_wine_type_accuracy: 0.9949\n",
      "Epoch 131/180\n",
      "99/99 [==============================] - 0s 1ms/step - loss: 0.2865 - wine_quality_loss: 0.2698 - wine_type_loss: 0.0167 - wine_quality_root_mean_squared_error: 0.5194 - wine_type_accuracy: 0.9965 - val_loss: 0.3322 - val_wine_quality_loss: 0.3044 - val_wine_type_loss: 0.0279 - val_wine_quality_root_mean_squared_error: 0.5517 - val_wine_type_accuracy: 0.9949\n",
      "Epoch 132/180\n",
      "99/99 [==============================] - 0s 939us/step - loss: 0.2882 - wine_quality_loss: 0.2714 - wine_type_loss: 0.0167 - wine_quality_root_mean_squared_error: 0.5210 - wine_type_accuracy: 0.9965 - val_loss: 0.3311 - val_wine_quality_loss: 0.3033 - val_wine_type_loss: 0.0278 - val_wine_quality_root_mean_squared_error: 0.5507 - val_wine_type_accuracy: 0.9949\n"
     ]
    },
    {
     "name": "stdout",
     "output_type": "stream",
     "text": [
      "Epoch 133/180\n",
      "99/99 [==============================] - 0s 976us/step - loss: 0.2873 - wine_quality_loss: 0.2707 - wine_type_loss: 0.0166 - wine_quality_root_mean_squared_error: 0.5203 - wine_type_accuracy: 0.9965 - val_loss: 0.3342 - val_wine_quality_loss: 0.3065 - val_wine_type_loss: 0.0277 - val_wine_quality_root_mean_squared_error: 0.5536 - val_wine_type_accuracy: 0.9949\n",
      "Epoch 134/180\n",
      "99/99 [==============================] - 0s 941us/step - loss: 0.2864 - wine_quality_loss: 0.2698 - wine_type_loss: 0.0165 - wine_quality_root_mean_squared_error: 0.5195 - wine_type_accuracy: 0.9965 - val_loss: 0.3355 - val_wine_quality_loss: 0.3078 - val_wine_type_loss: 0.0278 - val_wine_quality_root_mean_squared_error: 0.5548 - val_wine_type_accuracy: 0.9949\n",
      "Epoch 135/180\n",
      "99/99 [==============================] - 0s 925us/step - loss: 0.2853 - wine_quality_loss: 0.2688 - wine_type_loss: 0.0165 - wine_quality_root_mean_squared_error: 0.5184 - wine_type_accuracy: 0.9965 - val_loss: 0.3328 - val_wine_quality_loss: 0.3051 - val_wine_type_loss: 0.0278 - val_wine_quality_root_mean_squared_error: 0.5523 - val_wine_type_accuracy: 0.9949\n",
      "Epoch 136/180\n",
      "99/99 [==============================] - 0s 941us/step - loss: 0.2856 - wine_quality_loss: 0.2692 - wine_type_loss: 0.0164 - wine_quality_root_mean_squared_error: 0.5189 - wine_type_accuracy: 0.9965 - val_loss: 0.3349 - val_wine_quality_loss: 0.3071 - val_wine_type_loss: 0.0278 - val_wine_quality_root_mean_squared_error: 0.5541 - val_wine_type_accuracy: 0.9949\n",
      "Epoch 137/180\n",
      "99/99 [==============================] - 0s 901us/step - loss: 0.2854 - wine_quality_loss: 0.2690 - wine_type_loss: 0.0164 - wine_quality_root_mean_squared_error: 0.5187 - wine_type_accuracy: 0.9965 - val_loss: 0.3309 - val_wine_quality_loss: 0.3031 - val_wine_type_loss: 0.0278 - val_wine_quality_root_mean_squared_error: 0.5505 - val_wine_type_accuracy: 0.9949\n",
      "Epoch 138/180\n",
      "99/99 [==============================] - 0s 911us/step - loss: 0.2849 - wine_quality_loss: 0.2687 - wine_type_loss: 0.0162 - wine_quality_root_mean_squared_error: 0.5183 - wine_type_accuracy: 0.9965 - val_loss: 0.3333 - val_wine_quality_loss: 0.3054 - val_wine_type_loss: 0.0279 - val_wine_quality_root_mean_squared_error: 0.5526 - val_wine_type_accuracy: 0.9949\n",
      "Epoch 139/180\n",
      "99/99 [==============================] - 0s 903us/step - loss: 0.2837 - wine_quality_loss: 0.2675 - wine_type_loss: 0.0163 - wine_quality_root_mean_squared_error: 0.5172 - wine_type_accuracy: 0.9965 - val_loss: 0.3297 - val_wine_quality_loss: 0.3018 - val_wine_type_loss: 0.0279 - val_wine_quality_root_mean_squared_error: 0.5494 - val_wine_type_accuracy: 0.9949\n",
      "Epoch 140/180\n",
      "99/99 [==============================] - 0s 900us/step - loss: 0.2835 - wine_quality_loss: 0.2674 - wine_type_loss: 0.0161 - wine_quality_root_mean_squared_error: 0.5171 - wine_type_accuracy: 0.9965 - val_loss: 0.3417 - val_wine_quality_loss: 0.3138 - val_wine_type_loss: 0.0278 - val_wine_quality_root_mean_squared_error: 0.5602 - val_wine_type_accuracy: 0.9949\n",
      "Epoch 141/180\n",
      "99/99 [==============================] - 0s 941us/step - loss: 0.2840 - wine_quality_loss: 0.2679 - wine_type_loss: 0.0161 - wine_quality_root_mean_squared_error: 0.5176 - wine_type_accuracy: 0.9965 - val_loss: 0.3340 - val_wine_quality_loss: 0.3061 - val_wine_type_loss: 0.0279 - val_wine_quality_root_mean_squared_error: 0.5533 - val_wine_type_accuracy: 0.9949\n",
      "Epoch 142/180\n",
      "99/99 [==============================] - 0s 901us/step - loss: 0.2819 - wine_quality_loss: 0.2659 - wine_type_loss: 0.0160 - wine_quality_root_mean_squared_error: 0.5157 - wine_type_accuracy: 0.9965 - val_loss: 0.3391 - val_wine_quality_loss: 0.3112 - val_wine_type_loss: 0.0279 - val_wine_quality_root_mean_squared_error: 0.5578 - val_wine_type_accuracy: 0.9949\n",
      "Epoch 143/180\n",
      "99/99 [==============================] - 0s 909us/step - loss: 0.2828 - wine_quality_loss: 0.2669 - wine_type_loss: 0.0159 - wine_quality_root_mean_squared_error: 0.5166 - wine_type_accuracy: 0.9965 - val_loss: 0.3322 - val_wine_quality_loss: 0.3044 - val_wine_type_loss: 0.0278 - val_wine_quality_root_mean_squared_error: 0.5517 - val_wine_type_accuracy: 0.9949\n",
      "Epoch 144/180\n",
      "99/99 [==============================] - 0s 948us/step - loss: 0.2823 - wine_quality_loss: 0.2665 - wine_type_loss: 0.0159 - wine_quality_root_mean_squared_error: 0.5162 - wine_type_accuracy: 0.9965 - val_loss: 0.3317 - val_wine_quality_loss: 0.3039 - val_wine_type_loss: 0.0277 - val_wine_quality_root_mean_squared_error: 0.5513 - val_wine_type_accuracy: 0.9949\n",
      "Epoch 145/180\n",
      "99/99 [==============================] - 0s 961us/step - loss: 0.2807 - wine_quality_loss: 0.2649 - wine_type_loss: 0.0158 - wine_quality_root_mean_squared_error: 0.5147 - wine_type_accuracy: 0.9965 - val_loss: 0.3378 - val_wine_quality_loss: 0.3101 - val_wine_type_loss: 0.0277 - val_wine_quality_root_mean_squared_error: 0.5569 - val_wine_type_accuracy: 0.9949\n",
      "Epoch 146/180\n",
      "99/99 [==============================] - 0s 953us/step - loss: 0.2822 - wine_quality_loss: 0.2665 - wine_type_loss: 0.0157 - wine_quality_root_mean_squared_error: 0.5162 - wine_type_accuracy: 0.9965 - val_loss: 0.3353 - val_wine_quality_loss: 0.3076 - val_wine_type_loss: 0.0277 - val_wine_quality_root_mean_squared_error: 0.5546 - val_wine_type_accuracy: 0.9949\n",
      "Epoch 147/180\n",
      "99/99 [==============================] - 0s 937us/step - loss: 0.2807 - wine_quality_loss: 0.2652 - wine_type_loss: 0.0156 - wine_quality_root_mean_squared_error: 0.5149 - wine_type_accuracy: 0.9965 - val_loss: 0.3359 - val_wine_quality_loss: 0.3081 - val_wine_type_loss: 0.0278 - val_wine_quality_root_mean_squared_error: 0.5551 - val_wine_type_accuracy: 0.9949\n",
      "Epoch 148/180\n",
      "99/99 [==============================] - 0s 957us/step - loss: 0.2815 - wine_quality_loss: 0.2660 - wine_type_loss: 0.0156 - wine_quality_root_mean_squared_error: 0.5157 - wine_type_accuracy: 0.9965 - val_loss: 0.3404 - val_wine_quality_loss: 0.3126 - val_wine_type_loss: 0.0278 - val_wine_quality_root_mean_squared_error: 0.5591 - val_wine_type_accuracy: 0.9949\n",
      "Epoch 149/180\n",
      "99/99 [==============================] - 0s 945us/step - loss: 0.2801 - wine_quality_loss: 0.2646 - wine_type_loss: 0.0155 - wine_quality_root_mean_squared_error: 0.5144 - wine_type_accuracy: 0.9965 - val_loss: 0.3352 - val_wine_quality_loss: 0.3076 - val_wine_type_loss: 0.0277 - val_wine_quality_root_mean_squared_error: 0.5546 - val_wine_type_accuracy: 0.9949\n",
      "Epoch 150/180\n",
      "99/99 [==============================] - 0s 941us/step - loss: 0.2802 - wine_quality_loss: 0.2647 - wine_type_loss: 0.0155 - wine_quality_root_mean_squared_error: 0.5145 - wine_type_accuracy: 0.9965 - val_loss: 0.3393 - val_wine_quality_loss: 0.3116 - val_wine_type_loss: 0.0277 - val_wine_quality_root_mean_squared_error: 0.5582 - val_wine_type_accuracy: 0.9949\n",
      "Epoch 151/180\n",
      "99/99 [==============================] - 0s 926us/step - loss: 0.2778 - wine_quality_loss: 0.2624 - wine_type_loss: 0.0154 - wine_quality_root_mean_squared_error: 0.5122 - wine_type_accuracy: 0.9968 - val_loss: 0.3390 - val_wine_quality_loss: 0.3113 - val_wine_type_loss: 0.0277 - val_wine_quality_root_mean_squared_error: 0.5579 - val_wine_type_accuracy: 0.9949\n",
      "Epoch 152/180\n",
      "99/99 [==============================] - 0s 921us/step - loss: 0.2799 - wine_quality_loss: 0.2647 - wine_type_loss: 0.0153 - wine_quality_root_mean_squared_error: 0.5145 - wine_type_accuracy: 0.9968 - val_loss: 0.3302 - val_wine_quality_loss: 0.3024 - val_wine_type_loss: 0.0278 - val_wine_quality_root_mean_squared_error: 0.5499 - val_wine_type_accuracy: 0.9949\n",
      "Epoch 153/180\n",
      "99/99 [==============================] - 0s 933us/step - loss: 0.2796 - wine_quality_loss: 0.2643 - wine_type_loss: 0.0152 - wine_quality_root_mean_squared_error: 0.5141 - wine_type_accuracy: 0.9965 - val_loss: 0.3381 - val_wine_quality_loss: 0.3104 - val_wine_type_loss: 0.0277 - val_wine_quality_root_mean_squared_error: 0.5572 - val_wine_type_accuracy: 0.9949\n",
      "Epoch 154/180\n",
      "99/99 [==============================] - 0s 928us/step - loss: 0.2790 - wine_quality_loss: 0.2638 - wine_type_loss: 0.0152 - wine_quality_root_mean_squared_error: 0.5136 - wine_type_accuracy: 0.9968 - val_loss: 0.3327 - val_wine_quality_loss: 0.3050 - val_wine_type_loss: 0.0277 - val_wine_quality_root_mean_squared_error: 0.5523 - val_wine_type_accuracy: 0.9949\n"
     ]
    },
    {
     "name": "stdout",
     "output_type": "stream",
     "text": [
      "Epoch 155/180\n",
      "99/99 [==============================] - 0s 918us/step - loss: 0.2764 - wine_quality_loss: 0.2612 - wine_type_loss: 0.0151 - wine_quality_root_mean_squared_error: 0.5111 - wine_type_accuracy: 0.9968 - val_loss: 0.3358 - val_wine_quality_loss: 0.3080 - val_wine_type_loss: 0.0278 - val_wine_quality_root_mean_squared_error: 0.5550 - val_wine_type_accuracy: 0.9949\n",
      "Epoch 156/180\n",
      "99/99 [==============================] - 0s 923us/step - loss: 0.2783 - wine_quality_loss: 0.2633 - wine_type_loss: 0.0150 - wine_quality_root_mean_squared_error: 0.5131 - wine_type_accuracy: 0.9968 - val_loss: 0.3348 - val_wine_quality_loss: 0.3071 - val_wine_type_loss: 0.0278 - val_wine_quality_root_mean_squared_error: 0.5541 - val_wine_type_accuracy: 0.9949\n",
      "Epoch 157/180\n",
      "99/99 [==============================] - 0s 901us/step - loss: 0.2771 - wine_quality_loss: 0.2621 - wine_type_loss: 0.0150 - wine_quality_root_mean_squared_error: 0.5119 - wine_type_accuracy: 0.9968 - val_loss: 0.3333 - val_wine_quality_loss: 0.3056 - val_wine_type_loss: 0.0277 - val_wine_quality_root_mean_squared_error: 0.5528 - val_wine_type_accuracy: 0.9949\n",
      "Epoch 158/180\n",
      "99/99 [==============================] - 0s 949us/step - loss: 0.2766 - wine_quality_loss: 0.2617 - wine_type_loss: 0.0149 - wine_quality_root_mean_squared_error: 0.5115 - wine_type_accuracy: 0.9965 - val_loss: 0.3403 - val_wine_quality_loss: 0.3126 - val_wine_type_loss: 0.0278 - val_wine_quality_root_mean_squared_error: 0.5591 - val_wine_type_accuracy: 0.9949\n",
      "Epoch 159/180\n",
      "99/99 [==============================] - 0s 955us/step - loss: 0.2776 - wine_quality_loss: 0.2627 - wine_type_loss: 0.0149 - wine_quality_root_mean_squared_error: 0.5126 - wine_type_accuracy: 0.9968 - val_loss: 0.3329 - val_wine_quality_loss: 0.3052 - val_wine_type_loss: 0.0277 - val_wine_quality_root_mean_squared_error: 0.5524 - val_wine_type_accuracy: 0.9949\n",
      "Epoch 160/180\n",
      "99/99 [==============================] - 0s 953us/step - loss: 0.2769 - wine_quality_loss: 0.2622 - wine_type_loss: 0.0148 - wine_quality_root_mean_squared_error: 0.5120 - wine_type_accuracy: 0.9968 - val_loss: 0.3368 - val_wine_quality_loss: 0.3091 - val_wine_type_loss: 0.0277 - val_wine_quality_root_mean_squared_error: 0.5560 - val_wine_type_accuracy: 0.9949\n",
      "Epoch 161/180\n",
      "99/99 [==============================] - 0s 942us/step - loss: 0.2764 - wine_quality_loss: 0.2617 - wine_type_loss: 0.0147 - wine_quality_root_mean_squared_error: 0.5115 - wine_type_accuracy: 0.9968 - val_loss: 0.3352 - val_wine_quality_loss: 0.3074 - val_wine_type_loss: 0.0278 - val_wine_quality_root_mean_squared_error: 0.5545 - val_wine_type_accuracy: 0.9949\n",
      "Epoch 162/180\n",
      "99/99 [==============================] - 0s 948us/step - loss: 0.2750 - wine_quality_loss: 0.2603 - wine_type_loss: 0.0146 - wine_quality_root_mean_squared_error: 0.5102 - wine_type_accuracy: 0.9971 - val_loss: 0.3354 - val_wine_quality_loss: 0.3077 - val_wine_type_loss: 0.0278 - val_wine_quality_root_mean_squared_error: 0.5547 - val_wine_type_accuracy: 0.9949\n",
      "Epoch 163/180\n",
      "99/99 [==============================] - 0s 984us/step - loss: 0.2753 - wine_quality_loss: 0.2607 - wine_type_loss: 0.0146 - wine_quality_root_mean_squared_error: 0.5106 - wine_type_accuracy: 0.9971 - val_loss: 0.3369 - val_wine_quality_loss: 0.3092 - val_wine_type_loss: 0.0277 - val_wine_quality_root_mean_squared_error: 0.5561 - val_wine_type_accuracy: 0.9949\n",
      "Epoch 164/180\n",
      "99/99 [==============================] - 0s 943us/step - loss: 0.2752 - wine_quality_loss: 0.2606 - wine_type_loss: 0.0146 - wine_quality_root_mean_squared_error: 0.5105 - wine_type_accuracy: 0.9965 - val_loss: 0.3397 - val_wine_quality_loss: 0.3120 - val_wine_type_loss: 0.0277 - val_wine_quality_root_mean_squared_error: 0.5586 - val_wine_type_accuracy: 0.9949\n",
      "Epoch 165/180\n",
      "99/99 [==============================] - 0s 942us/step - loss: 0.2753 - wine_quality_loss: 0.2608 - wine_type_loss: 0.0145 - wine_quality_root_mean_squared_error: 0.5107 - wine_type_accuracy: 0.9968 - val_loss: 0.3362 - val_wine_quality_loss: 0.3085 - val_wine_type_loss: 0.0278 - val_wine_quality_root_mean_squared_error: 0.5554 - val_wine_type_accuracy: 0.9949\n",
      "Epoch 166/180\n",
      "99/99 [==============================] - 0s 913us/step - loss: 0.2746 - wine_quality_loss: 0.2602 - wine_type_loss: 0.0144 - wine_quality_root_mean_squared_error: 0.5101 - wine_type_accuracy: 0.9968 - val_loss: 0.3355 - val_wine_quality_loss: 0.3078 - val_wine_type_loss: 0.0278 - val_wine_quality_root_mean_squared_error: 0.5548 - val_wine_type_accuracy: 0.9949\n",
      "Epoch 167/180\n",
      "99/99 [==============================] - 0s 914us/step - loss: 0.2738 - wine_quality_loss: 0.2594 - wine_type_loss: 0.0144 - wine_quality_root_mean_squared_error: 0.5094 - wine_type_accuracy: 0.9968 - val_loss: 0.3367 - val_wine_quality_loss: 0.3090 - val_wine_type_loss: 0.0277 - val_wine_quality_root_mean_squared_error: 0.5559 - val_wine_type_accuracy: 0.9949\n",
      "Epoch 168/180\n",
      "99/99 [==============================] - 0s 975us/step - loss: 0.2744 - wine_quality_loss: 0.2601 - wine_type_loss: 0.0143 - wine_quality_root_mean_squared_error: 0.5100 - wine_type_accuracy: 0.9971 - val_loss: 0.3358 - val_wine_quality_loss: 0.3080 - val_wine_type_loss: 0.0278 - val_wine_quality_root_mean_squared_error: 0.5549 - val_wine_type_accuracy: 0.9949\n",
      "Epoch 169/180\n",
      "99/99 [==============================] - 0s 1ms/step - loss: 0.2730 - wine_quality_loss: 0.2587 - wine_type_loss: 0.0143 - wine_quality_root_mean_squared_error: 0.5087 - wine_type_accuracy: 0.9971 - val_loss: 0.3306 - val_wine_quality_loss: 0.3028 - val_wine_type_loss: 0.0278 - val_wine_quality_root_mean_squared_error: 0.5503 - val_wine_type_accuracy: 0.9949\n",
      "Epoch 170/180\n",
      "99/99 [==============================] - 0s 926us/step - loss: 0.2727 - wine_quality_loss: 0.2585 - wine_type_loss: 0.0143 - wine_quality_root_mean_squared_error: 0.5084 - wine_type_accuracy: 0.9971 - val_loss: 0.3326 - val_wine_quality_loss: 0.3048 - val_wine_type_loss: 0.0278 - val_wine_quality_root_mean_squared_error: 0.5521 - val_wine_type_accuracy: 0.9949\n",
      "Epoch 171/180\n",
      "99/99 [==============================] - 0s 963us/step - loss: 0.2735 - wine_quality_loss: 0.2593 - wine_type_loss: 0.0142 - wine_quality_root_mean_squared_error: 0.5092 - wine_type_accuracy: 0.9968 - val_loss: 0.3298 - val_wine_quality_loss: 0.3019 - val_wine_type_loss: 0.0279 - val_wine_quality_root_mean_squared_error: 0.5495 - val_wine_type_accuracy: 0.9949\n",
      "Epoch 172/180\n",
      "99/99 [==============================] - 0s 972us/step - loss: 0.2725 - wine_quality_loss: 0.2584 - wine_type_loss: 0.0141 - wine_quality_root_mean_squared_error: 0.5084 - wine_type_accuracy: 0.9971 - val_loss: 0.3317 - val_wine_quality_loss: 0.3039 - val_wine_type_loss: 0.0279 - val_wine_quality_root_mean_squared_error: 0.5513 - val_wine_type_accuracy: 0.9949\n",
      "Epoch 173/180\n",
      "99/99 [==============================] - 0s 901us/step - loss: 0.2714 - wine_quality_loss: 0.2574 - wine_type_loss: 0.0140 - wine_quality_root_mean_squared_error: 0.5073 - wine_type_accuracy: 0.9971 - val_loss: 0.3310 - val_wine_quality_loss: 0.3031 - val_wine_type_loss: 0.0279 - val_wine_quality_root_mean_squared_error: 0.5506 - val_wine_type_accuracy: 0.9949\n",
      "Epoch 174/180\n",
      "99/99 [==============================] - 0s 964us/step - loss: 0.2722 - wine_quality_loss: 0.2583 - wine_type_loss: 0.0139 - wine_quality_root_mean_squared_error: 0.5082 - wine_type_accuracy: 0.9971 - val_loss: 0.3342 - val_wine_quality_loss: 0.3064 - val_wine_type_loss: 0.0279 - val_wine_quality_root_mean_squared_error: 0.5535 - val_wine_type_accuracy: 0.9949\n",
      "Epoch 175/180\n",
      "99/99 [==============================] - 0s 957us/step - loss: 0.2713 - wine_quality_loss: 0.2574 - wine_type_loss: 0.0139 - wine_quality_root_mean_squared_error: 0.5074 - wine_type_accuracy: 0.9971 - val_loss: 0.3389 - val_wine_quality_loss: 0.3110 - val_wine_type_loss: 0.0279 - val_wine_quality_root_mean_squared_error: 0.5577 - val_wine_type_accuracy: 0.9949\n",
      "Epoch 176/180\n",
      "99/99 [==============================] - 0s 917us/step - loss: 0.2707 - wine_quality_loss: 0.2568 - wine_type_loss: 0.0139 - wine_quality_root_mean_squared_error: 0.5068 - wine_type_accuracy: 0.9971 - val_loss: 0.3296 - val_wine_quality_loss: 0.3018 - val_wine_type_loss: 0.0279 - val_wine_quality_root_mean_squared_error: 0.5493 - val_wine_type_accuracy: 0.9949\n"
     ]
    },
    {
     "name": "stdout",
     "output_type": "stream",
     "text": [
      "Epoch 177/180\n",
      "99/99 [==============================] - 0s 944us/step - loss: 0.2707 - wine_quality_loss: 0.2569 - wine_type_loss: 0.0137 - wine_quality_root_mean_squared_error: 0.5069 - wine_type_accuracy: 0.9971 - val_loss: 0.3357 - val_wine_quality_loss: 0.3078 - val_wine_type_loss: 0.0280 - val_wine_quality_root_mean_squared_error: 0.5548 - val_wine_type_accuracy: 0.9949\n",
      "Epoch 178/180\n",
      "99/99 [==============================] - 0s 935us/step - loss: 0.2707 - wine_quality_loss: 0.2569 - wine_type_loss: 0.0137 - wine_quality_root_mean_squared_error: 0.5069 - wine_type_accuracy: 0.9971 - val_loss: 0.3359 - val_wine_quality_loss: 0.3080 - val_wine_type_loss: 0.0279 - val_wine_quality_root_mean_squared_error: 0.5549 - val_wine_type_accuracy: 0.9949\n",
      "Epoch 179/180\n",
      "99/99 [==============================] - 0s 981us/step - loss: 0.2698 - wine_quality_loss: 0.2562 - wine_type_loss: 0.0137 - wine_quality_root_mean_squared_error: 0.5062 - wine_type_accuracy: 0.9971 - val_loss: 0.3428 - val_wine_quality_loss: 0.3150 - val_wine_type_loss: 0.0279 - val_wine_quality_root_mean_squared_error: 0.5612 - val_wine_type_accuracy: 0.9949\n",
      "Epoch 180/180\n",
      "99/99 [==============================] - 0s 939us/step - loss: 0.2712 - wine_quality_loss: 0.2576 - wine_type_loss: 0.0135 - wine_quality_root_mean_squared_error: 0.5076 - wine_type_accuracy: 0.9971 - val_loss: 0.3330 - val_wine_quality_loss: 0.3049 - val_wine_type_loss: 0.0281 - val_wine_quality_root_mean_squared_error: 0.5522 - val_wine_type_accuracy: 0.9949\n"
     ]
    }
   ],
   "source": [
    "history = model.fit(norm_train_X, train_Y,\n",
    "                     epochs = 180, validation_data=(norm_val_X, val_Y))"
   ]
  },
  {
   "cell_type": "code",
   "execution_count": 161,
   "metadata": {},
   "outputs": [
    {
     "name": "stdout",
     "output_type": "stream",
     "text": [
      "25/25 [==============================] - 0s 434us/step - loss: 0.3330 - wine_quality_loss: 0.3049 - wine_type_loss: 0.0281 - wine_quality_root_mean_squared_error: 0.5522 - wine_type_accuracy: 0.9949\n",
      "\n",
      "loss: 0.3329910635948181\n",
      "wine_quality_loss: 0.30492180585861206\n",
      "wine_type_loss: 0.0280692670494318\n",
      "wine_quality_rmse: 0.552197277545929\n",
      "wine_type_accuracy: 0.9949302673339844\n"
     ]
    }
   ],
   "source": [
    "# Gather the training metrics\n",
    "loss, wine_quality_loss, wine_type_loss, wine_quality_rmse, wine_type_accuracy = model.evaluate(x=norm_val_X, y=val_Y)\n",
    "\n",
    "print()\n",
    "print(f'loss: {loss}')\n",
    "print(f'wine_quality_loss: {wine_quality_loss}')\n",
    "print(f'wine_type_loss: {wine_type_loss}')\n",
    "print(f'wine_quality_rmse: {wine_quality_rmse}')\n",
    "print(f'wine_type_accuracy: {wine_type_accuracy}')"
   ]
  },
  {
   "cell_type": "code",
   "execution_count": 162,
   "metadata": {},
   "outputs": [],
   "source": [
    "predictions = model.predict(norm_test_X)\n",
    "quality_pred = predictions[0]\n",
    "type_pred = predictions[1]"
   ]
  },
  {
   "cell_type": "code",
   "execution_count": 169,
   "metadata": {},
   "outputs": [],
   "source": [
    "from sklearn.metrics import confusion_matrix\n",
    "import itertools"
   ]
  },
  {
   "cell_type": "code",
   "execution_count": 170,
   "metadata": {},
   "outputs": [],
   "source": [
    "def plot_metrics(metric_name, title, ylim=5):\n",
    "    plt.title(title)\n",
    "    plt.ylim(0,ylim)\n",
    "    plt.plot(history.history[metric_name],color='blue',label=metric_name)\n",
    "    plt.plot(history.history['val_' + metric_name],color='green',label='val_' + metric_name)\n"
   ]
  },
  {
   "cell_type": "code",
   "execution_count": 176,
   "metadata": {},
   "outputs": [],
   "source": [
    "def plot_confusion_matrix(y_true, y_pred, title='', labels=[0,1]):\n",
    "    cm = confusion_matrix(y_true, y_pred)\n",
    "    fig = plt.figure()\n",
    "    ax = fig.add_subplot(111)\n",
    "    cax = ax.matshow(cm)\n",
    "    plt.title('Confusion matrix of the classifier')\n",
    "    fig.colorbar(cax)\n",
    "    ax.set_xticklabels([f'{title}'] + labels)\n",
    "    ax.set_yticklabels([f'{title}'] + labels)\n",
    "    plt.xlabel('Predicted')\n",
    "    plt.ylabel('True')\n",
    "    fmt = 'd'\n",
    "    thresh = cm.max() / 2.\n",
    "    for i, j in itertools.product(range(cm.shape[0]), range(cm.shape[1])):\n",
    "          plt.text(j, i, format(cm[i, j], fmt),\n",
    "                  horizontalalignment=\"center\",\n",
    "                  color=\"black\" if cm[i, j] > thresh else \"white\")\n",
    "    plt.show()"
   ]
  },
  {
   "cell_type": "code",
   "execution_count": 172,
   "metadata": {},
   "outputs": [],
   "source": [
    "def plot_diff(y_true, y_pred, title = '' ):\n",
    "    plt.scatter(y_true, y_pred)\n",
    "    plt.title(title)\n",
    "    plt.xlabel('True Values')\n",
    "    plt.ylabel('Predictions')\n",
    "    plt.axis('equal')\n",
    "    plt.axis('square')\n",
    "    plt.plot([-100, 100], [-100, 100])\n",
    "    return plt"
   ]
  },
  {
   "cell_type": "code",
   "execution_count": 173,
   "metadata": {},
   "outputs": [
    {
     "data": {
      "image/png": "[encoded data removed]",
      "text/plain": [
       "<Figure size 432x288 with 1 Axes>"
      ]
     },
     "metadata": {
      "needs_background": "light"
     },
     "output_type": "display_data"
    }
   ],
   "source": [
    "plot_metrics('wine_quality_root_mean_squared_error', 'RMSE', ylim=2)"
   ]
  },
  {
   "cell_type": "code",
   "execution_count": 174,
   "metadata": {},
   "outputs": [
    {
     "data": {
      "image/png": "[encoded data removed]",
      "text/plain": [
       "<Figure size 432x288 with 1 Axes>"
      ]
     },
     "metadata": {
      "needs_background": "light"
     },
     "output_type": "display_data"
    }
   ],
   "source": [
    "plot_metrics('wine_type_loss', 'Wine Type Loss', ylim=0.2)"
   ]
  },
  {
   "cell_type": "code",
   "execution_count": 177,
   "metadata": {},
   "outputs": [
    {
     "name": "stderr",
     "output_type": "stream",
     "text": [
      "<ipython-input-176-589cf23fbeff>:8: UserWarning: FixedFormatter should only be used together with FixedLocator\n",
      "  ax.set_xticklabels([f'{title}'] + labels)\n",
      "<ipython-input-176-589cf23fbeff>:9: UserWarning: FixedFormatter should only be used together with FixedLocator\n",
      "  ax.set_yticklabels([f'{title}'] + labels)\n"
     ]
    },
    {
     "data": {
      "image/png": "[encoded data removed]",
      "text/plain": [
       "<Figure size 432x288 with 2 Axes>"
      ]
     },
     "metadata": {
      "needs_background": "light"
     },
     "output_type": "display_data"
    }
   ],
   "source": [
    "plot_confusion_matrix(test_Y[1], np.round(type_pred), title='Wine Type', labels = [0, 1])"
   ]
  },
  {
   "cell_type": "code",
   "execution_count": null,
   "metadata": {},
   "outputs": [],
   "source": []
  }
 ],
 "metadata": {
  "kernelspec": {
   "display_name": "Python 3",
   "language": "python",
   "name": "python3"
  },
  "language_info": {
   "codemirror_mode": {
    "name": "ipython",
    "version": 3
   },
   "file_extension": ".py",
   "mimetype": "text/x-python",
   "name": "python",
   "nbconvert_exporter": "python",
   "pygments_lexer": "ipython3",
   "version": "3.8.5"
  }
 },
 "nbformat": 4,
 "nbformat_minor": 4
}
