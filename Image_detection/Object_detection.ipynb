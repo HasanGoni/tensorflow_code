{
 "cells": [
  {
   "cell_type": "code",
   "execution_count": 1,
   "metadata": {},
   "outputs": [],
   "source": [
    "\n",
    "%load_ext autoreload\n",
    "%autoreload 2"
   ]
  },
  {
   "cell_type": "code",
   "execution_count": 2,
   "metadata": {},
   "outputs": [],
   "source": [
    "import numpy as np\n",
    "import tensorflow as tf\n",
    "import matplotlib.pyplot as plt\n",
    "from PIL import Image, ImageDraw\n",
    "from data_preprocess import get_training_dataset, \\\n",
    "              get_validation_dataset, dataset_to_numpy\n",
    "from vizualisation import display_digits_with_boxes"
   ]
  },
  {
   "cell_type": "code",
   "execution_count": 3,
   "metadata": {},
   "outputs": [],
   "source": [
    "from data_preprocess import get_training_dataset, \\\n",
    "              get_validation_dataset, dataset_to_numpy\n",
    "from model_creation_without_transfer_learning import feature_extractor, dense_layers, classification_layer, building_box_regression, final_model, define_compile_model\n",
    "\n",
    "\n"
   ]
  },
  {
   "cell_type": "code",
   "execution_count": 4,
   "metadata": {},
   "outputs": [
    {
     "name": "stderr",
     "output_type": "stream",
     "text": [
      "WARNING:absl:Found a different version 3.0.1 of dataset mnist in data_dir /home/hasan/tensorflow_datasets. Using currently defined version 1.0.0.\n",
      "WARNING:absl:Warning: Setting shuffle_files=True because split=TRAIN and shuffle_files=None. This behavior will be deprecated on 2019-08-06, at which point shuffle_files=False will be the default for all splits.\n",
      "WARNING:absl:Found a different version 3.0.1 of dataset mnist in data_dir /home/hasan/tensorflow_datasets. Using currently defined version 1.0.0.\n"
     ]
    }
   ],
   "source": [
    "train_dataset, val_dataset = get_training_dataset(), get_validation_dataset()"
   ]
  },
  {
   "cell_type": "code",
   "execution_count": 5,
   "metadata": {},
   "outputs": [],
   "source": [
    "(train_data, train_labels, train_boxes, valid_data, valid_labels, valid_boxes) = dataset_to_numpy(train_dataset, val_dataset, 10)"
   ]
  },
  {
   "cell_type": "code",
   "execution_count": 6,
   "metadata": {},
   "outputs": [
    {
     "data": {
      "image/png": "[encoded data removed]",
      "text/plain": [
       "<Figure size 1440x288 with 7 Axes>"
      ]
     },
     "metadata": {},
     "output_type": "display_data"
    }
   ],
   "source": [
    "display_digits_with_boxes(train_data, train_labels, train_labels, np.array([]), train_boxes, np.array([]),'train_digits', 7)"
   ]
  },
  {
   "cell_type": "code",
   "execution_count": 7,
   "metadata": {},
   "outputs": [
    {
     "name": "stdout",
     "output_type": "stream",
     "text": [
      "hei you are done\n"
     ]
    }
   ],
   "source": [
    "                                              \n",
    "print('hei you are done')\n",
    "                        "
   ]
  },
  {
   "cell_type": "code",
   "execution_count": 8,
   "metadata": {},
   "outputs": [
    {
     "name": "stdout",
     "output_type": "stream",
     "text": [
      "1\n"
     ]
    }
   ],
   "source": [
    "j=1\n",
    "for i in val_dataset:\n",
    "    print(j)\n",
    "    j+=1"
   ]
  },
  {
   "cell_type": "code",
   "execution_count": 9,
   "metadata": {},
   "outputs": [
    {
     "data": {
      "text/plain": [
       "60032"
      ]
     },
     "execution_count": 9,
     "metadata": {},
     "output_type": "execute_result"
    }
   ],
   "source": [
    "938*64"
   ]
  },
  {
   "cell_type": "code",
   "execution_count": 10,
   "metadata": {},
   "outputs": [
    {
     "data": {
      "text/plain": [
       "938"
      ]
     },
     "execution_count": 10,
     "metadata": {},
     "output_type": "execute_result"
    }
   ],
   "source": [
    "60032//64"
   ]
  },
  {
   "cell_type": "code",
   "execution_count": 11,
   "metadata": {},
   "outputs": [
    {
     "data": {
      "text/plain": [
       "937"
      ]
     },
     "execution_count": 11,
     "metadata": {},
     "output_type": "execute_result"
    }
   ],
   "source": [
    "60000//64"
   ]
  },
  {
   "cell_type": "code",
   "execution_count": 12,
   "metadata": {},
   "outputs": [],
   "source": [
    "inputs = tf.keras.layers.Input(shape=(75, 75, 1,))\n",
    "model = define_compile_model(inputs)\n",
    "# print(model.summary()\n",
    "epochs = 3\n"
   ]
  },
  {
   "cell_type": "code",
   "execution_count": 13,
   "metadata": {},
   "outputs": [
    {
     "name": "stdout",
     "output_type": "stream",
     "text": [
      "Epoch 1/3\n",
      "938/938 [==============================] - 13s 14ms/step - loss: 1.0152 - classifier_loss: 0.9983 - bounding_box_loss: 0.0169 - classifier_accuracy: 0.6496 - bounding_box_mse: 0.0169 - val_loss: 0.3030 - val_classifier_loss: 0.2919 - val_bounding_box_loss: 0.0111 - val_classifier_accuracy: 0.9097 - val_bounding_box_mse: 0.0111\n",
      "Epoch 2/3\n",
      "938/938 [==============================] - 12s 13ms/step - loss: 0.2655 - classifier_loss: 0.2588 - bounding_box_loss: 0.0068 - classifier_accuracy: 0.9222 - bounding_box_mse: 0.0068 - val_loss: 0.3096 - val_classifier_loss: 0.3035 - val_bounding_box_loss: 0.0061 - val_classifier_accuracy: 0.8974 - val_bounding_box_mse: 0.0061\n",
      "Epoch 3/3\n",
      "938/938 [==============================] - 12s 13ms/step - loss: 0.1884 - classifier_loss: 0.1846 - bounding_box_loss: 0.0038 - classifier_accuracy: 0.9442 - bounding_box_mse: 0.0038 - val_loss: 0.2007 - val_classifier_loss: 0.1973 - val_bounding_box_loss: 0.0035 - val_classifier_accuracy: 0.9374 - val_bounding_box_mse: 0.0035\n"
     ]
    }
   ],
   "source": [
    "epochs = 3\n",
    "batch_size = bs = 64\n",
    "history = model.fit(train_dataset, steps_per_epoch=60_032//bs, validation_data=val_dataset, validation_steps=1, epochs=epochs)"
   ]
  },
  {
   "cell_type": "code",
   "execution_count": 14,
   "metadata": {},
   "outputs": [
    {
     "name": "stdout",
     "output_type": "stream",
     "text": [
      "1/1 [==============================] - 0s 1ms/step - loss: 0.1947 - classifier_loss: 0.1912 - bounding_box_loss: 0.0035 - classifier_accuracy: 0.9388 - bounding_box_mse: 0.0035\n",
      "validation accuracy: 0.9387999773025513\n"
     ]
    }
   ],
   "source": [
    "loss, classificaion_loss, bounding_box_loss, classificaion_accuracy,\\\n",
    "bounding_box_mse = model.evaluate(val_dataset, steps = 1)\n",
    "\n",
    "print(f'validation accuracy: {classificaion_accuracy}')"
   ]
  },
  {
   "cell_type": "code",
   "execution_count": 15,
   "metadata": {},
   "outputs": [],
   "source": [
    "from vizualisation import plt_metrics"
   ]
  },
  {
   "cell_type": "code",
   "execution_count": 16,
   "metadata": {},
   "outputs": [
    {
     "data": {
      "image/png": "[encoded data removed]",
      "text/plain": [
       "<Figure size 432x288 with 1 Axes>"
      ]
     },
     "metadata": {
      "needs_background": "light"
     },
     "output_type": "display_data"
    }
   ],
   "source": [
    "plt_metrics('classifier_accuracy','train accracy', history)"
   ]
  },
  {
   "cell_type": "code",
   "execution_count": 17,
   "metadata": {},
   "outputs": [],
   "source": [
    "predictions = model.predict(valid_data, batch_size=64)"
   ]
  },
  {
   "cell_type": "code",
   "execution_count": 18,
   "metadata": {},
   "outputs": [
    {
     "data": {
      "text/plain": [
       "[array([[3.96678806e-05, 3.98058000e-06, 3.38702848e-05, ...,\n",
       "         6.54884567e-13, 1.09143235e-04, 2.52989700e-08],\n",
       "        [1.30410620e-03, 5.15524589e-05, 8.75344455e-01, ...,\n",
       "         1.22334444e-04, 8.54313932e-03, 1.83601791e-04],\n",
       "        [5.10996662e-11, 3.16168531e-08, 3.75767877e-06, ...,\n",
       "         1.66628908e-07, 7.72503938e-07, 4.34525766e-08],\n",
       "        ...,\n",
       "        [1.28084254e-02, 4.40132801e-08, 9.81423199e-01, ...,\n",
       "         2.67416654e-05, 1.46600662e-03, 5.40045614e-04],\n",
       "        [2.41740257e-04, 1.03274139e-07, 9.30872484e-05, ...,\n",
       "         2.27463343e-11, 5.38241118e-04, 1.29560974e-07],\n",
       "        [8.15963745e-02, 9.17660415e-01, 2.61322220e-05, ...,\n",
       "         1.31250097e-04, 4.87192337e-05, 4.84492994e-05]], dtype=float32),\n",
       " array([[0.4825233 , 0.32346982, 0.84078455, 0.6994118 ],\n",
       "        [0.15529045, 0.13192081, 0.5331534 , 0.46479142],\n",
       "        [0.54852307, 0.34178212, 0.89124227, 0.61477166],\n",
       "        ...,\n",
       "        [0.7531239 , 0.49245846, 1.1134349 , 0.91775733],\n",
       "        [0.26330292, 0.6886959 , 0.57830775, 0.9943455 ],\n",
       "        [0.15999793, 0.00938424, 0.63507855, 0.44619542]], dtype=float32)]"
      ]
     },
     "execution_count": 18,
     "metadata": {},
     "output_type": "execute_result"
    }
   ],
   "source": [
    "predictions"
   ]
  },
  {
   "cell_type": "code",
   "execution_count": 19,
   "metadata": {},
   "outputs": [],
   "source": [
    "predicted_labels = np.argmax(predictions[0], axis=1)"
   ]
  },
  {
   "cell_type": "code",
   "execution_count": 20,
   "metadata": {},
   "outputs": [
    {
     "data": {
      "text/plain": [
       "array([[0.4825233 , 0.32346982, 0.84078455, 0.6994118 ],\n",
       "       [0.15529045, 0.13192081, 0.5331534 , 0.46479142],\n",
       "       [0.54852307, 0.34178212, 0.89124227, 0.61477166],\n",
       "       ...,\n",
       "       [0.7531239 , 0.49245846, 1.1134349 , 0.91775733],\n",
       "       [0.26330292, 0.6886959 , 0.57830775, 0.9943455 ],\n",
       "       [0.15999793, 0.00938424, 0.63507855, 0.44619542]], dtype=float32)"
      ]
     },
     "execution_count": 20,
     "metadata": {},
     "output_type": "execute_result"
    }
   ],
   "source": [
    "pred_boxes = predictions[1]\n",
    "pred_boxes"
   ]
  },
  {
   "cell_type": "code",
   "execution_count": 21,
   "metadata": {},
   "outputs": [
    {
     "data": {
      "text/plain": [
       "array([[0.49333334, 0.33333334, 0.8666667 , 0.70666665],\n",
       "       [0.10666667, 0.09333333, 0.48      , 0.46666667],\n",
       "       [0.49333334, 0.25333333, 0.8666667 , 0.62666667],\n",
       "       ...,\n",
       "       [0.6       , 0.46666667, 0.97333336, 0.84      ],\n",
       "       [0.22666667, 0.61333334, 0.6       , 0.9866667 ],\n",
       "       [0.18666667, 0.        , 0.56      , 0.37333333]], dtype=float32)"
      ]
     },
     "execution_count": 21,
     "metadata": {},
     "output_type": "execute_result"
    }
   ],
   "source": [
    "valid_boxes"
   ]
  },
  {
   "cell_type": "code",
   "execution_count": 22,
   "metadata": {},
   "outputs": [
    {
     "data": {
      "text/plain": [
       "[array([[0.4825233 ],\n",
       "        [0.15529045],\n",
       "        [0.54852307],\n",
       "        ...,\n",
       "        [0.7531239 ],\n",
       "        [0.26330292],\n",
       "        [0.15999793]], dtype=float32),\n",
       " array([[0.32346982],\n",
       "        [0.13192081],\n",
       "        [0.34178212],\n",
       "        ...,\n",
       "        [0.49245846],\n",
       "        [0.6886959 ],\n",
       "        [0.00938424]], dtype=float32),\n",
       " array([[0.84078455],\n",
       "        [0.5331534 ],\n",
       "        [0.89124227],\n",
       "        ...,\n",
       "        [1.1134349 ],\n",
       "        [0.57830775],\n",
       "        [0.63507855]], dtype=float32),\n",
       " array([[0.6994118 ],\n",
       "        [0.46479142],\n",
       "        [0.61477166],\n",
       "        ...,\n",
       "        [0.91775733],\n",
       "        [0.9943455 ],\n",
       "        [0.44619542]], dtype=float32)]"
      ]
     },
     "execution_count": 22,
     "metadata": {},
     "output_type": "execute_result"
    }
   ],
   "source": [
    "np.split(pred_boxes, 4, axis=1)"
   ]
  },
  {
   "cell_type": "code",
   "execution_count": 23,
   "metadata": {},
   "outputs": [],
   "source": [
    "from vizualisation import intersection_over_union"
   ]
  },
  {
   "cell_type": "code",
   "execution_count": 24,
   "metadata": {},
   "outputs": [],
   "source": [
    "from vizualisation import plt_metrics"
   ]
  },
  {
   "cell_type": "code",
   "execution_count": 25,
   "metadata": {},
   "outputs": [],
   "source": [
    "predicted_labels = np.argmax(predictions[0], axis=1)"
   ]
  },
  {
   "cell_type": "code",
   "execution_count": 26,
   "metadata": {},
   "outputs": [],
   "source": [
    "predicted_bboxes = predictions[1]"
   ]
  },
  {
   "cell_type": "code",
   "execution_count": 27,
   "metadata": {},
   "outputs": [],
   "source": [
    "iou = intersection_over_union(predicted_bboxes, valid_boxes)"
   ]
  },
  {
   "cell_type": "code",
   "execution_count": 28,
   "metadata": {},
   "outputs": [
    {
     "data": {
      "text/plain": [
       "array([[0.8660409 ],\n",
       "       [0.68813646],\n",
       "       [0.59450924],\n",
       "       ...,\n",
       "       [0.35417396],\n",
       "       [0.6619497 ],\n",
       "       [0.6438811 ]], dtype=float32)"
      ]
     },
     "execution_count": 28,
     "metadata": {},
     "output_type": "execute_result"
    }
   ],
   "source": [
    "iou"
   ]
  },
  {
   "cell_type": "code",
   "execution_count": 29,
   "metadata": {},
   "outputs": [],
   "source": [
    "iou_threshold = 0.6"
   ]
  },
  {
   "cell_type": "code",
   "execution_count": 30,
   "metadata": {},
   "outputs": [
    {
     "name": "stdout",
     "output_type": "stream",
     "text": [
      "Number of predictions where iou > threshold(0.6): 6452\n",
      "Number of predictions where iou < threshold(0.6): 3548\n"
     ]
    }
   ],
   "source": [
    "\n",
    "print(\"Number of predictions where iou > threshold(%s): %s\" % (iou_threshold, (iou >= iou_threshold).sum()))\n",
    "print(\"Number of predictions where iou < threshold(%s): %s\" % (iou_threshold, (iou < iou_threshold).sum()))"
   ]
  },
  {
   "cell_type": "code",
   "execution_count": 34,
   "metadata": {},
   "outputs": [
    {
     "data": {
      "image/png": "[encoded data removed]",
      "text/plain": [
       "<Figure size 1440x288 with 5 Axes>"
      ]
     },
     "metadata": {},
     "output_type": "display_data"
    }
   ],
   "source": [
    "display_digits_with_boxes(valid_data,  predicted_labels, valid_labels,  predicted_bboxes, valid_boxes, iou, \"True and Predicted values\",5)"
   ]
  },
  {
   "cell_type": "code",
   "execution_count": 31,
   "metadata": {},
   "outputs": [
    {
     "data": {
      "text/plain": [
       "array([4843, 8912, 3535, 7599])"
      ]
     },
     "execution_count": 31,
     "metadata": {},
     "output_type": "execute_result"
    }
   ],
   "source": [
    "np.random.choice(len(predicted_labels), size=4)"
   ]
  },
  {
   "cell_type": "code",
   "execution_count": 32,
   "metadata": {},
   "outputs": [
    {
     "data": {
      "text/plain": [
       "[array([[3.96678806e-05, 3.98058000e-06, 3.38702848e-05, ...,\n",
       "         6.54884567e-13, 1.09143235e-04, 2.52989700e-08],\n",
       "        [1.30410620e-03, 5.15524589e-05, 8.75344455e-01, ...,\n",
       "         1.22334444e-04, 8.54313932e-03, 1.83601791e-04],\n",
       "        [5.10996662e-11, 3.16168531e-08, 3.75767877e-06, ...,\n",
       "         1.66628908e-07, 7.72503938e-07, 4.34525766e-08],\n",
       "        ...,\n",
       "        [1.28084254e-02, 4.40132801e-08, 9.81423199e-01, ...,\n",
       "         2.67416654e-05, 1.46600662e-03, 5.40045614e-04],\n",
       "        [2.41740257e-04, 1.03274139e-07, 9.30872484e-05, ...,\n",
       "         2.27463343e-11, 5.38241118e-04, 1.29560974e-07],\n",
       "        [8.15963745e-02, 9.17660415e-01, 2.61322220e-05, ...,\n",
       "         1.31250097e-04, 4.87192337e-05, 4.84492994e-05]], dtype=float32),\n",
       " array([[0.4825233 , 0.32346982, 0.84078455, 0.6994118 ],\n",
       "        [0.15529045, 0.13192081, 0.5331534 , 0.46479142],\n",
       "        [0.54852307, 0.34178212, 0.89124227, 0.61477166],\n",
       "        ...,\n",
       "        [0.7531239 , 0.49245846, 1.1134349 , 0.91775733],\n",
       "        [0.26330292, 0.6886959 , 0.57830775, 0.9943455 ],\n",
       "        [0.15999793, 0.00938424, 0.63507855, 0.44619542]], dtype=float32)]"
      ]
     },
     "execution_count": 32,
     "metadata": {},
     "output_type": "execute_result"
    }
   ],
   "source": [
    "\n",
    "predictions"
   ]
  },
  {
   "cell_type": "code",
   "execution_count": 33,
   "metadata": {},
   "outputs": [
    {
     "data": {
      "text/plain": [
       "array([[[[0.],\n",
       "         [0.],\n",
       "         [0.],\n",
       "         ...,\n",
       "         [0.],\n",
       "         [0.],\n",
       "         [0.]],\n",
       "\n",
       "        [[0.],\n",
       "         [0.],\n",
       "         [0.],\n",
       "         ...,\n",
       "         [0.],\n",
       "         [0.],\n",
       "         [0.]],\n",
       "\n",
       "        [[0.],\n",
       "         [0.],\n",
       "         [0.],\n",
       "         ...,\n",
       "         [0.],\n",
       "         [0.],\n",
       "         [0.]],\n",
       "\n",
       "        ...,\n",
       "\n",
       "        [[0.],\n",
       "         [0.],\n",
       "         [0.],\n",
       "         ...,\n",
       "         [0.],\n",
       "         [0.],\n",
       "         [0.]],\n",
       "\n",
       "        [[0.],\n",
       "         [0.],\n",
       "         [0.],\n",
       "         ...,\n",
       "         [0.],\n",
       "         [0.],\n",
       "         [0.]],\n",
       "\n",
       "        [[0.],\n",
       "         [0.],\n",
       "         [0.],\n",
       "         ...,\n",
       "         [0.],\n",
       "         [0.],\n",
       "         [0.]]],\n",
       "\n",
       "\n",
       "       [[[0.],\n",
       "         [0.],\n",
       "         [0.],\n",
       "         ...,\n",
       "         [0.],\n",
       "         [0.],\n",
       "         [0.]],\n",
       "\n",
       "        [[0.],\n",
       "         [0.],\n",
       "         [0.],\n",
       "         ...,\n",
       "         [0.],\n",
       "         [0.],\n",
       "         [0.]],\n",
       "\n",
       "        [[0.],\n",
       "         [0.],\n",
       "         [0.],\n",
       "         ...,\n",
       "         [0.],\n",
       "         [0.],\n",
       "         [0.]],\n",
       "\n",
       "        ...,\n",
       "\n",
       "        [[0.],\n",
       "         [0.],\n",
       "         [0.],\n",
       "         ...,\n",
       "         [0.],\n",
       "         [0.],\n",
       "         [0.]],\n",
       "\n",
       "        [[0.],\n",
       "         [0.],\n",
       "         [0.],\n",
       "         ...,\n",
       "         [0.],\n",
       "         [0.],\n",
       "         [0.]],\n",
       "\n",
       "        [[0.],\n",
       "         [0.],\n",
       "         [0.],\n",
       "         ...,\n",
       "         [0.],\n",
       "         [0.],\n",
       "         [0.]]],\n",
       "\n",
       "\n",
       "       [[[0.],\n",
       "         [0.],\n",
       "         [0.],\n",
       "         ...,\n",
       "         [0.],\n",
       "         [0.],\n",
       "         [0.]],\n",
       "\n",
       "        [[0.],\n",
       "         [0.],\n",
       "         [0.],\n",
       "         ...,\n",
       "         [0.],\n",
       "         [0.],\n",
       "         [0.]],\n",
       "\n",
       "        [[0.],\n",
       "         [0.],\n",
       "         [0.],\n",
       "         ...,\n",
       "         [0.],\n",
       "         [0.],\n",
       "         [0.]],\n",
       "\n",
       "        ...,\n",
       "\n",
       "        [[0.],\n",
       "         [0.],\n",
       "         [0.],\n",
       "         ...,\n",
       "         [0.],\n",
       "         [0.],\n",
       "         [0.]],\n",
       "\n",
       "        [[0.],\n",
       "         [0.],\n",
       "         [0.],\n",
       "         ...,\n",
       "         [0.],\n",
       "         [0.],\n",
       "         [0.]],\n",
       "\n",
       "        [[0.],\n",
       "         [0.],\n",
       "         [0.],\n",
       "         ...,\n",
       "         [0.],\n",
       "         [0.],\n",
       "         [0.]]],\n",
       "\n",
       "\n",
       "       ...,\n",
       "\n",
       "\n",
       "       [[[0.],\n",
       "         [0.],\n",
       "         [0.],\n",
       "         ...,\n",
       "         [0.],\n",
       "         [0.],\n",
       "         [0.]],\n",
       "\n",
       "        [[0.],\n",
       "         [0.],\n",
       "         [0.],\n",
       "         ...,\n",
       "         [0.],\n",
       "         [0.],\n",
       "         [0.]],\n",
       "\n",
       "        [[0.],\n",
       "         [0.],\n",
       "         [0.],\n",
       "         ...,\n",
       "         [0.],\n",
       "         [0.],\n",
       "         [0.]],\n",
       "\n",
       "        ...,\n",
       "\n",
       "        [[0.],\n",
       "         [0.],\n",
       "         [0.],\n",
       "         ...,\n",
       "         [0.],\n",
       "         [0.],\n",
       "         [0.]],\n",
       "\n",
       "        [[0.],\n",
       "         [0.],\n",
       "         [0.],\n",
       "         ...,\n",
       "         [0.],\n",
       "         [0.],\n",
       "         [0.]],\n",
       "\n",
       "        [[0.],\n",
       "         [0.],\n",
       "         [0.],\n",
       "         ...,\n",
       "         [0.],\n",
       "         [0.],\n",
       "         [0.]]],\n",
       "\n",
       "\n",
       "       [[[0.],\n",
       "         [0.],\n",
       "         [0.],\n",
       "         ...,\n",
       "         [0.],\n",
       "         [0.],\n",
       "         [0.]],\n",
       "\n",
       "        [[0.],\n",
       "         [0.],\n",
       "         [0.],\n",
       "         ...,\n",
       "         [0.],\n",
       "         [0.],\n",
       "         [0.]],\n",
       "\n",
       "        [[0.],\n",
       "         [0.],\n",
       "         [0.],\n",
       "         ...,\n",
       "         [0.],\n",
       "         [0.],\n",
       "         [0.]],\n",
       "\n",
       "        ...,\n",
       "\n",
       "        [[0.],\n",
       "         [0.],\n",
       "         [0.],\n",
       "         ...,\n",
       "         [0.],\n",
       "         [0.],\n",
       "         [0.]],\n",
       "\n",
       "        [[0.],\n",
       "         [0.],\n",
       "         [0.],\n",
       "         ...,\n",
       "         [0.],\n",
       "         [0.],\n",
       "         [0.]],\n",
       "\n",
       "        [[0.],\n",
       "         [0.],\n",
       "         [0.],\n",
       "         ...,\n",
       "         [0.],\n",
       "         [0.],\n",
       "         [0.]]],\n",
       "\n",
       "\n",
       "       [[[0.],\n",
       "         [0.],\n",
       "         [0.],\n",
       "         ...,\n",
       "         [0.],\n",
       "         [0.],\n",
       "         [0.]],\n",
       "\n",
       "        [[0.],\n",
       "         [0.],\n",
       "         [0.],\n",
       "         ...,\n",
       "         [0.],\n",
       "         [0.],\n",
       "         [0.]],\n",
       "\n",
       "        [[0.],\n",
       "         [0.],\n",
       "         [0.],\n",
       "         ...,\n",
       "         [0.],\n",
       "         [0.],\n",
       "         [0.]],\n",
       "\n",
       "        ...,\n",
       "\n",
       "        [[0.],\n",
       "         [0.],\n",
       "         [0.],\n",
       "         ...,\n",
       "         [0.],\n",
       "         [0.],\n",
       "         [0.]],\n",
       "\n",
       "        [[0.],\n",
       "         [0.],\n",
       "         [0.],\n",
       "         ...,\n",
       "         [0.],\n",
       "         [0.],\n",
       "         [0.]],\n",
       "\n",
       "        [[0.],\n",
       "         [0.],\n",
       "         [0.],\n",
       "         ...,\n",
       "         [0.],\n",
       "         [0.],\n",
       "         [0.]]]], dtype=float32)"
      ]
     },
     "execution_count": 33,
     "metadata": {},
     "output_type": "execute_result"
    }
   ],
   "source": [
    "valid_data"
   ]
  },
  {
   "cell_type": "code",
   "execution_count": null,
   "metadata": {},
   "outputs": [],
   "source": []
  },
  {
   "cell_type": "code",
   "execution_count": null,
   "metadata": {},
   "outputs": [],
   "source": []
  },
  {
   "cell_type": "code",
   "execution_count": null,
   "metadata": {},
   "outputs": [],
   "source": []
  },
  {
   "cell_type": "code",
   "execution_count": null,
   "metadata": {},
   "outputs": [],
   "source": []
  }
 ],
 "metadata": {
  "kernelspec": {
   "display_name": "Python 3",
   "language": "python",
   "name": "python3"
  },
  "language_info": {
   "codemirror_mode": {
    "name": "ipython",
    "version": 3
   },
   "file_extension": ".py",
   "mimetype": "text/x-python",
   "name": "python",
   "nbconvert_exporter": "python",
   "pygments_lexer": "ipython3",
   "version": "3.8.6"
  }
 },
 "nbformat": 4,
 "nbformat_minor": 4
}
