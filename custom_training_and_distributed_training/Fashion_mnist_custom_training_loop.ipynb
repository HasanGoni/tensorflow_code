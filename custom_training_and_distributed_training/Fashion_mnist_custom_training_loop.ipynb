{
 "cells": [
  {
   "cell_type": "code",
   "execution_count": 1,
   "metadata": {},
   "outputs": [],
   "source": [
    "import tensorflow as tf\n",
    "from tensorflow.keras.models import Model\n",
    "from tensorflow.keras.layers import Dense, Input\n",
    "\n",
    "import numpy as np\n",
    "import pandas as pd\n",
    "import matplotlib.pyplot as plt\n",
    "from sklearn.model_selection import train_test_split\n",
    "from sklearn.metrics import confusion_matrix\n",
    "\n",
    "import itertools\n",
    "from tqdm import tqdm\n",
    "import tensorflow_datasets as tfds\n",
    "import matplotlib.ticker as mticker\n"
   ]
  },
  {
   "cell_type": "code",
   "execution_count": 3,
   "metadata": {},
   "outputs": [
    {
     "name": "stdout",
     "output_type": "stream",
     "text": [
      "\u001b[1mDownloading and preparing dataset fashion_mnist/3.0.1 (download: 29.45 MiB, generated: 36.42 MiB, total: 65.87 MiB) to ./data/fashion_mnist/3.0.1...\u001b[0m\n"
     ]
    },
    {
     "data": {
      "application/vnd.jupyter.widget-view+json": {
       "model_id": "dd25b07adfc54fec95a0d03fc94d7ad1",
       "version_major": 2,
       "version_minor": 0
      },
      "text/plain": [
       "HBox(children=(HTML(value='Dl Completed...'), FloatProgress(value=1.0, bar_style='info', layout=Layout(width='…"
      ]
     },
     "metadata": {},
     "output_type": "display_data"
    },
    {
     "data": {
      "application/vnd.jupyter.widget-view+json": {
       "model_id": "d5d95d863db541d1b689c81d141aa6fa",
       "version_major": 2,
       "version_minor": 0
      },
      "text/plain": [
       "HBox(children=(HTML(value='Dl Size...'), FloatProgress(value=1.0, bar_style='info', layout=Layout(width='20px'…"
      ]
     },
     "metadata": {},
     "output_type": "display_data"
    },
    {
     "data": {
      "application/vnd.jupyter.widget-view+json": {
       "model_id": "ce4ff56b78104bf0af2a5e92915c6279",
       "version_major": 2,
       "version_minor": 0
      },
      "text/plain": [
       "HBox(children=(HTML(value='Extraction completed...'), FloatProgress(value=1.0, bar_style='info', layout=Layout…"
      ]
     },
     "metadata": {},
     "output_type": "display_data"
    },
    {
     "name": "stdout",
     "output_type": "stream",
     "text": [
      "\n",
      "\n",
      "\n",
      "\n",
      "\n",
      "\n"
     ]
    },
    {
     "data": {
      "application/vnd.jupyter.widget-view+json": {
       "model_id": "",
       "version_major": 2,
       "version_minor": 0
      },
      "text/plain": [
       "HBox(children=(HTML(value=''), FloatProgress(value=0.0, max=2.0), HTML(value='')))"
      ]
     },
     "metadata": {},
     "output_type": "display_data"
    },
    {
     "data": {
      "application/vnd.jupyter.widget-view+json": {
       "model_id": "",
       "version_major": 2,
       "version_minor": 0
      },
      "text/plain": [
       "HBox(children=(HTML(value=''), FloatProgress(value=0.0, max=60000.0), HTML(value='')))"
      ]
     },
     "metadata": {},
     "output_type": "display_data"
    },
    {
     "name": "stdout",
     "output_type": "stream",
     "text": [
      "Shuffling and writing examples to data/fashion_mnist/3.0.1.incomplete8W7U20/fashion_mnist-train.tfrecord\n"
     ]
    },
    {
     "data": {
      "application/vnd.jupyter.widget-view+json": {
       "model_id": "adf2dc7c1b31406c9dee932978f67527",
       "version_major": 2,
       "version_minor": 0
      },
      "text/plain": [
       "HBox(children=(HTML(value=''), FloatProgress(value=0.0, max=60000.0), HTML(value='')))"
      ]
     },
     "metadata": {},
     "output_type": "display_data"
    },
    {
     "data": {
      "application/vnd.jupyter.widget-view+json": {
       "model_id": "",
       "version_major": 2,
       "version_minor": 0
      },
      "text/plain": [
       "HBox(children=(HTML(value=''), FloatProgress(value=0.0, max=10000.0), HTML(value='')))"
      ]
     },
     "metadata": {},
     "output_type": "display_data"
    },
    {
     "name": "stdout",
     "output_type": "stream",
     "text": [
      "Shuffling and writing examples to data/fashion_mnist/3.0.1.incomplete8W7U20/fashion_mnist-test.tfrecord\n"
     ]
    },
    {
     "data": {
      "application/vnd.jupyter.widget-view+json": {
       "model_id": "7a14b6544ad84df4bc5e4a4102d5bbbc",
       "version_major": 2,
       "version_minor": 0
      },
      "text/plain": [
       "HBox(children=(HTML(value=''), FloatProgress(value=0.0, max=10000.0), HTML(value='')))"
      ]
     },
     "metadata": {},
     "output_type": "display_data"
    },
    {
     "name": "stdout",
     "output_type": "stream",
     "text": [
      "\u001b[1mDataset fashion_mnist downloaded and prepared to ./data/fashion_mnist/3.0.1. Subsequent calls will reuse this data.\u001b[0m\n"
     ]
    }
   ],
   "source": [
    "train_data, info = tfds.load(\"fashion_mnist\", split = \"train\", with_info = True, data_dir='./data/', download=True)\n",
    "test_data = tfds.load(\"fashion_mnist\", split = \"test\", data_dir='./data/', download=True)"
   ]
  },
  {
   "cell_type": "code",
   "execution_count": 4,
   "metadata": {},
   "outputs": [],
   "source": [
    "class_names = [\"T-shirt/top\", \"Trouser/pants\", \"Pullover shirt\", \"Dress\", \"Coat\", \"Sandal\", \"Shirt\", \"Sneaker\", \"Bag\", \"Ankle boot\"]"
   ]
  },
  {
   "cell_type": "code",
   "execution_count": 6,
   "metadata": {},
   "outputs": [],
   "source": [
    "def format_data(data):\n",
    "    im = data['image']\n",
    "    im = tf.reshape(im, [-1])\n",
    "    im = tf.cast(im, 'float32')\n",
    "    im = im /255.0\n",
    "    return im, data['label']"
   ]
  },
  {
   "cell_type": "code",
   "execution_count": 7,
   "metadata": {},
   "outputs": [],
   "source": [
    "train_data = train_data.map(format_data)\n",
    "test_data = test_data.map(format_data)"
   ]
  },
  {
   "cell_type": "code",
   "execution_count": 8,
   "metadata": {},
   "outputs": [],
   "source": [
    "bs =64\n",
    "train = train_data.shuffle(buffer_size = 1024).batch(bs)"
   ]
  },
  {
   "cell_type": "code",
   "execution_count": 9,
   "metadata": {},
   "outputs": [],
   "source": [
    "test = test_data.batch(batch_size = bs)"
   ]
  },
  {
   "cell_type": "markdown",
   "metadata": {},
   "source": [
    "# Getting one Batch data"
   ]
  },
  {
   "cell_type": "code",
   "execution_count": 12,
   "metadata": {},
   "outputs": [],
   "source": [
    "data, label = next(iter(train))"
   ]
  },
  {
   "cell_type": "code",
   "execution_count": 13,
   "metadata": {},
   "outputs": [
    {
     "data": {
      "text/plain": [
       "TensorShape([64, 784])"
      ]
     },
     "execution_count": 13,
     "metadata": {},
     "output_type": "execute_result"
    }
   ],
   "source": [
    "data.shape"
   ]
  },
  {
   "cell_type": "markdown",
   "metadata": {},
   "source": [
    "# Model"
   ]
  },
  {
   "cell_type": "code",
   "execution_count": 19,
   "metadata": {},
   "outputs": [],
   "source": [
    "def Model_get():\n",
    "    inputs = Input(shape= (784,), name = 'digits')\n",
    "    x = Dense(64,activation = 'relu', name = 'dense_1')(inputs)\n",
    "    x = Dense(64, activation = 'relu', name = 'dense_2')(x)\n",
    "    out = Dense(10, activation = 'softmax', name = 'prediction')(x)\n",
    "    mod = Model(inputs= inputs, outputs = out)\n",
    "    return mod"
   ]
  },
  {
   "cell_type": "code",
   "execution_count": 20,
   "metadata": {},
   "outputs": [],
   "source": [
    "model= Model_get()"
   ]
  },
  {
   "cell_type": "markdown",
   "metadata": {},
   "source": [
    "# Loss and optimizer"
   ]
  },
  {
   "cell_type": "code",
   "execution_count": 15,
   "metadata": {},
   "outputs": [],
   "source": [
    "loss_obj = tf.keras.losses.SparseCategoricalCrossentropy()\n",
    "opt = tf.keras.optimizers.Adam()"
   ]
  },
  {
   "cell_type": "markdown",
   "metadata": {},
   "source": [
    "# Metrics "
   ]
  },
  {
   "cell_type": "code",
   "execution_count": 16,
   "metadata": {},
   "outputs": [],
   "source": [
    "trn_metric = tf.keras.metrics.SparseCategoricalAccuracy()\n",
    "tst_metric = tf.keras.metrics.SparseCategoricalAccuracy()"
   ]
  },
  {
   "cell_type": "markdown",
   "metadata": {},
   "source": [
    "# Training loop"
   ]
  },
  {
   "cell_type": "markdown",
   "metadata": {},
   "source": [
    "we have 64 images in one batch. So trianinig loop contains\n",
    " 1. apply gradient to one image and continue it for whole batch in a loop\n",
    " 2. create loss for that batch and maybe accuracy for that batch \n",
    " 3. create loss for all batches i.e one epochs\n",
    " 4. continue for all epochs\n",
    " 5. at the end of all epochs see model accuracy\n",
    " 6. again continue with 1"
   ]
  },
  {
   "cell_type": "code",
   "execution_count": 47,
   "metadata": {},
   "outputs": [],
   "source": [
    "def Gradient_cal(optimizers, y_act, inputs, model):\n",
    "    with tf.GradientTape() as Tape:\n",
    "        logits = model(inputs)\n",
    "        pr_loss = loss_obj(y_act, logits)\n",
    "    gradients = Tape.gradient(pr_loss,model.trainable_weights)\n",
    "    optimizers.apply_gradients(zip(gradients, model.trainable_weights))\n",
    "    return logits, pr_loss"
   ]
  },
  {
   "cell_type": "markdown",
   "metadata": {},
   "source": [
    "Psudo training loop will be then\n",
    "\n",
    "\n",
    "```python\n",
    "def training_loop(all_data_batches) \n",
    "for batch in all_data_batches:\n",
    "    for image in batch\n",
    "        logits, loss = Gradient_cal(image)\n",
    "        \n",
    "```       "
   ]
  },
  {
   "cell_type": "code",
   "execution_count": 48,
   "metadata": {},
   "outputs": [],
   "source": [
    "\n",
    "def train_one_epoch():\n",
    "    loss_list =[]\n",
    "    pbar = tqdm(total=len(list(enumerate(train))), position=0, leave=True, bar_format='{l_bar}{bar}| {n_fmt}/{total_fmt} ')\n",
    "    for batch,(img_batch, lbl_batch) in enumerate(train):\n",
    "        logits, loss = Gradient_cal(opt, lbl_batch, img_batch, model)\n",
    "        loss_list.append(loss)\n",
    "        trn_metric(lbl_batch, logits)\n",
    "        \n",
    "        pbar.set_description(f'Training loss for batch {int(batch)} is = {float(loss):.4f}')\n",
    "        pbar.update()\n",
    "    return loss_list"
   ]
  },
  {
   "cell_type": "code",
   "execution_count": 49,
   "metadata": {},
   "outputs": [],
   "source": [
    "def mod_evl():\n",
    "    val_loss  =[]\n",
    "\n",
    "    for x_val, y_val in test:\n",
    "        val_logits = model(x_val)\n",
    "        loss_ = loss_obj(y_val, val_logits)\n",
    "        val_loss.append(loss_)\n",
    "        tst_metric(y_val,val_logits)\n",
    "        \n",
    "    return val_loss"
   ]
  },
  {
   "cell_type": "code",
   "execution_count": 52,
   "metadata": {},
   "outputs": [
    {
     "name": "stdout",
     "output_type": "stream",
     "text": [
      "Start of epoch (0,)\n"
     ]
    },
    {
     "name": "stderr",
     "output_type": "stream",
     "text": [
      "Training loss for step 937 is = 0.2281: 100%|██████████| 938/938 \n",
      "Training loss for step 937 is = 0.3560: 100%|██████████| 938/938 \n"
     ]
    },
    {
     "name": "stdout",
     "output_type": "stream",
     "text": [
      "\n",
      " Epoch 0: Train loss = 0.2263, Validation Loss: 0.3590, Train Accuracy: 0.8896, Validation Accuracy: 0.8745\n",
      "Start of epoch (1,)\n"
     ]
    },
    {
     "name": "stderr",
     "output_type": "stream",
     "text": [
      "Training loss for step 937 is = 0.0730: 100%|█████████▉| 937/938 "
     ]
    },
    {
     "name": "stdout",
     "output_type": "stream",
     "text": [
      "\n",
      " Epoch 1: Train loss = 0.2195, Validation Loss: 0.3802, Train Accuracy: 0.8913, Validation Accuracy: 0.8748\n",
      "Start of epoch (2,)\n"
     ]
    },
    {
     "name": "stderr",
     "output_type": "stream",
     "text": [
      "Training loss for step 937 is = 0.0730: 100%|██████████| 938/938 \n",
      "Training loss for step 937 is = 0.1164: 100%|██████████| 938/938 "
     ]
    },
    {
     "name": "stdout",
     "output_type": "stream",
     "text": [
      "\n",
      " Epoch 2: Train loss = 0.2155, Validation Loss: 0.3612, Train Accuracy: 0.8929, Validation Accuracy: 0.8750\n",
      "Start of epoch (3,)\n"
     ]
    },
    {
     "name": "stderr",
     "output_type": "stream",
     "text": [
      "\n",
      "Training loss for step 937 is = 0.1489: 100%|█████████▉| 937/938 "
     ]
    },
    {
     "name": "stdout",
     "output_type": "stream",
     "text": [
      "\n",
      " Epoch 3: Train loss = 0.2110, Validation Loss: 0.3815, Train Accuracy: 0.8945, Validation Accuracy: 0.8755\n",
      "Start of epoch (4,)\n"
     ]
    },
    {
     "name": "stderr",
     "output_type": "stream",
     "text": [
      "Training loss for step 937 is = 0.1138: 100%|█████████▉| 937/938 "
     ]
    },
    {
     "name": "stdout",
     "output_type": "stream",
     "text": [
      "\n",
      " Epoch 4: Train loss = 0.2055, Validation Loss: 0.3534, Train Accuracy: 0.8960, Validation Accuracy: 0.8763\n",
      "Start of epoch (5,)\n"
     ]
    },
    {
     "name": "stderr",
     "output_type": "stream",
     "text": [
      "Training loss for step 937 is = 0.1138: 100%|██████████| 938/938 \n",
      "Training loss for step 937 is = 0.2760: 100%|██████████| 938/938 "
     ]
    },
    {
     "name": "stdout",
     "output_type": "stream",
     "text": [
      "\n",
      " Epoch 5: Train loss = 0.2021, Validation Loss: 0.3661, Train Accuracy: 0.8974, Validation Accuracy: 0.8767\n",
      "Start of epoch (6,)\n"
     ]
    },
    {
     "name": "stderr",
     "output_type": "stream",
     "text": [
      "\n",
      "Training loss for step 937 is = 0.0839: 100%|█████████▉| 937/938 "
     ]
    },
    {
     "name": "stdout",
     "output_type": "stream",
     "text": [
      "\n",
      " Epoch 6: Train loss = 0.1969, Validation Loss: 0.3738, Train Accuracy: 0.8988, Validation Accuracy: 0.8769\n",
      "Start of epoch (7,)\n"
     ]
    },
    {
     "name": "stderr",
     "output_type": "stream",
     "text": [
      "Training loss for step 937 is = 0.1963: 100%|█████████▉| 937/938 "
     ]
    },
    {
     "name": "stdout",
     "output_type": "stream",
     "text": [
      "\n",
      " Epoch 7: Train loss = 0.1931, Validation Loss: 0.3786, Train Accuracy: 0.9001, Validation Accuracy: 0.8772\n",
      "Start of epoch (8,)\n"
     ]
    },
    {
     "name": "stderr",
     "output_type": "stream",
     "text": [
      "Training loss for step 937 is = 0.1963: 100%|██████████| 938/938 \n",
      "Training loss for step 937 is = 0.2750: 100%|██████████| 938/938 "
     ]
    },
    {
     "name": "stdout",
     "output_type": "stream",
     "text": [
      "\n",
      " Epoch 8: Train loss = 0.1903, Validation Loss: 0.3733, Train Accuracy: 0.9013, Validation Accuracy: 0.8776\n",
      "Start of epoch (9,)\n"
     ]
    },
    {
     "name": "stderr",
     "output_type": "stream",
     "text": [
      "\n",
      "Training loss for step 937 is = 0.0880: 100%|█████████▉| 937/938 "
     ]
    },
    {
     "name": "stdout",
     "output_type": "stream",
     "text": [
      "\n",
      " Epoch 9: Train loss = 0.1860, Validation Loss: 0.3724, Train Accuracy: 0.9025, Validation Accuracy: 0.8781\n"
     ]
    },
    {
     "name": "stderr",
     "output_type": "stream",
     "text": [
      "\r",
      "Training loss for step 937 is = 0.0880: 100%|██████████| 938/938 "
     ]
    }
   ],
   "source": [
    "epochs = 10\n",
    "epochs_val_losses, epochs_train_losses = [], []\n",
    "for epoch in range(epochs):\n",
    "    print(f'Start of epoch {epoch,}')\n",
    "  \n",
    "    losses_train = train_one_epoch()\n",
    "    train_acc = trn_metric.result()\n",
    "    \n",
    "    losses_val = mod_evl()\n",
    "    val_acc = tst_metric.result()\n",
    "    \n",
    "    #previously it was for all batches but we need mean\n",
    "    \n",
    "    loss_trn = np.mean(losses_train)\n",
    "    epochs_train_losses.append(loss_trn)\n",
    "    \n",
    "    \n",
    "    loss_val = np.mean(losses_val)\n",
    "    \n",
    "    epochs_val_losses.append(loss_val)\n",
    "    \n",
    "    print(f'\\n Epoch {epoch}: Train loss = {float(loss_trn):.4f}, Validation Loss: {float(loss_val):.4f}, Train Accuracy: {float(train_acc):.4f}, Validation Accuracy: {float(val_acc):.4f}') \n",
    "  "
   ]
  },
  {
   "cell_type": "code",
   "execution_count": 53,
   "metadata": {},
   "outputs": [],
   "source": [
    "test = test_data.batch(batch_size = 100001)"
   ]
  },
  {
   "cell_type": "code",
   "execution_count": 57,
   "metadata": {},
   "outputs": [],
   "source": [
    "for image, label in test:\n",
    "    y_pred = model(image)\n",
    "    y_pred_np = y_pred.numpy()\n",
    "    \n",
    "    y_act_np = label.numpy()\n",
    "    \n",
    "    x_np = image.numpy()"
   ]
  },
  {
   "cell_type": "code",
   "execution_count": 59,
   "metadata": {},
   "outputs": [
    {
     "data": {
      "text/plain": [
       "(10000, 784)"
      ]
     },
     "execution_count": 59,
     "metadata": {},
     "output_type": "execute_result"
    }
   ],
   "source": [
    "x_np.shape"
   ]
  },
  {
   "cell_type": "code",
   "execution_count": 63,
   "metadata": {},
   "outputs": [
    {
     "data": {
      "text/plain": [
       "array([6471, 7322, 6547, 4060, 8491,  929, 5704, 6515, 7076, 4272])"
      ]
     },
     "execution_count": 63,
     "metadata": {},
     "output_type": "execute_result"
    }
   ],
   "source": [
    "indexes = np.random.choice(len(label), size = 10)\n",
    "np.random.choice(len(label), size = 10)"
   ]
  },
  {
   "cell_type": "code",
   "execution_count": 68,
   "metadata": {},
   "outputs": [],
   "source": [
    "images_for_plot = x_np[indexes]\n",
    "label_for_plt_image = y_act_np[indexes]\n",
    "prd_for_plt_image = y_pred_np[indexes]"
   ]
  },
  {
   "cell_type": "markdown",
   "metadata": {},
   "source": [
    "At present labels are generally numbers, we need to somehow change those numbers to text so that in the image the text will be visible"
   ]
  },
  {
   "cell_type": "code",
   "execution_count": 69,
   "metadata": {},
   "outputs": [
    {
     "data": {
      "text/plain": [
       "array([1, 0, 3, 4, 3, 5, 3, 1, 8, 2])"
      ]
     },
     "execution_count": 69,
     "metadata": {},
     "output_type": "execute_result"
    }
   ],
   "source": [
    "label_for_plt_image"
   ]
  },
  {
   "cell_type": "code",
   "execution_count": 70,
   "metadata": {},
   "outputs": [
    {
     "data": {
      "text/plain": [
       "array([[2.9434298e-06, 9.9992096e-01, 2.0198875e-08, 7.2174516e-05,\n",
       "        2.2392090e-08, 3.1039706e-11, 3.8998605e-06, 3.1193835e-15,\n",
       "        2.4619988e-11, 9.7443610e-15],\n",
       "       [6.6268170e-01, 3.7050607e-09, 1.9506870e-06, 1.8092982e-07,\n",
       "        6.0800295e-07, 1.0034400e-14, 3.3731562e-01, 2.7578130e-17,\n",
       "        2.5204791e-10, 3.7185752e-13],\n",
       "       [1.9245394e-04, 4.0494987e-07, 6.9955694e-03, 9.3789208e-01,\n",
       "        4.0158462e-02, 6.5916419e-07, 1.4755718e-02, 4.9685595e-10,\n",
       "        8.8649153e-07, 3.7154994e-06],\n",
       "       [8.6790733e-06, 2.0930910e-08, 2.7245650e-02, 4.6955415e-07,\n",
       "        9.6496350e-01, 2.7432045e-12, 7.7816299e-03, 1.2859673e-11,\n",
       "        6.3286770e-08, 1.6081363e-10],\n",
       "       [1.1504063e-06, 6.9773846e-06, 5.1408482e-04, 9.9852544e-01,\n",
       "        6.6753576e-04, 5.8380927e-09, 2.8471259e-04, 1.7885809e-13,\n",
       "        1.0506032e-08, 5.9556267e-08],\n",
       "       [7.0278762e-11, 3.1878996e-16, 4.9426067e-11, 1.2855338e-13,\n",
       "        5.2520429e-11, 1.0000000e+00, 2.0376807e-09, 2.2600090e-11,\n",
       "        1.3772352e-11, 2.7192000e-11],\n",
       "       [8.6656964e-06, 8.7208986e-07, 4.6545363e-04, 9.7960681e-01,\n",
       "        1.8373873e-02, 1.6185037e-07, 1.5292196e-03, 4.1954307e-10,\n",
       "        2.1556846e-06, 1.2811834e-05],\n",
       "       [7.7786627e-14, 1.0000000e+00, 1.7194140e-17, 1.6557183e-10,\n",
       "        1.4787192e-11, 4.9839922e-16, 1.0461099e-11, 1.4690918e-21,\n",
       "        2.2310377e-16, 4.0626433e-20],\n",
       "       [1.9368506e-13, 1.5249358e-13, 3.1344094e-15, 2.1013396e-18,\n",
       "        2.1602825e-11, 1.9463172e-12, 2.5901627e-16, 1.8172154e-15,\n",
       "        1.0000000e+00, 5.8878193e-20],\n",
       "       [4.9453502e-05, 3.0644055e-15, 9.9994624e-01, 2.9334518e-10,\n",
       "        3.6566776e-06, 3.3028986e-16, 6.3856265e-07, 1.3062526e-14,\n",
       "        9.6615885e-14, 3.2835338e-12]], dtype=float32)"
      ]
     },
     "execution_count": 70,
     "metadata": {},
     "output_type": "execute_result"
    }
   ],
   "source": [
    "prd_for_plt_image"
   ]
  },
  {
   "cell_type": "markdown",
   "metadata": {},
   "source": [
    "we need to use ``np.argmax`` for prediction"
   ]
  },
  {
   "cell_type": "code",
   "execution_count": 71,
   "metadata": {},
   "outputs": [
    {
     "data": {
      "text/plain": [
       "[1, 0, 3, 4, 3, 5, 3, 1, 8, 2]"
      ]
     },
     "execution_count": 71,
     "metadata": {},
     "output_type": "execute_result"
    }
   ],
   "source": [
    "[np.argmax(i) for i in prd_for_plt_image]"
   ]
  },
  {
   "cell_type": "code",
   "execution_count": 72,
   "metadata": {},
   "outputs": [
    {
     "data": {
      "text/plain": [
       "['T-shirt/top',\n",
       " 'Trouser/pants',\n",
       " 'Pullover shirt',\n",
       " 'Dress',\n",
       " 'Coat',\n",
       " 'Sandal',\n",
       " 'Shirt',\n",
       " 'Sneaker',\n",
       " 'Bag',\n",
       " 'Ankle boot']"
      ]
     },
     "execution_count": 72,
     "metadata": {},
     "output_type": "execute_result"
    }
   ],
   "source": [
    "class_names"
   ]
  },
  {
   "cell_type": "code",
   "execution_count": 75,
   "metadata": {},
   "outputs": [],
   "source": [
    "pred_labels = [class_names[np.argmax(i)] for i in prd_for_plt_image]\n",
    "act_labels = [class_names[i] for i in label_for_plt_image]"
   ]
  },
  {
   "cell_type": "code",
   "execution_count": 95,
   "metadata": {},
   "outputs": [
    {
     "data": {
      "text/plain": [
       "['pred:Trouser/pants\\n\\n act:Trouser/pants',\n",
       " 'pred:T-shirt/top\\n\\n act:T-shirt/top',\n",
       " 'pred:Dress\\n\\n act:Dress',\n",
       " 'pred:Coat\\n\\n act:Coat',\n",
       " 'pred:Dress\\n\\n act:Dress',\n",
       " 'pred:Sandal\\n\\n act:Sandal',\n",
       " 'pred:Dress\\n\\n act:Dress',\n",
       " 'pred:Trouser/pants\\n\\n act:Trouser/pants',\n",
       " 'pred:Bag\\n\\n act:Bag',\n",
       " 'pred:Pullover shirt\\n\\n act:Pullover shirt']"
      ]
     },
     "execution_count": 95,
     "metadata": {},
     "output_type": "execute_result"
    }
   ],
   "source": [
    "strings_to_display = [f'pred:{y_pred}\\n\\n act:{y_act}'for y_pred, y_act in zip(pred_labels, act_labels)]\n",
    "strings_to_display"
   ]
  },
  {
   "cell_type": "code",
   "execution_count": 99,
   "metadata": {},
   "outputs": [
    {
     "data": {
      "image/png": "[encoded data removed]",
      "text/plain": [
       "<Figure size 1224x216 with 1 Axes>"
      ]
     },
     "metadata": {
      "needs_background": "light"
     },
     "output_type": "display_data"
    }
   ],
   "source": [
    "plt.figure(figsize=(17,3))\n",
    "image = np.reshape(images_for_plot,[10,28,28])\n",
    "image = np.swapaxes(image,0,1)\n",
    "image = np.reshape(image, [28, 28*10])\n",
    "plt.imshow(image)\n",
    "plt.title('Predictied and true labels');\n",
    "plt.yticks([])\n",
    "plt.xticks([28*x+14 for x in range(10)], strings_to_display);"
   ]
  },
  {
   "cell_type": "code",
   "execution_count": 101,
   "metadata": {},
   "outputs": [],
   "source": [
    "def display_n_images(images, predictions, labels, title, n):\n",
    "    strings_to_display = [f'pred:{y_pred}\\n\\n act:{y_act}'for y_pred, y_act in zip(predictions, labels)]\n",
    "    plt.figure(figsize=(17,3))\n",
    "    \n",
    "    image = np.reshape(images,[n,28,28])\n",
    "    image = np.swapaxes(image,0,1)\n",
    "    image = np.reshape(image, [28, 28*n])\n",
    "    plt.imshow(image)\n",
    "    plt.title('Predictied and true labels');\n",
    "    plt.yticks([])\n",
    "    plt.xticks([28*x+14 for x in range(n)], strings_to_display);"
   ]
  },
  {
   "cell_type": "code",
   "execution_count": 107,
   "metadata": {},
   "outputs": [
    {
     "data": {
      "image/png": "[encoded data removed]",
      "text/plain": [
       "<Figure size 1224x216 with 1 Axes>"
      ]
     },
     "metadata": {
      "needs_background": "light"
     },
     "output_type": "display_data"
    }
   ],
   "source": [
    "display_n_images(images_for_plot,pred_labels,act_labels,'predict vs actual',10)"
   ]
  },
  {
   "cell_type": "code",
   "execution_count": 108,
   "metadata": {},
   "outputs": [],
   "source": [
    "def display_random_test_image(test, number):\n",
    "    test = test_data.batch(batch_size = 100001)\n",
    "    \n",
    "    for image, label in test:\n",
    "        y_pred = model(image)\n",
    "        y_pred_np = y_pred.numpy()\n",
    "\n",
    "        y_act_np = label.numpy()\n",
    "\n",
    "        x_np = image.numpy()\n",
    "    indexes = np.random.choice(len(label), size = number)\n",
    "    np.random.choice(len(label), size = number)\n",
    "    \n",
    "    \n",
    "    images_for_plot = x_np[indexes]\n",
    "    label_for_plt_image = y_act_np[indexes]\n",
    "    prd_for_plt_image = y_pred_np[indexes]\n",
    "    \n",
    "    pred_labels = [class_names[np.argmax(i)] for i in prd_for_plt_image]\n",
    "    act_labels = [class_names[i] for i in label_for_plt_image]\n",
    "    \n",
    "    \n",
    "    strings_to_display = [f'pred:{y_pred}\\n\\n act:{y_act}'for y_pred, y_act in zip(pred_labels, act_labels)]\n",
    "    \n",
    "    \n",
    "    display_n_images(images_for_plot, pred_labels, act_labels, 'nice', number)"
   ]
  },
  {
   "cell_type": "code",
   "execution_count": 110,
   "metadata": {},
   "outputs": [
    {
     "data": {
      "image/png": "[encoded data removed]",
      "text/plain": [
       "<Figure size 1224x216 with 1 Axes>"
      ]
     },
     "metadata": {
      "needs_background": "light"
     },
     "output_type": "display_data"
    }
   ],
   "source": [
    "display_random_test_image(test, 5)"
   ]
  },
  {
   "cell_type": "code",
   "execution_count": null,
   "metadata": {},
   "outputs": [],
   "source": []
  }
 ],
 "metadata": {
  "kernelspec": {
   "display_name": "Python 3",
   "language": "python",
   "name": "python3"
  },
  "language_info": {
   "codemirror_mode": {
    "name": "ipython",
    "version": 3
   },
   "file_extension": ".py",
   "mimetype": "text/x-python",
   "name": "python",
   "nbconvert_exporter": "python",
   "pygments_lexer": "ipython3",
   "version": "3.8.5"
  }
 },
 "nbformat": 4,
 "nbformat_minor": 4
}
