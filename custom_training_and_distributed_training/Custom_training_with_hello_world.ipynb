{
 "cells": [
  {
   "cell_type": "code",
   "execution_count": 1,
   "metadata": {},
   "outputs": [],
   "source": [
    "import tensorflow as tf\n",
    "import numpy as np"
   ]
  },
  {
   "cell_type": "code",
   "execution_count": 2,
   "metadata": {},
   "outputs": [],
   "source": [
    "try:\n",
    "    %tensorflow_version 2.x\n",
    "except Exception:\n",
    "    pass"
   ]
  },
  {
   "cell_type": "code",
   "execution_count": 3,
   "metadata": {},
   "outputs": [],
   "source": [
    "import matplotlib.pyplot as plt"
   ]
  },
  {
   "cell_type": "markdown",
   "metadata": {},
   "source": [
    "# Data "
   ]
  },
  {
   "cell_type": "code",
   "execution_count": 14,
   "metadata": {},
   "outputs": [],
   "source": [
    "w_act = 3\n",
    "b_act = 2"
   ]
  },
  {
   "cell_type": "code",
   "execution_count": 17,
   "metadata": {},
   "outputs": [],
   "source": [
    "examples = 1000\n",
    "xs = tf.random.normal(shape=[examples])\n",
    "actual_data  = (w_act*xs) +b_act"
   ]
  },
  {
   "cell_type": "code",
   "execution_count": 19,
   "metadata": {},
   "outputs": [
    {
     "data": {
      "text/plain": [
       "[<matplotlib.lines.Line2D at 0x7fc9203019a0>]"
      ]
     },
     "execution_count": 19,
     "metadata": {},
     "output_type": "execute_result"
    },
    {
     "data": {
      "image/png": "[encoded data removed]",
      "text/plain": [
       "<Figure size 432x288 with 1 Axes>"
      ]
     },
     "metadata": {
      "needs_background": "light"
     },
     "output_type": "display_data"
    }
   ],
   "source": [
    "plt.plot(xs,actual_data)"
   ]
  },
  {
   "cell_type": "markdown",
   "metadata": {},
   "source": [
    "# Simple Model"
   ]
  },
  {
   "cell_type": "code",
   "execution_count": 39,
   "metadata": {},
   "outputs": [],
   "source": [
    "class Model():\n",
    "    def __init__(self):\n",
    "        self.w = tf.Variable(5.0)\n",
    "        self.b = tf.Variable(1.0)\n",
    "    def __call__(self, inputs):\n",
    "        return self.w * inputs + self.b"
   ]
  },
  {
   "cell_type": "code",
   "execution_count": 40,
   "metadata": {},
   "outputs": [],
   "source": [
    "model = Model()"
   ]
  },
  {
   "cell_type": "code",
   "execution_count": 41,
   "metadata": {},
   "outputs": [],
   "source": [
    "y_pred = model(xs)"
   ]
  },
  {
   "cell_type": "code",
   "execution_count": 42,
   "metadata": {},
   "outputs": [
    {
     "data": {
      "text/plain": [
       "<matplotlib.legend.Legend at 0x7fc8a00e7df0>"
      ]
     },
     "execution_count": 42,
     "metadata": {},
     "output_type": "execute_result"
    },
    {
     "data": {
      "image/png": "[encoded data removed]",
      "text/plain": [
       "<Figure size 432x288 with 1 Axes>"
      ]
     },
     "metadata": {
      "needs_background": "light"
     },
     "output_type": "display_data"
    }
   ],
   "source": [
    "act = plt.scatter(xs,actual_data)\n",
    "pre = plt.scatter(xs,y_pred)\n",
    "plt.legend((act, pre),('act_data','predicted_data'))"
   ]
  },
  {
   "cell_type": "markdown",
   "metadata": {},
   "source": [
    "# Training"
   ]
  },
  {
   "cell_type": "markdown",
   "metadata": {},
   "source": [
    "- What we have right now ?\n",
    " - data\n",
    " - model\n",
    " \n",
    "- What we need to train now\n",
    " - loss\n",
    " - optimizer (SGD)\n",
    "    - learning rate\n",
    " "
   ]
  },
  {
   "cell_type": "code",
   "execution_count": 43,
   "metadata": {},
   "outputs": [],
   "source": [
    "def loss_func(y_pred, y_act ):\n",
    "    return tf.reduce_mean(tf.square((y_pred- y_act)))"
   ]
  },
  {
   "cell_type": "code",
   "execution_count": 44,
   "metadata": {},
   "outputs": [],
   "source": [
    "def training_loop(inputs, y_act, model,lr):\n",
    "    with tf.GradientTape() as t:\n",
    "        c_loss = loss_func(model(inputs), y_act)\n",
    "    dw, db = t.gradient(c_loss,[model.w, model.b])\n",
    "    model.w.assign_sub(lr*dw)\n",
    "    model.b.assign_sub(lr*db)\n",
    "    \n",
    "    return c_loss"
   ]
  },
  {
   "cell_type": "markdown",
   "metadata": {},
   "source": [
    "Now we defined the function. Now we need to train it"
   ]
  },
  {
   "cell_type": "code",
   "execution_count": 45,
   "metadata": {},
   "outputs": [
    {
     "name": "stdout",
     "output_type": "stream",
     "text": [
      "Epoch  0: w=4.60 b=1.22, loss=5.06330\n",
      "Epoch  1: w=4.28 b=1.39, loss=3.21849\n",
      "Epoch  2: w=4.03 b=1.52, loss=2.04638\n",
      "Epoch  3: w=3.82 b=1.62, loss=1.30148\n",
      "Epoch  4: w=3.66 b=1.70, loss=0.82797\n",
      "Epoch  5: w=3.53 b=1.77, loss=0.52688\n",
      "Epoch  6: w=3.42 b=1.82, loss=0.33538\n",
      "Epoch  7: w=3.34 b=1.86, loss=0.21355\n",
      "Epoch  8: w=3.27 b=1.89, loss=0.13601\n",
      "Epoch  9: w=3.22 b=1.91, loss=0.08666\n",
      "Epoch 10: w=3.17 b=1.93, loss=0.05523\n",
      "Epoch 11: w=3.14 b=1.95, loss=0.03521\n",
      "Epoch 12: w=3.11 b=1.96, loss=0.02246\n",
      "Epoch 13: w=3.09 b=1.97, loss=0.01433\n",
      "Epoch 14: w=3.07 b=1.98, loss=0.00914\n"
     ]
    }
   ],
   "source": [
    "losses, weightses, biases = [], [],[]\n",
    "epochs = range(15)\n",
    "for i in epochs:\n",
    "    c_loss = training_loop(xs,actual_data, model, 0.1)\n",
    "    losses.append(c_loss)\n",
    "    weightses.append(model.w.numpy())\n",
    "    biases.append(model.b.numpy())\n",
    "    print('Epoch %2d: w=%1.2f b=%1.2f, loss=%2.5f' %\n",
    "        (i, weightses[-1], biases[-1], c_loss))"
   ]
  },
  {
   "cell_type": "code",
   "execution_count": 46,
   "metadata": {},
   "outputs": [
    {
     "data": {
      "image/png": "[encoded data removed]",
      "text/plain": [
       "<Figure size 432x288 with 1 Axes>"
      ]
     },
     "metadata": {
      "needs_background": "light"
     },
     "output_type": "display_data"
    }
   ],
   "source": [
    "plt.plot(epochs, weightses, 'r',epochs, biases, 'b')\n",
    "plt.plot([w_act] * len(epochs), 'r--',[b_act] * len(epochs), 'b--')\n",
    "plt.legend(['w', 'b', 'True w', 'True b'])\n",
    "plt.show()"
   ]
  },
  {
   "cell_type": "code",
   "execution_count": 50,
   "metadata": {},
   "outputs": [],
   "source": [
    "def plot_loss_for_weights(weights_list, losses):\n",
    "  for idx, weights in enumerate(weights_list):\n",
    "    plt.subplot(120 + idx + 1)\n",
    "    plt.plot(weights['values'], losses, 'r')\n",
    "    plt.plot(weights['values'], losses, 'bo')\n",
    "    plt.xlabel(weights['name'])\n",
    "    plt.ylabel('Loss')"
   ]
  },
  {
   "cell_type": "code",
   "execution_count": 51,
   "metadata": {},
   "outputs": [],
   "source": [
    "    \n",
    "weights_list = [{ 'name' : \"w\",\n",
    "                  'values' : weightses\n",
    "                },\n",
    "                {\n",
    "                  'name' : \"b\",\n",
    "                  'values' : biases\n",
    "                }]"
   ]
  },
  {
   "cell_type": "code",
   "execution_count": 52,
   "metadata": {},
   "outputs": [
    {
     "data": {
      "image/png": "[encoded data removed]",
      "text/plain": [
       "<Figure size 432x288 with 2 Axes>"
      ]
     },
     "metadata": {
      "needs_background": "light"
     },
     "output_type": "display_data"
    }
   ],
   "source": [
    "\n",
    "plot_loss_for_weights(weights_list, losses)"
   ]
  },
  {
   "cell_type": "code",
   "execution_count": null,
   "metadata": {},
   "outputs": [],
   "source": []
  }
 ],
 "metadata": {
  "kernelspec": {
   "display_name": "Python 3",
   "language": "python",
   "name": "python3"
  },
  "language_info": {
   "codemirror_mode": {
    "name": "ipython",
    "version": 3
   },
   "file_extension": ".py",
   "mimetype": "text/x-python",
   "name": "python",
   "nbconvert_exporter": "python",
   "pygments_lexer": "ipython3",
   "version": "3.8.6"
  }
 },
 "nbformat": 4,
 "nbformat_minor": 4
}
