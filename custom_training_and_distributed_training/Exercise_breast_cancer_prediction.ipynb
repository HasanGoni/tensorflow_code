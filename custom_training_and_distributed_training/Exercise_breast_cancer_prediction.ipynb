{
 "cells": [
  {
   "cell_type": "code",
   "execution_count": 1,
   "metadata": {},
   "outputs": [],
   "source": [
    "import tensorflow as tf\n",
    "from tensorflow.keras.models import Model\n",
    "from tensorflow.keras.layers import Dense, Input\n",
    "\n",
    "import numpy as np\n",
    "import matplotlib.pyplot as plt\n",
    "import matplotlib.ticker as mticker\n",
    "import pandas as pd\n",
    "from sklearn.model_selection import train_test_split\n",
    "from sklearn.metrics import confusion_matrix\n",
    "import itertools\n",
    "from tqdm import tqdm\n",
    "import tensorflow_datasets as tfds\n",
    "\n",
    "tf.get_logger().setLevel('ERROR')"
   ]
  },
  {
   "cell_type": "code",
   "execution_count": 2,
   "metadata": {},
   "outputs": [
    {
     "name": "stdout",
     "output_type": "stream",
     "text": [
      "Downloading data from https://archive.ics.uci.edu/ml/machine-learning-databases/breast-cancer-wisconsin/breast-cancer-wisconsin.data\n",
      "24576/19889 [=====================================] - 0s 8us/step\n"
     ]
    }
   ],
   "source": [
    "DATASET_URL = \"https://archive.ics.uci.edu/ml/machine-learning-databases/breast-cancer-wisconsin/breast-cancer-wisconsin.data\"\n",
    "data_file = tf.keras.utils.get_file(\"breast_cancer.csv\", DATASET_URL)\n",
    "col_names = [\"id\", \"clump_thickness\", \"un_cell_size\", \"un_cell_shape\", \"marginal_adheshion\", \"single_eph_cell_size\", \"bare_nuclei\", \"bland_chromatin\", \"normal_nucleoli\", \"mitoses\", \"class\"]\n",
    "df = pd.read_csv(data_file, names=col_names, header=None)"
   ]
  },
  {
   "cell_type": "code",
   "execution_count": 3,
   "metadata": {},
   "outputs": [
    {
     "data": {
      "text/html": [
       "<div>\n",
       "<style scoped>\n",
       "    .dataframe tbody tr th:only-of-type {\n",
       "        vertical-align: middle;\n",
       "    }\n",
       "\n",
       "    .dataframe tbody tr th {\n",
       "        vertical-align: top;\n",
       "    }\n",
       "\n",
       "    .dataframe thead th {\n",
       "        text-align: right;\n",
       "    }\n",
       "</style>\n",
       "<table border=\"1\" class=\"dataframe\">\n",
       "  <thead>\n",
       "    <tr style=\"text-align: right;\">\n",
       "      <th></th>\n",
       "      <th>id</th>\n",
       "      <th>clump_thickness</th>\n",
       "      <th>un_cell_size</th>\n",
       "      <th>un_cell_shape</th>\n",
       "      <th>marginal_adheshion</th>\n",
       "      <th>single_eph_cell_size</th>\n",
       "      <th>bare_nuclei</th>\n",
       "      <th>bland_chromatin</th>\n",
       "      <th>normal_nucleoli</th>\n",
       "      <th>mitoses</th>\n",
       "      <th>class</th>\n",
       "    </tr>\n",
       "  </thead>\n",
       "  <tbody>\n",
       "    <tr>\n",
       "      <th>0</th>\n",
       "      <td>1000025</td>\n",
       "      <td>5</td>\n",
       "      <td>1</td>\n",
       "      <td>1</td>\n",
       "      <td>1</td>\n",
       "      <td>2</td>\n",
       "      <td>1</td>\n",
       "      <td>3</td>\n",
       "      <td>1</td>\n",
       "      <td>1</td>\n",
       "      <td>2</td>\n",
       "    </tr>\n",
       "    <tr>\n",
       "      <th>1</th>\n",
       "      <td>1002945</td>\n",
       "      <td>5</td>\n",
       "      <td>4</td>\n",
       "      <td>4</td>\n",
       "      <td>5</td>\n",
       "      <td>7</td>\n",
       "      <td>10</td>\n",
       "      <td>3</td>\n",
       "      <td>2</td>\n",
       "      <td>1</td>\n",
       "      <td>2</td>\n",
       "    </tr>\n",
       "    <tr>\n",
       "      <th>2</th>\n",
       "      <td>1015425</td>\n",
       "      <td>3</td>\n",
       "      <td>1</td>\n",
       "      <td>1</td>\n",
       "      <td>1</td>\n",
       "      <td>2</td>\n",
       "      <td>2</td>\n",
       "      <td>3</td>\n",
       "      <td>1</td>\n",
       "      <td>1</td>\n",
       "      <td>2</td>\n",
       "    </tr>\n",
       "    <tr>\n",
       "      <th>3</th>\n",
       "      <td>1016277</td>\n",
       "      <td>6</td>\n",
       "      <td>8</td>\n",
       "      <td>8</td>\n",
       "      <td>1</td>\n",
       "      <td>3</td>\n",
       "      <td>4</td>\n",
       "      <td>3</td>\n",
       "      <td>7</td>\n",
       "      <td>1</td>\n",
       "      <td>2</td>\n",
       "    </tr>\n",
       "    <tr>\n",
       "      <th>4</th>\n",
       "      <td>1017023</td>\n",
       "      <td>4</td>\n",
       "      <td>1</td>\n",
       "      <td>1</td>\n",
       "      <td>3</td>\n",
       "      <td>2</td>\n",
       "      <td>1</td>\n",
       "      <td>3</td>\n",
       "      <td>1</td>\n",
       "      <td>1</td>\n",
       "      <td>2</td>\n",
       "    </tr>\n",
       "  </tbody>\n",
       "</table>\n",
       "</div>"
      ],
      "text/plain": [
       "        id  clump_thickness  un_cell_size  un_cell_shape  marginal_adheshion  \\\n",
       "0  1000025                5             1              1                   1   \n",
       "1  1002945                5             4              4                   5   \n",
       "2  1015425                3             1              1                   1   \n",
       "3  1016277                6             8              8                   1   \n",
       "4  1017023                4             1              1                   3   \n",
       "\n",
       "   single_eph_cell_size bare_nuclei  bland_chromatin  normal_nucleoli  \\\n",
       "0                     2           1                3                1   \n",
       "1                     7          10                3                2   \n",
       "2                     2           2                3                1   \n",
       "3                     3           4                3                7   \n",
       "4                     2           1                3                1   \n",
       "\n",
       "   mitoses  class  \n",
       "0        1      2  \n",
       "1        1      2  \n",
       "2        1      2  \n",
       "3        1      2  \n",
       "4        1      2  "
      ]
     },
     "execution_count": 3,
     "metadata": {},
     "output_type": "execute_result"
    }
   ],
   "source": [
    "df.head()"
   ]
  },
  {
   "cell_type": "code",
   "execution_count": 4,
   "metadata": {},
   "outputs": [
    {
     "data": {
      "text/plain": [
       "0      1000025\n",
       "1      1002945\n",
       "2      1015425\n",
       "3      1016277\n",
       "4      1017023\n",
       "        ...   \n",
       "694     776715\n",
       "695     841769\n",
       "696     888820\n",
       "697     897471\n",
       "698     897471\n",
       "Name: id, Length: 699, dtype: int64"
      ]
     },
     "execution_count": 4,
     "metadata": {},
     "output_type": "execute_result"
    }
   ],
   "source": [
    "df.pop(\"id\")"
   ]
  },
  {
   "cell_type": "code",
   "execution_count": 5,
   "metadata": {},
   "outputs": [],
   "source": [
    "df = df[df[\"bare_nuclei\"] != '?' ]\n",
    "df.bare_nuclei = pd.to_numeric(df.bare_nuclei)"
   ]
  },
  {
   "cell_type": "code",
   "execution_count": 6,
   "metadata": {},
   "outputs": [
    {
     "data": {
      "text/plain": [
       "<AxesSubplot:>"
      ]
     },
     "execution_count": 6,
     "metadata": {},
     "output_type": "execute_result"
    },
    {
     "data": {
      "image/png": "[encoded data removed]",
      "text/plain": [
       "<Figure size 432x288 with 1 Axes>"
      ]
     },
     "metadata": {
      "needs_background": "light"
     },
     "output_type": "display_data"
    }
   ],
   "source": [
    "df['class'].hist(bins=20) "
   ]
  },
  {
   "cell_type": "code",
   "execution_count": 7,
   "metadata": {},
   "outputs": [],
   "source": [
    "df['class'] = np.where(df['class'] == 2, 0, 1)"
   ]
  },
  {
   "cell_type": "code",
   "execution_count": 9,
   "metadata": {},
   "outputs": [],
   "source": [
    "train, test = train_test_split(df, test_size = 0.2)"
   ]
  },
  {
   "cell_type": "code",
   "execution_count": 10,
   "metadata": {},
   "outputs": [
    {
     "data": {
      "text/html": [
       "<div>\n",
       "<style scoped>\n",
       "    .dataframe tbody tr th:only-of-type {\n",
       "        vertical-align: middle;\n",
       "    }\n",
       "\n",
       "    .dataframe tbody tr th {\n",
       "        vertical-align: top;\n",
       "    }\n",
       "\n",
       "    .dataframe thead th {\n",
       "        text-align: right;\n",
       "    }\n",
       "</style>\n",
       "<table border=\"1\" class=\"dataframe\">\n",
       "  <thead>\n",
       "    <tr style=\"text-align: right;\">\n",
       "      <th></th>\n",
       "      <th>clump_thickness</th>\n",
       "      <th>un_cell_size</th>\n",
       "      <th>un_cell_shape</th>\n",
       "      <th>marginal_adheshion</th>\n",
       "      <th>single_eph_cell_size</th>\n",
       "      <th>bare_nuclei</th>\n",
       "      <th>bland_chromatin</th>\n",
       "      <th>normal_nucleoli</th>\n",
       "      <th>mitoses</th>\n",
       "      <th>class</th>\n",
       "    </tr>\n",
       "  </thead>\n",
       "  <tbody>\n",
       "    <tr>\n",
       "      <th>count</th>\n",
       "      <td>546.000000</td>\n",
       "      <td>546.000000</td>\n",
       "      <td>546.000000</td>\n",
       "      <td>546.000000</td>\n",
       "      <td>546.000000</td>\n",
       "      <td>546.000000</td>\n",
       "      <td>546.000000</td>\n",
       "      <td>546.000000</td>\n",
       "      <td>546.000000</td>\n",
       "      <td>546.000000</td>\n",
       "    </tr>\n",
       "    <tr>\n",
       "      <th>mean</th>\n",
       "      <td>4.521978</td>\n",
       "      <td>3.250916</td>\n",
       "      <td>3.327839</td>\n",
       "      <td>2.891941</td>\n",
       "      <td>3.315018</td>\n",
       "      <td>3.652015</td>\n",
       "      <td>3.525641</td>\n",
       "      <td>2.945055</td>\n",
       "      <td>1.635531</td>\n",
       "      <td>0.364469</td>\n",
       "    </tr>\n",
       "    <tr>\n",
       "      <th>std</th>\n",
       "      <td>2.876107</td>\n",
       "      <td>3.151416</td>\n",
       "      <td>3.062744</td>\n",
       "      <td>2.894672</td>\n",
       "      <td>2.288310</td>\n",
       "      <td>3.712583</td>\n",
       "      <td>2.468198</td>\n",
       "      <td>3.115028</td>\n",
       "      <td>1.788070</td>\n",
       "      <td>0.481722</td>\n",
       "    </tr>\n",
       "    <tr>\n",
       "      <th>min</th>\n",
       "      <td>1.000000</td>\n",
       "      <td>1.000000</td>\n",
       "      <td>1.000000</td>\n",
       "      <td>1.000000</td>\n",
       "      <td>1.000000</td>\n",
       "      <td>1.000000</td>\n",
       "      <td>1.000000</td>\n",
       "      <td>1.000000</td>\n",
       "      <td>1.000000</td>\n",
       "      <td>0.000000</td>\n",
       "    </tr>\n",
       "    <tr>\n",
       "      <th>25%</th>\n",
       "      <td>2.000000</td>\n",
       "      <td>1.000000</td>\n",
       "      <td>1.000000</td>\n",
       "      <td>1.000000</td>\n",
       "      <td>2.000000</td>\n",
       "      <td>1.000000</td>\n",
       "      <td>2.000000</td>\n",
       "      <td>1.000000</td>\n",
       "      <td>1.000000</td>\n",
       "      <td>0.000000</td>\n",
       "    </tr>\n",
       "    <tr>\n",
       "      <th>50%</th>\n",
       "      <td>4.000000</td>\n",
       "      <td>1.000000</td>\n",
       "      <td>2.000000</td>\n",
       "      <td>1.000000</td>\n",
       "      <td>2.000000</td>\n",
       "      <td>1.000000</td>\n",
       "      <td>3.000000</td>\n",
       "      <td>1.000000</td>\n",
       "      <td>1.000000</td>\n",
       "      <td>0.000000</td>\n",
       "    </tr>\n",
       "    <tr>\n",
       "      <th>75%</th>\n",
       "      <td>6.000000</td>\n",
       "      <td>5.000000</td>\n",
       "      <td>5.000000</td>\n",
       "      <td>4.000000</td>\n",
       "      <td>4.000000</td>\n",
       "      <td>7.750000</td>\n",
       "      <td>5.000000</td>\n",
       "      <td>4.000000</td>\n",
       "      <td>1.000000</td>\n",
       "      <td>1.000000</td>\n",
       "    </tr>\n",
       "    <tr>\n",
       "      <th>max</th>\n",
       "      <td>10.000000</td>\n",
       "      <td>10.000000</td>\n",
       "      <td>10.000000</td>\n",
       "      <td>10.000000</td>\n",
       "      <td>10.000000</td>\n",
       "      <td>10.000000</td>\n",
       "      <td>10.000000</td>\n",
       "      <td>10.000000</td>\n",
       "      <td>10.000000</td>\n",
       "      <td>1.000000</td>\n",
       "    </tr>\n",
       "  </tbody>\n",
       "</table>\n",
       "</div>"
      ],
      "text/plain": [
       "       clump_thickness  un_cell_size  un_cell_shape  marginal_adheshion  \\\n",
       "count       546.000000    546.000000     546.000000          546.000000   \n",
       "mean          4.521978      3.250916       3.327839            2.891941   \n",
       "std           2.876107      3.151416       3.062744            2.894672   \n",
       "min           1.000000      1.000000       1.000000            1.000000   \n",
       "25%           2.000000      1.000000       1.000000            1.000000   \n",
       "50%           4.000000      1.000000       2.000000            1.000000   \n",
       "75%           6.000000      5.000000       5.000000            4.000000   \n",
       "max          10.000000     10.000000      10.000000           10.000000   \n",
       "\n",
       "       single_eph_cell_size  bare_nuclei  bland_chromatin  normal_nucleoli  \\\n",
       "count            546.000000   546.000000       546.000000       546.000000   \n",
       "mean               3.315018     3.652015         3.525641         2.945055   \n",
       "std                2.288310     3.712583         2.468198         3.115028   \n",
       "min                1.000000     1.000000         1.000000         1.000000   \n",
       "25%                2.000000     1.000000         2.000000         1.000000   \n",
       "50%                2.000000     1.000000         3.000000         1.000000   \n",
       "75%                4.000000     7.750000         5.000000         4.000000   \n",
       "max               10.000000    10.000000        10.000000        10.000000   \n",
       "\n",
       "          mitoses       class  \n",
       "count  546.000000  546.000000  \n",
       "mean     1.635531    0.364469  \n",
       "std      1.788070    0.481722  \n",
       "min      1.000000    0.000000  \n",
       "25%      1.000000    0.000000  \n",
       "50%      1.000000    0.000000  \n",
       "75%      1.000000    1.000000  \n",
       "max     10.000000    1.000000  "
      ]
     },
     "execution_count": 10,
     "metadata": {},
     "output_type": "execute_result"
    }
   ],
   "source": [
    "train_stats = train.describe()\n",
    "train_stats"
   ]
  },
  {
   "cell_type": "code",
   "execution_count": 11,
   "metadata": {},
   "outputs": [
    {
     "data": {
      "text/plain": [
       "count    546.000000\n",
       "mean       0.364469\n",
       "std        0.481722\n",
       "min        0.000000\n",
       "25%        0.000000\n",
       "50%        0.000000\n",
       "75%        1.000000\n",
       "max        1.000000\n",
       "Name: class, dtype: float64"
      ]
     },
     "execution_count": 11,
     "metadata": {},
     "output_type": "execute_result"
    }
   ],
   "source": [
    "train_stats.pop('class')"
   ]
  },
  {
   "cell_type": "code",
   "execution_count": 13,
   "metadata": {},
   "outputs": [],
   "source": [
    "train_stats = train_stats.T"
   ]
  },
  {
   "cell_type": "code",
   "execution_count": 14,
   "metadata": {},
   "outputs": [],
   "source": [
    "train_y= train.pop('class')\n",
    "test_y= test.pop('class')\n"
   ]
  },
  {
   "cell_type": "code",
   "execution_count": 17,
   "metadata": {},
   "outputs": [
    {
     "data": {
      "text/plain": [
       "<AxesSubplot:>"
      ]
     },
     "execution_count": 17,
     "metadata": {},
     "output_type": "execute_result"
    },
    {
     "data": {
      "image/png": "[encoded data removed]",
      "text/plain": [
       "<Figure size 432x288 with 1 Axes>"
      ]
     },
     "metadata": {
      "needs_background": "light"
     },
     "output_type": "display_data"
    }
   ],
   "source": [
    "train_y.value_counts().plot.barh()"
   ]
  },
  {
   "cell_type": "code",
   "execution_count": 20,
   "metadata": {},
   "outputs": [],
   "source": [
    "def normalize(x):\n",
    "    return (x-train_stats['mean'])/train_stats['std']"
   ]
  },
  {
   "cell_type": "code",
   "execution_count": 21,
   "metadata": {},
   "outputs": [],
   "source": [
    "norm_train_X = normalize(train)\n",
    "norm_test_X = normalize(test)"
   ]
  },
  {
   "cell_type": "markdown",
   "metadata": {},
   "source": [
    "- Now to train a model we need to create dataset \n",
    "- then we need to batch them"
   ]
  },
  {
   "cell_type": "code",
   "execution_count": 25,
   "metadata": {},
   "outputs": [],
   "source": [
    "trn_dataset = tf.data.Dataset.from_tensor_slices((norm_train_X.values, train_y.values))\n",
    "test_dataset = tf.data.Dataset.from_tensor_slices((norm_test_X.values, test_y.values))"
   ]
  },
  {
   "cell_type": "code",
   "execution_count": 27,
   "metadata": {},
   "outputs": [],
   "source": [
    "bs = 32\n",
    "train_dataset = trn_dataset.shuffle(buffer_size= len(train)).batch(bs)\n",
    "test_dataset = test_dataset.batch(bs)"
   ]
  },
  {
   "cell_type": "code",
   "execution_count": 42,
   "metadata": {},
   "outputs": [],
   "source": [
    "a = enumerate(train_dataset)"
   ]
  },
  {
   "cell_type": "code",
   "execution_count": 43,
   "metadata": {},
   "outputs": [
    {
     "data": {
      "text/plain": [
       "18"
      ]
     },
     "execution_count": 43,
     "metadata": {},
     "output_type": "execute_result"
    }
   ],
   "source": [
    "len(list(a))"
   ]
  },
  {
   "cell_type": "code",
   "execution_count": 45,
   "metadata": {},
   "outputs": [],
   "source": [
    "def base_model():\n",
    "    inputs = tf.keras.layers.Input(shape=(len(train.columns)))\n",
    "\n",
    "    x = tf.keras.layers.Dense(128, activation='relu')(inputs)\n",
    "    x = tf.keras.layers.Dense(64, activation='relu')(x)\n",
    "    outputs = tf.keras.layers.Dense(1, activation='sigmoid')(x)\n",
    "    model = tf.keras.Model(inputs=inputs, outputs=outputs)\n",
    "    return model\n",
    "\n",
    "model = base_model()"
   ]
  },
  {
   "cell_type": "code",
   "execution_count": 46,
   "metadata": {},
   "outputs": [],
   "source": [
    "optimizer = tf.keras.optimizers.RMSprop(learning_rate=0.001)\n",
    "loss_object = tf.keras.losses.BinaryCrossentropy()"
   ]
  },
  {
   "cell_type": "code",
   "execution_count": 48,
   "metadata": {},
   "outputs": [
    {
     "name": "stdout",
     "output_type": "stream",
     "text": [
      "Loss before training 0.6710\n"
     ]
    }
   ],
   "source": [
    "outputs = model(norm_test_X.values)\n",
    "loss_value = loss_object(y_true=test_y.values, y_pred=outputs)\n",
    "print(\"Loss before training %.4f\" % loss_value.numpy())"
   ]
  },
  {
   "cell_type": "code",
   "execution_count": 55,
   "metadata": {},
   "outputs": [
    {
     "data": {
      "text/plain": [
       "<tf.Tensor: shape=(137, 1), dtype=float32, numpy=\n",
       "array([[0.],\n",
       "       [0.],\n",
       "       [0.],\n",
       "       [0.],\n",
       "       [0.],\n",
       "       [0.],\n",
       "       [1.],\n",
       "       [0.],\n",
       "       [1.],\n",
       "       [0.],\n",
       "       [0.],\n",
       "       [1.],\n",
       "       [0.],\n",
       "       [0.],\n",
       "       [0.],\n",
       "       [1.],\n",
       "       [0.],\n",
       "       [0.],\n",
       "       [1.],\n",
       "       [0.],\n",
       "       [0.],\n",
       "       [0.],\n",
       "       [1.],\n",
       "       [0.],\n",
       "       [1.],\n",
       "       [0.],\n",
       "       [0.],\n",
       "       [0.],\n",
       "       [0.],\n",
       "       [0.],\n",
       "       [0.],\n",
       "       [0.],\n",
       "       [0.],\n",
       "       [0.],\n",
       "       [0.],\n",
       "       [0.],\n",
       "       [0.],\n",
       "       [0.],\n",
       "       [0.],\n",
       "       [0.],\n",
       "       [0.],\n",
       "       [0.],\n",
       "       [0.],\n",
       "       [0.],\n",
       "       [0.],\n",
       "       [1.],\n",
       "       [0.],\n",
       "       [0.],\n",
       "       [0.],\n",
       "       [0.],\n",
       "       [0.],\n",
       "       [0.],\n",
       "       [0.],\n",
       "       [0.],\n",
       "       [1.],\n",
       "       [1.],\n",
       "       [0.],\n",
       "       [0.],\n",
       "       [0.],\n",
       "       [0.],\n",
       "       [0.],\n",
       "       [1.],\n",
       "       [0.],\n",
       "       [0.],\n",
       "       [0.],\n",
       "       [0.],\n",
       "       [0.],\n",
       "       [0.],\n",
       "       [0.],\n",
       "       [0.],\n",
       "       [0.],\n",
       "       [0.],\n",
       "       [0.],\n",
       "       [0.],\n",
       "       [0.],\n",
       "       [0.],\n",
       "       [0.],\n",
       "       [0.],\n",
       "       [0.],\n",
       "       [1.],\n",
       "       [0.],\n",
       "       [0.],\n",
       "       [1.],\n",
       "       [0.],\n",
       "       [1.],\n",
       "       [0.],\n",
       "       [0.],\n",
       "       [1.],\n",
       "       [0.],\n",
       "       [1.],\n",
       "       [0.],\n",
       "       [0.],\n",
       "       [0.],\n",
       "       [0.],\n",
       "       [0.],\n",
       "       [0.],\n",
       "       [0.],\n",
       "       [0.],\n",
       "       [0.],\n",
       "       [0.],\n",
       "       [0.],\n",
       "       [0.],\n",
       "       [0.],\n",
       "       [0.],\n",
       "       [0.],\n",
       "       [0.],\n",
       "       [0.],\n",
       "       [1.],\n",
       "       [0.],\n",
       "       [0.],\n",
       "       [1.],\n",
       "       [0.],\n",
       "       [0.],\n",
       "       [1.],\n",
       "       [0.],\n",
       "       [0.],\n",
       "       [0.],\n",
       "       [0.],\n",
       "       [0.],\n",
       "       [1.],\n",
       "       [1.],\n",
       "       [0.],\n",
       "       [0.],\n",
       "       [0.],\n",
       "       [0.],\n",
       "       [1.],\n",
       "       [1.],\n",
       "       [0.],\n",
       "       [0.],\n",
       "       [0.],\n",
       "       [0.],\n",
       "       [0.],\n",
       "       [0.],\n",
       "       [0.],\n",
       "       [1.],\n",
       "       [1.],\n",
       "       [0.]], dtype=float32)>"
      ]
     },
     "execution_count": 55,
     "metadata": {},
     "output_type": "execute_result"
    }
   ],
   "source": [
    "tf.round(outputs)"
   ]
  },
  {
   "cell_type": "code",
   "execution_count": 57,
   "metadata": {},
   "outputs": [
    {
     "data": {
      "text/plain": [
       "array([[77, 20],\n",
       "       [35,  5]])"
      ]
     },
     "execution_count": 57,
     "metadata": {},
     "output_type": "execute_result"
    }
   ],
   "source": [
    "cm = confusion_matrix(test_y.values, tf.round(outputs))\n",
    "cm"
   ]
  },
  {
   "cell_type": "code",
   "execution_count": 75,
   "metadata": {},
   "outputs": [],
   "source": [
    "def plot_confusion_matrix(y_true, y_pred, title='', labels=[0,1]):\n",
    "    cm = confusion_matrix(y_true, y_pred)\n",
    "    fig = plt.figure()\n",
    "    ax = fig.add_subplot(111)\n",
    "    cax = ax.matshow(cm)\n",
    "    plt.title(title)\n",
    "    fig.colorbar(cax)\n",
    "    ax.set_xticklabels([''] + labels)\n",
    "    ax.set_yticklabels([''] + labels)\n",
    "    plt.xlabel('Predicted')\n",
    "    plt.ylabel('True')\n",
    "    fmt = 'd'\n",
    "    thresh = cm.max() / 2.\n",
    "    for i, j in itertools.product(range(cm.shape[0]), range(cm.shape[1])):\n",
    "          plt.text(j, i, format(cm[i, j], fmt),\n",
    "                  horizontalalignment=\"center\",\n",
    "                  color=\"black\" if cm[i, j] > thresh else \"white\")\n",
    "    plt.show()"
   ]
  },
  {
   "cell_type": "code",
   "execution_count": 76,
   "metadata": {},
   "outputs": [
    {
     "name": "stderr",
     "output_type": "stream",
     "text": [
      "<ipython-input-75-b043df30f57b>:8: UserWarning: FixedFormatter should only be used together with FixedLocator\n",
      "  ax.set_xticklabels([''] + labels)\n",
      "<ipython-input-75-b043df30f57b>:9: UserWarning: FixedFormatter should only be used together with FixedLocator\n",
      "  ax.set_yticklabels([''] + labels)\n"
     ]
    },
    {
     "data": {
      "image/png": "[encoded data removed]",
      "text/plain": [
       "<Figure size 432x288 with 2 Axes>"
      ]
     },
     "metadata": {
      "needs_background": "light"
     },
     "output_type": "display_data"
    }
   ],
   "source": [
    "plot_confusion_matrix(test_y.values, tf.round(outputs), title='Confusion Matrix for Untrained Model')"
   ]
  },
  {
   "cell_type": "code",
   "execution_count": 82,
   "metadata": {},
   "outputs": [
    {
     "data": {
      "text/plain": [
       "<tf.Tensor: shape=(2, 2), dtype=int32, numpy=\n",
       "array([[77, 20],\n",
       "       [35,  5]], dtype=int32)>"
      ]
     },
     "execution_count": 82,
     "metadata": {},
     "output_type": "execute_result"
    }
   ],
   "source": [
    "cm = tf.math.confusion_matrix(test_y.values, tf.round(outputs), num_classes=2)\n",
    "cm"
   ]
  },
  {
   "cell_type": "code",
   "execution_count": 88,
   "metadata": {},
   "outputs": [
    {
     "data": {
      "text/plain": [
       "<tf.Tensor: shape=(), dtype=int32, numpy=77>"
      ]
     },
     "execution_count": 88,
     "metadata": {},
     "output_type": "execute_result"
    }
   ],
   "source": [
    "cm[0][0]"
   ]
  },
  {
   "cell_type": "code",
   "execution_count": 87,
   "metadata": {},
   "outputs": [
    {
     "data": {
      "text/plain": [
       "<tf.Tensor: shape=(), dtype=int32, numpy=35>"
      ]
     },
     "execution_count": 87,
     "metadata": {},
     "output_type": "execute_result"
    }
   ],
   "source": [
    "cm[1][0]"
   ]
  },
  {
   "cell_type": "code",
   "execution_count": 89,
   "metadata": {},
   "outputs": [
    {
     "data": {
      "text/plain": [
       "<tf.Tensor: shape=(), dtype=int32, numpy=20>"
      ]
     },
     "execution_count": 89,
     "metadata": {},
     "output_type": "execute_result"
    }
   ],
   "source": [
    "cm[0][1]"
   ]
  },
  {
   "cell_type": "markdown",
   "metadata": {},
   "source": [
    "so we will now create metrics named as `F1 score`. let me think what we need\n",
    " 1. we will use class\n",
    "  - that may be needs to be inherited from any tf class, ``tf.keras.metrics.Metric``\n",
    " 2. initialize, may be name \n",
    " 3. we need to create some variables for example we need to true label and prediction. `update_state`\n",
    " 4. we need to do some calculation for these variables .`result`\n",
    " 5. finally `reset_states`\n"
   ]
  },
  {
   "cell_type": "markdown",
   "metadata": {},
   "source": [
    "point 1 and 2 is done\n",
    "```python\n",
    "class F1Metric_(tf.keras.metrics.Metric):\n",
    "    def __init__(self, name = 'f1Score', **kwargs)\n",
    "    \n",
    "    super(F1Metric_, self).__init__(name =name, **kwargs)\n",
    " ```"
   ]
  },
  {
   "cell_type": "markdown",
   "metadata": {},
   "source": [
    "here we have just created some variable, As we created through ``tf.Variable`` we can change those value. So for each batch we can change them and after batch ending we can save them \n",
    "```python\n",
    "self.tp= tf.Variable(0, dtype='int32')\n",
    "self.tn = tf.Variable(0, dtype='int32')\n",
    "self.fp = tf.Variable(0, dtype='int32')\n",
    "self.fn = tf.Variable(0, dtype='int32')\n",
    " ```"
   ]
  },
  {
   "cell_type": "markdown",
   "metadata": {},
   "source": [
    "- Right now we just initialize those varaibles we need actually some value and those value we can get them from some kind of metrics.\n",
    "- here we are implmenting ``f1 score``. For that we can call confusion metrics and then from that we can get those values.\n",
    " ``` python\n",
    "def update_state(self, y_true, y_pred,sample_weight=None):\n",
    "    conf_mat = tf.math.confusion_matrix(y_true, y_pred, num_classes = 2)\n",
    "    self.tn.assign_add(conf_mat[0][0])\n",
    "    self.tp.assign_add(conf_mat[1][1])\n",
    "    self.fp.assign_add(conf_mat[0][1])\n",
    "    self.fn.assign_add(conf_mat[1][0])\n",
    "\n",
    " ```"
   ]
  },
  {
   "cell_type": "code",
   "execution_count": 94,
   "metadata": {},
   "outputs": [],
   "source": [
    "class F1Metric_(tf.keras.metrics.Metric):\n",
    "    def __init__(self, name = 'f1Score', **kwargs):\n",
    "    \n",
    "        super(F1Metric_, self).__init__(name =name, **kwargs)\n",
    "\n",
    "        self.tp= tf.Variable(0, dtype='int32')\n",
    "        self.tn = tf.Variable(0, dtype='int32')\n",
    "        self.fp = tf.Variable(0, dtype='int32')\n",
    "        self.fn = tf.Variable(0, dtype='int32')\n",
    "\n",
    "    \n",
    "    def update_state(self, y_true, y_pred,sample_weight=None):\n",
    "        conf_mat = tf.math.confusion_matrix(y_true, y_pred, num_classes = 2)\n",
    "        self.tn.assign_add(conf_mat[0][0])\n",
    "        self.tp.assign_add(conf_mat[1][1])\n",
    "        self.fp.assign_add(conf_mat[0][1])\n",
    "        self.fn.assign_add(conf_mat[1][0])\n",
    "        \n",
    "    def result(self):\n",
    "        '''Computes and returns the metric value tensor.'''\n",
    "\n",
    "        # Calculate precision\n",
    "        if (self.tp + self.fp == 0):\n",
    "            precision = 1.0\n",
    "        else:\n",
    "            precision = self.tp / (self.tp + self.fp)\n",
    "      \n",
    "        # Calculate recall\n",
    "        if (self.tp + self.fn == 0):\n",
    "            recall = 1.0\n",
    "        else:\n",
    "            recall = self.tp / (self.tp + self.fn)\n",
    "\n",
    "        # Return F1 Score\n",
    "        ### START CODE HERE ###\n",
    "        f1_score =2* ((precision*recall)/(precision+recall))\n",
    "        ### END CODE HERE ###\n",
    "        \n",
    "        return f1_score\n",
    "    def reset_state(self):\n",
    "        self.tp.assign(0)\n",
    "        self.tn.assign(0)\n",
    "        self.fp.assign(0)\n",
    "        self.fn.assign(0)"
   ]
  },
  {
   "cell_type": "code",
   "execution_count": 95,
   "metadata": {},
   "outputs": [],
   "source": [
    "trn_f1 = F1Metric_()\n",
    "trn_acc = tf.keras.metrics.BinaryAccuracy()\n"
   ]
  },
  {
   "cell_type": "code",
   "execution_count": 96,
   "metadata": {},
   "outputs": [],
   "source": [
    "optimizer = tf.keras.optimizers.RMSprop(learning_rate=0.001)\n",
    "loss_object = tf.keras.losses.BinaryCrossentropy()"
   ]
  },
  {
   "cell_type": "code",
   "execution_count": 107,
   "metadata": {},
   "outputs": [],
   "source": [
    "def gradient_cal(model,opt, data, label,loss_object):\n",
    "    with tf.GradientTape() as tape:\n",
    "        logits = model(data)\n",
    "        loss = loss_object(label,logits)\n",
    "    gradient = tape.gradient(loss,model.trainable_weights)\n",
    "    opt.apply_gradients(zip(gradient, model.trainable_weights))\n",
    "    \n",
    "    return logits, loss"
   ]
  },
  {
   "cell_type": "code",
   "execution_count": 128,
   "metadata": {},
   "outputs": [],
   "source": [
    "def trian_one_epoch(model,train_data,  opt,loss_object,  trn_acc, trn_f1, verbose = True):\n",
    "    #train data is a iterator so we need to go through each batch first\n",
    "    all_loss =[]\n",
    "    \n",
    "    for batch, (batch_x, batch_y) in enumerate(train_data):\n",
    "        \n",
    "        logits, loss= gradient_cal(model,opt, batch_x, batch_y,loss_object)\n",
    "        all_loss.append(loss)\n",
    "        \n",
    "        #for accuracy we need to process our logits\n",
    "        logits = tf.round(logits)\n",
    "        logits = tf.cast(logits, 'int64')\n",
    "        \n",
    "        trn_acc.update_state(batch_y, logits)\n",
    "        trn_f1.update_state(batch_y, logits)\n",
    "        if verbose:\n",
    "               print(\"Training loss for batch %s: %.4f\" % (int(batch), float(loss)))\n",
    "    return all_loss\n",
    "            "
   ]
  },
  {
   "cell_type": "code",
   "execution_count": 129,
   "metadata": {},
   "outputs": [],
   "source": [
    "val_metric = tf.keras.metrics.BinaryAccuracy()\n",
    "val_f1 = F1Metric_()"
   ]
  },
  {
   "cell_type": "code",
   "execution_count": 130,
   "metadata": {},
   "outputs": [],
   "source": [
    "def perform_validation(test_dataset, model):\n",
    "    losses = []\n",
    "    for x_val,label in test_dataset:\n",
    "        logits = model(x_val)\n",
    "        loss = loss_object(label, logits)\n",
    "        losses.append(loss)\n",
    "        \n",
    "        val_label = tf.cast(tf.round(logits), 'int64')\n",
    "        val_metric.update_state(label, val_label)\n",
    "        val_f1.update_state(label, val_label)\n",
    "        \n",
    "    return losses"
   ]
  },
  {
   "cell_type": "code",
   "execution_count": null,
   "metadata": {},
   "outputs": [],
   "source": []
  },
  {
   "cell_type": "code",
   "execution_count": 132,
   "metadata": {},
   "outputs": [
    {
     "name": "stdout",
     "output_type": "stream",
     "text": [
      "Training loss for batch 0: 0.0074\n",
      "Training loss for batch 1: 0.0737\n",
      "Training loss for batch 2: 0.0780\n",
      "Training loss for batch 3: 0.0959\n",
      "Training loss for batch 4: 0.1011\n",
      "Training loss for batch 5: 0.0554\n",
      "Training loss for batch 6: 0.0109\n",
      "Training loss for batch 7: 0.0389\n",
      "Training loss for batch 8: 0.0148\n",
      "Training loss for batch 9: 0.0345\n",
      "Training loss for batch 10: 0.0090\n",
      "Training loss for batch 11: 0.1159\n",
      "Training loss for batch 12: 0.0548\n",
      "Training loss for batch 13: 0.1083\n",
      "Training loss for batch 14: 0.1477\n",
      "Training loss for batch 15: 0.0181\n",
      "Training loss for batch 16: 0.0503\n",
      "Training loss for batch 17: 0.0006\n",
      "tf.Tensor(0.9774306, shape=(), dtype=float32) tf.Tensor(0.9633251833740831, shape=(), dtype=float64)\n",
      "tf.Tensor(0.9625, shape=(), dtype=float32) tf.Tensor(0.9268292682926829, shape=(), dtype=float64)\n",
      "Training loss for batch 0: 0.0103\n",
      "Training loss for batch 1: 0.0375\n",
      "Training loss for batch 2: 0.0613\n",
      "Training loss for batch 3: 0.0722\n",
      "Training loss for batch 4: 0.0100\n",
      "Training loss for batch 5: 0.0930\n",
      "Training loss for batch 6: 0.0947\n",
      "Training loss for batch 7: 0.0722\n",
      "Training loss for batch 8: 0.0410\n",
      "Training loss for batch 9: 0.0362\n",
      "Training loss for batch 10: 0.1202\n",
      "Training loss for batch 11: 0.0078\n",
      "Training loss for batch 12: 0.1469\n",
      "Training loss for batch 13: 0.0123\n",
      "Training loss for batch 14: 0.0074\n",
      "Training loss for batch 15: 0.0910\n",
      "Training loss for batch 16: 0.0255\n",
      "Training loss for batch 17: 0.0004\n",
      "tf.Tensor(0.9809028, shape=(), dtype=float32) tf.Tensor(0.972568578553616, shape=(), dtype=float64)\n",
      "tf.Tensor(0.95625, shape=(), dtype=float32) tf.Tensor(0.9135802469135802, shape=(), dtype=float64)\n",
      "Training loss for batch 0: 0.0111\n",
      "Training loss for batch 1: 0.0528\n",
      "Training loss for batch 2: 0.0294\n",
      "Training loss for batch 3: 0.0179\n",
      "Training loss for batch 4: 0.0364\n",
      "Training loss for batch 5: 0.0063\n",
      "Training loss for batch 6: 0.0058\n",
      "Training loss for batch 7: 0.0069\n",
      "Training loss for batch 8: 0.1438\n",
      "Training loss for batch 9: 0.0233\n",
      "Training loss for batch 10: 0.0808\n",
      "Training loss for batch 11: 0.0190\n",
      "Training loss for batch 12: 0.0789\n",
      "Training loss for batch 13: 0.0395\n",
      "Training loss for batch 14: 0.1248\n",
      "Training loss for batch 15: 0.1024\n",
      "Training loss for batch 16: 0.0946\n",
      "Training loss for batch 17: 0.0005\n",
      "tf.Tensor(0.9826389, shape=(), dtype=float32) tf.Tensor(0.975, shape=(), dtype=float64)\n",
      "tf.Tensor(0.95625, shape=(), dtype=float32) tf.Tensor(0.9135802469135802, shape=(), dtype=float64)\n",
      "Training loss for batch 0: 0.0633\n",
      "Training loss for batch 1: 0.0823\n",
      "Training loss for batch 2: 0.0169\n",
      "Training loss for batch 3: 0.0974\n",
      "Training loss for batch 4: 0.0176\n",
      "Training loss for batch 5: 0.0509\n",
      "Training loss for batch 6: 0.0586\n",
      "Training loss for batch 7: 0.0047\n",
      "Training loss for batch 8: 0.0288\n",
      "Training loss for batch 9: 0.0772\n",
      "Training loss for batch 10: 0.0143\n",
      "Training loss for batch 11: 0.0340\n",
      "Training loss for batch 12: 0.0501\n",
      "Training loss for batch 13: 0.1788\n",
      "Training loss for batch 14: 0.0081\n",
      "Training loss for batch 15: 0.0176\n",
      "Training loss for batch 16: 0.0215\n",
      "Training loss for batch 17: 0.0016\n",
      "tf.Tensor(0.9826389, shape=(), dtype=float32) tf.Tensor(0.975, shape=(), dtype=float64)\n",
      "tf.Tensor(0.9625, shape=(), dtype=float32) tf.Tensor(0.9268292682926829, shape=(), dtype=float64)\n",
      "Training loss for batch 0: 0.0270\n",
      "Training loss for batch 1: 0.0311\n",
      "Training loss for batch 2: 0.0111\n",
      "Training loss for batch 3: 0.0078\n",
      "Training loss for batch 4: 0.0533\n",
      "Training loss for batch 5: 0.0122\n",
      "Training loss for batch 6: 0.0089\n",
      "Training loss for batch 7: 0.0037\n",
      "Training loss for batch 8: 0.0056\n",
      "Training loss for batch 9: 0.2806\n",
      "Training loss for batch 10: 0.0108\n",
      "Training loss for batch 11: 0.0605\n",
      "Training loss for batch 12: 0.1401\n",
      "Training loss for batch 13: 0.0027\n",
      "Training loss for batch 14: 0.0817\n",
      "Training loss for batch 15: 0.0104\n",
      "Training loss for batch 16: 0.0560\n",
      "Training loss for batch 17: 0.0003\n",
      "tf.Tensor(0.9826389, shape=(), dtype=float32) tf.Tensor(0.975, shape=(), dtype=float64)\n",
      "tf.Tensor(0.95625, shape=(), dtype=float32) tf.Tensor(0.9135802469135802, shape=(), dtype=float64)\n",
      "Training loss for batch 0: 0.0628\n",
      "Training loss for batch 1: 0.0200\n",
      "Training loss for batch 2: 0.0713\n",
      "Training loss for batch 3: 0.0049\n",
      "Training loss for batch 4: 0.0369\n",
      "Training loss for batch 5: 0.0135\n",
      "Training loss for batch 6: 0.0337\n",
      "Training loss for batch 7: 0.0300\n",
      "Training loss for batch 8: 0.0022\n",
      "Training loss for batch 9: 0.0044\n",
      "Training loss for batch 10: 0.0280\n",
      "Training loss for batch 11: 0.0074\n",
      "Training loss for batch 12: 0.2483\n",
      "Training loss for batch 13: 0.1049\n",
      "Training loss for batch 14: 0.0763\n",
      "Training loss for batch 15: 0.0038\n",
      "Training loss for batch 16: 0.0083\n",
      "Training loss for batch 17: 0.0018\n",
      "tf.Tensor(0.9826389, shape=(), dtype=float32) tf.Tensor(0.975, shape=(), dtype=float64)\n",
      "tf.Tensor(0.95625, shape=(), dtype=float32) tf.Tensor(0.9135802469135802, shape=(), dtype=float64)\n",
      "Training loss for batch 0: 0.0098\n",
      "Training loss for batch 1: 0.0074\n",
      "Training loss for batch 2: 0.0230\n",
      "Training loss for batch 3: 0.0237\n",
      "Training loss for batch 4: 0.1215\n",
      "Training loss for batch 5: 0.0615\n",
      "Training loss for batch 6: 0.0093\n",
      "Training loss for batch 7: 0.0375\n",
      "Training loss for batch 8: 0.0976\n",
      "Training loss for batch 9: 0.0039\n",
      "Training loss for batch 10: 0.1981\n",
      "Training loss for batch 11: 0.0196\n",
      "Training loss for batch 12: 0.0509\n",
      "Training loss for batch 13: 0.0414\n",
      "Training loss for batch 14: 0.0041\n",
      "Training loss for batch 15: 0.0085\n",
      "Training loss for batch 16: 0.0095\n",
      "Training loss for batch 17: 0.0003\n",
      "tf.Tensor(0.984375, shape=(), dtype=float32) tf.Tensor(0.9775561097256857, shape=(), dtype=float64)\n",
      "tf.Tensor(0.9625, shape=(), dtype=float32) tf.Tensor(0.9268292682926829, shape=(), dtype=float64)\n",
      "Training loss for batch 0: 0.0084\n",
      "Training loss for batch 1: 0.0844\n",
      "Training loss for batch 2: 0.0144\n",
      "Training loss for batch 3: 0.0911\n",
      "Training loss for batch 4: 0.0610\n",
      "Training loss for batch 5: 0.0515\n",
      "Training loss for batch 6: 0.0960\n",
      "Training loss for batch 7: 0.0048\n",
      "Training loss for batch 8: 0.0356\n",
      "Training loss for batch 9: 0.0141\n",
      "Training loss for batch 10: 0.0114\n",
      "Training loss for batch 11: 0.1281\n",
      "Training loss for batch 12: 0.0276\n",
      "Training loss for batch 13: 0.0025\n",
      "Training loss for batch 14: 0.0050\n",
      "Training loss for batch 15: 0.0054\n",
      "Training loss for batch 16: 0.0554\n",
      "Training loss for batch 17: 0.0002\n",
      "tf.Tensor(0.984375, shape=(), dtype=float32) tf.Tensor(0.9775561097256857, shape=(), dtype=float64)\n",
      "tf.Tensor(0.95625, shape=(), dtype=float32) tf.Tensor(0.9135802469135802, shape=(), dtype=float64)\n",
      "Training loss for batch 0: 0.1792\n",
      "Training loss for batch 1: 0.0512\n",
      "Training loss for batch 2: 0.0552\n",
      "Training loss for batch 3: 0.0044\n",
      "Training loss for batch 4: 0.0024\n",
      "Training loss for batch 5: 0.0312\n",
      "Training loss for batch 6: 0.0210\n",
      "Training loss for batch 7: 0.0126\n",
      "Training loss for batch 8: 0.0070\n",
      "Training loss for batch 9: 0.0077\n",
      "Training loss for batch 10: 0.0490\n",
      "Training loss for batch 11: 0.0464\n",
      "Training loss for batch 12: 0.0122\n",
      "Training loss for batch 13: 0.0056\n",
      "Training loss for batch 14: 0.0142\n",
      "Training loss for batch 15: 0.1303\n",
      "Training loss for batch 16: 0.0108\n",
      "Training loss for batch 17: 0.3438\n",
      "tf.Tensor(0.9861111, shape=(), dtype=float32) tf.Tensor(0.9800995024875622, shape=(), dtype=float64)\n",
      "tf.Tensor(0.95625, shape=(), dtype=float32) tf.Tensor(0.9135802469135802, shape=(), dtype=float64)\n",
      "Training loss for batch 0: 0.0905\n",
      "Training loss for batch 1: 0.0054\n",
      "Training loss for batch 2: 0.0133\n",
      "Training loss for batch 3: 0.0135\n",
      "Training loss for batch 4: 0.0176\n",
      "Training loss for batch 5: 0.0984\n",
      "Training loss for batch 6: 0.0056\n",
      "Training loss for batch 7: 0.0047\n",
      "Training loss for batch 8: 0.0594\n",
      "Training loss for batch 9: 0.0748\n",
      "Training loss for batch 10: 0.0037\n",
      "Training loss for batch 11: 0.0675\n",
      "Training loss for batch 12: 0.0277\n",
      "Training loss for batch 13: 0.0038\n",
      "Training loss for batch 14: 0.0820\n",
      "Training loss for batch 15: 0.0470\n",
      "Training loss for batch 16: 0.0102\n",
      "Training loss for batch 17: 0.0038\n",
      "tf.Tensor(0.9861111, shape=(), dtype=float32) tf.Tensor(0.9800995024875622, shape=(), dtype=float64)\n",
      "tf.Tensor(0.95625, shape=(), dtype=float32) tf.Tensor(0.9135802469135802, shape=(), dtype=float64)\n"
     ]
    }
   ],
   "source": [
    "epochs = 10\n",
    "epoch_loss = []\n",
    "epoch_val_loss = []\n",
    "for i in range(epochs):\n",
    "    train_loss = trian_one_epoch(model, train_dataset, optimizer, loss_object, trn_acc, trn_f1)\n",
    "    \n",
    "    train_acc = trn_acc.result()\n",
    "    trn_f1_score = trn_f1.result()\n",
    "    \n",
    "    print(train_acc, trn_f1_score)\n",
    "    \n",
    "    val_loss = perform_validation(test_dataset, model)\n",
    "    epoch_val_loss.append(np.mean(val_loss))\n",
    "    \n",
    "     #print('\\n Epcoh %s: Train loss: %.4f  Validation Loss: %.4f, Train Accuracy: %.4f, Validation Accuracy %.4f, Train F1 Score: %.4f, Validation F1 Score: %.4% (epoch, float(losses_train_mean), float(losses_val_mean), float(tr\n",
    "    \n",
    "    print(val_metric.result(), val_f1.result())\n",
    "    \n",
    "    trn_acc.reset_states()\n",
    "    trn_f1.reset_states()\n",
    "    val_metric.reset_states()\n",
    "    val_f1.reset_states()\n",
    "    "
   ]
  },
  {
   "cell_type": "code",
   "execution_count": 134,
   "metadata": {},
   "outputs": [
    {
     "name": "stderr",
     "output_type": "stream",
     "text": [
      "<ipython-input-75-b043df30f57b>:8: UserWarning: FixedFormatter should only be used together with FixedLocator\n",
      "  ax.set_xticklabels([''] + labels)\n",
      "<ipython-input-75-b043df30f57b>:9: UserWarning: FixedFormatter should only be used together with FixedLocator\n",
      "  ax.set_yticklabels([''] + labels)\n"
     ]
    },
    {
     "data": {
      "image/png": "[encoded data removed]",
      "text/plain": [
       "<Figure size 432x288 with 2 Axes>"
      ]
     },
     "metadata": {
      "needs_background": "light"
     },
     "output_type": "display_data"
    }
   ],
   "source": [
    "test_outputs = model(norm_test_X.values)\n",
    "plot_confusion_matrix(test_y.values, tf.round(test_outputs), title='Confusion Matrix for Untrained Model')"
   ]
  },
  {
   "cell_type": "code",
   "execution_count": null,
   "metadata": {},
   "outputs": [],
   "source": []
  }
 ],
 "metadata": {
  "kernelspec": {
   "display_name": "Python 3",
   "language": "python",
   "name": "python3"
  },
  "language_info": {
   "codemirror_mode": {
    "name": "ipython",
    "version": 3
   },
   "file_extension": ".py",
   "mimetype": "text/x-python",
   "name": "python",
   "nbconvert_exporter": "python",
   "pygments_lexer": "ipython3",
   "version": "3.8.5"
  }
 },
 "nbformat": 4,
 "nbformat_minor": 4
}
